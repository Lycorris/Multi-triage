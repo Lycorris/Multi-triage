{
 "cells": [
  {
   "cell_type": "code",
   "execution_count": 1,
   "id": "b9544780-798f-4bf2-babe-5c804685346d",
   "metadata": {},
   "outputs": [
    {
     "name": "stderr",
     "output_type": "stream",
     "text": [
      "2024-03-22 12:45:32.354191: I tensorflow/core/util/port.cc:113] oneDNN custom operations are on. You may see slightly different numerical results due to floating-point round-off errors from different computation orders. To turn them off, set the environment variable `TF_ENABLE_ONEDNN_OPTS=0`.\n",
      "2024-03-22 12:45:32.415156: I tensorflow/core/platform/cpu_feature_guard.cc:210] This TensorFlow binary is optimized to use available CPU instructions in performance-critical operations.\n",
      "To enable the following instructions: AVX2 AVX512F AVX512_VNNI FMA, in other operations, rebuild TensorFlow with the appropriate compiler flags.\n",
      "2024-03-22 12:45:33.507426: W tensorflow/compiler/tf2tensorrt/utils/py_utils.cc:38] TF-TRT Warning: Could not find TensorRT\n"
     ]
    }
   ],
   "source": [
    "import pandas as pd\n",
    "import torch\n",
    "from torch.utils.data import Dataset, DataLoader\n",
    "from torch import nn\n",
    "from torch.nn import BCELoss\n",
    "from torch.optim import SGD, Adam\n",
    "from keras_preprocessing.text import Tokenizer \n",
    "from tensorflow.keras.preprocessing.sequence import pad_sequences\n",
    "from tqdm import tqdm\n",
    "import tqdm\n",
    "import time"
   ]
  },
  {
   "cell_type": "code",
   "execution_count": 2,
   "id": "ef1b744d-8f1d-41fa-b7b1-dbccc36d4e12",
   "metadata": {},
   "outputs": [],
   "source": [
    "class TextCodeDataset(Dataset):\n",
    "    def __init__(self, data_path, pad_seq_len, use_AST=True, classify_btype=True):\n",
    "        self.data_path = data_path\n",
    "        self.pad_seq_len = pad_seq_len\n",
    "        self.use_AST, self.classify_btype = use_AST, classify_btype\n",
    "        self.data_pd = pd.read_csv(data_path,\n",
    "                                   error_bad_lines=False, index_col=False, dtype='unicode', encoding='latin-1',\n",
    "                                   low_memory=False).sample(frac=1)\n",
    "        self.y_dev, self.y_btype = list(self.data_pd['FixedByID']), list(self.data_pd['Name'])\n",
    "        self.y_dev, self.y_btype = [str(x) for x in self.y_dev], [str(x) for x in self.y_btype]\n",
    "        self.y_dev, self.y_btype = [x.split('|') for x in self.y_dev], [x.split('|') for x in self.y_btype]\n",
    "\n",
    "        self.x_context, self.x_AST = list(self.data_pd['Title_Description']), list(self.data_pd['AST'])\n",
    "        self.x_context, self.x_AST = [str(x) for x in self.x_context], [str(x) for x in self.x_AST]\n",
    "\n",
    "    def tokenize_input(self, tokenizer_C: Tokenizer, tokenizer_A: Tokenizer):\n",
    "        self.x_context = tokenizer_C.texts_to_sequences(self.x_context)\n",
    "        self.x_AST = tokenizer_A.texts_to_sequences(self.x_AST)\n",
    "        self.x_context = pad_sequences(self.x_context, maxlen=self.pad_seq_len, padding='post')\n",
    "        self.x_AST = pad_sequences(self.x_AST, maxlen=self.pad_seq_len, padding='post')\n",
    "        self.x_context = torch.from_numpy(self.x_context)\n",
    "        self.x_AST = torch.from_numpy(self.x_AST)\n",
    "\n",
    "    def map_output(self, map_d: dict, map_b: dict):\n",
    "        tensor_d, tensor_b = torch.zeros((len(self.data_pd), len(map_d))), torch.zeros((len(self.data_pd), len(map_b)))\n",
    "        for i, ds in enumerate(self.y_dev):\n",
    "            for d in ds:\n",
    "                tensor_d[i][map_d[d]] = 1\n",
    "        for i, bs in enumerate(self.y_btype):\n",
    "            for b in bs:\n",
    "                tensor_b[i][map_b[b]] = 1\n",
    "        self.y_dev, self.y_btype = tensor_d, tensor_b\n",
    "\n",
    "    def __getitem__(self, i):\n",
    "        input = self.x_context[i], self.x_AST[i] if self.use_AST else self.x_context[i]\n",
    "        output = self.y_dev[i], self.y_btype[i] if self.classify_btype else self.y_dev[i]\n",
    "        return input, output\n",
    "\n",
    "    def __len__(self):\n",
    "        return len(self.data_pd)"
   ]
  },
  {
   "cell_type": "code",
   "execution_count": 3,
   "id": "9ce4e8de-b5ae-4c07-bd09-15a6ee7e4055",
   "metadata": {},
   "outputs": [],
   "source": [
    "def tokenize_dataset_input(train_dataset: TextCodeDataset, test_dataset: TextCodeDataset):\n",
    "    tokenizer_C = Tokenizer()\n",
    "    tokenizer_C.fit_on_texts(train_dataset.x_context + test_dataset.x_context)\n",
    "    tokenizer_A = Tokenizer()\n",
    "    tokenizer_A.fit_on_texts(train_dataset.x_AST + test_dataset.x_AST)\n",
    "    train_dataset.tokenize_input(tokenizer_C, tokenizer_A)\n",
    "    test_dataset.tokenize_input(tokenizer_C, tokenizer_A)\n",
    "    return [len(tokenizer_C.word_index)+100, len(tokenizer_A.word_index)+100]\n",
    "\n",
    "\n",
    "def map_dataset_output(train_dataset: TextCodeDataset, test_dataset: TextCodeDataset):\n",
    "    set_d, set_b = set(), set()\n",
    "    for i in range(len(train_dataset)):\n",
    "        for d in train_dataset.y_dev:\n",
    "            set_d.update(d)\n",
    "        for b in train_dataset.y_btype:\n",
    "            set_b.update(b)\n",
    "    for i in range(len(test_dataset)):\n",
    "        for d in test_dataset.y_dev:\n",
    "            set_d.update(d)\n",
    "        for b in test_dataset.y_btype:\n",
    "            set_b.update(b)\n",
    "    labels_d, labels_b = list(set_d), list(set_b)\n",
    "    labels_d.sort(), labels_b.sort()\n",
    "    map_d, map_b = {labels_d[i]: i for i in range(len(labels_d))}, {labels_b[i]: i for i in range(len(labels_b))}\n",
    "    train_dataset.map_output(map_d, map_b)\n",
    "    test_dataset.map_output(map_d, map_b)\n",
    "    return labels_d, labels_b"
   ]
  },
  {
   "cell_type": "code",
   "execution_count": 4,
   "id": "cab102b8-4e6c-47aa-8ecf-d24bc7afba08",
   "metadata": {},
   "outputs": [],
   "source": [
    "# dataset\n",
    "# train_path = 'Data/powershell/C_uA_Train.csv'\n",
    "train_path = 'Data/aspnet/trainC40.csv'\n",
    "test_path = 'Data/aspnet/Nov10数据/IssueaspnetcoreWebScraptestdata5.csv'\n",
    "MAX_SEQ_LEN = 300\n",
    "EMB_DIM = 100\n",
    "Learning_Rate = 6e-3\n",
    "EPOCH = 300\n",
    "device = 'cuda' if torch.cuda.is_available() else 'cpu'\n",
    "Weight_MSE, Weight_BCE = 0, 1\n",
    "# 0, 1.0, 1e-3, 100 -> 0.008\n",
    "# 0.1, 0.9, 1e-3, 100 -> 0.04\n",
    "# 0.2, 0.8, 1e-3, 100 -> 0.06\n",
    "# 0.3, 0.7, 1e-3, 100 -> 0.12\n",
    "# 0.4, 0.6, 1e-3, 100 -> 0.15\n",
    "# 0.5, 0.5, 1e-3, 100 -> 0.19\n",
    "# 0.6, 0.4, 1e-3, 100 -> 0.2\n",
    "# 0.7, 0.3, 1e-3, 100 -> 0.2, stable\n",
    "# 0.8, 0.2, 1e-3, 100 -> 0.2, convergence   | 0.07 simple model\n",
    "# 0.9, 0.1, 1e-3, 100 -> 0.15, convergence\n",
    "# 1, 0, 1e-3, 100 -> ~0\n",
    "train_dataset = TextCodeDataset(train_path, pad_seq_len=MAX_SEQ_LEN)\n",
    "test_dataset = TextCodeDataset(test_path, pad_seq_len=MAX_SEQ_LEN)\n",
    "\n",
    "vocab_size = tokenize_dataset_input(train_dataset, test_dataset)\n",
    "idx2label = map_dataset_output(train_dataset, test_dataset)\n",
    "num_out = [len(x) for x in idx2label]\n",
    "\n",
    "# dataloader\n",
    "train_loader = DataLoader(train_dataset, batch_size=64)\n",
    "test_loader = DataLoader(test_dataset, batch_size=64)"
   ]
  },
  {
   "cell_type": "code",
   "execution_count": 5,
   "id": "d38d4393-6258-471f-ae5b-b47bda48dab0",
   "metadata": {},
   "outputs": [
    {
     "name": "stdout",
     "output_type": "stream",
     "text": [
      "27\n",
      "torch.Size([64, 300])\n",
      "torch.Size([64, 300])\n",
      "torch.Size([64, 71])\n",
      "torch.Size([64, 176])\n",
      "torch.Size([300])\n",
      "torch.Size([300])\n",
      "torch.Size([71])\n",
      "torch.Size([176])\n"
     ]
    }
   ],
   "source": [
    "print(len(train_loader))\n",
    "for data in train_loader:\n",
    "    (a, b), (c, d) = data\n",
    "    print(a.shape)\n",
    "    print(b.shape)\n",
    "    print(c.shape)\n",
    "    print(d.shape)\n",
    "    (a, b), (c, d) = train_dataset[0]\n",
    "    print(a.shape)\n",
    "    print(b.shape)\n",
    "    print(c.shape)\n",
    "    print(d.shape)\n",
    "    break"
   ]
  },
  {
   "cell_type": "code",
   "execution_count": 6,
   "id": "b0a6bea1-398b-49f5-86a5-7eecbcd7dc5c",
   "metadata": {},
   "outputs": [],
   "source": [
    "def testnan(name, x):\n",
    "    if torch.isnan(x).any():\n",
    "        print(name, x)\n",
    "\n",
    "def repnan(x):\n",
    "    return torch.where(torch.isnan(x), torch.ones_like(x), x)"
   ]
  },
  {
   "cell_type": "code",
   "execution_count": 7,
   "id": "67b65f9c-fe89-4115-af2a-a8bead078227",
   "metadata": {},
   "outputs": [],
   "source": [
    "#TODO :训练的太快了，是不是参数太少了拟合不了？\n",
    "# class MetaModel(nn.Module):\n",
    "#     def __init__(self, vocab_size: list, emb_dim: int, seq_len: int, num_out: list):\n",
    "#         \"\"\"\n",
    "#         Args:\n",
    "#             vocab_size: list, the size of C/A vocab\n",
    "#             emb_dim: : int, the dim of C&A emb layer\n",
    "#             seq_len:  MAX_SEQ_LEN\n",
    "#             num_out: list, the output size of D/B\n",
    "#         \"\"\"\n",
    "#         super(MetaModel, self).__init__()\n",
    "#         self.vocab_size = vocab_size\n",
    "#         self.emb_dim = emb_dim\n",
    "#         self.seq_len = seq_len\n",
    "#         self.num_out = num_out\n",
    "\n",
    "#         self.context = nn.Sequential(\n",
    "#             nn.Embedding(self.vocab_size[0], self.emb_dim),\n",
    "#             nn.Conv1d(self.seq_len, 64, kernel_size=2),\n",
    "#             nn.ReLU(),\n",
    "#             nn.Conv1d(64, 128, kernel_size=2),\n",
    "#             nn.ReLU(),\n",
    "#             nn.MaxPool1d(50, 1),\n",
    "#             nn.Flatten(),\n",
    "#         )\n",
    "#         self.AST = nn.Sequential(\n",
    "#             nn.Embedding(self.vocab_size[1], self.emb_dim),\n",
    "#             nn.Conv1d(self.seq_len, 50, kernel_size=2),\n",
    "#             nn.ReLU(),\n",
    "#             nn.Conv1d(50, 100, kernel_size=2),\n",
    "#             nn.ReLU(),\n",
    "#             nn.MaxPool1d(50, 1),\n",
    "#             nn.Flatten(),\n",
    "#         )\n",
    "#         self.fc = nn.Sequential(\n",
    "#             nn.BatchNorm1d(11172, affine=False),\n",
    "#             nn.Dropout(0.5),\n",
    "#             nn.Linear(11172, 5000),\n",
    "#             nn.ReLU(),\n",
    "#             nn.Dropout(0.5),\n",
    "#             nn.Linear(5000, 1000),\n",
    "#             nn.ReLU(),\n",
    "#             nn.Dropout(0.5),\n",
    "#             nn.Linear(1000, 500),\n",
    "#             nn.ReLU(),\n",
    "#         )\n",
    "#         self.fc_d = nn.Sequential(\n",
    "#             nn.Linear(500, self.num_out[0]),\n",
    "#             # nn.Softmax(dim=1),\n",
    "#             # nn.Sigmoid(),\n",
    "#         )\n",
    "\n",
    "#         self.fc_b = nn.Sequential(\n",
    "#             nn.Linear(500, self.num_out[1]),\n",
    "#             # nn.Softmax(dim=1),\n",
    "#             # nn.Sigmoid(),\n",
    "#         )\n",
    "\n",
    "#     def forward(self, x_C, x_A):\n",
    "#         # x, y\n",
    "#         x_C = self.context(x_C) \n",
    "#         x_A = self.AST(x_A)\n",
    "#         x = torch.concat((x_C, x_A), 1)\n",
    "#         x = self.fc(x)\n",
    "#         y_d = self.fc_d(x) \n",
    "#         y_b = self.fc_b(x) \n",
    "#         return y_d, y_b \n",
    "class MetaModel(nn.Module):\n",
    "    def __init__(self, vocab_size: list, emb_dim: int, seq_len: int, num_out: list):\n",
    "        \"\"\"\n",
    "        Args:\n",
    "            vocab_size: list, the size of C/A vocab\n",
    "            emb_dim: : int, the dim of C&A emb layer\n",
    "            seq_len:  MAX_SEQ_LEN\n",
    "            num_out: list, the output size of D/B\n",
    "        \"\"\"\n",
    "        super(MetaModel, self).__init__()\n",
    "        self.vocab_size = vocab_size\n",
    "        self.emb_dim = emb_dim\n",
    "        self.seq_len = seq_len\n",
    "        self.num_out = num_out\n",
    "\n",
    "        self.context = nn.Sequential(\n",
    "            nn.Embedding(self.vocab_size[0], self.emb_dim),\n",
    "            nn.Conv1d(self.seq_len, 64, kernel_size=2),\n",
    "            nn.ReLU(),\n",
    "            nn.MaxPool1d(99, 1),\n",
    "            nn.Flatten(),\n",
    "        )\n",
    "        self.AST = nn.Sequential(\n",
    "            nn.Embedding(self.vocab_size[1], self.emb_dim),\n",
    "            # nn.LSTM(self.emb_dim, 25, batch_first=True, bidirectional=True),\n",
    "            # nn.MaxPool1d(50, 1),\n",
    "            nn.Conv1d(self.seq_len, 50, kernel_size=2),\n",
    "            nn.ReLU(),\n",
    "            nn.MaxPool1d(99, 1),\n",
    "            nn.Flatten(),\n",
    "        )\n",
    "        self.fc = nn.Sequential(\n",
    "            nn.BatchNorm1d(114, affine=False), # one head\n",
    "            nn.Dropout(0.5),\n",
    "            nn.Linear(114, 50), # one head\n",
    "            nn.ReLU()\n",
    "        )\n",
    "        self.fc_d = nn.Sequential(\n",
    "            nn.Linear(50, self.num_out[0]),\n",
    "            nn.Sigmoid(),\n",
    "        )\n",
    "\n",
    "        self.fc_b = nn.Sequential(\n",
    "            nn.Linear(50, self.num_out[1]),\n",
    "            nn.Sigmoid(),\n",
    "        )\n",
    "\n",
    "    def forward(self, x_C, x_A):\n",
    "        # x, y\n",
    "        x_C = self.context(x_C) \n",
    "        x_A = self.AST(x_A) # one head\n",
    "        x = torch.concat((x_C, x_A), 1) # one head\n",
    "        x = self.fc(x) # one head\n",
    "        y_d = self.fc_d(x) # one tail \n",
    "        y_b = self.fc_b(x) # one tail \n",
    "        return y_d, y_b # one tail"
   ]
  },
  {
   "cell_type": "code",
   "execution_count": 8,
   "id": "857339a6-b7e2-4ba1-84b7-66ba24e44375",
   "metadata": {},
   "outputs": [],
   "source": [
    "N_STEPS = len(train_loader) * EPOCH\n",
    "def get_lr_scheduler(optimizer):\n",
    "    return torch.optim.lr_scheduler.OneCycleLR(\n",
    "        optimizer=optimizer,\n",
    "        max_lr=Learning_Rate,\n",
    "        total_steps=N_STEPS,\n",
    "        pct_start=0.10,\n",
    "        anneal_strategy='cos',\n",
    "        div_factor=1e3,\n",
    "        final_div_factor=1e4,\n",
    "    )\n"
   ]
  },
  {
   "cell_type": "code",
   "execution_count": 9,
   "id": "d223154a-7742-4f56-a6f2-41efb97374ae",
   "metadata": {},
   "outputs": [],
   "source": [
    "# model\n",
    "model = MetaModel(vocab_size, EMB_DIM, MAX_SEQ_LEN, num_out).to(device)\n",
    "\n",
    "# loss_func\n",
    "def loss_fn(y, y_pred):\n",
    "    return -torch.sum(0.8*y*torch.log(y_pred) + 0.2*(1-y)*torch.log(1-y_pred))\n",
    "# loss_fn = torch.nn.BCEWithLogitsLoss().to(device)\n",
    "# loss_fn_mse = torch.nn.MSELoss().to(device)\n",
    "# loss_fn_ce = torch.nn.MultiLabelSoftMarginLoss().to(device)\n",
    "# loss_fn_ce = torch.nn.BCEWithLogitsLoss().to(device)\n",
    "# loss_name = 'BCELogits_Adam'\n",
    "loss_name = 'BCELogits'\n",
    "\n",
    "# Optimizer\n",
    "optimizer = torch.optim.Adam(\n",
    "    params=model.parameters(),\n",
    "    lr=Learning_Rate,\n",
    ")\n",
    "\n",
    "# Learning Rate Scheduler\n",
    "LR_SCHEDULER = get_lr_scheduler(optimizer)"
   ]
  },
  {
   "cell_type": "code",
   "execution_count": 10,
   "id": "b7f2d108-7c52-4146-94d6-e25af7216b6c",
   "metadata": {},
   "outputs": [],
   "source": [
    "def metrics(y: torch.Tensor, y_pred: torch.Tensor, threshold: float = 0.5, from_logits = False, split_pos = num_out):\n",
    "    if from_logits == True:\n",
    "        y_pred = nn.Sigmoid()(y_pred)\n",
    "    pred = torch.where(y_pred > threshold, 1, 0)\n",
    "    \n",
    "    y_d, y_b = torch.split(y, split_pos, dim=1)\n",
    "    pred_d, pred_b = torch.split(pred, split_pos, dim=1)\n",
    "    \n",
    "    TPd, TPb = torch.sum(y_d * pred_d, dim=1), torch.sum(y_b * pred_b, dim=1)\n",
    "    TNd, TNb = torch.sum((1-y_d) * (1-pred_d), dim=1), torch.sum((1-y_b) * (1-pred_b), dim=1)\n",
    "    FPd, FPb = torch.sum((1-y_d) * pred_d , dim=1), torch.sum((1-y_b) * pred_b , dim=1)\n",
    "    FNd, FNb = torch.sum(y_d * (1-pred_d), dim=1), torch.sum(y_b * (1-pred_b), dim=1)\n",
    "\n",
    "    acc = torch.mean((TPd + TNd) / (TPd + TNd + FPd + FNd + 1e-6)).item(), torch.mean((TPb + TNb) / (TPb + TNb + FPb + FNb + 1e-6)).item()\n",
    "    recall = torch.mean(TPd / (TPd + FNd + 1e-6)).item(), torch.mean(TPb / (TPb + FNb + 1e-6)).item()\n",
    "    precision = torch.mean(TPd / (TPd + FPd + 1e-6)).item(), torch.mean(TPb / (TPb + FPb + 1e-6)).item()\n",
    "    F1 = 2 * recall[0] * precision[0] / (recall[0] + precision[0] + 1e-6), 2 * recall[1] * precision[1] / (recall[1] + precision[1] + 1e-6)\n",
    "    \n",
    "    return {\n",
    "        'acc': acc,\n",
    "        'precision': precision,\n",
    "        'recall': recall,\n",
    "        'F1': F1\n",
    "    }\n",
    "\n",
    "def one_forward(data):\n",
    "    (x_context, x_AST), (y_dev, y_btype) = data\n",
    "    y_dev_pred, y_btype_pred = model(x_context.long().to(device), x_AST.long().to(device)) \n",
    "    \n",
    "    y = torch.concat((y_dev, y_btype), 1).to(device) \n",
    "    y_pred = torch.concat((y_dev_pred, y_btype_pred), 1) \n",
    "\n",
    "    # loss = Weight_MSE * loss_fn_mse(y, nn.Sigmoid()(y_pred)) + Weight_BCE * loss_fn_ce(y, y_pred)\n",
    "    loss = loss_fn(y, y_pred)\n",
    "    metric = metrics(y, y_pred, from_logits=False)\n",
    "    \n",
    "    return loss, metric['acc'], metric['precision'], metric['recall'], metric['F1']\n",
    "\n",
    "\n",
    "def one_backward(optimizer, loss):\n",
    "    optimizer.zero_grad()\n",
    "    loss.backward()\n",
    "    # Gradient clipping\n",
    "    torch.nn.utils.clip_grad_norm_(model.parameters(), max_norm=1.0)\n",
    "    optimizer.step()\n",
    "\n",
    "def one_train_scaler(scaler, data, optimizer):\n",
    "    with torch.cuda.amp.autocast():\n",
    "        optimizer.zero_grad()\n",
    "        loss, acc, precision, recall, f1 = one_forward(data)\n",
    "        scaler.scale(loss).backward()\n",
    "        scaler.step(optimizer)\n",
    "        scaler.update()"
   ]
  },
  {
   "cell_type": "code",
   "execution_count": 11,
   "id": "2ece2862-3ec4-47ca-b60a-b910bbfb06ce",
   "metadata": {},
   "outputs": [
    {
     "name": "stdout",
     "output_type": "stream",
     "text": [
      "[71, 176]\n"
     ]
    }
   ],
   "source": [
    "print(num_out)"
   ]
  },
  {
   "cell_type": "code",
   "execution_count": 12,
   "id": "6d68510f-1e9e-4757-bec6-a561e696f882",
   "metadata": {},
   "outputs": [
    {
     "name": "stderr",
     "output_type": "stream",
     "text": [
      "  0%|          | 1/300 [00:01<06:52,  1.38s/it]"
     ]
    },
    {
     "name": "stdout",
     "output_type": "stream",
     "text": [
      "0th epoch\n",
      " val_loss: 2229.163038170856\n",
      " val_acc:[0.485934625501218, 0.5542751783910004]\n",
      " val_precision:[0.009072535306863163, 0.014598334086653978]\n",
      " val_recall:[0.3297818847324536, 0.38969035641006805]\n",
      " val_f1: [0.017658836956747057, 0.02813688790075832]\n"
     ]
    },
    {
     "name": "stderr",
     "output_type": "stream",
     "text": [
      "  1%|          | 2/300 [00:01<03:43,  1.33it/s]"
     ]
    },
    {
     "name": "stdout",
     "output_type": "stream",
     "text": [
      "1th epoch\n",
      " val_loss: 2230.5786398182745\n",
      " val_acc:[0.49199133852253785, 0.5555679150249646]\n",
      " val_precision:[0.00859973553325171, 0.016157226758482662]\n",
      " val_recall:[0.3094014706818954, 0.42851272095804627]\n",
      " val_f1: [0.016733611686328333, 0.031135189119971412]\n"
     ]
    },
    {
     "name": "stderr",
     "output_type": "stream",
     "text": [
      "  1%|          | 3/300 [00:01<02:43,  1.82it/s]"
     ]
    },
    {
     "name": "stdout",
     "output_type": "stream",
     "text": [
      "2th epoch\n",
      " val_loss: 2225.876666525136\n",
      " val_acc:[0.4995128836320794, 0.5609321646068407]\n",
      " val_precision:[0.007979351338808952, 0.016224254651562027]\n",
      " val_recall:[0.2812085618143496, 0.42374419906864996]\n",
      " val_f1: [0.015517683931581714, 0.031246182531085423]\n"
     ]
    },
    {
     "name": "stderr",
     "output_type": "stream",
     "text": [
      "  1%|▏         | 4/300 [00:02<02:16,  2.17it/s]"
     ]
    },
    {
     "name": "stdout",
     "output_type": "stream",
     "text": [
      "3th epoch\n",
      " val_loss: 2220.8816289487095\n",
      " val_acc:[0.5062889689984529, 0.5661188623179559]\n",
      " val_precision:[0.0076783307747024555, 0.016123326171351517]\n",
      " val_recall:[0.2662011631157087, 0.41784902240919025]\n",
      " val_f1: [0.014925456842640893, 0.03104304477396675]\n"
     ]
    },
    {
     "name": "stderr",
     "output_type": "stream",
     "text": [
      "  2%|▏         | 5/300 [00:02<02:02,  2.41it/s]"
     ]
    },
    {
     "name": "stdout",
     "output_type": "stream",
     "text": [
      "4th epoch\n",
      " val_loss: 2215.4744899583898\n",
      " val_acc:[0.5150274064229883, 0.5715739960255831]\n",
      " val_precision:[0.007412721666142993, 0.016141435698322628]\n",
      " val_recall:[0.2523363070643466, 0.4144700739694678]\n",
      " val_f1: [0.014401558665352547, 0.0310679023641863]\n"
     ]
    },
    {
     "name": "stderr",
     "output_type": "stream",
     "text": [
      "  2%|▏         | 6/300 [00:02<01:51,  2.64it/s]"
     ]
    },
    {
     "name": "stdout",
     "output_type": "stream",
     "text": [
      "5th epoch\n",
      " val_loss: 2210.489050823709\n",
      " val_acc:[0.5226776884949725, 0.5771347465722457]\n",
      " val_precision:[0.006955157469391175, 0.016148031486765198]\n",
      " val_recall:[0.2319044276424076, 0.4090558782867763]\n",
      " val_f1: [0.013504429393813216, 0.031064449648772127]\n"
     ]
    },
    {
     "name": "stderr",
     "output_type": "stream",
     "text": [
      "  2%|▏         | 7/300 [00:03<01:45,  2.77it/s]"
     ]
    },
    {
     "name": "stdout",
     "output_type": "stream",
     "text": [
      "6th epoch\n",
      " val_loss: 2205.985545282778\n",
      " val_acc:[0.5283864632896755, 0.5815764717433763]\n",
      " val_precision:[0.006845032522940767, 0.015828200372988765]\n",
      " val_recall:[0.22511095391667404, 0.39907873454301257]\n",
      " val_f1: [0.013285083460636699, 0.03044351775717054]\n"
     ]
    },
    {
     "name": "stderr",
     "output_type": "stream",
     "text": [
      "  3%|▎         | 8/300 [00:03<01:42,  2.86it/s]"
     ]
    },
    {
     "name": "stdout",
     "output_type": "stream",
     "text": [
      "7th epoch\n",
      " val_loss: 2202.1053626019025\n",
      " val_acc:[0.5320258943930916, 0.5869754630586376]\n",
      " val_precision:[0.006570058338263113, 0.0159685584595022]\n",
      " val_recall:[0.21288270406101067, 0.39561788284260285]\n",
      " val_f1: [0.012745798172023414, 0.03069248665135275]\n"
     ]
    },
    {
     "name": "stderr",
     "output_type": "stream",
     "text": [
      "  3%|▎         | 9/300 [00:03<01:38,  2.95it/s]"
     ]
    },
    {
     "name": "stdout",
     "output_type": "stream",
     "text": [
      "8th epoch\n",
      " val_loss: 2198.1122409986415\n",
      " val_acc:[0.5371858037036398, 0.5910764621651692]\n",
      " val_precision:[0.006392576903833645, 0.01575798379338306]\n",
      " val_recall:[0.2047305372746095, 0.3858530702798264]\n",
      " val_f1: [0.012396967070050877, 0.0302737064512428]\n"
     ]
    },
    {
     "name": "stderr",
     "output_type": "stream",
     "text": [
      "  3%|▎         | 10/300 [00:04<01:35,  3.03it/s]"
     ]
    },
    {
     "name": "stdout",
     "output_type": "stream",
     "text": [
      "9th epoch\n",
      " val_loss: 2192.434474779212\n",
      " val_acc:[0.543406932250313, 0.597506416880566]\n",
      " val_precision:[0.006221297176797753, 0.015718191578660324]\n",
      " val_recall:[0.19510645257390064, 0.37922046495520545]\n",
      " val_f1: [0.012056717208938514, 0.030179490216815222]\n"
     ]
    },
    {
     "name": "stderr",
     "output_type": "stream",
     "text": [
      "  4%|▎         | 11/300 [00:04<01:33,  3.08it/s]"
     ]
    },
    {
     "name": "stdout",
     "output_type": "stream",
     "text": [
      "10th epoch\n",
      " val_loss: 2187.5116683296537\n",
      " val_acc:[0.5485390061917512, 0.6029927756475366]\n",
      " val_precision:[0.0059733829238330545, 0.015818089773149593]\n",
      " val_recall:[0.18536914463924323, 0.37753959324048914]\n",
      " val_f1: [0.011572711479823234, 0.0303583889224105]\n"
     ]
    },
    {
     "name": "stderr",
     "output_type": "stream",
     "text": [
      "  4%|▍         | 12/300 [00:04<01:31,  3.14it/s]"
     ]
    },
    {
     "name": "stdout",
     "output_type": "stream",
     "text": [
      "11th epoch\n",
      " val_loss: 2183.2464334239125\n",
      " val_acc:[0.5539711765621018, 0.6068818413692971]\n",
      " val_precision:[0.0058164778874134244, 0.015683236005513565]\n",
      " val_recall:[0.1782359982962194, 0.371096670627594]\n",
      " val_f1: [0.011264254690889375, 0.030088590653916614]\n"
     ]
    },
    {
     "name": "stderr",
     "output_type": "stream",
     "text": [
      "  4%|▍         | 13/300 [00:05<01:30,  3.18it/s]"
     ]
    },
    {
     "name": "stdout",
     "output_type": "stream",
     "text": [
      "12th epoch\n",
      " val_loss: 2177.8873768682065\n",
      " val_acc:[0.5592841868815214, 0.6122295856475828]\n",
      " val_precision:[0.005740917733182078, 0.015780015362669594]\n",
      " val_recall:[0.1728012208705363, 0.36632506095844775]\n",
      " val_f1: [0.011111639039466437, 0.030249742451240246]\n"
     ]
    },
    {
     "name": "stderr",
     "output_type": "stream",
     "text": [
      "  5%|▍         | 14/300 [00:05<01:29,  3.21it/s]"
     ]
    },
    {
     "name": "stdout",
     "output_type": "stream",
     "text": [
      "13th epoch\n",
      " val_loss: 2173.1194139563518\n",
      " val_acc:[0.5636151407075966, 0.6174155836519988]\n",
      " val_precision:[0.005769086070358752, 0.015711613606823528]\n",
      " val_recall:[0.1714425265141155, 0.3587843076042507]\n",
      " val_f1: [0.011161571329630818, 0.03009688442142834]\n"
     ]
    },
    {
     "name": "stderr",
     "output_type": "stream",
     "text": [
      "  5%|▌         | 15/300 [00:05<01:28,  3.22it/s]"
     ]
    },
    {
     "name": "stdout",
     "output_type": "stream",
     "text": [
      "14th epoch\n",
      " val_loss: 2169.7947334621263\n",
      " val_acc:[0.5677495002746582, 0.6203382507614467]\n",
      " val_precision:[0.005998259126816107, 0.015800256282091137]\n",
      " val_recall:[0.1768773039397986, 0.36156036672384845]\n",
      " val_f1: [0.01160199641874655, 0.030269500823561255]\n"
     ]
    },
    {
     "name": "stderr",
     "output_type": "stream",
     "text": [
      "  5%|▌         | 16/300 [00:06<01:27,  3.25it/s]"
     ]
    },
    {
     "name": "stdout",
     "output_type": "stream",
     "text": [
      "15th epoch\n",
      " val_loss: 2165.6852496603256\n",
      " val_acc:[0.5724710070568583, 0.6238588716672815]\n",
      " val_precision:[0.005973125160064386, 0.015975524833344898]\n",
      " val_recall:[0.17415991457908048, 0.36267541024995886]\n",
      " val_f1: [0.011548968350330738, 0.030596221469978386]\n"
     ]
    },
    {
     "name": "stderr",
     "output_type": "stream",
     "text": [
      "  6%|▌         | 17/300 [00:06<01:27,  3.22it/s]"
     ]
    },
    {
     "name": "stdout",
     "output_type": "stream",
     "text": [
      "16th epoch\n",
      " val_loss: 2161.158829398777\n",
      " val_acc:[0.5771368586498757, 0.6272577073263085]\n",
      " val_precision:[0.005894386381639735, 0.01584704969402241]\n",
      " val_recall:[0.17053673027650168, 0.3549033455226732]\n",
      " val_f1: [0.011393873819757214, 0.030332819373824822]\n"
     ]
    },
    {
     "name": "stderr",
     "output_type": "stream",
     "text": [
      "  6%|▌         | 18/300 [00:06<01:27,  3.24it/s]"
     ]
    },
    {
     "name": "stdout",
     "output_type": "stream",
     "text": [
      "17th epoch\n",
      " val_loss: 2156.483892026155\n",
      " val_acc:[0.5803222189778868, 0.6301593288131382]\n",
      " val_precision:[0.005951861780055839, 0.015815254017386746]\n",
      " val_recall:[0.17053673027650165, 0.35155674944753224]\n",
      " val_f1: [0.011501105877825393, 0.030262093811708357]\n"
     ]
    },
    {
     "name": "stderr",
     "output_type": "stream",
     "text": [
      "  6%|▋         | 19/300 [00:07<01:26,  3.25it/s]"
     ]
    },
    {
     "name": "stdout",
     "output_type": "stream",
     "text": [
      "18th epoch\n",
      " val_loss: 2152.0335295304008\n",
      " val_acc:[0.5848975959031478, 0.6343396254207778]\n",
      " val_precision:[0.005904860470605933, 0.015855408557083298]\n",
      " val_recall:[0.1671399943854498, 0.3490771353244781]\n",
      " val_f1: [0.011405401758838312, 0.030325543384748146]\n"
     ]
    },
    {
     "name": "stderr",
     "output_type": "stream",
     "text": [
      "  7%|▋         | 20/300 [00:07<01:27,  3.19it/s]"
     ]
    },
    {
     "name": "stdout",
     "output_type": "stream",
     "text": [
      "19th epoch\n",
      " val_loss: 2147.5914120881453\n",
      " val_acc:[0.5888927915821904, 0.637810406477555]\n",
      " val_precision:[0.005870789188243772, 0.015789378920327068]\n",
      " val_recall:[0.16374325784652127, 0.343860282846119]\n",
      " val_f1: [0.0113335943194409, 0.030184891161409946]\n"
     ]
    },
    {
     "name": "stderr",
     "output_type": "stream",
     "text": [
      "  7%|▋         | 21/300 [00:07<01:26,  3.21it/s]"
     ]
    },
    {
     "name": "stdout",
     "output_type": "stream",
     "text": [
      "20th epoch\n",
      " val_loss: 2143.258948284647\n",
      " val_acc:[0.5939761633458346, 0.6413355832514556]\n",
      " val_precision:[0.005899332079064587, 0.01586332848376554]\n",
      " val_recall:[0.16238456349010053, 0.3408176238122194]\n",
      " val_f1: [0.011383443652174755, 0.03031040927709119]\n"
     ]
    },
    {
     "name": "stderr",
     "output_type": "stream",
     "text": [
      "  8%|▊         | 23/300 [00:08<01:16,  3.64it/s]"
     ]
    },
    {
     "name": "stdout",
     "output_type": "stream",
     "text": [
      "21th epoch\n",
      " val_loss: 2138.8779694930367\n",
      " val_acc:[0.5974381384642228, 0.6447031834851139]\n",
      " val_precision:[0.005890888101218836, 0.01587220398790162]\n",
      " val_recall:[0.1603465219554694, 0.3390945494174957]\n",
      " val_f1: [0.01136251654511365, 0.03032000522822099]\n",
      "22th epoch\n",
      " val_loss: 2133.6884500254755\n",
      " val_acc:[0.6009549187577289, 0.6489224433898925]\n",
      " val_precision:[0.0058795847099922275, 0.015979556407293545]\n",
      " val_recall:[0.15932750118815378, 0.3390945494174958]\n",
      " val_f1: [0.0113391495621793, 0.030516077900146116]\n"
     ]
    },
    {
     "name": "stderr",
     "output_type": "stream",
     "text": [
      "  8%|▊         | 25/300 [00:08<01:04,  4.24it/s]"
     ]
    },
    {
     "name": "stdout",
     "output_type": "stream",
     "text": [
      "23th epoch\n",
      " val_loss: 2129.173944887907\n",
      " val_acc:[0.6045430121214493, 0.6522412870241248]\n",
      " val_precision:[0.006191376353735509, 0.01592817274934572]\n",
      " val_recall:[0.16673856131408524, 0.3346623234126878]\n",
      " val_f1: [0.011937858439962475, 0.03040317838956981]\n",
      "24th epoch\n",
      " val_loss: 2124.3286185886545\n",
      " val_acc:[0.6084512316662332, 0.6557861074157383]\n",
      " val_precision:[0.006418822717893383, 0.016043540819183636]\n",
      " val_recall:[0.17081464503122412, 0.3346057093661764]\n",
      " val_f1: [0.012371356566587062, 0.0306130979020368]\n"
     ]
    },
    {
     "name": "stderr",
     "output_type": "stream",
     "text": [
      "  9%|▉         | 27/300 [00:08<00:59,  4.62it/s]"
     ]
    },
    {
     "name": "stdout",
     "output_type": "stream",
     "text": [
      "25th epoch\n",
      " val_loss: 2119.6458607549253\n",
      " val_acc:[0.6131014098291813, 0.6585164925326473]\n",
      " val_precision:[0.006510156318140419, 0.016079775786594204]\n",
      " val_recall:[0.17081464503122412, 0.3335980086222939]\n",
      " val_f1: [0.012540757123105727, 0.030674875844951977]\n",
      "26th epoch\n",
      " val_loss: 2114.9239210045857\n",
      " val_acc:[0.6181804226792377, 0.662435355393783]\n",
      " val_precision:[0.006588041063641078, 0.016149615464003193]\n",
      " val_recall:[0.17081464438334754, 0.33162996302480274]\n",
      " val_f1: [0.012684982874254284, 0.03079263519669301]\n"
     ]
    },
    {
     "name": "stderr",
     "output_type": "stream",
     "text": [
      "  9%|▉         | 28/300 [00:09<00:57,  4.70it/s]"
     ]
    },
    {
     "name": "stdout",
     "output_type": "stream",
     "text": [
      "27th epoch\n",
      " val_loss: 2110.299693231998\n",
      " val_acc:[0.6222617263379303, 0.665734552818796]\n",
      " val_precision:[0.006528141776747678, 0.016099119356468967]\n",
      " val_recall:[0.16741790849229565, 0.32742932827576343]\n",
      " val_f1: [0.012564606703703709, 0.03068250316621969]\n"
     ]
    },
    {
     "name": "stderr",
     "output_type": "stream",
     "text": [
      " 10%|▉         | 29/300 [00:09<00:59,  4.58it/s]"
     ]
    },
    {
     "name": "stdout",
     "output_type": "stream",
     "text": [
      "28th epoch\n",
      " val_loss: 2105.428286345109\n",
      " val_acc:[0.6261455831320389, 0.6692470882249915]\n",
      " val_precision:[0.006665691065237573, 0.016011929746879185]\n",
      " val_recall:[0.16877660349659293, 0.32347779040751234]\n",
      " val_f1: [0.0128232333751333, 0.030506510007495748]\n"
     ]
    },
    {
     "name": "stderr",
     "output_type": "stream",
     "text": [
      " 10%|█         | 30/300 [00:09<01:01,  4.37it/s]"
     ]
    },
    {
     "name": "stdout",
     "output_type": "stream",
     "text": [
      "29th epoch\n",
      " val_loss: 2100.4431709621267\n",
      " val_acc:[0.6311167374901149, 0.6728477063386337]\n",
      " val_precision:[0.0065726310156447735, 0.01602647198445123]\n",
      " val_recall:[0.16402117260124371, 0.3205113074053888]\n",
      " val_f1: [0.012637206682387707, 0.030518798215846046]\n"
     ]
    },
    {
     "name": "stderr",
     "output_type": "stream",
     "text": [
      " 10%|█         | 31/300 [00:09<01:09,  3.90it/s]"
     ]
    },
    {
     "name": "stdout",
     "output_type": "stream",
     "text": [
      "30th epoch\n",
      " val_loss: 2095.5794651197357\n",
      " val_acc:[0.6349457968836246, 0.6769174803858219]\n",
      " val_precision:[0.006680029910057782, 0.016135452639149585]\n",
      " val_recall:[0.16470051977945407, 0.31761687086976087]\n",
      " val_f1: [0.012837849316408016, 0.03070249904870446]\n"
     ]
    },
    {
     "name": "stderr",
     "output_type": "stream",
     "text": [
      " 11%|█         | 33/300 [00:10<01:07,  3.93it/s]"
     ]
    },
    {
     "name": "stdout",
     "output_type": "stream",
     "text": [
      "31th epoch\n",
      " val_loss: 2090.573624320652\n",
      " val_acc:[0.6387774503749348, 0.6805949340695922]\n",
      " val_precision:[0.00675347566847568, 0.015969751645689423]\n",
      " val_recall:[0.16476227861383685, 0.3094955812329831]\n",
      " val_f1: [0.012973630167449617, 0.03036365935550513]\n",
      "32th epoch\n",
      " val_loss: 2085.738907523777\n",
      " val_acc:[0.6435528967691504, 0.6843032785083938]\n",
      " val_precision:[0.006910041025232361, 0.016057098324856033]\n",
      " val_recall:[0.16680032014846802, 0.30739680839621497]\n",
      " val_f1: [0.013268645108617649, 0.03051190368504027]\n"
     ]
    },
    {
     "name": "stderr",
     "output_type": "stream",
     "text": [
      " 12%|█▏        | 35/300 [00:10<00:59,  4.43it/s]"
     ]
    },
    {
     "name": "stdout",
     "output_type": "stream",
     "text": [
      "33th epoch\n",
      " val_loss: 2080.5630042034645\n",
      " val_acc:[0.6477577193923618, 0.6880814510843026]\n",
      " val_precision:[0.007092117250937484, 0.016142928041517735]\n",
      " val_recall:[0.17053672995256342, 0.30551728023135144]\n",
      " val_f1: [0.01361641698229482, 0.030657953294794673]\n",
      "34th epoch\n",
      " val_loss: 2075.2262069038725\n",
      " val_acc:[0.6519634153531945, 0.6913764217625494]\n",
      " val_precision:[0.007108719189367865, 0.016151679517782253]\n",
      " val_recall:[0.16917803559614264, 0.30231714313444885]\n",
      " val_f1: [0.01364235347605089, 0.03065666180861297]\n"
     ]
    },
    {
     "name": "stderr",
     "output_type": "stream",
     "text": [
      " 12%|█▏        | 37/300 [00:11<00:55,  4.72it/s]"
     ]
    },
    {
     "name": "stdout",
     "output_type": "stream",
     "text": [
      "35th epoch\n",
      " val_loss: 2069.853194527004\n",
      " val_acc:[0.6569684899371603, 0.6950956375702567]\n",
      " val_precision:[0.007161051196896513, 0.016229248848622257]\n",
      " val_recall:[0.17013529720513715, 0.29942991681720904]\n",
      " val_f1: [0.01374204567032159, 0.030781030271047338]\n",
      "36th epoch\n",
      " val_loss: 2064.0462779169493\n",
      " val_acc:[0.6622814976650735, 0.6995507038157921]\n",
      " val_precision:[0.006789510239563558, 0.016060152860439346]\n",
      " val_recall:[0.15762913356656613, 0.2928402423858643]\n",
      " val_f1: [0.013016073860047392, 0.030441495980380533]\n"
     ]
    },
    {
     "name": "stderr",
     "output_type": "stream",
     "text": [
      " 13%|█▎        | 39/300 [00:11<00:53,  4.89it/s]"
     ]
    },
    {
     "name": "stdout",
     "output_type": "stream",
     "text": [
      "37th epoch\n",
      " val_loss: 2058.465995456861\n",
      " val_acc:[0.6665472051371698, 0.7034330886343251]\n",
      " val_precision:[0.006894260462697434, 0.016123614840857357]\n",
      " val_recall:[0.1592142763345138, 0.29047282428845117]\n",
      " val_f1: [0.013214038020355532, 0.030540853402330776]\n",
      "38th epoch\n",
      " val_loss: 2053.5955571713657\n",
      " val_acc:[0.6695960215900254, 0.7062705003696941]\n",
      " val_precision:[0.007335525198394187, 0.016311691790495228]\n",
      " val_recall:[0.17002207235149716, 0.29201267594876495]\n",
      " val_f1: [0.014061853538860972, 0.030886070009499042]\n"
     ]
    },
    {
     "name": "stderr",
     "output_type": "stream",
     "text": [
      " 14%|█▎        | 41/300 [00:12<00:52,  4.97it/s]"
     ]
    },
    {
     "name": "stdout",
     "output_type": "stream",
     "text": [
      "39th epoch\n",
      " val_loss: 2048.6642217221465\n",
      " val_acc:[0.6729483993157098, 0.7095233642536661]\n",
      " val_precision:[0.007470198056620099, 0.016320673789343106]\n",
      " val_recall:[0.1717204406209614, 0.2887970928264701]\n",
      " val_f1: [0.014315023986635514, 0.030884673911558847]\n",
      "40th epoch\n",
      " val_loss: 2043.2077689792804\n",
      " val_acc:[0.6768470276956974, 0.7125853377839794]\n",
      " val_precision:[0.007885441386505312, 0.016252722631654015]\n",
      " val_recall:[0.17953293284644253, 0.28397887362086255]\n",
      " val_f1: [0.015104985415551523, 0.03073696751673182]\n"
     ]
    },
    {
     "name": "stderr",
     "output_type": "stream",
     "text": [
      " 14%|█▍        | 42/300 [00:12<00:51,  4.98it/s]"
     ]
    },
    {
     "name": "stdout",
     "output_type": "stream",
     "text": [
      "41th epoch\n",
      " val_loss: 2037.7536621093752\n",
      " val_acc:[0.6815885434979979, 0.7166003714437069]\n",
      " val_precision:[0.008262344656269188, 0.016354176620750324]\n",
      " val_recall:[0.18462803700695868, 0.28135206517965894]\n",
      " val_f1: [0.01581430809197321, 0.03090230222500274]\n"
     ]
    },
    {
     "name": "stderr",
     "output_type": "stream",
     "text": [
      " 14%|█▍        | 43/300 [00:12<00:56,  4.52it/s]"
     ]
    },
    {
     "name": "stdout",
     "output_type": "stream",
     "text": [
      "42th epoch\n",
      " val_loss: 2032.066899838655\n",
      " val_acc:[0.6846147335093956, 0.7203876583472543]\n",
      " val_precision:[0.008389243653610998, 0.016453459494463776]\n",
      " val_recall:[0.18609995556914288, 0.2783629330603973]\n",
      " val_f1: [0.01605223398253384, 0.031060221088425072]\n"
     ]
    },
    {
     "name": "stderr",
     "output_type": "stream",
     "text": [
      " 15%|█▍        | 44/300 [00:12<01:06,  3.82it/s]"
     ]
    },
    {
     "name": "stdout",
     "output_type": "stream",
     "text": [
      "43th epoch\n",
      " val_loss: 2026.602631942085\n",
      " val_acc:[0.6888734801955845, 0.7234703406043675]\n",
      " val_precision:[0.008619704263527756, 0.016395482882533383]\n",
      " val_recall:[0.1886938266132189, 0.2750567735537239]\n",
      " val_f1: [0.01648371945323512, 0.030936130407266973]\n"
     ]
    },
    {
     "name": "stderr",
     "output_type": "stream",
     "text": [
      " 15%|█▌        | 45/300 [00:13<01:11,  3.55it/s]"
     ]
    },
    {
     "name": "stdout",
     "output_type": "stream",
     "text": [
      "44th epoch\n",
      " val_loss: 2021.0368572732677\n",
      " val_acc:[0.692808659180351, 0.7267590061477992]\n",
      " val_precision:[0.009092724213943533, 0.01633341594234757]\n",
      " val_recall:[0.19548729839532272, 0.2702447324991226]\n",
      " val_f1: [0.01737450393779784, 0.03079434582864915]\n"
     ]
    },
    {
     "name": "stderr",
     "output_type": "stream",
     "text": [
      " 15%|█▌        | 46/300 [00:13<01:13,  3.46it/s]"
     ]
    },
    {
     "name": "stdout",
     "output_type": "stream",
     "text": [
      "45th epoch\n",
      " val_loss: 2015.2400910750678\n",
      " val_acc:[0.6964689519094385, 0.7302575085474097]\n",
      " val_precision:[0.009235586201691109, 0.01628296482174293]\n",
      " val_recall:[0.19594019716200625, 0.2669951876868372]\n",
      " val_f1: [0.01763679822266718, 0.03068149100983198]\n"
     ]
    },
    {
     "name": "stderr",
     "output_type": "stream",
     "text": [
      " 16%|█▌        | 47/300 [00:13<01:14,  3.40it/s]"
     ]
    },
    {
     "name": "stdout",
     "output_type": "stream",
     "text": [
      "46th epoch\n",
      " val_loss: 2009.4748216711957\n",
      " val_acc:[0.7005641823229583, 0.7338816316231438]\n",
      " val_precision:[0.009520860976013153, 0.016240682493409386]\n",
      " val_recall:[0.1979782386966374, 0.2628398472848146]\n",
      " val_f1: [0.01816508820486866, 0.03057725511115273]\n"
     ]
    },
    {
     "name": "stderr",
     "output_type": "stream",
     "text": [
      " 16%|█▌        | 48/300 [00:14<01:15,  3.35it/s]"
     ]
    },
    {
     "name": "stdout",
     "output_type": "stream",
     "text": [
      "47th epoch\n",
      " val_loss: 2003.6799157184096\n",
      " val_acc:[0.7045393637988878, 0.7369046574053557]\n",
      " val_precision:[0.009905717781056528, 0.016133790147369324]\n",
      " val_recall:[0.20273366959198666, 0.25695216720518854]\n",
      " val_f1: [0.018885721889189005, 0.030347102319211866]\n"
     ]
    },
    {
     "name": "stderr",
     "output_type": "stream",
     "text": [
      " 16%|█▋        | 49/300 [00:14<01:15,  3.32it/s]"
     ]
    },
    {
     "name": "stdout",
     "output_type": "stream",
     "text": [
      "48th epoch\n",
      " val_loss: 1998.2591711956525\n",
      " val_acc:[0.7081118200136267, 0.7398231210915938]\n",
      " val_precision:[0.010178917674752683, 0.01605743821710348]\n",
      " val_recall:[0.2054510589527048, 0.2524458286554917]\n",
      " val_f1: [0.019394056064477156, 0.03017913880867425]\n"
     ]
    },
    {
     "name": "stderr",
     "output_type": "stream",
     "text": [
      " 17%|█▋        | 50/300 [00:14<01:17,  3.24it/s]"
     ]
    },
    {
     "name": "stdout",
     "output_type": "stream",
     "text": [
      "49th epoch\n",
      " val_loss: 1992.207079016644\n",
      " val_acc:[0.7121896458708722, 0.7430208895517432]\n",
      " val_precision:[0.010563658044228087, 0.016064992579429043]\n",
      " val_recall:[0.20952714072621387, 0.2493434781613557]\n",
      " val_f1: [0.020110310288928127, 0.03016940574814855]\n"
     ]
    },
    {
     "name": "stderr",
     "output_type": "stream",
     "text": [
      " 17%|█▋        | 51/300 [00:15<01:17,  3.23it/s]"
     ]
    },
    {
     "name": "stdout",
     "output_type": "stream",
     "text": [
      "50th epoch\n",
      " val_loss: 1986.3560419497285\n",
      " val_acc:[0.7154602563899494, 0.7458400415337603]\n",
      " val_precision:[0.010829562199828417, 0.015994044101756553]\n",
      " val_recall:[0.21292387661726578, 0.24499565362930298]\n",
      " val_f1: [0.020608228253136792, 0.030011039476942836]\n"
     ]
    },
    {
     "name": "stderr",
     "output_type": "stream",
     "text": [
      " 17%|█▋        | 52/300 [00:15<01:16,  3.25it/s]"
     ]
    },
    {
     "name": "stdout",
     "output_type": "stream",
     "text": [
      "51th epoch\n",
      " val_loss: 1980.6622314453127\n",
      " val_acc:[0.7183463988096818, 0.7492476649906322]\n",
      " val_precision:[0.010887285431280085, 0.016014431522268315]\n",
      " val_recall:[0.21156518226084498, 0.24166684889275097]\n",
      " val_f1: [0.02070614049998945, 0.030019540032157423]\n"
     ]
    },
    {
     "name": "stderr",
     "output_type": "stream",
     "text": [
      " 18%|█▊        | 53/300 [00:15<01:15,  3.26it/s]"
     ]
    },
    {
     "name": "stdout",
     "output_type": "stream",
     "text": [
      "52th epoch\n",
      " val_loss: 1974.7660973590355\n",
      " val_acc:[0.7221815275109331, 0.7521843651066656]\n",
      " val_precision:[0.011536476485755133, 0.01600471701796936]\n",
      " val_recall:[0.22039669622545657, 0.23907400538092072]\n",
      " val_f1: [0.02192265599743876, 0.02998246752944576]\n"
     ]
    },
    {
     "name": "stderr",
     "output_type": "stream",
     "text": [
      " 18%|█▊        | 54/300 [00:15<01:15,  3.27it/s]"
     ]
    },
    {
     "name": "stdout",
     "output_type": "stream",
     "text": [
      "53th epoch\n",
      " val_loss: 1968.7259043817935\n",
      " val_acc:[0.7258313920186913, 0.7551740537519038]\n",
      " val_precision:[0.011836994317886622, 0.016164528570421367]\n",
      " val_recall:[0.2231140842904215, 0.2382814339969469]\n",
      " val_f1: [0.02247845456983949, 0.03025567843660959]\n"
     ]
    },
    {
     "name": "stderr",
     "output_type": "stream",
     "text": [
      " 18%|█▊        | 55/300 [00:16<01:14,  3.27it/s]"
     ]
    },
    {
     "name": "stdout",
     "output_type": "stream",
     "text": [
      "54th epoch\n",
      " val_loss: 1962.5489661175272\n",
      " val_acc:[0.7296743703925089, 0.7583069283029307]\n",
      " val_precision:[0.012302460472868836, 0.01615724834087102]\n",
      " val_recall:[0.22848710223384525, 0.23529230058193207]\n",
      " val_f1: [0.023344997755901264, 0.0302180107293415]\n"
     ]
    },
    {
     "name": "stderr",
     "output_type": "stream",
     "text": [
      " 19%|█▊        | 56/300 [00:16<01:15,  3.24it/s]"
     ]
    },
    {
     "name": "stdout",
     "output_type": "stream",
     "text": [
      "55th epoch\n",
      " val_loss: 1956.8505116338315\n",
      " val_acc:[0.7333251030548759, 0.761077308136484]\n",
      " val_precision:[0.012765071719236992, 0.016047874101154182]\n",
      " val_recall:[0.23324253248131793, 0.23225626349449158]\n",
      " val_f1: [0.024202229936938113, 0.030000421307726125]\n"
     ]
    },
    {
     "name": "stderr",
     "output_type": "stream",
     "text": [
      " 19%|█▉        | 57/300 [00:16<01:15,  3.23it/s]"
     ]
    },
    {
     "name": "stdout",
     "output_type": "stream",
     "text": [
      "56th epoch\n",
      " val_loss: 1950.4843962296195\n",
      " val_acc:[0.7371089225230009, 0.7640427739723871]\n",
      " val_precision:[0.013259513263145218, 0.01604816216327574]\n",
      " val_recall:[0.23799796272879065, 0.23007205582183338]\n",
      " val_f1: [0.025116022804180328, 0.029980646519500668]\n"
     ]
    },
    {
     "name": "stderr",
     "output_type": "stream",
     "text": [
      " 19%|█▉        | 58/300 [00:17<01:14,  3.24it/s]"
     ]
    },
    {
     "name": "stdout",
     "output_type": "stream",
     "text": [
      "57th epoch\n",
      " val_loss: 1944.4558530061138\n",
      " val_acc:[0.7402716615925665, 0.7671465199926627]\n",
      " val_precision:[0.01360309184731349, 0.015961130149662495]\n",
      " val_recall:[0.2404374363629714, 0.2258601046126822]\n",
      " val_f1: [0.025745795683014647, 0.029791229690296628]\n"
     ]
    },
    {
     "name": "stderr",
     "output_type": "stream",
     "text": [
      " 20%|█▉        | 59/300 [00:17<01:14,  3.24it/s]"
     ]
    },
    {
     "name": "stdout",
     "output_type": "stream",
     "text": [
      "58th epoch\n",
      " val_loss: 1938.454000721807\n",
      " val_acc:[0.7451192943946175, 0.7698740803677102]\n",
      " val_precision:[0.01418633066603671, 0.015947367712531402]\n",
      " val_recall:[0.24519286596256754, 0.22219162790671643]\n",
      " val_f1: [0.0268172049045867, 0.029735176288061833]\n"
     ]
    },
    {
     "name": "stderr",
     "output_type": "stream",
     "text": [
      " 20%|██        | 60/300 [00:17<01:13,  3.25it/s]"
     ]
    },
    {
     "name": "stdout",
     "output_type": "stream",
     "text": [
      "59th epoch\n",
      " val_loss: 1932.4775125254755\n",
      " val_acc:[0.7488805055618286, 0.7728529002355493]\n",
      " val_precision:[0.014546869808565014, 0.015944536613381428]\n",
      " val_recall:[0.24723090879295184, 0.21959981387076172]\n",
      " val_f1: [0.027473080288089587, 0.029704786041514806]\n"
     ]
    },
    {
     "name": "stderr",
     "output_type": "stream",
     "text": [
      " 20%|██        | 61/300 [00:18<01:13,  3.26it/s]"
     ]
    },
    {
     "name": "stdout",
     "output_type": "stream",
     "text": [
      "60th epoch\n",
      " val_loss: 1926.4277662194295\n",
      " val_acc:[0.7526643328044724, 0.775769951550857]\n",
      " val_precision:[0.014747235762036365, 0.01595863444811624]\n",
      " val_recall:[0.24723090879295184, 0.21745986782986187]\n",
      " val_f1: [0.02782999101045385, 0.029708481621692977]\n"
     ]
    },
    {
     "name": "stderr",
     "output_type": "stream",
     "text": [
      " 21%|██        | 62/300 [00:18<01:13,  3.26it/s]"
     ]
    },
    {
     "name": "stdout",
     "output_type": "stream",
     "text": [
      "61th epoch\n",
      " val_loss: 1920.0450333305027\n",
      " val_acc:[0.7556165793667667, 0.778592259987541]\n",
      " val_precision:[0.01506326286851064, 0.015971578131227387]\n",
      " val_recall:[0.2492689509754596, 0.21551343409911447]\n",
      " val_f1: [0.028405968898898, 0.029710845422047133]\n"
     ]
    },
    {
     "name": "stderr",
     "output_type": "stream",
     "text": [
      " 21%|██        | 63/300 [00:18<01:12,  3.27it/s]"
     ]
    },
    {
     "name": "stdout",
     "output_type": "stream",
     "text": [
      "62th epoch\n",
      " val_loss: 1913.5590501868207\n",
      " val_acc:[0.7597605249156121, 0.7811766629633694]\n",
      " val_precision:[0.01587724292893773, 0.016007183889008087]\n",
      " val_recall:[0.25742111646610755, 0.21206008675305743]\n",
      " val_f1: [0.029906042940537007, 0.029734850886187016]\n"
     ]
    },
    {
     "name": "stderr",
     "output_type": "stream",
     "text": [
      " 21%|██▏       | 64/300 [00:19<01:12,  3.27it/s]"
     ]
    },
    {
     "name": "stdout",
     "output_type": "stream",
     "text": [
      "63th epoch\n",
      " val_loss: 1907.0028978430707\n",
      " val_acc:[0.7634373436803403, 0.7839568723802981]\n",
      " val_precision:[0.016382678816823856, 0.016076950234887394]\n",
      " val_recall:[0.26081785106140637, 0.21063345476337103]\n",
      " val_f1: [0.030825313717800996, 0.029842716587599644]\n"
     ]
    },
    {
     "name": "stderr",
     "output_type": "stream",
     "text": [
      " 22%|██▏       | 65/300 [00:19<01:11,  3.27it/s]"
     ]
    },
    {
     "name": "stdout",
     "output_type": "stream",
     "text": [
      "64th epoch\n",
      " val_loss: 1900.814638884171\n",
      " val_acc:[0.766993276450945, 0.78665285265964]\n",
      " val_precision:[0.01665906984682964, 0.015931418449010536]\n",
      " val_recall:[0.26081785106140637, 0.20688571942889172]\n",
      " val_f1: [0.03131424669388029, 0.029553035662963592]\n"
     ]
    },
    {
     "name": "stderr",
     "output_type": "stream",
     "text": [
      " 22%|██▏       | 66/300 [00:19<01:12,  3.24it/s]"
     ]
    },
    {
     "name": "stdout",
     "output_type": "stream",
     "text": [
      "65th epoch\n",
      " val_loss: 1894.1464419157608\n",
      " val_acc:[0.7713511923085087, 0.7895025325858075]\n",
      " val_precision:[0.01705117669442426, 0.016085550027049107]\n",
      " val_recall:[0.26217654606570373, 0.20633577134298242]\n",
      " val_f1: [0.03201602022118693, 0.029812430273651425]\n"
     ]
    },
    {
     "name": "stderr",
     "output_type": "stream",
     "text": [
      " 22%|██▏       | 67/300 [00:20<01:14,  3.13it/s]"
     ]
    },
    {
     "name": "stdout",
     "output_type": "stream",
     "text": [
      "66th epoch\n",
      " val_loss: 1887.8841924252717\n",
      " val_acc:[0.7744852278543555, 0.7921430727709893]\n",
      " val_precision:[0.017238064831041768, 0.01599570181544708]\n",
      " val_recall:[0.2614971969438636, 0.2019200111212938]\n",
      " val_f1: [0.032341206726226646, 0.02961244094033414]\n"
     ]
    },
    {
     "name": "stderr",
     "output_type": "stream",
     "text": [
      " 23%|██▎       | 68/300 [00:20<01:13,  3.15it/s]"
     ]
    },
    {
     "name": "stdout",
     "output_type": "stream",
     "text": [
      "67th epoch\n",
      " val_loss: 1881.0004139775815\n",
      " val_acc:[0.7781455335409744, 0.7947274731553119]\n",
      " val_precision:[0.017501426779705547, 0.01589164931489074]\n",
      " val_recall:[0.2608178504135298, 0.1977193802595139]\n",
      " val_f1: [0.03279838316814012, 0.029387723360544446]\n"
     ]
    },
    {
     "name": "stderr",
     "output_type": "stream",
     "text": [
      " 23%|██▎       | 69/300 [00:20<01:12,  3.17it/s]"
     ]
    },
    {
     "name": "stdout",
     "output_type": "stream",
     "text": [
      "68th epoch\n",
      " val_loss: 1874.4297379203467\n",
      " val_acc:[0.7822990313820216, 0.7971441408862239]\n",
      " val_precision:[0.018322112605623574, 0.015879477212286514]\n",
      " val_recall:[0.2655732800131259, 0.19463246736837472]\n",
      " val_f1: [0.03427574858169485, 0.029328985046303636]\n"
     ]
    },
    {
     "name": "stderr",
     "output_type": "stream",
     "text": [
      " 23%|██▎       | 70/300 [00:20<01:07,  3.39it/s]"
     ]
    },
    {
     "name": "stdout",
     "output_type": "stream",
     "text": [
      "69th epoch\n",
      " val_loss: 1867.922307553499\n",
      " val_acc:[0.7857679724693297, 0.7997404803400454]\n",
      " val_precision:[0.018562979955712093, 0.01590504007332999]\n",
      " val_recall:[0.26421458630458167, 0.19405987534833993]\n",
      " val_f1: [0.03468503330534976, 0.029367692850718358]\n"
     ]
    },
    {
     "name": "stderr",
     "output_type": "stream",
     "text": [
      " 24%|██▎       | 71/300 [00:21<01:02,  3.68it/s]"
     ]
    },
    {
     "name": "stdout",
     "output_type": "stream",
     "text": [
      "70th epoch\n",
      " val_loss: 1861.585661514945\n",
      " val_acc:[0.7893047591914303, 0.8022953893827358]\n",
      " val_precision:[0.018863974220078926, 0.015944420117075028]\n",
      " val_recall:[0.26421458695245825, 0.19172847724479178]\n",
      " val_f1: [0.03520960253672834, 0.02940603642010384]\n"
     ]
    },
    {
     "name": "stderr",
     "output_type": "stream",
     "text": [
      " 24%|██▍       | 72/300 [00:21<00:58,  3.93it/s]"
     ]
    },
    {
     "name": "stdout",
     "output_type": "stream",
     "text": [
      "71th epoch\n",
      " val_loss: 1854.5689060377042\n",
      " val_acc:[0.7935843856438348, 0.8049713839655336]\n",
      " val_precision:[0.01915070544118467, 0.015869991205956623]\n",
      " val_recall:[0.2618368728005368, 0.18828645024610605]\n",
      " val_f1: [0.0356866471947948, 0.02923832333296685]\n"
     ]
    },
    {
     "name": "stderr",
     "output_type": "stream",
     "text": [
      " 24%|██▍       | 73/300 [00:21<01:01,  3.68it/s]"
     ]
    },
    {
     "name": "stdout",
     "output_type": "stream",
     "text": [
      "72th epoch\n",
      " val_loss: 1847.6520836871603\n",
      " val_acc:[0.7968245459639508, 0.8073276877403261]\n",
      " val_precision:[0.01958050777244827, 0.01603374022828496]\n",
      " val_recall:[0.26455426086550177, 0.18735800748286044]\n",
      " val_f1: [0.03645784863489443, 0.02950610386453501]\n"
     ]
    },
    {
     "name": "stderr",
     "output_type": "stream",
     "text": [
      " 25%|██▍       | 74/300 [00:21<01:04,  3.51it/s]"
     ]
    },
    {
     "name": "stdout",
     "output_type": "stream",
     "text": [
      "73th epoch\n",
      " val_loss: 1841.1275581691575\n",
      " val_acc:[0.8003656812336132, 0.8098622793736664]\n",
      " val_precision:[0.019793437712866332, 0.016089771185880123]\n",
      " val_recall:[0.2638749136872914, 0.18700701063093933]\n",
      " val_f1: [0.0368199178127157, 0.029599384975673642]\n"
     ]
    },
    {
     "name": "stderr",
     "output_type": "stream",
     "text": [
      " 25%|██▌       | 75/300 [00:22<01:05,  3.41it/s]"
     ]
    },
    {
     "name": "stdout",
     "output_type": "stream",
     "text": [
      "74th epoch\n",
      " val_loss: 1834.6553158967395\n",
      " val_acc:[0.8038633310276531, 0.81227366561475]\n",
      " val_precision:[0.020214130211135616, 0.01623671558564124]\n",
      " val_recall:[0.2652336086915887, 0.18607856786769372]\n",
      " val_f1: [0.0375611937266222, 0.029834474443014875]\n"
     ]
    },
    {
     "name": "stderr",
     "output_type": "stream",
     "text": [
      " 25%|██▌       | 76/300 [00:22<01:06,  3.35it/s]"
     ]
    },
    {
     "name": "stdout",
     "output_type": "stream",
     "text": [
      "75th epoch\n",
      " val_loss: 1827.3931088654895\n",
      " val_acc:[0.8077384777691053, 0.8143983897955522]\n",
      " val_precision:[0.020696533398459786, 0.016202452025659706]\n",
      " val_recall:[0.26591295457404596, 0.18286299251991772]\n",
      " val_f1: [0.03840141266727741, 0.02973436722415241]\n"
     ]
    },
    {
     "name": "stderr",
     "output_type": "stream",
     "text": [
      " 26%|██▌       | 77/300 [00:22<01:06,  3.35it/s]"
     ]
    },
    {
     "name": "stdout",
     "output_type": "stream",
     "text": [
      "76th epoch\n",
      " val_loss: 1820.6623482082202\n",
      " val_acc:[0.8115623126859248, 0.8171199819316035]\n",
      " val_precision:[0.02094830528063619, 0.016339494158392365]\n",
      " val_recall:[0.2638749117436616, 0.179653885571853]\n",
      " val_f1: [0.038811311755585484, 0.029918388876685426]\n"
     ]
    },
    {
     "name": "stderr",
     "output_type": "stream",
     "text": [
      " 26%|██▌       | 78/300 [00:23<01:07,  3.27it/s]"
     ]
    },
    {
     "name": "stdout",
     "output_type": "stream",
     "text": [
      "77th epoch\n",
      " val_loss: 1813.7438381029212\n",
      " val_acc:[0.8148050982019176, 0.8196903544923533]\n",
      " val_precision:[0.021818712070260357, 0.01651975346486205]\n",
      " val_recall:[0.2693714505952337, 0.17832915679268216]\n",
      " val_f1: [0.04036306933213538, 0.030199273095303434]\n"
     ]
    },
    {
     "name": "stderr",
     "output_type": "stream",
     "text": [
      " 26%|██▋       | 79/300 [00:23<01:09,  3.20it/s]"
     ]
    },
    {
     "name": "stdout",
     "output_type": "stream",
     "text": [
      "78th epoch\n",
      " val_loss: 1806.7553312882135\n",
      " val_acc:[0.817790378694949, 0.8221719368644382]\n",
      " val_precision:[0.0223104238672101, 0.016604809414433395]\n",
      " val_recall:[0.2720270791779394, 0.17607392889002094]\n",
      " val_f1: [0.0412334538452824, 0.030306875168014877]\n"
     ]
    },
    {
     "name": "stderr",
     "output_type": "stream",
     "text": [
      " 27%|██▋       | 80/300 [00:23<01:09,  3.18it/s]"
     ]
    },
    {
     "name": "stdout",
     "output_type": "stream",
     "text": [
      "79th epoch\n",
      " val_loss: 1800.1707524838653\n",
      " val_acc:[0.8207217636315718, 0.8244356098382368]\n",
      " val_precision:[0.022869375250909638, 0.016538868982182892]\n",
      " val_recall:[0.27474446853865747, 0.1720026951769124]\n",
      " val_f1: [0.04221833784022552, 0.030132206651746683]\n"
     ]
    },
    {
     "name": "stderr",
     "output_type": "stream",
     "text": [
      " 27%|██▋       | 81/300 [00:24<01:10,  3.12it/s]"
     ]
    },
    {
     "name": "stdout",
     "output_type": "stream",
     "text": [
      "80th epoch\n",
      " val_loss: 1792.6876804517665\n",
      " val_acc:[0.8239984641904416, 0.8265115489130436]\n",
      " val_precision:[0.02336350265566422, 0.01654102240243684]\n",
      " val_recall:[0.27678250942541205, 0.17068928901268088]\n",
      " val_f1: [0.0430855522725703, 0.03011244702987995]\n"
     ]
    },
    {
     "name": "stderr",
     "output_type": "stream",
     "text": [
      " 27%|██▋       | 82/300 [00:24<01:09,  3.13it/s]"
     ]
    },
    {
     "name": "stdout",
     "output_type": "stream",
     "text": [
      "81th epoch\n",
      " val_loss: 1785.687367314878\n",
      " val_acc:[0.8276083080664924, 0.8288657665252687]\n",
      " val_precision:[0.02378407051867765, 0.016819190598376423]\n",
      " val_recall:[0.2761649223773376, 0.17021859825953195]\n",
      " val_f1: [0.04379176103894976, 0.030569390173811512]\n"
     ]
    },
    {
     "name": "stderr",
     "output_type": "stream",
     "text": [
      " 28%|██▊       | 83/300 [00:24<01:10,  3.09it/s]"
     ]
    },
    {
     "name": "stdout",
     "output_type": "stream",
     "text": [
      "82th epoch\n",
      " val_loss: 1778.4165437117872\n",
      " val_acc:[0.8310789958290431, 0.8312736645988795]\n",
      " val_precision:[0.024480926885229095, 0.01687799543952164]\n",
      " val_recall:[0.2775236173816349, 0.16835039238566937]\n",
      " val_f1: [0.04498776873132769, 0.03063522186926616]\n"
     ]
    },
    {
     "name": "stderr",
     "output_type": "stream",
     "text": [
      " 28%|██▊       | 84/300 [00:25<01:10,  3.07it/s]"
     ]
    },
    {
     "name": "stdout",
     "output_type": "stream",
     "text": [
      "83th epoch\n",
      " val_loss: 1771.4476875636894\n",
      " val_acc:[0.8343591612318287, 0.8334011772404544]\n",
      " val_precision:[0.0251045665582237, 0.017069852101090167]\n",
      " val_recall:[0.27956166021201917, 0.1675917881986369]\n",
      " val_f1: [0.046065559216701496, 0.03093992641267057]\n"
     ]
    },
    {
     "name": "stderr",
     "output_type": "stream",
     "text": [
      " 28%|██▊       | 85/300 [00:25<01:09,  3.09it/s]"
     ]
    },
    {
     "name": "stdout",
     "output_type": "stream",
     "text": [
      "84th epoch\n",
      " val_loss: 1763.9191841457202\n",
      " val_acc:[0.8373314142227173, 0.8354392207187156]\n",
      " val_precision:[0.026155347328471103, 0.01710953786159339]\n",
      " val_recall:[0.28635513005049323, 0.16592532590679498]\n",
      " val_f1: [0.04792617255626117, 0.03097501719344891]\n"
     ]
    },
    {
     "name": "stderr",
     "output_type": "stream",
     "text": [
      " 29%|██▊       | 86/300 [00:25<01:09,  3.10it/s]"
     ]
    },
    {
     "name": "stdout",
     "output_type": "stream",
     "text": [
      "85th epoch\n",
      " val_loss: 1756.9213044539747\n",
      " val_acc:[0.840150586936785, 0.8371695150499756]\n",
      " val_precision:[0.027061165431919304, 0.01723792266262614]\n",
      " val_recall:[0.29178990618042316, 0.16539317175098087]\n",
      " val_f1: [0.04952422163180103, 0.031176132593047662]\n"
     ]
    },
    {
     "name": "stderr",
     "output_type": "stream",
     "text": [
      " 29%|██▉       | 87/300 [00:26<01:08,  3.09it/s]"
     ]
    },
    {
     "name": "stdout",
     "output_type": "stream",
     "text": [
      "86th epoch\n",
      " val_loss: 1749.2527863875678\n",
      " val_acc:[0.84341510741607, 0.8389363133389016]\n",
      " val_precision:[0.028217735578832413, 0.017476604725031746]\n",
      " val_recall:[0.29858337990615674, 0.1657894571190295]\n",
      " val_f1: [0.05155844821419256, 0.03157337350085816]\n"
     ]
    },
    {
     "name": "stderr",
     "output_type": "stream",
     "text": [
      " 29%|██▉       | 88/300 [00:26<01:08,  3.09it/s]"
     ]
    },
    {
     "name": "stdout",
     "output_type": "stream",
     "text": [
      "87th epoch\n",
      " val_loss: 1742.2931173573365\n",
      " val_acc:[0.8467344434364982, 0.8407974942870761]\n",
      " val_precision:[0.029115066337196724, 0.01753815717023352]\n",
      " val_recall:[0.2999420762062073, 0.16331469267606732]\n",
      " val_f1: [0.05307110422449823, 0.031627768954160154]\n"
     ]
    },
    {
     "name": "stderr",
     "output_type": "stream",
     "text": [
      " 30%|██▉       | 89/300 [00:26<01:07,  3.11it/s]"
     ]
    },
    {
     "name": "stdout",
     "output_type": "stream",
     "text": [
      "88th epoch\n",
      " val_loss: 1735.1955937924592\n",
      " val_acc:[0.8498102063718049, 0.8426786868468574]\n",
      " val_precision:[0.02987209375461806, 0.017861771802215473]\n",
      " val_recall:[0.2985833799061568, 0.1643337134433829]\n",
      " val_f1: [0.05429845339431075, 0.032174235082020816]\n"
     ]
    },
    {
     "name": "stderr",
     "output_type": "stream",
     "text": [
      " 30%|███       | 90/300 [00:27<01:05,  3.19it/s]"
     ]
    },
    {
     "name": "stdout",
     "output_type": "stream",
     "text": [
      "89th epoch\n",
      " val_loss: 1727.8868832795513\n",
      " val_acc:[0.8525528156239053, 0.8445016378941743]\n",
      " val_precision:[0.030709515285232785, 0.01802598247709482]\n",
      " val_recall:[0.30062142338441766, 0.16263534646967184]\n",
      " val_f1: [0.05571414576515809, 0.032407012056287335]\n"
     ]
    },
    {
     "name": "stderr",
     "output_type": "stream",
     "text": [
      " 30%|███       | 91/300 [00:27<01:04,  3.22it/s]"
     ]
    },
    {
     "name": "stdout",
     "output_type": "stream",
     "text": [
      "90th epoch\n",
      " val_loss: 1720.3935599949048\n",
      " val_acc:[0.8556964293770168, 0.8461943968482637]\n",
      " val_precision:[0.03156686379857686, 0.018087651945002697]\n",
      " val_recall:[0.30130077056262805, 0.16185894900042078]\n",
      " val_f1: [0.05713371888802094, 0.03249277056613077]\n"
     ]
    },
    {
     "name": "stderr",
     "output_type": "stream",
     "text": [
      " 31%|███       | 92/300 [00:27<01:04,  3.21it/s]"
     ]
    },
    {
     "name": "stdout",
     "output_type": "stream",
     "text": [
      "91th epoch\n",
      " val_loss: 1712.939532736073\n",
      " val_acc:[0.8585730117300283, 0.8482678688090782]\n",
      " val_precision:[0.03279921841686187, 0.01821305234309124]\n",
      " val_recall:[0.3053768536318904, 0.16042099601548657]\n",
      " val_f1: [0.05922143019972731, 0.03266410935987533]\n"
     ]
    },
    {
     "name": "stderr",
     "output_type": "stream",
     "text": [
      " 31%|███       | 93/300 [00:28<01:06,  3.09it/s]"
     ]
    },
    {
     "name": "stdout",
     "output_type": "stream",
     "text": [
      "92th epoch\n",
      " val_loss: 1705.573995838995\n",
      " val_acc:[0.8613173676573711, 0.8499515082525171]\n",
      " val_precision:[0.03398110425990561, 0.01845669066128523]\n",
      " val_recall:[0.3087735882271891, 0.1611343100667]\n",
      " val_f1: [0.06121049766605789, 0.03307225573327251]\n"
     ]
    },
    {
     "name": "stderr",
     "output_type": "stream",
     "text": [
      " 31%|███▏      | 94/300 [00:28<01:07,  3.06it/s]"
     ]
    },
    {
     "name": "stdout",
     "output_type": "stream",
     "text": [
      "93th epoch\n",
      " val_loss: 1698.2985202955167\n",
      " val_acc:[0.863477180833402, 0.8515424987544185]\n",
      " val_precision:[0.03433281312818112, 0.01859826124880625]\n",
      " val_recall:[0.30707521866197174, 0.16074934634177587]\n",
      " val_f1: [0.061746558434030825, 0.033291967033858685]\n"
     ]
    },
    {
     "name": "stderr",
     "output_type": "stream",
     "text": [
      " 32%|███▏      | 95/300 [00:28<01:06,  3.07it/s]"
     ]
    },
    {
     "name": "stdout",
     "output_type": "stream",
     "text": [
      "94th epoch\n",
      " val_loss: 1691.146924889606\n",
      " val_acc:[0.8657039766726287, 0.8532089409620864]\n",
      " val_precision:[0.035383647550707276, 0.018657080586189808]\n",
      " val_recall:[0.3097926099663196, 0.1594812306373016]\n",
      " val_f1: [0.06350033281046102, 0.03335737207806576]\n"
     ]
    },
    {
     "name": "stderr",
     "output_type": "stream",
     "text": [
      " 32%|███▏      | 96/300 [00:28<01:05,  3.13it/s]"
     ]
    },
    {
     "name": "stdout",
     "output_type": "stream",
     "text": [
      "95th epoch\n",
      " val_loss: 1683.7113780146055\n",
      " val_acc:[0.8678629320600759, 0.8548427353734555]\n",
      " val_precision:[0.03625600736426271, 0.018934362891899502]\n",
      " val_recall:[0.3104719558487768, 0.16187026837597723]\n",
      " val_f1: [0.06491628176521226, 0.03385481398559912]\n"
     ]
    },
    {
     "name": "stderr",
     "output_type": "stream",
     "text": [
      " 32%|███▏      | 97/300 [00:29<01:04,  3.16it/s]"
     ]
    },
    {
     "name": "stdout",
     "output_type": "stream",
     "text": [
      "96th epoch\n",
      " val_loss: 1676.3587221891983\n",
      " val_acc:[0.8700140481409823, 0.8565702386524364]\n",
      " val_precision:[0.036701810424742486, 0.01920920233849598]\n",
      " val_recall:[0.3070752193098484, 0.16247035822142725]\n",
      " val_f1: [0.06555459266807667, 0.034307122098620746]\n"
     ]
    },
    {
     "name": "stderr",
     "output_type": "stream",
     "text": [
      " 33%|███▎      | 98/300 [00:29<01:03,  3.18it/s]"
     ]
    },
    {
     "name": "stdout",
     "output_type": "stream",
     "text": [
      "97th epoch\n",
      " val_loss: 1668.7365828804343\n",
      " val_acc:[0.872355668441109, 0.8584082748578943]\n",
      " val_precision:[0.038019625389057655, 0.01920085112847712]\n",
      " val_recall:[0.309792609318443, 0.1613041454035303]\n",
      " val_f1: [0.0677108166475934, 0.03426995375507487]\n"
     ]
    },
    {
     "name": "stderr",
     "output_type": "stream",
     "text": [
      " 33%|███▎      | 99/300 [00:29<01:02,  3.21it/s]"
     ]
    },
    {
     "name": "stdout",
     "output_type": "stream",
     "text": [
      "98th epoch\n",
      " val_loss: 1661.0157311480978\n",
      " val_acc:[0.8748199291851209, 0.8603140167568042]\n",
      " val_precision:[0.03952523490980916, 0.019421121915397434]\n",
      " val_recall:[0.3138686936834585, 0.1608512479326]\n",
      " val_f1: [0.07019656668378865, 0.03460625285138029]\n"
     ]
    },
    {
     "name": "stderr",
     "output_type": "stream",
     "text": [
      " 33%|███▎      | 100/300 [00:30<01:02,  3.22it/s]"
     ]
    },
    {
     "name": "stdout",
     "output_type": "stream",
     "text": [
      "99th epoch\n",
      " val_loss: 1653.535878057065\n",
      " val_acc:[0.8772485333940259, 0.8620218608690347]\n",
      " val_precision:[0.041295053356367614, 0.019643925697259278]\n",
      " val_recall:[0.3206621615783028, 0.16052289760631064]\n",
      " val_f1: [0.07315330018218838, 0.03495132836851457]\n"
     ]
    },
    {
     "name": "stderr",
     "output_type": "stream",
     "text": [
      " 34%|███▎      | 101/300 [00:30<01:01,  3.24it/s]"
     ]
    },
    {
     "name": "stdout",
     "output_type": "stream",
     "text": [
      "100th epoch\n",
      " val_loss: 1646.3284089461615\n",
      " val_acc:[0.8791613371475882, 0.8635223300560662]\n",
      " val_precision:[0.04201077281132988, 0.01979588101739469]\n",
      " val_recall:[0.3193034672218821, 0.15970768034458158]\n",
      " val_f1: [0.07423663692412413, 0.03516984673958051]\n"
     ]
    },
    {
     "name": "stderr",
     "output_type": "stream",
     "text": [
      " 34%|███▍      | 102/300 [00:30<01:02,  3.18it/s]"
     ]
    },
    {
     "name": "stdout",
     "output_type": "stream",
     "text": [
      "101th epoch\n",
      " val_loss: 1638.5230765964675\n",
      " val_acc:[0.8809949522433072, 0.8650680469430011]\n",
      " val_precision:[0.04356689394816109, 0.019869838719782623]\n",
      " val_recall:[0.32473824205605883, 0.1580659235301225]\n",
      " val_f1: [0.07681091130959411, 0.035251206594090846]\n"
     ]
    },
    {
     "name": "stderr",
     "output_type": "stream",
     "text": [
      " 34%|███▍      | 103/300 [00:31<01:01,  3.20it/s]"
     ]
    },
    {
     "name": "stdout",
     "output_type": "stream",
     "text": [
      "102th epoch\n",
      " val_loss: 1630.7380450704825\n",
      " val_acc:[0.882668515910273, 0.8665597361067068]\n",
      " val_precision:[0.044891603614972984, 0.020179652568438775]\n",
      " val_recall:[0.328814323829568, 0.15892642995585565]\n",
      " val_f1: [0.07898244434645732, 0.03575963260297452]\n"
     ]
    },
    {
     "name": "stderr",
     "output_type": "stream",
     "text": [
      " 35%|███▍      | 104/300 [00:31<01:00,  3.22it/s]"
     ]
    },
    {
     "name": "stdout",
     "output_type": "stream",
     "text": [
      "103th epoch\n",
      " val_loss: 1623.213657545007\n",
      " val_acc:[0.8845778418623883, 0.8681840663370879]\n",
      " val_precision:[0.04609904195303502, 0.02048217468773541]\n",
      " val_recall:[0.33017301818598876, 0.1598888379724129]\n",
      " val_f1: [0.08088461326418066, 0.03625498020146087]\n"
     ]
    },
    {
     "name": "stderr",
     "output_type": "stream",
     "text": [
      " 35%|███▌      | 105/300 [00:31<01:00,  3.20it/s]"
     ]
    },
    {
     "name": "stdout",
     "output_type": "stream",
     "text": [
      "104th epoch\n",
      " val_loss: 1615.339785368546\n",
      " val_acc:[0.8862453310385994, 0.8696185661398846]\n",
      " val_precision:[0.04725541352577831, 0.020430456603998722]\n",
      " val_recall:[0.3315317125424095, 0.15570467418950537]\n",
      " val_f1: [0.08270124255560879, 0.03607511800224826]\n"
     ]
    },
    {
     "name": "stderr",
     "output_type": "stream",
     "text": [
      " 35%|███▌      | 106/300 [00:32<01:01,  3.15it/s]"
     ]
    },
    {
     "name": "stdout",
     "output_type": "stream",
     "text": [
      "105th epoch\n",
      " val_loss: 1607.9561077615485\n",
      " val_acc:[0.8879276125327401, 0.8711667423662931]\n",
      " val_precision:[0.04839823913315068, 0.020747430865531383]\n",
      " val_recall:[0.3301730175381122, 0.1562141850590706]\n",
      " val_f1: [0.08439130901109372, 0.03658294953561837]\n"
     ]
    },
    {
     "name": "stderr",
     "output_type": "stream",
     "text": [
      " 36%|███▌      | 107/300 [00:32<01:00,  3.17it/s]"
     ]
    },
    {
     "name": "stdout",
     "output_type": "stream",
     "text": [
      "106th epoch\n",
      " val_loss: 1600.357267960258\n",
      " val_acc:[0.889486367287843, 0.8726882597674492]\n",
      " val_precision:[0.04960417779891388, 0.020835847107936505]\n",
      " val_recall:[0.33221106101637304, 0.15558012834061752]\n",
      " val_f1: [0.08628821890236277, 0.036708887924496336]\n"
     ]
    },
    {
     "name": "stderr",
     "output_type": "stream",
     "text": [
      " 36%|███▌      | 108/300 [00:32<00:59,  3.20it/s]"
     ]
    },
    {
     "name": "stdout",
     "output_type": "stream",
     "text": [
      "107th epoch\n",
      " val_loss: 1592.6611965013585\n",
      " val_acc:[0.8911973497141963, 0.8740936258564822]\n",
      " val_precision:[0.050736310203438224, 0.020983247531820896]\n",
      " val_recall:[0.33153171319028607, 0.15450449579435852]\n",
      " val_f1: [0.08797547551516535, 0.03690315236483922]\n"
     ]
    },
    {
     "name": "stderr",
     "output_type": "stream",
     "text": [
      " 36%|███▋      | 109/300 [00:33<00:59,  3.20it/s]"
     ]
    },
    {
     "name": "stdout",
     "output_type": "stream",
     "text": [
      "108th epoch\n",
      " val_loss: 1584.7811836574392\n",
      " val_acc:[0.8927613263544829, 0.8756779613702195]\n",
      " val_precision:[0.05212044100398602, 0.0212461875103738]\n",
      " val_recall:[0.33486669024695526, 0.15423275627519778]\n",
      " val_f1: [0.09017037360771323, 0.037305310562948765]\n"
     ]
    },
    {
     "name": "stderr",
     "output_type": "stream",
     "text": [
      " 37%|███▋      | 110/300 [00:33<00:59,  3.19it/s]"
     ]
    },
    {
     "name": "stdout",
     "output_type": "stream",
     "text": [
      "109th epoch\n",
      " val_loss: 1577.679236370584\n",
      " val_acc:[0.894117412359818, 0.8773047302080238]\n",
      " val_precision:[0.053471953486618796, 0.021175501058283062]\n",
      " val_recall:[0.33690473242946295, 0.15211545481629998]\n",
      " val_f1: [0.09226051984497664, 0.037131598300319514]\n"
     ]
    },
    {
     "name": "stderr",
     "output_type": "stream",
     "text": [
      " 37%|███▋      | 111/300 [00:33<00:58,  3.20it/s]"
     ]
    },
    {
     "name": "stdout",
     "output_type": "stream",
     "text": [
      "110th epoch\n",
      " val_loss: 1570.2232480256455\n",
      " val_acc:[0.8955013337342633, 0.8789480121239373]\n",
      " val_precision:[0.05432827738316162, 0.0214116224695159]\n",
      " val_recall:[0.33622538589912915, 0.15154933119597644]\n",
      " val_f1: [0.09350819650450298, 0.03747238114911035]\n"
     ]
    },
    {
     "name": "stderr",
     "output_type": "stream",
     "text": [
      " 37%|███▋      | 112/300 [00:33<00:58,  3.22it/s]"
     ]
    },
    {
     "name": "stdout",
     "output_type": "stream",
     "text": [
      "111th epoch\n",
      " val_loss: 1562.341741147249\n",
      " val_acc:[0.8970218274904334, 0.8803635550581891]\n",
      " val_precision:[0.055981716546027564, 0.0215228401205462]\n",
      " val_recall:[0.3375840802555499, 0.1510737875233526]\n",
      " val_f1: [0.09599836379870119, 0.037621050195852004]\n"
     ]
    },
    {
     "name": "stderr",
     "output_type": "stream",
     "text": [
      " 38%|███▊      | 113/300 [00:34<00:57,  3.23it/s]"
     ]
    },
    {
     "name": "stdout",
     "output_type": "stream",
     "text": [
      "112th epoch\n",
      " val_loss: 1554.6099428923233\n",
      " val_acc:[0.898664953915969, 0.8818815739258475]\n",
      " val_precision:[0.058003106518932014, 0.021513953440539215]\n",
      " val_recall:[0.33826342937739007, 0.14899045617684073]\n",
      " val_f1: [0.09897021107739173, 0.037546166596189465]\n"
     ]
    },
    {
     "name": "stderr",
     "output_type": "stream",
     "text": [
      " 38%|███▊      | 114/300 [00:34<00:57,  3.22it/s]"
     ]
    },
    {
     "name": "stdout",
     "output_type": "stream",
     "text": [
      "113th epoch\n",
      " val_loss: 1547.0519356105642\n",
      " val_acc:[0.899927097818126, 0.8833725478338158]\n",
      " val_precision:[0.05968451791483423, 0.021474766180567123]\n",
      " val_recall:[0.34030147091202123, 0.1470704920913862]\n",
      " val_f1: [0.10149672076081415, 0.03741616862561256]\n"
     ]
    },
    {
     "name": "stderr",
     "output_type": "stream",
     "text": [
      " 38%|███▊      | 115/300 [00:34<00:57,  3.23it/s]"
     ]
    },
    {
     "name": "stdout",
     "output_type": "stream",
     "text": [
      "114th epoch\n",
      " val_loss: 1538.9942573879075\n",
      " val_acc:[0.9013231966806492, 0.8847379010656605]\n",
      " val_precision:[0.06153110058411308, 0.021440602029147354]\n",
      " val_recall:[0.3443775546291601, 0.14599971181672552]\n",
      " val_f1: [0.10434209100814264, 0.037326191933370056]\n"
     ]
    },
    {
     "name": "stderr",
     "output_type": "stream",
     "text": [
      " 39%|███▊      | 116/300 [00:35<00:56,  3.26it/s]"
     ]
    },
    {
     "name": "stdout",
     "output_type": "stream",
     "text": [
      "115th epoch\n",
      " val_loss: 1531.031398607337\n",
      " val_acc:[0.9025566266930619, 0.8862274885177612]\n",
      " val_precision:[0.06319378786112953, 0.02163814008235931]\n",
      " val_recall:[0.3443775546291601, 0.1459366293705028]\n",
      " val_f1: [0.10672963522011229, 0.03762199259214103]\n"
     ]
    },
    {
     "name": "stderr",
     "output_type": "stream",
     "text": [
      " 39%|███▉      | 117/300 [00:35<00:57,  3.19it/s]"
     ]
    },
    {
     "name": "stdout",
     "output_type": "stream",
     "text": [
      "116th epoch\n",
      " val_loss: 1523.8929708729618\n",
      " val_acc:[0.9041719358900318, 0.8876191584960273]\n",
      " val_precision:[0.0653985971989839, 0.02134657238164674]\n",
      " val_recall:[0.34301886027273937, 0.14390990818324298]\n",
      " val_f1: [0.10978743329589434, 0.03711234456480982]\n"
     ]
    },
    {
     "name": "stderr",
     "output_type": "stream",
     "text": [
      " 39%|███▉      | 118/300 [00:35<00:56,  3.21it/s]"
     ]
    },
    {
     "name": "stdout",
     "output_type": "stream",
     "text": [
      "117th epoch\n",
      " val_loss: 1516.0303026282272\n",
      " val_acc:[0.9056637209394705, 0.888903125472691]\n",
      " val_precision:[0.0691723889954712, 0.02152259817913823]\n",
      " val_recall:[0.34437755333340697, 0.14366081454183746]\n",
      " val_f1: [0.11508722818880665, 0.03736831495133041]\n"
     ]
    },
    {
     "name": "stderr",
     "output_type": "stream",
     "text": [
      " 40%|███▉      | 119/300 [00:36<00:55,  3.23it/s]"
     ]
    },
    {
     "name": "stdout",
     "output_type": "stream",
     "text": [
      "118th epoch\n",
      " val_loss: 1508.0963612432067\n",
      " val_acc:[0.9068571432777075, 0.8902467256006988]\n",
      " val_precision:[0.07120702707249185, 0.02170518340299959]\n",
      " val_recall:[0.3457362476898277, 0.14380638949249105]\n",
      " val_f1: [0.11796653717676872, 0.037647116071267896]\n"
     ]
    },
    {
     "name": "stderr",
     "output_type": "stream",
     "text": [
      " 40%|████      | 120/300 [00:36<00:55,  3.25it/s]"
     ]
    },
    {
     "name": "stdout",
     "output_type": "stream",
     "text": [
      "119th epoch\n",
      " val_loss: 1500.4860760232677\n",
      " val_acc:[0.9086846916571907, 0.891450329967167]\n",
      " val_precision:[0.07568345899167268, 0.021678774779581505]\n",
      " val_recall:[0.3484536344590395, 0.14266282060871957]\n",
      " val_f1: [0.12420345577304799, 0.03757000682930744]\n"
     ]
    },
    {
     "name": "stderr",
     "output_type": "stream",
     "text": [
      " 40%|████      | 121/300 [00:36<00:54,  3.26it/s]"
     ]
    },
    {
     "name": "stdout",
     "output_type": "stream",
     "text": [
      "120th epoch\n",
      " val_loss: 1493.2466775645378\n",
      " val_acc:[0.910213001396345, 0.8925956772721334]\n",
      " val_precision:[0.07955463635532754, 0.021551273641702923]\n",
      " val_recall:[0.35049167793730035, 0.14077196950497836]\n",
      " val_f1: [0.12951127618400263, 0.037311835091160206]\n"
     ]
    },
    {
     "name": "stderr",
     "output_type": "stream",
     "text": [
      " 41%|████      | 122/300 [00:37<00:54,  3.26it/s]"
     ]
    },
    {
     "name": "stdout",
     "output_type": "stream",
     "text": [
      "121th epoch\n",
      " val_loss: 1485.3416429602582\n",
      " val_acc:[0.9112646294676738, 0.8937364557515018]\n",
      " val_precision:[0.08246031063406363, 0.021765747795934265]\n",
      " val_recall:[0.3531473084636356, 0.14077196950497836]\n",
      " val_f1: [0.13348543134531649, 0.03763314835545144]\n"
     ]
    },
    {
     "name": "stderr",
     "output_type": "stream",
     "text": [
      " 41%|████      | 123/300 [00:37<00:54,  3.27it/s]"
     ]
    },
    {
     "name": "stdout",
     "output_type": "stream",
     "text": [
      "122th epoch\n",
      " val_loss: 1477.5261548913045\n",
      " val_acc:[0.9129390923873238, 0.8949186490929644]\n",
      " val_precision:[0.08819717006838841, 0.021879784884336204]\n",
      " val_recall:[0.3538884131804757, 0.1402964264802311]\n",
      " val_f1: [0.14093811781564627, 0.03778766808818731]\n"
     ]
    },
    {
     "name": "stderr",
     "output_type": "stream",
     "text": [
      " 41%|████▏     | 124/300 [00:37<00:53,  3.27it/s]"
     ]
    },
    {
     "name": "stdout",
     "output_type": "stream",
     "text": [
      "123th epoch\n",
      " val_loss: 1470.0556773310122\n",
      " val_acc:[0.9141533893087636, 0.8960222368654998]\n",
      " val_precision:[0.09124318899019904, 0.02209002459826677]\n",
      " val_recall:[0.3552471088326496, 0.14006997742082763]\n",
      " val_f1: [0.14490836665767207, 0.03809299530961906]\n"
     ]
    },
    {
     "name": "stderr",
     "output_type": "stream",
     "text": [
      " 42%|████▏     | 125/300 [00:37<00:53,  3.27it/s]"
     ]
    },
    {
     "name": "stdout",
     "output_type": "stream",
     "text": [
      "124th epoch\n",
      " val_loss: 1462.261782438859\n",
      " val_acc:[0.9152241660201031, 0.8970910880876621]\n",
      " val_precision:[0.09580635927293613, 0.02184819211454495]\n",
      " val_recall:[0.3559264566587365, 0.13747713390899743]\n",
      " val_f1: [0.15064403327096723, 0.03763485192859046]\n"
     ]
    },
    {
     "name": "stderr",
     "output_type": "stream",
     "text": [
      " 42%|████▏     | 126/300 [00:38<00:53,  3.28it/s]"
     ]
    },
    {
     "name": "stdout",
     "output_type": "stream",
     "text": [
      "125th epoch\n",
      " val_loss: 1455.057394276495\n",
      " val_acc:[0.9162940771683401, 0.8983389061430226]\n",
      " val_precision:[0.0986984718752944, 0.0220455103756293]\n",
      " val_recall:[0.3559264553629834, 0.13725068420171738]\n",
      " val_f1: [0.15422835222736572, 0.037918906672852686]\n"
     ]
    },
    {
     "name": "stderr",
     "output_type": "stream",
     "text": [
      " 42%|████▏     | 127/300 [00:38<00:52,  3.28it/s]"
     ]
    },
    {
     "name": "stdout",
     "output_type": "stream",
     "text": [
      "126th epoch\n",
      " val_loss: 1447.1096377165422\n",
      " val_acc:[0.9172778621963834, 0.899443540884101]\n",
      " val_precision:[0.10241145284279533, 0.022192433395463493]\n",
      " val_recall:[0.35728515101515734, 0.13677514117697012]\n",
      " val_f1: [0.15885138356436454, 0.038113254476090694]\n"
     ]
    },
    {
     "name": "stderr",
     "output_type": "stream",
     "text": [
      " 43%|████▎     | 128/300 [00:38<00:52,  3.28it/s]"
     ]
    },
    {
     "name": "stdout",
     "output_type": "stream",
     "text": [
      "127th epoch\n",
      " val_loss: 1439.6297395125675\n",
      " val_acc:[0.9183555945106174, 0.900579061197198]\n",
      " val_precision:[0.10547165216311165, 0.022191393958485642]\n",
      " val_recall:[0.35728515101515734, 0.1356930360198021]\n",
      " val_f1: [0.16257074965029497, 0.03806881702691183]\n"
     ]
    },
    {
     "name": "stderr",
     "output_type": "stream",
     "text": [
      " 43%|████▎     | 129/300 [00:39<00:52,  3.29it/s]"
     ]
    },
    {
     "name": "stdout",
     "output_type": "stream",
     "text": [
      "128th epoch\n",
      " val_loss: 1432.1152808147929\n",
      " val_acc:[0.9191584638927294, 0.9018121439477673]\n",
      " val_precision:[0.108830150378787, 0.022386182261549908]\n",
      " val_recall:[0.35864384666733123, 0.1341078922800396]\n",
      " val_f1: [0.1666748848995615, 0.03828259999429734]\n"
     ]
    },
    {
     "name": "stderr",
     "output_type": "stream",
     "text": [
      " 43%|████▎     | 130/300 [00:39<00:51,  3.29it/s]"
     ]
    },
    {
     "name": "stdout",
     "output_type": "stream",
     "text": [
      "129th epoch\n",
      " val_loss: 1424.0778901473332\n",
      " val_acc:[0.920198803362639, 0.9029336208882541]\n",
      " val_precision:[0.11283434797888214, 0.02256212824874598]\n",
      " val_recall:[0.36271992973659356, 0.13393805532351785]\n",
      " val_f1: [0.17179748067649225, 0.03853666476246765]\n"
     ]
    },
    {
     "name": "stderr",
     "output_type": "stream",
     "text": [
      " 44%|████▎     | 131/300 [00:39<00:51,  3.30it/s]"
     ]
    },
    {
     "name": "stdout",
     "output_type": "stream",
     "text": [
      "130th epoch\n",
      " val_loss: 1416.4378847868543\n",
      " val_acc:[0.9208016058673028, 0.9040600139161815]\n",
      " val_precision:[0.11453673340704129, 0.02271046687889358]\n",
      " val_recall:[0.36475796932759497, 0.13344398400057916]\n",
      " val_f1: [0.17398513221460415, 0.03873105788788494]\n"
     ]
    },
    {
     "name": "stderr",
     "output_type": "stream",
     "text": [
      " 44%|████▍     | 132/300 [00:40<00:50,  3.29it/s]"
     ]
    },
    {
     "name": "stdout",
     "output_type": "stream",
     "text": [
      "131th epoch\n",
      " val_loss: 1408.7810934315555\n",
      " val_acc:[0.9214896481970083, 0.9050053435823192]\n",
      " val_precision:[0.11712492030599841, 0.022844119928777225]\n",
      " val_recall:[0.3661166623882626, 0.13321753558905228]\n",
      " val_f1: [0.17718276940252278, 0.03891251873415046]\n"
     ]
    },
    {
     "name": "stderr",
     "output_type": "stream",
     "text": [
      " 44%|████▍     | 133/300 [00:40<00:50,  3.30it/s]"
     ]
    },
    {
     "name": "stdout",
     "output_type": "stream",
     "text": [
      "132th epoch\n",
      " val_loss: 1401.2301569399629\n",
      " val_acc:[0.922387322653895, 0.9059889290643774]\n",
      " val_precision:[0.1191984959270643, 0.022907931195653004]\n",
      " val_recall:[0.3674753567446834, 0.1324815753361453]\n",
      " val_f1: [0.1796938240673268, 0.03897343679053816]\n"
     ]
    },
    {
     "name": "stderr",
     "output_type": "stream",
     "text": [
      " 45%|████▍     | 134/300 [00:40<00:50,  3.29it/s]"
     ]
    },
    {
     "name": "stdout",
     "output_type": "stream",
     "text": [
      "133th epoch\n",
      " val_loss: 1394.027855914572\n",
      " val_acc:[0.9230753701666127, 0.9069332091704658]\n",
      " val_precision:[0.12114727464707002, 0.02303096433372601]\n",
      " val_recall:[0.36679600891859643, 0.13185883993687833]\n",
      " val_f1: [0.1818446298096811, 0.039122003349475035]\n"
     ]
    },
    {
     "name": "stderr",
     "output_type": "stream",
     "text": [
      " 45%|████▌     | 135/300 [00:41<00:50,  3.28it/s]"
     ]
    },
    {
     "name": "stdout",
     "output_type": "stream",
     "text": [
      "134th epoch\n",
      " val_loss: 1386.4899066427479\n",
      " val_acc:[0.9237921212030492, 0.9078925744346951]\n",
      " val_precision:[0.1241616470658261, 0.023082879776863945]\n",
      " val_recall:[0.3701927480490312, 0.1311228800079097]\n",
      " val_f1: [0.18569743403570246, 0.03916671123216249]\n"
     ]
    },
    {
     "name": "stderr",
     "output_type": "stream",
     "text": [
      " 45%|████▌     | 136/300 [00:41<00:50,  3.28it/s]"
     ]
    },
    {
     "name": "stdout",
     "output_type": "stream",
     "text": [
      "135th epoch\n",
      " val_loss: 1378.516227390455\n",
      " val_acc:[0.9244514626005421, 0.9089259842167732]\n",
      " val_precision:[0.1261787592716839, 0.023003575877974865]\n",
      " val_recall:[0.3715514437012051, 0.13004724616589755]\n",
      " val_f1: [0.18810217858701278, 0.03900403899196907]\n"
     ]
    },
    {
     "name": "stderr",
     "output_type": "stream",
     "text": [
      " 46%|████▌     | 137/300 [00:41<00:49,  3.28it/s]"
     ]
    },
    {
     "name": "stdout",
     "output_type": "stream",
     "text": [
      "136th epoch\n",
      " val_loss: 1370.7502666970959\n",
      " val_acc:[0.9251308130181354, 0.9098555290180703]\n",
      " val_precision:[0.12819305451019952, 0.023080502393776955]\n",
      " val_recall:[0.37358948588371277, 0.12872251933035642]\n",
      " val_f1: [0.19059050642938474, 0.0390413408492362]\n"
     ]
    },
    {
     "name": "stderr",
     "output_type": "stream",
     "text": [
      " 46%|████▌     | 138/300 [00:41<00:49,  3.26it/s]"
     ]
    },
    {
     "name": "stdout",
     "output_type": "stream",
     "text": [
      "137th epoch\n",
      " val_loss: 1362.9705465565555\n",
      " val_acc:[0.9258258290912794, 0.9107812124749889]\n",
      " val_precision:[0.13005488592645398, 0.023202510186187603]\n",
      " val_recall:[0.3756275254747142, 0.12819036355485086]\n",
      " val_f1: [0.19292580933892897, 0.03919125709988223]\n"
     ]
    },
    {
     "name": "stderr",
     "output_type": "stream",
     "text": [
      " 46%|████▋     | 139/300 [00:42<00:50,  3.20it/s]"
     ]
    },
    {
     "name": "stdout",
     "output_type": "stream",
     "text": [
      "138th epoch\n",
      " val_loss: 1355.9670357082202\n",
      " val_acc:[0.9264738481977711, 0.9116030205851015]\n",
      " val_precision:[0.1319599051190459, 0.023301860074634136]\n",
      " val_recall:[0.37970360724822333, 0.12788465716268704]\n",
      " val_f1: [0.19558103974429078, 0.03931735935827615]\n"
     ]
    },
    {
     "name": "stderr",
     "output_type": "stream",
     "text": [
      " 47%|████▋     | 140/300 [00:42<00:49,  3.23it/s]"
     ]
    },
    {
     "name": "stdout",
     "output_type": "stream",
     "text": [
      "139th epoch\n",
      " val_loss: 1348.9230744735053\n",
      " val_acc:[0.9270079317300217, 0.9125634483669114]\n",
      " val_precision:[0.13313900744137555, 0.023175080185351166]\n",
      " val_recall:[0.3817416468392248, 0.12627686786910766]\n",
      " val_f1: [0.19715592815124205, 0.03905311820002025]\n"
     ]
    },
    {
     "name": "stderr",
     "output_type": "stream",
     "text": [
      " 47%|████▋     | 141/300 [00:42<00:48,  3.24it/s]"
     ]
    },
    {
     "name": "stdout",
     "output_type": "stream",
     "text": [
      "140th epoch\n",
      " val_loss: 1341.7086155103602\n",
      " val_acc:[0.9277620963428331, 0.9136501887570256]\n",
      " val_precision:[0.13494185099135275, 0.02343560658071352]\n",
      " val_recall:[0.38581773120424023, 0.12593719428000247]\n",
      " val_f1: [0.19970215472941333, 0.03940519726816328]\n"
     ]
    },
    {
     "name": "stderr",
     "output_type": "stream",
     "text": [
      " 47%|████▋     | 142/300 [00:43<00:48,  3.27it/s]"
     ]
    },
    {
     "name": "stdout",
     "output_type": "stream",
     "text": [
      "141th epoch\n",
      " val_loss: 1334.0280920940897\n",
      " val_acc:[0.9284127406452014, 0.9144758633945297]\n",
      " val_precision:[0.1373945150686347, 0.023518799034797627]\n",
      " val_recall:[0.3932905508124311, 0.12554090826407727]\n",
      " val_f1: [0.2033910194887131, 0.039497125021294266]\n"
     ]
    },
    {
     "name": "stderr",
     "output_type": "stream",
     "text": [
      " 48%|████▊     | 143/300 [00:43<00:47,  3.28it/s]"
     ]
    },
    {
     "name": "stdout",
     "output_type": "stream",
     "text": [
      "142th epoch\n",
      " val_loss: 1326.0643788213317\n",
      " val_acc:[0.9290625116099481, 0.915667176246643]\n",
      " val_precision:[0.13902872379707254, 0.023636660660090656]\n",
      " val_recall:[0.3980459804120272, 0.12415956770596298]\n",
      " val_f1: [0.20580269881444593, 0.039579555576933295]\n"
     ]
    },
    {
     "name": "stderr",
     "output_type": "stream",
     "text": [
      " 48%|████▊     | 144/300 [00:43<00:47,  3.27it/s]"
     ]
    },
    {
     "name": "stdout",
     "output_type": "stream",
     "text": [
      "143th epoch\n",
      " val_loss: 1318.681550399117\n",
      " val_acc:[0.9296748845473578, 0.9167241065398508]\n",
      " val_precision:[0.14099074252273727, 0.023774944245815284]\n",
      " val_recall:[0.4041601056637972, 0.12349154184693877]\n",
      " val_f1: [0.20878393230987455, 0.039737271475428194]\n"
     ]
    },
    {
     "name": "stderr",
     "output_type": "stream",
     "text": [
      " 48%|████▊     | 145/300 [00:44<00:47,  3.27it/s]"
     ]
    },
    {
     "name": "stdout",
     "output_type": "stream",
     "text": [
      "144th epoch\n",
      " val_loss: 1311.436361561651\n",
      " val_acc:[0.9303150876708651, 0.9177459322887918]\n",
      " val_precision:[0.1425574084986811, 0.023682185489198433]\n",
      " val_recall:[0.40755683961121936, 0.1218271404504776]\n",
      " val_f1: [0.21097300907361613, 0.03952172078498079]\n"
     ]
    },
    {
     "name": "stderr",
     "output_type": "stream",
     "text": [
      " 49%|████▊     | 146/300 [00:44<00:47,  3.27it/s]"
     ]
    },
    {
     "name": "stdout",
     "output_type": "stream",
     "text": [
      "145th epoch\n",
      " val_loss: 1304.1212662406588\n",
      " val_acc:[0.931031838707302, 0.9189260005950926]\n",
      " val_precision:[0.14492306534362873, 0.02391578734892866]\n",
      " val_recall:[0.41564724626748456, 0.12114779359620552]\n",
      " val_f1: [0.21460594657540974, 0.03980715194189389]\n"
     ]
    },
    {
     "name": "stderr",
     "output_type": "stream",
     "text": [
      " 49%|████▉     | 147/300 [00:44<00:46,  3.26it/s]"
     ]
    },
    {
     "name": "stdout",
     "output_type": "stream",
     "text": [
      "146th epoch\n",
      " val_loss: 1296.9549215565555\n",
      " val_acc:[0.9318338269772738, 0.9199474946312282]\n",
      " val_precision:[0.1474125375566275, 0.023971103050786518]\n",
      " val_recall:[0.42515810805818305, 0.11956265050431956]\n",
      " val_f1: [0.21860125276365178, 0.03979524252371729]\n"
     ]
    },
    {
     "name": "stderr",
     "output_type": "stream",
     "text": [
      " 49%|████▉     | 148/300 [00:45<00:47,  3.22it/s]"
     ]
    },
    {
     "name": "stdout",
     "output_type": "stream",
     "text": [
      "147th epoch\n",
      " val_loss: 1289.6302078910494\n",
      " val_acc:[0.9326636609823808, 0.9210886385129845]\n",
      " val_precision:[0.1505570677311524, 0.024332371540367603]\n",
      " val_recall:[0.4394244046314903, 0.1194267810686775]\n",
      " val_f1: [0.22398845186127433, 0.04028886504687892]\n"
     ]
    },
    {
     "name": "stderr",
     "output_type": "stream",
     "text": [
      " 50%|████▉     | 149/300 [00:45<00:47,  3.21it/s]"
     ]
    },
    {
     "name": "stdout",
     "output_type": "stream",
     "text": [
      "148th epoch\n",
      " val_loss: 1282.234454611073\n",
      " val_acc:[0.9335996197617573, 0.922390826370405]\n",
      " val_precision:[0.15319049487943234, 0.02475638825284398]\n",
      " val_recall:[0.447576572065768, 0.11880404566941054]\n",
      " val_f1: [0.22798234723568547, 0.04084115843381128]\n"
     ]
    },
    {
     "name": "stderr",
     "output_type": "stream",
     "text": [
      " 50%|█████     | 150/300 [00:45<00:46,  3.23it/s]"
     ]
    },
    {
     "name": "stdout",
     "output_type": "stream",
     "text": [
      "149th epoch\n",
      " val_loss: 1274.9424040421193\n",
      " val_acc:[0.9343555155007734, 0.9236667104389358]\n",
      " val_precision:[0.15600535241158112, 0.02481695159297923]\n",
      " val_recall:[0.4591254721517149, 0.11739800190148146]\n",
      " val_f1: [0.23265764919934276, 0.04082390391133808]\n"
     ]
    },
    {
     "name": "stderr",
     "output_type": "stream",
     "text": [
      " 50%|█████     | 151/300 [00:45<00:45,  3.25it/s]"
     ]
    },
    {
     "name": "stdout",
     "output_type": "stream",
     "text": [
      "150th epoch\n",
      " val_loss: 1268.2336372707205\n",
      " val_acc:[0.9352149185927019, 0.9247155604155168]\n",
      " val_precision:[0.15863348608431607, 0.02495073915823646]\n",
      " val_recall:[0.4672776382902393, 0.11643559291310931]\n",
      " val_f1: [0.23661898689665162, 0.040926196650058026]\n"
     ]
    },
    {
     "name": "stderr",
     "output_type": "stream",
     "text": [
      " 51%|█████     | 152/300 [00:46<00:46,  3.20it/s]"
     ]
    },
    {
     "name": "stdout",
     "output_type": "stream",
     "text": [
      "151th epoch\n",
      " val_loss: 1261.1481084408965\n",
      " val_acc:[0.9361047589260598, 0.9257672144019083]\n",
      " val_precision:[0.16098125602888025, 0.02497655720166538]\n",
      " val_recall:[0.47610914966334467, 0.11513350968775542]\n",
      " val_f1: [0.2403653301908971, 0.04087111022070986]\n"
     ]
    },
    {
     "name": "stderr",
     "output_type": "stream",
     "text": [
      " 51%|█████     | 153/300 [00:46<00:45,  3.20it/s]"
     ]
    },
    {
     "name": "stdout",
     "output_type": "stream",
     "text": [
      "152th epoch\n",
      " val_loss: 1253.6441530974014\n",
      " val_acc:[0.9371076848195946, 0.9268195732780125]\n",
      " val_precision:[0.16405922563179678, 0.025111208062457008]\n",
      " val_recall:[0.4849406610364499, 0.11437490517678468]\n",
      " val_f1: [0.24491825329437725, 0.041006941937923036]\n"
     ]
    },
    {
     "name": "stderr",
     "output_type": "stream",
     "text": [
      " 51%|█████▏    | 154/300 [00:46<00:46,  3.14it/s]"
     ]
    },
    {
     "name": "stdout",
     "output_type": "stream",
     "text": [
      "153th epoch\n",
      " val_loss: 1245.9321448284647\n",
      " val_acc:[0.9380253708880882, 0.9279722856438678]\n",
      " val_precision:[0.16719980926617334, 0.025522819315285786]\n",
      " val_recall:[0.49778649988381757, 0.11312943502612736]\n",
      " val_f1: [0.25001754185163516, 0.04147026878641815]\n"
     ]
    },
    {
     "name": "stderr",
     "output_type": "stream",
     "text": [
      " 52%|█████▏    | 155/300 [00:47<00:46,  3.14it/s]"
     ]
    },
    {
     "name": "stdout",
     "output_type": "stream",
     "text": [
      "154th epoch\n",
      " val_loss: 1238.6655950131624\n",
      " val_acc:[0.9392857966215712, 0.9289628811504529]\n",
      " val_precision:[0.1720104826533276, 0.025853802126062957]\n",
      " val_recall:[0.512732137804446, 0.11282372863396355]\n",
      " val_f1: [0.25732951828716255, 0.04187327612055156]\n"
     ]
    },
    {
     "name": "stderr",
     "output_type": "stream",
     "text": [
      " 52%|█████▏    | 156/300 [00:47<00:46,  3.12it/s]"
     ]
    },
    {
     "name": "stdout",
     "output_type": "stream",
     "text": [
      "155th epoch\n",
      " val_loss: 1232.0407529084578\n",
      " val_acc:[0.9401182324989982, 0.930064717064733]\n",
      " val_precision:[0.17445165113262506, 0.02629312735212885]\n",
      " val_recall:[0.5236016926558121, 0.11293695251578871]\n",
      " val_f1: [0.2614805397028317, 0.042457791003980214]\n"
     ]
    },
    {
     "name": "stderr",
     "output_type": "stream",
     "text": [
      " 52%|█████▏    | 157/300 [00:47<00:45,  3.14it/s]"
     ]
    },
    {
     "name": "stdout",
     "output_type": "stream",
     "text": [
      "156th epoch\n",
      " val_loss: 1225.1581845490828\n",
      " val_acc:[0.9411394077798594, 0.930989356144615]\n",
      " val_precision:[0.17861728564552642, 0.026523898193693676]\n",
      " val_recall:[0.539782508559849, 0.11208776838105658]\n",
      " val_f1: [0.26817699431825676, 0.042705052117108455]\n"
     ]
    },
    {
     "name": "stderr",
     "output_type": "stream",
     "text": [
      " 53%|█████▎    | 158/300 [00:48<00:45,  3.15it/s]"
     ]
    },
    {
     "name": "stdout",
     "output_type": "stream",
     "text": [
      "157th epoch\n",
      " val_loss: 1218.2178663170855\n",
      " val_acc:[0.9421345176904096, 0.9318918689437533]\n",
      " val_precision:[0.18229870368605075, 0.026853504712166992]\n",
      " val_recall:[0.552690108185229, 0.11159884378961896]\n",
      " val_f1: [0.2739145340118885, 0.04308621039668304]\n"
     ]
    },
    {
     "name": "stderr",
     "output_type": "stream",
     "text": [
      " 53%|█████▎    | 159/300 [00:48<00:44,  3.17it/s]"
     ]
    },
    {
     "name": "stdout",
     "output_type": "stream",
     "text": [
      "158th epoch\n",
      " val_loss: 1211.5375260062838\n",
      " val_acc:[0.9434236417645994, 0.9327400067578189]\n",
      " val_precision:[0.18585616026235663, 0.027297298464438187]\n",
      " val_recall:[0.5608422691407411, 0.11112330044093341]\n",
      " val_f1: [0.27899986078988054, 0.04361944399955866]\n"
     ]
    },
    {
     "name": "stderr",
     "output_type": "stream",
     "text": [
      " 53%|█████▎    | 160/300 [00:48<00:43,  3.19it/s]"
     ]
    },
    {
     "name": "stdout",
     "output_type": "stream",
     "text": [
      "159th epoch\n",
      " val_loss: 1204.6038499915082\n",
      " val_acc:[0.9443404519039653, 0.9334182972493379]\n",
      " val_precision:[0.18902750313282016, 0.027536762149437607]\n",
      " val_recall:[0.5717118304708729, 0.11061378957136819]\n",
      " val_f1: [0.2839503201190032, 0.04388291505340304]\n"
     ]
    },
    {
     "name": "stderr",
     "output_type": "stream",
     "text": [
      " 54%|█████▎    | 161/300 [00:49<00:41,  3.38it/s]"
     ]
    },
    {
     "name": "stdout",
     "output_type": "stream",
     "text": [
      "160th epoch\n",
      " val_loss: 1197.531023108441\n",
      " val_acc:[0.9455817160399063, 0.9342281844304956]\n",
      " val_precision:[0.19261804806149527, 0.027851025047509567]\n",
      " val_recall:[0.5798639888348787, 0.11044395261484645]\n",
      " val_f1: [0.28902192288540973, 0.044273029506185994]\n"
     ]
    },
    {
     "name": "stderr",
     "output_type": "stream",
     "text": [
      " 54%|█████▍    | 162/300 [00:49<00:42,  3.23it/s]"
     ]
    },
    {
     "name": "stdout",
     "output_type": "stream",
     "text": [
      "161th epoch\n",
      " val_loss: 1191.0645300823708\n",
      " val_acc:[0.9467768876448923, 0.9351882571759431]\n",
      " val_precision:[0.19627858439217447, 0.028152718330207084]\n",
      " val_recall:[0.5880161523818969, 0.10936831942071086]\n",
      " val_f1: [0.29415946493710105, 0.04456721156983495]\n"
     ]
    },
    {
     "name": "stderr",
     "output_type": "stream",
     "text": [
      " 54%|█████▍    | 163/300 [00:49<00:42,  3.25it/s]"
     ]
    },
    {
     "name": "stdout",
     "output_type": "stream",
     "text": [
      "162th epoch\n",
      " val_loss: 1183.5863939368207\n",
      " val_acc:[0.9481434070545696, 0.9358616263970083]\n",
      " val_precision:[0.20085564774015674, 0.028363322434218036]\n",
      " val_recall:[0.6009237481200176, 0.10915804557178331]\n",
      " val_f1: [0.30093672773745306, 0.04480491734543805]\n"
     ]
    },
    {
     "name": "stderr",
     "output_type": "stream",
     "text": [
      " 55%|█████▍    | 164/300 [00:49<00:40,  3.36it/s]"
     ]
    },
    {
     "name": "stdout",
     "output_type": "stream",
     "text": [
      "163th epoch\n",
      " val_loss: 1176.634479025136\n",
      " val_acc:[0.949421208837758, 0.936574681945469]\n",
      " val_precision:[0.20453500942043634, 0.028677091650340866]\n",
      " val_recall:[0.6111139603283094, 0.10915804557178331]\n",
      " val_f1: [0.306337655464665, 0.04520127072402283]\n"
     ]
    },
    {
     "name": "stderr",
     "output_type": "stream",
     "text": [
      " 55%|█████▌    | 165/300 [00:50<00:36,  3.68it/s]"
     ]
    },
    {
     "name": "stdout",
     "output_type": "stream",
     "text": [
      "164th epoch\n",
      " val_loss: 1169.779510498047\n",
      " val_acc:[0.9506824923598249, 0.9372533119243124]\n",
      " val_precision:[0.2089186414428379, 0.02899827735255594]\n",
      " val_recall:[0.6226011074107627, 0.10902217613614125]\n",
      " val_f1: [0.3126922874695291, 0.045577532181168987]\n"
     ]
    },
    {
     "name": "stderr",
     "output_type": "stream",
     "text": [
      " 55%|█████▌    | 166/300 [00:50<00:34,  3.92it/s]"
     ]
    },
    {
     "name": "stdout",
     "output_type": "stream",
     "text": [
      "165th epoch\n",
      " val_loss: 1163.40746539572\n",
      " val_acc:[0.9516584484473518, 0.9377972094909006]\n",
      " val_precision:[0.21151471980240036, 0.029249606249125114]\n",
      " val_recall:[0.6246391482975172, 0.10902217613614125]\n",
      " val_f1: [0.3158821837772004, 0.04589583867114911]\n"
     ]
    },
    {
     "name": "stderr",
     "output_type": "stream",
     "text": [
      " 56%|█████▌    | 167/300 [00:50<00:35,  3.79it/s]"
     ]
    },
    {
     "name": "stdout",
     "output_type": "stream",
     "text": [
      "166th epoch\n",
      " val_loss: 1156.2031090777853\n",
      " val_acc:[0.9526605061862778, 0.9384684873663862]\n",
      " val_precision:[0.21438224484091223, 0.029565304193807686]\n",
      " val_recall:[0.6273565344188524, 0.10902217613614125]\n",
      " val_f1: [0.31941227101803005, 0.04627701474528393]\n"
     ]
    },
    {
     "name": "stderr",
     "output_type": "stream",
     "text": [
      " 56%|█████▌    | 168/300 [00:50<00:36,  3.62it/s]"
     ]
    },
    {
     "name": "stdout",
     "output_type": "stream",
     "text": [
      "167th epoch\n",
      " val_loss: 1149.471213962721\n",
      " val_acc:[0.9534164019252944, 0.9392225846000337]\n",
      " val_precision:[0.2166952575030534, 0.030040918889900913]\n",
      " val_recall:[0.6293945778971133, 0.10879572707673778]\n",
      " val_f1: [0.3222476751794131, 0.04684907005264796]\n"
     ]
    },
    {
     "name": "stderr",
     "output_type": "stream",
     "text": [
      " 56%|█████▋    | 169/300 [00:51<00:37,  3.51it/s]"
     ]
    },
    {
     "name": "stdout",
     "output_type": "stream",
     "text": [
      "168th epoch\n",
      " val_loss: 1143.2245616083562\n",
      " val_acc:[0.9541809869849163, 0.9400082593378813]\n",
      " val_precision:[0.2191163547660994, 0.030246559611481167]\n",
      " val_recall:[0.6321119666099548, 0.10815034709546877]\n",
      " val_f1: [0.32527945428324545, 0.047042955386897956]\n"
     ]
    },
    {
     "name": "stderr",
     "output_type": "stream",
     "text": [
      " 57%|█████▋    | 170/300 [00:51<00:37,  3.44it/s]"
     ]
    },
    {
     "name": "stdout",
     "output_type": "stream",
     "text": [
      "169th epoch\n",
      " val_loss: 1136.5899790888245\n",
      " val_acc:[0.9550325663193413, 0.9407026845475901]\n",
      " val_precision:[0.22186770970406738, 0.030901479008405106]\n",
      " val_recall:[0.6382260892702185, 0.10809373499258705]\n",
      " val_f1: [0.32912103652221125, 0.047809724632455954]\n"
     ]
    },
    {
     "name": "stderr",
     "output_type": "stream",
     "text": [
      " 57%|█████▋    | 171/300 [00:51<00:38,  3.39it/s]"
     ]
    },
    {
     "name": "stdout",
     "output_type": "stream",
     "text": [
      "170th epoch\n",
      " val_loss: 1130.0972144085426\n",
      " val_acc:[0.9556249276451445, 0.9415048542230026]\n",
      " val_precision:[0.22333654048650156, 0.03159301557942576]\n",
      " val_recall:[0.6395847849223925, 0.10809373499258705]\n",
      " val_f1: [0.33092687082959416, 0.04863448655666502]\n"
     ]
    },
    {
     "name": "stderr",
     "output_type": "stream",
     "text": [
      " 57%|█████▋    | 172/300 [00:52<00:38,  3.36it/s]"
     ]
    },
    {
     "name": "stdout",
     "output_type": "stream",
     "text": [
      "171th epoch\n",
      " val_loss: 1123.4300444229793\n",
      " val_acc:[0.9563234215197358, 0.9423631559247556]\n",
      " val_precision:[0.22540855083776556, 0.032273862591904144]\n",
      " val_recall:[0.6409434805745664, 0.10769744865272356]\n",
      " val_f1: [0.3333818060312312, 0.049388818458519494]\n"
     ]
    },
    {
     "name": "stderr",
     "output_type": "stream",
     "text": [
      " 58%|█████▊    | 173/300 [00:52<00:37,  3.36it/s]"
     ]
    },
    {
     "name": "stdout",
     "output_type": "stream",
     "text": [
      "172th epoch\n",
      " val_loss: 1116.9949393894362\n",
      " val_acc:[0.9569827629172285, 0.9431467289509979]\n",
      " val_precision:[0.22777494917745172, 0.03297095907771069]\n",
      " val_recall:[0.6409434805745664, 0.107867285285307]\n",
      " val_f1: [0.33596442761353534, 0.05024507106684329]\n"
     ]
    },
    {
     "name": "stderr",
     "output_type": "stream",
     "text": [
      " 58%|█████▊    | 174/300 [00:52<00:34,  3.67it/s]"
     ]
    },
    {
     "name": "stdout",
     "output_type": "stream",
     "text": [
      "173th epoch\n",
      " val_loss: 1110.5462911854618\n",
      " val_acc:[0.9576412257940873, 0.9442766308784486]\n",
      " val_precision:[0.22969667872656946, 0.033317028909273766]\n",
      " val_recall:[0.6416228284006533, 0.10701810050269832]\n",
      " val_f1: [0.3381555276983081, 0.05057101495324326]\n"
     ]
    },
    {
     "name": "stderr",
     "output_type": "stream",
     "text": [
      " 58%|█████▊    | 175/300 [00:52<00:31,  3.93it/s]"
     ]
    },
    {
     "name": "stdout",
     "output_type": "stream",
     "text": [
      "174th epoch\n",
      " val_loss: 1103.5262875764265\n",
      " val_acc:[0.9580717967904132, 0.9454082976216854]\n",
      " val_precision:[0.23104405467924866, 0.03368998885802601]\n",
      " val_recall:[0.6416228284006533, 0.10550089050894199]\n",
      " val_f1: [0.33962110274198865, 0.05080046556310195]\n"
     ]
    },
    {
     "name": "stderr",
     "output_type": "stream",
     "text": [
      " 59%|█████▊    | 176/300 [00:53<00:33,  3.72it/s]"
     ]
    },
    {
     "name": "stdout",
     "output_type": "stream",
     "text": [
      "175th epoch\n",
      " val_loss: 1097.9584456734035\n",
      " val_acc:[0.95863545977551, 0.9463953842287478]\n",
      " val_precision:[0.23320355298726456, 0.03350936370375364]\n",
      " val_recall:[0.6423021762267404, 0.10339491328467491]\n",
      " val_f1: [0.3420423650693186, 0.050377984985258396]\n"
     ]
    },
    {
     "name": "stderr",
     "output_type": "stream",
     "text": [
      " 59%|█████▉    | 177/300 [00:53<00:34,  3.58it/s]"
     ]
    },
    {
     "name": "stdout",
     "output_type": "stream",
     "text": [
      "176th epoch\n",
      " val_loss: 1091.4517450747283\n",
      " val_acc:[0.9591025658275772, 0.9473477446514629]\n",
      " val_precision:[0.2350552917822548, 0.0344538565563119]\n",
      " val_recall:[0.6423021762267404, 0.10261366354382555]\n",
      " val_f1: [0.34403093172174215, 0.0513148955475447]\n"
     ]
    },
    {
     "name": "stderr",
     "output_type": "stream",
     "text": [
      " 59%|█████▉    | 178/300 [00:53<00:35,  3.46it/s]"
     ]
    },
    {
     "name": "stdout",
     "output_type": "stream",
     "text": [
      "177th epoch\n",
      " val_loss: 1085.6667215098507\n",
      " val_acc:[0.9595522750978884, 0.9483499060506406]\n",
      " val_precision:[0.23694614029448963, 0.03452342287029908]\n",
      " val_recall:[0.6423021762267404, 0.10125496821558992]\n",
      " val_f1: [0.34606577436653474, 0.05118173705366992]\n"
     ]
    },
    {
     "name": "stderr",
     "output_type": "stream",
     "text": [
      " 60%|█████▉    | 179/300 [00:54<00:35,  3.40it/s]"
     ]
    },
    {
     "name": "stdout",
     "output_type": "stream",
     "text": [
      "178th epoch\n",
      " val_loss: 1078.684695036515\n",
      " val_acc:[0.959972410098366, 0.9492559484813523]\n",
      " val_precision:[0.23871244101420694, 0.0354063932824394]\n",
      " val_recall:[0.6429815240528273, 0.10050768615758934]\n",
      " val_f1: [0.3480296363581251, 0.05203326418298475]\n"
     ]
    },
    {
     "name": "stderr",
     "output_type": "stream",
     "text": [
      " 60%|██████    | 180/300 [00:54<00:35,  3.37it/s]"
     ]
    },
    {
     "name": "stdout",
     "output_type": "stream",
     "text": [
      "179th epoch\n",
      " val_loss: 1072.6624012822688\n",
      " val_acc:[0.9605073669682379, 0.9498647632806196]\n",
      " val_precision:[0.24099649294562955, 0.03586848898102408]\n",
      " val_recall:[0.6429815240528273, 0.09956145173181657]\n",
      " val_f1: [0.35046266451451225, 0.05239022859048194]\n"
     ]
    },
    {
     "name": "stderr",
     "output_type": "stream",
     "text": [
      " 60%|██████    | 181/300 [00:54<00:35,  3.35it/s]"
     ]
    },
    {
     "name": "stdout",
     "output_type": "stream",
     "text": [
      "180th epoch\n",
      " val_loss: 1066.5468909222147\n",
      " val_acc:[0.9611197347226352, 0.9504465642182722]\n",
      " val_precision:[0.2434308192004328, 0.03631086639412071]\n",
      " val_recall:[0.6436608718789142, 0.09956145173181657]\n",
      " val_f1: [0.35312731096585265, 0.05287514565358637]\n"
     ]
    },
    {
     "name": "stderr",
     "output_type": "stream",
     "text": [
      " 61%|██████    | 182/300 [00:55<00:35,  3.31it/s]"
     ]
    },
    {
     "name": "stdout",
     "output_type": "stream",
     "text": [
      "181th epoch\n",
      " val_loss: 1060.063840119735\n",
      " val_acc:[0.9617886413698612, 0.9511287108711575]\n",
      " val_precision:[0.246295400287794, 0.03632783290484678]\n",
      " val_recall:[0.6436608718789142, 0.09854243015465529]\n",
      " val_f1: [0.3561283782293082, 0.052751598379283]\n"
     ]
    },
    {
     "name": "stderr",
     "output_type": "stream",
     "text": [
      " 61%|██████    | 183/300 [00:55<00:32,  3.62it/s]"
     ]
    },
    {
     "name": "stdout",
     "output_type": "stream",
     "text": [
      "182th epoch\n",
      " val_loss: 1053.7682495117185\n",
      " val_acc:[0.9623627351677937, 0.9517024496327277]\n",
      " val_precision:[0.2490127922400184, 0.036837611509406044]\n",
      " val_recall:[0.6436608718789142, 0.09840656039507494]\n",
      " val_f1: [0.3589684623098859, 0.053272726672681306]\n"
     ]
    },
    {
     "name": "stderr",
     "output_type": "stream",
     "text": [
      " 61%|██████▏   | 184/300 [00:55<00:29,  3.87it/s]"
     ]
    },
    {
     "name": "stdout",
     "output_type": "stream",
     "text": [
      "183th epoch\n",
      " val_loss: 1047.5655371624491\n",
      " val_acc:[0.9630125061325403, 0.9523144208866616]\n",
      " val_precision:[0.2520811778047811, 0.0376607459038496]\n",
      " val_recall:[0.6463782605917556, 0.09823672343855318]\n",
      " val_f1: [0.36257842475792795, 0.054097216071459286]\n"
     ]
    },
    {
     "name": "stderr",
     "output_type": "stream",
     "text": [
      " 62%|██████▏   | 185/300 [00:55<00:29,  3.87it/s]"
     ]
    },
    {
     "name": "stdout",
     "output_type": "stream",
     "text": [
      "184th epoch\n",
      " val_loss: 1042.2103589928665\n",
      " val_acc:[0.9636440251184545, 0.9528270856193874]\n",
      " val_precision:[0.25502501622490265, 0.038316558722568596]\n",
      " val_recall:[0.6463782605917556, 0.09823672343855318]\n",
      " val_f1: [0.36560500518255745, 0.05477647960167872]\n"
     ]
    },
    {
     "name": "stderr",
     "output_type": "stream",
     "text": [
      " 62%|██████▏   | 186/300 [00:56<00:31,  3.59it/s]"
     ]
    },
    {
     "name": "stdout",
     "output_type": "stream",
     "text": [
      "185th epoch\n",
      " val_loss: 1035.9106697414231\n",
      " val_acc:[0.9644451452338177, 0.9534127401268999]\n",
      " val_precision:[0.2594932687023412, 0.039256485988912376]\n",
      " val_recall:[0.6490956441215847, 0.09784043742262798]\n",
      " val_f1: [0.3706614936336979, 0.05561207009628815]\n"
     ]
    },
    {
     "name": "stderr",
     "output_type": "stream",
     "text": [
      " 62%|██████▏   | 187/300 [00:56<00:32,  3.49it/s]"
     ]
    },
    {
     "name": "stdout",
     "output_type": "stream",
     "text": [
      "186th epoch\n",
      " val_loss: 1030.1973399286687\n",
      " val_acc:[0.9651810319527333, 0.9541952584100807]\n",
      " val_precision:[0.26308866752230603, 0.04020588869309944]\n",
      " val_recall:[0.6504543397737587, 0.09784043742262798]\n",
      " val_f1: [0.3745589592354222, 0.0565484317115039]\n"
     ]
    },
    {
     "name": "stderr",
     "output_type": "stream",
     "text": [
      " 63%|██████▎   | 188/300 [00:56<00:32,  3.42it/s]"
     ]
    },
    {
     "name": "stdout",
     "output_type": "stream",
     "text": [
      "187th epoch\n",
      " val_loss: 1024.4911658245585\n",
      " val_acc:[0.9657829637112824, 0.9549009281656017]\n",
      " val_precision:[0.26640099740546686, 0.041514747897567955]\n",
      " val_recall:[0.6511336850083393, 0.09784043742262798]\n",
      " val_f1: [0.37803243484014726, 0.05785690707752368]\n"
     ]
    },
    {
     "name": "stderr",
     "output_type": "stream",
     "text": [
      " 63%|██████▎   | 189/300 [00:57<00:32,  3.37it/s]"
     ]
    },
    {
     "name": "stdout",
     "output_type": "stream",
     "text": [
      "188th epoch\n",
      " val_loss: 1018.4113053031589\n",
      " val_acc:[0.9664805816567462, 0.9555290289547135]\n",
      " val_precision:[0.2699511012305384, 0.04215363404997017]\n",
      " val_recall:[0.6518130328344263, 0.09784043742262798]\n",
      " val_f1: [0.38171744133537217, 0.05847270780998141]\n"
     ]
    },
    {
     "name": "stderr",
     "output_type": "stream",
     "text": [
      " 63%|██████▎   | 190/300 [00:57<00:33,  3.32it/s]"
     ]
    },
    {
     "name": "stdout",
     "output_type": "stream",
     "text": [
      "189th epoch\n",
      " val_loss: 1012.8445089588995\n",
      " val_acc:[0.9671390548996306, 0.9562311742616737]\n",
      " val_precision:[0.27379044372102496, 0.044948930649653725]\n",
      " val_recall:[0.6518130328344263, 0.09784043742262798]\n",
      " val_f1: [0.3855498999269851, 0.0610562494131863]\n"
     ]
    },
    {
     "name": "stderr",
     "output_type": "stream",
     "text": [
      " 64%|██████▎   | 191/300 [00:57<00:33,  3.27it/s]"
     ]
    },
    {
     "name": "stdout",
     "output_type": "stream",
     "text": [
      "190th epoch\n",
      " val_loss: 1007.2986237899116\n",
      " val_acc:[0.9679245093594427, 0.9569210721098858]\n",
      " val_precision:[0.27955151511275256, 0.04661787244612756]\n",
      " val_recall:[0.6511954431948455, 0.0977045679869859]\n",
      " val_f1: [0.39110822729507244, 0.06252972499414028]\n"
     ]
    },
    {
     "name": "stderr",
     "output_type": "stream",
     "text": [
      " 64%|██████▍   | 192/300 [00:57<00:30,  3.59it/s]"
     ]
    },
    {
     "name": "stdout",
     "output_type": "stream",
     "text": [
      "191th epoch\n",
      " val_loss: 1001.9041509213655\n",
      " val_acc:[0.9686891151511151, 0.957592347393865]\n",
      " val_precision:[0.28491939150768775, 0.04789486600329048]\n",
      " val_recall:[0.6518747910209325, 0.09759134313334589]\n",
      " val_f1: [0.39646081353761997, 0.0636006438856923]\n"
     ]
    },
    {
     "name": "stderr",
     "output_type": "stream",
     "text": [
      " 64%|██████▍   | 193/300 [00:58<00:27,  3.87it/s]"
     ]
    },
    {
     "name": "stdout",
     "output_type": "stream",
     "text": [
      "192th epoch\n",
      " val_loss: 996.1935570758324\n",
      " val_acc:[0.9695572179296742, 0.958433096823485]\n",
      " val_precision:[0.29127334123072407, 0.049316811982704246]\n",
      " val_recall:[0.6518747910209325, 0.09691199660301208]\n",
      " val_f1: [0.4025918785238872, 0.06462807399887727]\n"
     ]
    },
    {
     "name": "stderr",
     "output_type": "stream",
     "text": [
      " 65%|██████▍   | 194/300 [00:58<00:27,  3.92it/s]"
     ]
    },
    {
     "name": "stdout",
     "output_type": "stream",
     "text": [
      "193th epoch\n",
      " val_loss: 990.7602512525475\n",
      " val_acc:[0.970044327818829, 0.9590773582458497]\n",
      " val_precision:[0.2949428493561952, 0.05154936128984327]\n",
      " val_recall:[0.6525541362555132, 0.09691199660301208]\n",
      " val_f1: [0.40623033980658974, 0.06633878489004615]\n"
     ]
    },
    {
     "name": "stderr",
     "output_type": "stream",
     "text": [
      " 65%|██████▌   | 195/300 [00:58<00:28,  3.71it/s]"
     ]
    },
    {
     "name": "stdout",
     "output_type": "stream",
     "text": [
      "194th epoch\n",
      " val_loss: 985.2277593198031\n",
      " val_acc:[0.9704940319061278, 0.9597370598627173]\n",
      " val_precision:[0.2979999132778334, 0.05301435388948607]\n",
      " val_recall:[0.6525541362555132, 0.09657232268996863]\n",
      " val_f1: [0.4091174894448875, 0.06728108681783113]\n"
     ]
    },
    {
     "name": "stderr",
     "output_type": "stream",
     "text": [
      " 65%|██████▌   | 196/300 [00:58<00:29,  3.57it/s]"
     ]
    },
    {
     "name": "stdout",
     "output_type": "stream",
     "text": [
      "195th epoch\n",
      " val_loss: 979.8016397227411\n",
      " val_acc:[0.9709150350612141, 0.9603760475697727]\n",
      " val_precision:[0.3007965632106947, 0.054932857580159034]\n",
      " val_recall:[0.653912831907687, 0.09657232268996863]\n",
      " val_f1: [0.41202128396965343, 0.06897201319805171]\n"
     ]
    },
    {
     "name": "stderr",
     "output_type": "stream",
     "text": [
      " 66%|██████▌   | 197/300 [00:59<00:29,  3.47it/s]"
     ]
    },
    {
     "name": "stdout",
     "output_type": "stream",
     "text": [
      "196th epoch\n",
      " val_loss: 973.8622595745584\n",
      " val_acc:[0.971411715383115, 0.9609122354051343]\n",
      " val_precision:[0.30401213402333466, 0.057628623898262565]\n",
      " val_recall:[0.6552715275598608, 0.09657232268996863]\n",
      " val_f1: [0.4152827454167966, 0.07114057900992021]\n"
     ]
    },
    {
     "name": "stderr",
     "output_type": "stream",
     "text": [
      " 66%|██████▌   | 198/300 [00:59<00:29,  3.41it/s]"
     ]
    },
    {
     "name": "stdout",
     "output_type": "stream",
     "text": [
      "197th epoch\n",
      " val_loss: 968.2982469641644\n",
      " val_acc:[0.9717657436495242, 0.9615364852158919]\n",
      " val_precision:[0.3067861341911813, 0.059431181572701636]\n",
      " val_recall:[0.6552715275598608, 0.09657232268996863]\n",
      " val_f1: [0.4178660247902537, 0.07255161210012233]\n"
     ]
    },
    {
     "name": "stderr",
     "output_type": "stream",
     "text": [
      " 66%|██████▋   | 199/300 [00:59<00:29,  3.37it/s]"
     ]
    },
    {
     "name": "stdout",
     "output_type": "stream",
     "text": [
      "198th epoch\n",
      " val_loss: 963.1204037873641\n",
      " val_acc:[0.971985811772554, 0.962009862713192]\n",
      " val_precision:[0.308846819659938, 0.06036590728098932]\n",
      " val_recall:[0.6559508727944415, 0.09657232268996863]\n",
      " val_f1: [0.4199111575702685, 0.07332208472935985]\n"
     ]
    },
    {
     "name": "stderr",
     "output_type": "stream",
     "text": [
      " 67%|██████▋   | 200/300 [01:00<00:29,  3.35it/s]"
     ]
    },
    {
     "name": "stdout",
     "output_type": "stream",
     "text": [
      "199th epoch\n",
      " val_loss: 957.6600527556047\n",
      " val_acc:[0.9722337230392124, 0.9625341062960416]\n",
      " val_precision:[0.3106481238551762, 0.06184152716203875]\n",
      " val_recall:[0.6559508727944415, 0.09657232268996863]\n",
      " val_f1: [0.42158180690467234, 0.07444226711883167]\n"
     ]
    },
    {
     "name": "stderr",
     "output_type": "stream",
     "text": [
      " 67%|██████▋   | 201/300 [01:00<00:27,  3.62it/s]"
     ]
    },
    {
     "name": "stdout",
     "output_type": "stream",
     "text": [
      "200th epoch\n",
      " val_loss: 952.4425977623981\n",
      " val_acc:[0.972491196964098, 0.9629930827928629]\n",
      " val_precision:[0.31314009039298357, 0.06310797466532045]\n",
      " val_recall:[0.6586682615072831, 0.09657232268996863]\n",
      " val_f1: [0.42444832250608805, 0.07533558939950245]\n"
     ]
    },
    {
     "name": "stderr",
     "output_type": "stream",
     "text": [
      " 67%|██████▋   | 202/300 [01:00<00:26,  3.68it/s]"
     ]
    },
    {
     "name": "stdout",
     "output_type": "stream",
     "text": [
      "201th epoch\n",
      " val_loss: 947.4418733016305\n",
      " val_acc:[0.9727199699567712, 0.9633815340373827]\n",
      " val_precision:[0.3156999919725501, 0.06434053943856902]\n",
      " val_recall:[0.6600269545679508, 0.09657232268996863]\n",
      " val_f1: [0.427070171369866, 0.0761355209814704]\n"
     ]
    },
    {
     "name": "stderr",
     "output_type": "stream",
     "text": [
      " 68%|██████▊   | 203/300 [01:00<00:28,  3.45it/s]"
     ]
    },
    {
     "name": "stdout",
     "output_type": "stream",
     "text": [
      "202th epoch\n",
      " val_loss: 942.6423233695652\n",
      " val_acc:[0.9728634927583777, 0.9638015653776085]\n",
      " val_precision:[0.31789655011633167, 0.06528946854498074]\n",
      " val_recall:[0.6613856502201246, 0.09634587330662686]\n",
      " val_f1: [0.4293541311047421, 0.07668412966141765]\n"
     ]
    },
    {
     "name": "stderr",
     "output_type": "stream",
     "text": [
      " 68%|██████▊   | 204/300 [01:01<00:28,  3.35it/s]"
     ]
    },
    {
     "name": "stdout",
     "output_type": "stream",
     "text": [
      "203th epoch\n",
      " val_loss: 937.514130965523\n",
      " val_acc:[0.9729974529017573, 0.9641215853069138]\n",
      " val_precision:[0.31919863172199414, 0.06567957867746767]\n",
      " val_recall:[0.6620649980462116, 0.09634587330662686]\n",
      " val_f1: [0.4306753050173521, 0.07697851790102715]\n"
     ]
    },
    {
     "name": "stderr",
     "output_type": "stream",
     "text": [
      " 68%|██████▊   | 205/300 [01:01<00:28,  3.29it/s]"
     ]
    },
    {
     "name": "stdout",
     "output_type": "stream",
     "text": [
      "204th epoch\n",
      " val_loss: 932.3856997282609\n",
      " val_acc:[0.973064432973447, 0.9644605724707892]\n",
      " val_precision:[0.31959491579428956, 0.06634356000501175]\n",
      " val_recall:[0.6627443458722985, 0.09634587330662686]\n",
      " val_f1: [0.43117921717447294, 0.07744563271779673]\n"
     ]
    },
    {
     "name": "stderr",
     "output_type": "stream",
     "text": [
      " 69%|██████▊   | 206/300 [01:01<00:28,  3.27it/s]"
     ]
    },
    {
     "name": "stdout",
     "output_type": "stream",
     "text": [
      "205th epoch\n",
      " val_loss: 927.1175351350204\n",
      " val_acc:[0.9731983853423076, 0.964845509632774]\n",
      " val_precision:[0.3215197337710339, 0.06743533617776372]\n",
      " val_recall:[0.664782386759053, 0.0961760366740434]\n",
      " val_f1: [0.43336610183923885, 0.07826680824130297]\n"
     ]
    },
    {
     "name": "stderr",
     "output_type": "stream",
     "text": [
      " 69%|██████▉   | 207/300 [01:02<00:28,  3.25it/s]"
     ]
    },
    {
     "name": "stdout",
     "output_type": "stream",
     "text": [
      "206th epoch\n",
      " val_loss: 922.4344137440556\n",
      " val_acc:[0.9732740651006283, 0.965146225431691]\n",
      " val_precision:[0.3223699486773947, 0.06778473180273306]\n",
      " val_recall:[0.6668204302373139, 0.0956665258044782]\n",
      " val_f1: [0.434568443521173, 0.07831225232825538]\n"
     ]
    },
    {
     "name": "stderr",
     "output_type": "stream",
     "text": [
      " 69%|██████▉   | 208/300 [01:02<00:28,  3.27it/s]"
     ]
    },
    {
     "name": "stdout",
     "output_type": "stream",
     "text": [
      "207th epoch\n",
      " val_loss: 917.6817374851391\n",
      " val_acc:[0.9733593049256699, 0.9654083588848943]\n",
      " val_precision:[0.3238634816978288, 0.06856436314790144]\n",
      " val_recall:[0.6701554059982299, 0.09583636276099992]\n",
      " val_f1: [0.4366197295429707, 0.0789849722117674]\n"
     ]
    },
    {
     "name": "stderr",
     "output_type": "stream",
     "text": [
      " 70%|██████▉   | 209/300 [01:02<00:28,  3.25it/s]"
     ]
    },
    {
     "name": "stdout",
     "output_type": "stream",
     "text": [
      "208th epoch\n",
      " val_loss: 912.4310063901155\n",
      " val_acc:[0.9734741190205451, 0.965593643810438]\n",
      " val_precision:[0.3253014333870099, 0.06900142991672391]\n",
      " val_recall:[0.6715140990588976, 0.09651570993921031]\n",
      " val_f1: [0.4382082407846717, 0.07949406502792823]\n"
     ]
    },
    {
     "name": "stderr",
     "output_type": "stream",
     "text": [
      " 70%|███████   | 210/300 [01:03<00:27,  3.23it/s]"
     ]
    },
    {
     "name": "stdout",
     "output_type": "stream",
     "text": [
      "209th epoch\n",
      " val_loss: 907.6997096849525\n",
      " val_acc:[0.9735793704571932, 0.9658175110816956]\n",
      " val_precision:[0.32666012774343073, 0.06971709754156029]\n",
      " val_recall:[0.6742314851802328, 0.09651570993921031]\n",
      " val_f1: [0.4400249036836125, 0.07996326955487021]\n"
     ]
    },
    {
     "name": "stderr",
     "output_type": "stream",
     "text": [
      " 70%|███████   | 211/300 [01:03<00:27,  3.23it/s]"
     ]
    },
    {
     "name": "stdout",
     "output_type": "stream",
     "text": [
      "210th epoch\n",
      " val_loss: 903.0102764627206\n",
      " val_acc:[0.973895119584125, 0.9660297995028289]\n",
      " val_precision:[0.3327855713989423, 0.06881773164090903]\n",
      " val_recall:[0.6796662626059158, 0.09453942723896193]\n",
      " val_f1: [0.44666370690870616, 0.07869636029187979]\n"
     ]
    },
    {
     "name": "stderr",
     "output_type": "stream",
     "text": [
      " 71%|███████   | 212/300 [01:03<00:27,  3.24it/s]"
     ]
    },
    {
     "name": "stdout",
     "output_type": "stream",
     "text": [
      "211th epoch\n",
      " val_loss: 898.4010673191237\n",
      " val_acc:[0.974335253238678, 0.9662031427673671]\n",
      " val_precision:[0.3425228751224019, 0.06909324423126552]\n",
      " val_recall:[0.6803456078404965, 0.09419975332591846]\n",
      " val_f1: [0.4554729687000507, 0.07872724649389422]\n"
     ]
    },
    {
     "name": "stderr",
     "output_type": "stream",
     "text": [
      " 71%|███████   | 213/300 [01:04<00:26,  3.25it/s]"
     ]
    },
    {
     "name": "stdout",
     "output_type": "stream",
     "text": [
      "212th epoch\n",
      " val_loss: 893.4270974864131\n",
      " val_acc:[0.9750520146411399, 0.9664772023325381]\n",
      " val_precision:[0.3573810199032659, 0.06932684147487517]\n",
      " val_recall:[0.6844216922055121, 0.09383846365887187]\n",
      " val_f1: [0.4694190252112317, 0.0786714524865215]\n"
     ]
    },
    {
     "name": "stderr",
     "output_type": "stream",
     "text": [
      " 71%|███████▏  | 214/300 [01:04<00:26,  3.25it/s]"
     ]
    },
    {
     "name": "stdout",
     "output_type": "stream",
     "text": [
      "213th epoch\n",
      " val_loss: 888.8322170091711\n",
      " val_acc:[0.975482588228972, 0.9666698549104774]\n",
      " val_precision:[0.36444622278213507, 0.06936019642845445]\n",
      " val_recall:[0.685101040031599, 0.09370259389929149]\n",
      " val_f1: [0.4755459692032027, 0.07864745800478114]\n"
     ]
    },
    {
     "name": "stderr",
     "output_type": "stream",
     "text": [
      " 72%|███████▏  | 215/300 [01:04<00:26,  3.25it/s]"
     ]
    },
    {
     "name": "stdout",
     "output_type": "stream",
     "text": [
      "214th epoch\n",
      " val_loss: 884.3588230298911\n",
      " val_acc:[0.975836613903875, 0.9668393316476241]\n",
      " val_precision:[0.37137556464775756, 0.0695227057389591]\n",
      " val_recall:[0.685101040031599, 0.09353275694276976]\n",
      " val_f1: [0.4813464974042777, 0.07868391608661461]\n"
     ]
    },
    {
     "name": "stderr",
     "output_type": "stream",
     "text": [
      " 72%|███████▏  | 216/300 [01:04<00:25,  3.26it/s]"
     ]
    },
    {
     "name": "stdout",
     "output_type": "stream",
     "text": [
      "215th epoch\n",
      " val_loss: 880.1128712529722\n",
      " val_acc:[0.9764481160951697, 0.9670126956442125]\n",
      " val_precision:[0.38165634481803234, 0.06967661238234976]\n",
      " val_recall:[0.6878184313359467, 0.09336291998624803]\n",
      " val_f1: [0.49052401819290326, 0.07872172943369767]\n"
     ]
    },
    {
     "name": "stderr",
     "output_type": "stream",
     "text": [
      " 72%|███████▏  | 217/300 [01:05<00:24,  3.46it/s]"
     ]
    },
    {
     "name": "stdout",
     "output_type": "stream",
     "text": [
      "216th epoch\n",
      " val_loss: 875.4458392599355\n",
      " val_acc:[0.9770013353098994, 0.9672593655793564]\n",
      " val_precision:[0.39408016334409296, 0.06906867950506831]\n",
      " val_recall:[0.6884977765705275, 0.09228728549635928]\n",
      " val_f1: [0.5008603145016768, 0.07791000368305906]\n"
     ]
    },
    {
     "name": "stderr",
     "output_type": "stream",
     "text": [
      " 73%|███████▎  | 218/300 [01:05<00:21,  3.74it/s]"
     ]
    },
    {
     "name": "stdout",
     "output_type": "stream",
     "text": [
      "217th epoch\n",
      " val_loss: 870.9090788468072\n",
      " val_acc:[0.9774701802626901, 0.9674520129742828]\n",
      " val_precision:[0.40523277158322535, 0.06964877053447392]\n",
      " val_recall:[0.6878184313359468, 0.09211744886377583]\n",
      " val_f1: [0.5095285600521954, 0.07833892454706491]\n"
     ]
    },
    {
     "name": "stderr",
     "output_type": "stream",
     "text": [
      " 73%|███████▎  | 219/300 [01:05<00:20,  3.97it/s]"
     ]
    },
    {
     "name": "stdout",
     "output_type": "stream",
     "text": [
      "218th epoch\n",
      " val_loss: 866.4608366593072\n",
      " val_acc:[0.9778807500134347, 0.9676639696826108]\n",
      " val_precision:[0.4131049669307212, 0.06987806263825166]\n",
      " val_recall:[0.6884977791620338, 0.09172116284785065]\n",
      " val_f1: [0.5159966822268817, 0.07835411514975203]\n"
     ]
    },
    {
     "name": "stderr",
     "output_type": "stream",
     "text": [
      " 73%|███████▎  | 220/300 [01:05<00:21,  3.73it/s]"
     ]
    },
    {
     "name": "stdout",
     "output_type": "stream",
     "text": [
      "219th epoch\n",
      " val_loss: 862.2186584472655\n",
      " val_acc:[0.9781964965488599, 0.9678569643393808]\n",
      " val_precision:[0.4186642895574156, 0.07006703997435776]\n",
      " val_recall:[0.6884977791620338, 0.09144942430050478]\n",
      " val_f1: [0.5203081097708325, 0.0783686085659459]\n"
     ]
    },
    {
     "name": "stderr",
     "output_type": "stream",
     "text": [
      " 74%|███████▎  | 221/300 [01:06<00:22,  3.59it/s]"
     ]
    },
    {
     "name": "stdout",
     "output_type": "stream",
     "text": [
      "220th epoch\n",
      " val_loss: 857.8046622898268\n",
      " val_acc:[0.9785313839497772, 0.9680415184601493]\n",
      " val_precision:[0.4261710734471032, 0.07036463349409725]\n",
      " val_recall:[0.6871390861013661, 0.09097388095181923]\n",
      " val_f1: [0.5256938056917263, 0.07833396217436073]\n"
     ]
    },
    {
     "name": "stderr",
     "output_type": "stream",
     "text": [
      " 74%|███████▍  | 222/300 [01:06<00:22,  3.49it/s]"
     ]
    },
    {
     "name": "stdout",
     "output_type": "stream",
     "text": [
      "221th epoch\n",
      " val_loss: 853.6778537916099\n",
      " val_acc:[0.9787888552831567, 0.9683152385379958]\n",
      " val_precision:[0.43183537410653156, 0.07093818145601645]\n",
      " val_recall:[0.6867994121883226, 0.09053230480007504]\n",
      " val_f1: [0.5299543672306467, 0.07850907245153681]\n"
     ]
    },
    {
     "name": "stderr",
     "output_type": "stream",
     "text": [
      " 74%|███████▍  | 223/300 [01:06<00:22,  3.37it/s]"
     ]
    },
    {
     "name": "stdout",
     "output_type": "stream",
     "text": [
      "222th epoch\n",
      " val_loss: 849.4461603579313\n",
      " val_acc:[0.9790089285891991, 0.968496656936148]\n",
      " val_precision:[0.436862543873165, 0.07096082684786423]\n",
      " val_recall:[0.6881581052489902, 0.09002279393050981]\n",
      " val_f1: [0.5341111122613543, 0.07832393963203044]\n"
     ]
    },
    {
     "name": "stderr",
     "output_type": "stream",
     "text": [
      " 75%|███████▍  | 224/300 [01:07<00:23,  3.29it/s]"
     ]
    },
    {
     "name": "stdout",
     "output_type": "stream",
     "text": [
      "223th epoch\n",
      " val_loss: 845.5983700959578\n",
      " val_acc:[0.9791428835495658, 0.968750712664231]\n",
      " val_precision:[0.4388213274271591, 0.07101339539108069]\n",
      " val_recall:[0.6874787574229033, 0.08954725090576256]\n",
      " val_f1: [0.5353522992951663, 0.07817064237985527]\n"
     ]
    },
    {
     "name": "stderr",
     "output_type": "stream",
     "text": [
      " 75%|███████▌  | 225/300 [01:07<00:23,  3.20it/s]"
     ]
    },
    {
     "name": "stdout",
     "output_type": "stream",
     "text": [
      "224th epoch\n",
      " val_loss: 841.4147179645041\n",
      " val_acc:[0.979362954264102, 0.9689047569813933]\n",
      " val_precision:[0.4424898002458655, 0.07067479954465576]\n",
      " val_recall:[0.6874787574229033, 0.08893583812143493]\n",
      " val_f1: [0.5380531255001025, 0.0777375354622295]\n"
     ]
    },
    {
     "name": "stderr",
     "output_type": "stream",
     "text": [
      " 75%|███████▌  | 226/300 [01:07<00:22,  3.22it/s]"
     ]
    },
    {
     "name": "stdout",
     "output_type": "stream",
     "text": [
      "225th epoch\n",
      " val_loss: 837.3602945078974\n",
      " val_acc:[0.9794682082922561, 0.9691209119299182]\n",
      " val_precision:[0.4445957761743794, 0.06932622558720733]\n",
      " val_recall:[0.6881581052489902, 0.08666414038642593]\n",
      " val_f1: [0.5398467203893358, 0.07566123823454629]\n"
     ]
    },
    {
     "name": "stderr",
     "output_type": "stream",
     "text": [
      " 76%|███████▌  | 227/300 [01:08<00:22,  3.24it/s]"
     ]
    },
    {
     "name": "stdout",
     "output_type": "stream",
     "text": [
      "226th epoch\n",
      " val_loss: 832.9463713272758\n",
      " val_acc:[0.9795160474984541, 0.9693826851637469]\n",
      " val_precision:[0.44476561442665424, 0.0697446166659179]\n",
      " val_recall:[0.6881581052489902, 0.08605272727816002]\n",
      " val_f1: [0.5399735117140008, 0.075656083216053]\n"
     ]
    },
    {
     "name": "stderr",
     "output_type": "stream",
     "text": [
      " 76%|███████▌  | 228/300 [01:08<00:22,  3.25it/s]"
     ]
    },
    {
     "name": "stdout",
     "output_type": "stream",
     "text": [
      "227th epoch\n",
      " val_loss: 828.6159813922384\n",
      " val_acc:[0.9796012925065081, 0.9695641009703927]\n",
      " val_precision:[0.4461613634358281, 0.06921623509539211]\n",
      " val_recall:[0.6881581052489902, 0.08510164041881978]\n",
      " val_f1: [0.5410406218566116, 0.07494333789992352]\n"
     ]
    },
    {
     "name": "stderr",
     "output_type": "stream",
     "text": [
      " 76%|███████▋  | 229/300 [01:08<00:21,  3.26it/s]"
     ]
    },
    {
     "name": "stdout",
     "output_type": "stream",
     "text": [
      "228th epoch\n",
      " val_loss: 824.9691666312841\n",
      " val_acc:[0.9796682699866917, 0.9697721859683163]\n",
      " val_precision:[0.44684071126191505, 0.06863070190276789]\n",
      " val_recall:[0.687931654245957, 0.08411658636253815]\n",
      " val_f1: [0.5414773124170285, 0.0741995560171545]\n"
     ]
    },
    {
     "name": "stderr",
     "output_type": "stream",
     "text": [
      " 77%|███████▋  | 230/300 [01:09<00:21,  3.27it/s]"
     ]
    },
    {
     "name": "stdout",
     "output_type": "stream",
     "text": [
      "229th epoch\n",
      " val_loss: 821.8484019403872\n",
      " val_acc:[0.9797343767207601, 0.9699528994767563]\n",
      " val_precision:[0.44777018090952986, 0.06903345729021923]\n",
      " val_recall:[0.687931654245957, 0.0836750103727631]\n",
      " val_f1: [0.5421683677799611, 0.07418190532211068]\n"
     ]
    },
    {
     "name": "stderr",
     "output_type": "stream",
     "text": [
      " 77%|███████▋  | 231/300 [01:09<00:21,  3.28it/s]"
     ]
    },
    {
     "name": "stdout",
     "output_type": "stream",
     "text": [
      "230th epoch\n",
      " val_loss: 817.754638671875\n",
      " val_acc:[0.9798204950664354, 0.9701609741086544]\n",
      " val_precision:[0.4488458153994187, 0.06975054554641247]\n",
      " val_recall:[0.687931654245957, 0.08299566270864528]\n",
      " val_f1: [0.5429604802384265, 0.07415848235909017]\n"
     ]
    },
    {
     "name": "stderr",
     "output_type": "stream",
     "text": [
      " 77%|███████▋  | 232/300 [01:09<00:20,  3.25it/s]"
     ]
    },
    {
     "name": "stdout",
     "output_type": "stream",
     "text": [
      "231th epoch\n",
      " val_loss: 813.682282820992\n",
      " val_acc:[0.9799544526183087, 0.9703996051912722]\n",
      " val_precision:[0.45004599379456567, 0.07039511519605698]\n",
      " val_recall:[0.687931654245957, 0.08224838048867558]\n",
      " val_f1: [0.5438060449346799, 0.07423632371848675]\n"
     ]
    },
    {
     "name": "stderr",
     "output_type": "stream",
     "text": [
      " 78%|███████▊  | 233/300 [01:09<00:20,  3.26it/s]"
     ]
    },
    {
     "name": "stdout",
     "output_type": "stream",
     "text": [
      "232th epoch\n",
      " val_loss: 809.9717725670856\n",
      " val_acc:[0.9800405683724778, 0.9706578513850337]\n",
      " val_precision:[0.4507932753666588, 0.07081458450335523]\n",
      " val_recall:[0.687931654245957, 0.08190870689957039]\n",
      " val_f1: [0.544351337907849, 0.07426386687405476]\n"
     ]
    },
    {
     "name": "stderr",
     "output_type": "stream",
     "text": [
      " 78%|███████▊  | 234/300 [01:10<00:20,  3.27it/s]"
     ]
    },
    {
     "name": "stdout",
     "output_type": "stream",
     "text": [
      "233th epoch\n",
      " val_loss: 806.6259394106658\n",
      " val_acc:[0.9801075484441675, 0.9708620854046034]\n",
      " val_precision:[0.4510876575241918, 0.07112325533576634]\n",
      " val_recall:[0.687931654245957, 0.08126332691830138]\n",
      " val_f1: [0.544568215538099, 0.07406100955130597]\n"
     ]
    },
    {
     "name": "stderr",
     "output_type": "stream",
     "text": [
      " 78%|███████▊  | 235/300 [01:10<00:19,  3.27it/s]"
     ]
    },
    {
     "name": "stdout",
     "output_type": "stream",
     "text": [
      "234th epoch\n",
      " val_loss: 803.0588325832201\n",
      " val_acc:[0.9802032294480697, 0.9710705280303954]\n",
      " val_precision:[0.4520274219305619, 0.07149204417415288]\n",
      " val_recall:[0.687931654245957, 0.0809236530052579]\n",
      " val_f1: [0.5452480774385999, 0.07415791306734433]\n"
     ]
    },
    {
     "name": "stderr",
     "output_type": "stream",
     "text": [
      " 79%|███████▊  | 236/300 [01:10<00:19,  3.28it/s]"
     ]
    },
    {
     "name": "stdout",
     "output_type": "stream",
     "text": [
      "235th epoch\n",
      " val_loss: 799.2452525263246\n",
      " val_acc:[0.98028933742772, 0.9713782668113708]\n",
      " val_precision:[0.4522651913373367, 0.07198942290699999]\n",
      " val_recall:[0.687931654245957, 0.08044810933263405]\n",
      " val_f1: [0.5454173936859094, 0.07426995426490678]\n"
     ]
    },
    {
     "name": "stderr",
     "output_type": "stream",
     "text": [
      " 79%|███████▉  | 237/300 [01:11<00:19,  3.28it/s]"
     ]
    },
    {
     "name": "stdout",
     "output_type": "stream",
     "text": [
      "236th epoch\n",
      " val_loss: 795.6842797320821\n",
      " val_acc:[0.9803563123163971, 0.9716214485790416]\n",
      " val_precision:[0.45259354166362603, 0.07249893345262694]\n",
      " val_recall:[0.687931654245957, 0.08044810933263405]\n",
      " val_f1: [0.5456536431359484, 0.074572283892845]\n"
     ]
    },
    {
     "name": "stderr",
     "output_type": "stream",
     "text": [
      " 79%|███████▉  | 238/300 [01:11<00:18,  3.28it/s]"
     ]
    },
    {
     "name": "stdout",
     "output_type": "stream",
     "text": [
      "237th epoch\n",
      " val_loss: 792.5832559336786\n",
      " val_acc:[0.9804328628208325, 0.9718951505163443]\n",
      " val_precision:[0.4530577633691872, 0.07373749197501202]\n",
      " val_recall:[0.687931654245957, 0.08010843574352887]\n",
      " val_f1: [0.545990352228435, 0.07517672975118782]\n"
     ]
    },
    {
     "name": "stderr",
     "output_type": "stream",
     "text": [
      " 80%|███████▉  | 239/300 [01:11<00:18,  3.28it/s]"
     ]
    },
    {
     "name": "stdout",
     "output_type": "stream",
     "text": [
      "238th epoch\n",
      " val_loss: 789.1070145316744\n",
      " val_acc:[0.9804998377095099, 0.97231518185657]\n",
      " val_precision:[0.45314834299294854, 0.07589927129447462]\n",
      " val_recall:[0.687931654245957, 0.0799725663078868]\n",
      " val_f1: [0.5460605517158011, 0.07637199533317651]\n"
     ]
    },
    {
     "name": "stderr",
     "output_type": "stream",
     "text": [
      " 80%|████████  | 240/300 [01:12<00:18,  3.25it/s]"
     ]
    },
    {
     "name": "stdout",
     "output_type": "stream",
     "text": [
      "239th epoch\n",
      " val_loss: 785.4969601838486\n",
      " val_acc:[0.9805955161219058, 0.9725815135499706]\n",
      " val_precision:[0.45374843219052197, 0.07782408748955832]\n",
      " val_recall:[0.687931654245957, 0.0799725663078868]\n",
      " val_f1: [0.5464984202060567, 0.07742478083013866]\n"
     ]
    },
    {
     "name": "stderr",
     "output_type": "stream",
     "text": [
      " 80%|████████  | 241/300 [01:12<00:18,  3.26it/s]"
     ]
    },
    {
     "name": "stdout",
     "output_type": "stream",
     "text": [
      "240th epoch\n",
      " val_loss: 781.95287555197\n",
      " val_acc:[0.9807007675585537, 0.9728703058284263]\n",
      " val_precision:[0.45449571246686193, 0.07861908533326957]\n",
      " val_recall:[0.687931654245957, 0.07980272935136505]\n",
      " val_f1: [0.5470268333913433, 0.07779642467373148]\n"
     ]
    },
    {
     "name": "stderr",
     "output_type": "stream",
     "text": [
      " 81%|████████  | 242/300 [01:12<00:17,  3.26it/s]"
     ]
    },
    {
     "name": "stdout",
     "output_type": "stream",
     "text": [
      "241th epoch\n",
      " val_loss: 778.594207763672\n",
      " val_acc:[0.9807581797890039, 0.9732738422310871]\n",
      " val_precision:[0.45471083988314087, 0.08108737943289074]\n",
      " val_recall:[0.687931654245957, 0.07966685991572298]\n",
      " val_f1: [0.5471850757104787, 0.07901971342481623]\n"
     ]
    },
    {
     "name": "stderr",
     "output_type": "stream",
     "text": [
      " 81%|████████  | 243/300 [01:13<00:17,  3.27it/s]"
     ]
    },
    {
     "name": "stdout",
     "output_type": "stream",
     "text": [
      "242th epoch\n",
      " val_loss: 775.8457668138587\n",
      " val_acc:[0.9809199778929999, 0.9737331841302954]\n",
      " val_precision:[0.4560468896575597, 0.08366728096228578]\n",
      " val_recall:[0.687931654245957, 0.07932718616464864]\n",
      " val_f1: [0.5481640335114475, 0.08001197233892449]\n"
     ]
    },
    {
     "name": "stderr",
     "output_type": "stream",
     "text": [
      " 81%|████████▏ | 244/300 [01:13<00:17,  3.28it/s]"
     ]
    },
    {
     "name": "stdout",
     "output_type": "stream",
     "text": [
      "243th epoch\n",
      " val_loss: 773.0501841669496\n",
      " val_acc:[0.9809869527816774, 0.9740725030069767]\n",
      " val_precision:[0.456341274406599, 0.08611131281308505]\n",
      " val_recall:[0.687931654245957, 0.07932718616464864]\n",
      " val_f1: [0.548378295518689, 0.08113381651555088]\n"
     ]
    },
    {
     "name": "stderr",
     "output_type": "stream",
     "text": [
      " 82%|████████▏ | 245/300 [01:13<00:16,  3.28it/s]"
     ]
    },
    {
     "name": "stdout",
     "output_type": "stream",
     "text": [
      "244th epoch\n",
      " val_loss: 769.5014834196671\n",
      " val_acc:[0.9810443624206213, 0.9743041007415109]\n",
      " val_precision:[0.4568281419899153, 0.08818332057284273]\n",
      " val_recall:[0.687931654245957, 0.07932718616464864]\n",
      " val_f1: [0.5487260314511946, 0.08220810461386811]\n"
     ]
    },
    {
     "name": "stderr",
     "output_type": "stream",
     "text": [
      " 82%|████████▏ | 246/300 [01:13<00:16,  3.29it/s]"
     ]
    },
    {
     "name": "stdout",
     "output_type": "stream",
     "text": [
      "245th epoch\n",
      " val_loss: 766.5340921153194\n",
      " val_acc:[0.9811400434245235, 0.9745041235633517]\n",
      " val_precision:[0.45737162232398987, 0.08930909617439561]\n",
      " val_recall:[0.687931654245957, 0.07932718616464864]\n",
      " val_f1: [0.5491353933810528, 0.08269937903214591]\n"
     ]
    },
    {
     "name": "stderr",
     "output_type": "stream",
     "text": [
      " 82%|████████▏ | 247/300 [01:14<00:16,  3.27it/s]"
     ]
    },
    {
     "name": "stdout",
     "output_type": "stream",
     "text": [
      "246th epoch\n",
      " val_loss: 763.417974057405\n",
      " val_acc:[0.9812165939289592, 0.9747318495874819]\n",
      " val_precision:[0.45780187715654785, 0.09118457802611848]\n",
      " val_recall:[0.687931654245957, 0.07932718616464864]\n",
      " val_f1: [0.5494513418064301, 0.08344412109599718]\n"
     ]
    },
    {
     "name": "stderr",
     "output_type": "stream",
     "text": [
      " 83%|████████▎ | 248/300 [01:14<00:15,  3.26it/s]"
     ]
    },
    {
     "name": "stdout",
     "output_type": "stream",
     "text": [
      "247th epoch\n",
      " val_loss: 760.0630499798319\n",
      " val_acc:[0.9813601141390592, 0.9749476520911506]\n",
      " val_precision:[0.4584359371143838, 0.0925885615465434]\n",
      " val_recall:[0.687931654245957, 0.07910073710524518]\n",
      " val_f1: [0.5499188206668755, 0.08392548126437945]\n"
     ]
    },
    {
     "name": "stderr",
     "output_type": "stream",
     "text": [
      " 83%|████████▎ | 249/300 [01:14<00:15,  3.27it/s]"
     ]
    },
    {
     "name": "stdout",
     "output_type": "stream",
     "text": [
      "248th epoch\n",
      " val_loss: 756.8088763693105\n",
      " val_acc:[0.981455800325974, 0.9751981963282046]\n",
      " val_precision:[0.4590586708939593, 0.0954741688202257]\n",
      " val_recall:[0.687931654245957, 0.07910073710524518]\n",
      " val_f1: [0.5503690380061903, 0.08515650923949916]\n"
     ]
    },
    {
     "name": "stderr",
     "output_type": "stream",
     "text": [
      " 83%|████████▎ | 250/300 [01:15<00:15,  3.28it/s]"
     ]
    },
    {
     "name": "stdout",
     "output_type": "stream",
     "text": [
      "249th epoch\n",
      " val_loss: 754.6837416939113\n",
      " val_acc:[0.9815697462662405, 0.9753757585649905]\n",
      " val_precision:[0.45950848123301613, 0.096258651951085]\n",
      " val_recall:[0.687931654245957, 0.07859122623567996]\n",
      " val_f1: [0.5507050466535127, 0.08518321261440023]\n"
     ]
    },
    {
     "name": "stderr",
     "output_type": "stream",
     "text": [
      " 84%|████████▎ | 251/300 [01:15<00:14,  3.28it/s]"
     ]
    },
    {
     "name": "stdout",
     "output_type": "stream",
     "text": [
      "250th epoch\n",
      " val_loss: 751.7589754850969\n",
      " val_acc:[0.9815888845402263, 0.9755301475524903]\n",
      " val_precision:[0.45950848123301624, 0.09683286269073901]\n",
      " val_recall:[0.687931654245957, 0.07859122623567996]\n",
      " val_f1: [0.5507006371754616, 0.08537711256427909]\n"
     ]
    },
    {
     "name": "stderr",
     "output_type": "stream",
     "text": [
      " 84%|████████▍ | 252/300 [01:15<00:14,  3.28it/s]"
     ]
    },
    {
     "name": "stdout",
     "output_type": "stream",
     "text": [
      "251th epoch\n",
      " val_loss: 748.6625021229619\n",
      " val_acc:[0.9816367237464241, 0.9756652557331583]\n",
      " val_precision:[0.4600746009660803, 0.09787614546392276]\n",
      " val_recall:[0.687931654245957, 0.0787610631922017]\n",
      " val_f1: [0.5511184542752954, 0.08578915169349384]\n"
     ]
    },
    {
     "name": "stderr",
     "output_type": "stream",
     "text": [
      " 84%|████████▍ | 253/300 [01:16<00:14,  3.29it/s]"
     ]
    },
    {
     "name": "stdout",
     "output_type": "stream",
     "text": [
      "252th epoch\n",
      " val_loss: 745.8416907269019\n",
      " val_acc:[0.9817515430243118, 0.9757810494174128]\n",
      " val_precision:[0.46098039590794104, 0.09895177849608919]\n",
      " val_recall:[0.687931654245957, 0.0787610631922017]\n",
      " val_f1: [0.5517850020718683, 0.08613475431470047]\n"
     ]
    },
    {
     "name": "stderr",
     "output_type": "stream",
     "text": [
      " 85%|████████▍ | 254/300 [01:16<00:13,  3.29it/s]"
     ]
    },
    {
     "name": "stdout",
     "output_type": "stream",
     "text": [
      "253th epoch\n",
      " val_loss: 743.0005148182745\n",
      " val_acc:[0.981904633667158, 0.9759498316308727]\n",
      " val_precision:[0.4621126405570819, 0.09963112502642299]\n",
      " val_recall:[0.687931654245957, 0.0787610631922017]\n",
      " val_f1: [0.5525980790749041, 0.08642882030719984]\n"
     ]
    },
    {
     "name": "stderr",
     "output_type": "stream",
     "text": [
      " 85%|████████▌ | 255/300 [01:16<00:13,  3.23it/s]"
     ]
    },
    {
     "name": "stdout",
     "output_type": "stream",
     "text": [
      "254th epoch\n",
      " val_loss: 740.4628780199134\n",
      " val_acc:[0.9819811789885811, 0.9760617821112922]\n",
      " val_precision:[0.46259950554889184, 0.10030076652765274]\n",
      " val_recall:[0.687931654245957, 0.07842138927915822]\n",
      " val_f1: [0.5529540156131605, 0.08649537119735017]\n"
     ]
    },
    {
     "name": "stderr",
     "output_type": "stream",
     "text": [
      " 85%|████████▌ | 256/300 [01:17<00:13,  3.25it/s]"
     ]
    },
    {
     "name": "stdout",
     "output_type": "stream",
     "text": [
      "255th epoch\n",
      " val_loss: 737.7117024297299\n",
      " val_acc:[0.9821055686992146, 0.9761273964591648]\n",
      " val_precision:[0.46344869292300683, 0.10031208881865378]\n",
      " val_recall:[0.687931654245957, 0.07808171569005302]\n",
      " val_f1: [0.5535713576175064, 0.08631650717804841]\n"
     ]
    },
    {
     "name": "stderr",
     "output_type": "stream",
     "text": [
      " 86%|████████▌ | 257/300 [01:17<00:13,  3.25it/s]"
     ]
    },
    {
     "name": "stdout",
     "output_type": "stream",
     "text": [
      "256th epoch\n",
      " val_loss: 734.9438960863196\n",
      " val_acc:[0.9821725435878919, 0.9762042423953181]\n",
      " val_precision:[0.46452432222988294, 0.1008508610336677]\n",
      " val_recall:[0.687931654245957, 0.07808171569005302]\n",
      " val_f1: [0.5543438390021334, 0.0865537407092018]\n"
     ]
    },
    {
     "name": "stderr",
     "output_type": "stream",
     "text": [
      " 86%|████████▌ | 258/300 [01:17<00:12,  3.26it/s]"
     ]
    },
    {
     "name": "stdout",
     "output_type": "stream",
     "text": [
      "257th epoch\n",
      " val_loss: 732.5252174709154\n",
      " val_acc:[0.9822482207547062, 0.9763123185738274]\n",
      " val_precision:[0.46474562650141515, 0.10129728913307193]\n",
      " val_recall:[0.687931654245957, 0.07808171569005302]\n",
      " val_f1: [0.554486393377528, 0.0867528756617028]\n"
     ]
    },
    {
     "name": "stderr",
     "output_type": "stream",
     "text": [
      " 86%|████████▋ | 259/300 [01:17<00:12,  3.26it/s]"
     ]
    },
    {
     "name": "stdout",
     "output_type": "stream",
     "text": [
      "258th epoch\n",
      " val_loss: 729.6087002961533\n",
      " val_acc:[0.982362169286479, 0.9763817942660787]\n",
      " val_precision:[0.46598080189331714, 0.10169842677271887]\n",
      " val_recall:[0.687931654245957, 0.07808171569005302]\n",
      " val_f1: [0.555391684602798, 0.08694042340034978]\n"
     ]
    },
    {
     "name": "stderr",
     "output_type": "stream",
     "text": [
      " 87%|████████▋ | 260/300 [01:18<00:12,  3.25it/s]"
     ]
    },
    {
     "name": "stdout",
     "output_type": "stream",
     "text": [
      "259th epoch\n",
      " val_loss: 726.9351806640624\n",
      " val_acc:[0.9824291467666626, 0.9764242560967157]\n",
      " val_precision:[0.4668865955394247, 0.10198148858288061]\n",
      " val_recall:[0.687931654245957, 0.07842138927915822]\n",
      " val_f1: [0.5560318601227805, 0.08725289249535617]\n"
     ]
    },
    {
     "name": "stderr",
     "output_type": "stream",
     "text": [
      " 87%|████████▋ | 261/300 [01:18<00:11,  3.26it/s]"
     ]
    },
    {
     "name": "stdout",
     "output_type": "stream",
     "text": [
      "260th epoch\n",
      " val_loss: 724.6362404201342\n",
      " val_acc:[0.9824769859728606, 0.9764937343804733]\n",
      " val_precision:[0.4675093306147533, 0.10203163099029791]\n",
      " val_recall:[0.687931654245957, 0.07842138927915822]\n",
      " val_f1: [0.5564814048303697, 0.08727171323362169]\n"
     ]
    },
    {
     "name": "stderr",
     "output_type": "stream",
     "text": [
      " 87%|████████▋ | 262/300 [01:18<00:11,  3.19it/s]"
     ]
    },
    {
     "name": "stdout",
     "output_type": "stream",
     "text": [
      "261th epoch\n",
      " val_loss: 722.0318908691403\n",
      " val_acc:[0.9825343982033106, 0.9765670714171039]\n",
      " val_precision:[0.46807545553082996, 0.10260260558646658]\n",
      " val_recall:[0.687931654245957, 0.07842138927915822]\n",
      " val_f1: [0.556888284268327, 0.08751704503175832]\n"
     ]
    },
    {
     "name": "stderr",
     "output_type": "stream",
     "text": [
      " 88%|████████▊ | 263/300 [01:19<00:11,  3.21it/s]"
     ]
    },
    {
     "name": "stdout",
     "output_type": "stream",
     "text": [
      "262th epoch\n",
      " val_loss: 719.8991626241933\n",
      " val_acc:[0.9825631017270295, 0.9766172481619791]\n",
      " val_precision:[0.46830190264660365, 0.10307653053947119]\n",
      " val_recall:[0.687931654245957, 0.07842138927915822]\n",
      " val_f1: [0.557053219596664, 0.08771018398200656]\n"
     ]
    },
    {
     "name": "stderr",
     "output_type": "stream",
     "text": [
      " 88%|████████▊ | 264/300 [01:19<00:11,  3.25it/s]"
     ]
    },
    {
     "name": "stdout",
     "output_type": "stream",
     "text": [
      "263th epoch\n",
      " val_loss: 717.4812568996265\n",
      " val_acc:[0.9826300843902258, 0.9766709363978843]\n",
      " val_precision:[0.468868023675421, 0.10324636749599293]\n",
      " val_recall:[0.687931654245957, 0.07842138927915822]\n",
      " val_f1: [0.557450373263885, 0.08777547071985721]\n"
     ]
    },
    {
     "name": "stderr",
     "output_type": "stream",
     "text": [
      " 88%|████████▊ | 265/300 [01:19<00:10,  3.26it/s]"
     ]
    },
    {
     "name": "stdout",
     "output_type": "stream",
     "text": [
      "264th epoch\n",
      " val_loss: 715.1574819813603\n",
      " val_acc:[0.9826492252557175, 0.9767779656078506]\n",
      " val_precision:[0.4693209230899811, 0.10346766925700335]\n",
      " val_recall:[0.687931654245957, 0.07842138927915822]\n",
      " val_f1: [0.5577628006473705, 0.08797404785084302]\n"
     ]
    },
    {
     "name": "stderr",
     "output_type": "stream",
     "text": [
      " 89%|████████▊ | 266/300 [01:20<00:10,  3.28it/s]"
     ]
    },
    {
     "name": "stdout",
     "output_type": "stream",
     "text": [
      "265th epoch\n",
      " val_loss: 712.8357623556385\n",
      " val_acc:[0.9826875018036885, 0.9768551613973536]\n",
      " val_precision:[0.4695473766845205, 0.10356957198161146]\n",
      " val_recall:[0.687931654245957, 0.07825155232263648]\n",
      " val_f1: [0.5579232931729827, 0.08789221534841762]\n"
     ]
    },
    {
     "name": "stderr",
     "output_type": "stream",
     "text": [
      " 89%|████████▉ | 267/300 [01:20<00:10,  3.28it/s]"
     ]
    },
    {
     "name": "stdout",
     "output_type": "stream",
     "text": [
      "266th epoch\n",
      " val_loss: 710.7832940143087\n",
      " val_acc:[0.9827162053274072, 0.9769130556479746]\n",
      " val_precision:[0.4697738276875537, 0.10303741620610592]\n",
      " val_recall:[0.687931654245957, 0.07689285748030829]\n",
      " val_f1: [0.558080116806971, 0.086789434147055]\n"
     ]
    },
    {
     "name": "stderr",
     "output_type": "stream",
     "text": [
      " 89%|████████▉ | 268/300 [01:20<00:09,  3.28it/s]"
     ]
    },
    {
     "name": "stdout",
     "output_type": "stream",
     "text": [
      "267th epoch\n",
      " val_loss: 708.7933999766476\n",
      " val_acc:[0.982725773168647, 0.9769670963287355]\n",
      " val_precision:[0.46983043914255884, 0.10290154677046386]\n",
      " val_recall:[0.687931654245957, 0.07666640842090482]\n",
      " val_f1: [0.5581177772487597, 0.086569670307789]\n"
     ]
    },
    {
     "name": "stderr",
     "output_type": "stream",
     "text": [
      " 90%|████████▉ | 269/300 [01:21<00:09,  3.27it/s]"
     ]
    },
    {
     "name": "stdout",
     "output_type": "stream",
     "text": [
      "268th epoch\n",
      " val_loss: 706.4863652768341\n",
      " val_acc:[0.9827353410098865, 0.9770249983538754]\n",
      " val_precision:[0.46994366334832227, 0.1035016359680373]\n",
      " val_recall:[0.687931654245957, 0.07649657146438309]\n",
      " val_f1: [0.5582002330795477, 0.08663311320912004]\n"
     ]
    },
    {
     "name": "stderr",
     "output_type": "stream",
     "text": [
      " 90%|█████████ | 270/300 [01:21<00:09,  3.24it/s]"
     ]
    },
    {
     "name": "stdout",
     "output_type": "stream",
     "text": [
      "269th epoch\n",
      " val_loss: 704.1639477273692\n",
      " val_acc:[0.9827353410098865, 0.9770902576653854]\n",
      " val_precision:[0.46994366334832227, 0.10335444359351763]\n",
      " val_recall:[0.687931654245957, 0.07632673483179964]\n",
      " val_f1: [0.5582002330795477, 0.08646987713277149]\n"
     ]
    },
    {
     "name": "stderr",
     "output_type": "stream",
     "text": [
      " 90%|█████████ | 271/300 [01:21<00:08,  3.25it/s]"
     ]
    },
    {
     "name": "stdout",
     "output_type": "stream",
     "text": [
      "270th epoch\n",
      " val_loss: 702.3469039253567\n",
      " val_acc:[0.9827831802160842, 0.977175191692684]\n",
      " val_precision:[0.4709626812001932, 0.10338841046652072]\n",
      " val_recall:[0.687931654245957, 0.07619086539615756]\n",
      " val_f1: [0.5589203544012389, 0.08640694086736325]\n"
     ]
    },
    {
     "name": "stderr",
     "output_type": "stream",
     "text": [
      " 91%|█████████ | 272/300 [01:21<00:08,  3.26it/s]"
     ]
    },
    {
     "name": "stdout",
     "output_type": "stream",
     "text": [
      "271th epoch\n",
      " val_loss: 699.9634266728941\n",
      " val_acc:[0.9828301538591799, 0.9772334383881611]\n",
      " val_precision:[0.4710759067017098, 0.10287684117160417]\n",
      " val_recall:[0.687931654245957, 0.07569679423518803]\n",
      " val_f1: [0.5590038188088542, 0.08562247919623678]\n"
     ]
    },
    {
     "name": "stderr",
     "output_type": "stream",
     "text": [
      " 91%|█████████ | 273/300 [01:22<00:08,  3.27it/s]"
     ]
    },
    {
     "name": "stdout",
     "output_type": "stream",
     "text": [
      "272th epoch\n",
      " val_loss: 698.0709221881368\n",
      " val_acc:[0.9828492895416592, 0.9772913404133011]\n",
      " val_precision:[0.4713023538174836, 0.10301271060724625]\n",
      " val_recall:[0.687931654245957, 0.07569679423518803]\n",
      " val_f1: [0.5591592143089207, 0.08566638645894038]\n"
     ]
    },
    {
     "name": "stderr",
     "output_type": "stream",
     "text": [
      " 91%|█████████▏| 274/300 [01:22<00:07,  3.29it/s]"
     ]
    },
    {
     "name": "stdout",
     "output_type": "stream",
     "text": [
      "273th epoch\n",
      " val_loss: 696.2110011888587\n",
      " val_acc:[0.9828588573828987, 0.9773608186970587]\n",
      " val_precision:[0.4713023538174836, 0.10300138799230693]\n",
      " val_recall:[0.687931654245957, 0.07547034485184628]\n",
      " val_f1: [0.5591592143089207, 0.08551725256547271]\n"
     ]
    },
    {
     "name": "stderr",
     "output_type": "stream",
     "text": [
      " 92%|█████████▏| 275/300 [01:22<00:07,  3.26it/s]"
     ]
    },
    {
     "name": "stdout",
     "output_type": "stream",
     "text": [
      "274th epoch\n",
      " val_loss: 694.2274548074473\n",
      " val_acc:[0.9828779930653777, 0.9773994165918102]\n",
      " val_precision:[0.4717552506405373, 0.10279758416278209]\n",
      " val_recall:[0.687931654245957, 0.07519860598056213]\n",
      " val_f1: [0.5594759726124524, 0.08525982069177107]\n"
     ]
    },
    {
     "name": "stderr",
     "output_type": "stream",
     "text": [
      " 92%|█████████▏| 276/300 [01:23<00:07,  3.25it/s]"
     ]
    },
    {
     "name": "stdout",
     "output_type": "stream",
     "text": [
      "275th epoch\n",
      " val_loss: 692.1004419741423\n",
      " val_acc:[0.982897128747857, 0.9774843376615774]\n",
      " val_precision:[0.4720949245535809, 0.10302403289824727]\n",
      " val_recall:[0.687931654245957, 0.07485893222948779]\n",
      " val_f1: [0.5597073424299791, 0.08513908643334012]\n"
     ]
    },
    {
     "name": "stderr",
     "output_type": "stream",
     "text": [
      " 92%|█████████▏| 277/300 [01:23<00:07,  3.23it/s]"
     ]
    },
    {
     "name": "stdout",
     "output_type": "stream",
     "text": [
      "276th epoch\n",
      " val_loss: 690.0685033383576\n",
      " val_acc:[0.9829354001128154, 0.9775611784147181]\n",
      " val_precision:[0.47254782267238776, 0.10317122494882866]\n",
      " val_recall:[0.687931654245957, 0.07485893222948779]\n",
      " val_f1: [0.5600223228118912, 0.08518798520461927]\n"
     ]
    },
    {
     "name": "stderr",
     "output_type": "stream",
     "text": [
      " 93%|█████████▎| 278/300 [01:23<00:06,  3.24it/s]"
     ]
    },
    {
     "name": "stdout",
     "output_type": "stream",
     "text": [
      "277th epoch\n",
      " val_loss: 688.1495374596637\n",
      " val_acc:[0.9829354001128154, 0.9776152216869852]\n",
      " val_precision:[0.47254782267238776, 0.10286551823272656]\n",
      " val_recall:[0.687931654245957, 0.07451925831644432]\n",
      " val_f1: [0.5600223228118912, 0.08485566221696603]\n"
     ]
    },
    {
     "name": "stderr",
     "output_type": "stream",
     "text": [
      " 93%|█████████▎| 279/300 [01:24<00:06,  3.26it/s]"
     ]
    },
    {
     "name": "stdout",
     "output_type": "stream",
     "text": [
      "278th epoch\n",
      " val_loss: 686.5076891028361\n",
      " val_acc:[0.9829736714777737, 0.9776878693829412]\n",
      " val_precision:[0.47356684311576497, 0.10312078816249322]\n",
      " val_recall:[0.687931654245957, 0.07451925831644432]\n",
      " val_f1: [0.5607639163203313, 0.0851142753951344]\n"
     ]
    },
    {
     "name": "stderr",
     "output_type": "stream",
     "text": [
      " 93%|█████████▎| 280/300 [01:24<00:06,  3.27it/s]"
     ]
    },
    {
     "name": "stdout",
     "output_type": "stream",
     "text": [
      "279th epoch\n",
      " val_loss: 684.9154636548913\n",
      " val_acc:[0.9829832393190134, 0.9777727878612019]\n",
      " val_precision:[0.47390651702880854, 0.10320004549525356]\n",
      " val_recall:[0.687931654245957, 0.07451925831644432]\n",
      " val_f1: [0.5610028588638776, 0.08513751416233523]\n"
     ]
    },
    {
     "name": "stderr",
     "output_type": "stream",
     "text": [
      " 94%|█████████▎| 281/300 [01:24<00:05,  3.28it/s]"
     ]
    },
    {
     "name": "stdout",
     "output_type": "stream",
     "text": [
      "280th epoch\n",
      " val_loss: 683.284949924635\n",
      " val_acc:[0.982992807160253, 0.9778341987858649]\n",
      " val_precision:[0.47424618835034565, 0.1036025077995399]\n",
      " val_recall:[0.687931654245957, 0.07451925831644432]\n",
      " val_f1: [0.5612399572209433, 0.08542771040461172]\n"
     ]
    },
    {
     "name": "stderr",
     "output_type": "stream",
     "text": [
      " 94%|█████████▍| 282/300 [01:25<00:05,  3.27it/s]"
     ]
    },
    {
     "name": "stdout",
     "output_type": "stream",
     "text": [
      "281th epoch\n",
      " val_loss: 681.7460201097572\n",
      " val_acc:[0.9830023775929988, 0.9778612074644671]\n",
      " val_precision:[0.47424618835034565, 0.10348928326983817]\n",
      " val_recall:[0.687931654245957, 0.07434942135992258]\n",
      " val_f1: [0.5612399572209433, 0.08527261821323025]\n"
     ]
    },
    {
     "name": "stderr",
     "output_type": "stream",
     "text": [
      " 94%|█████████▍| 283/300 [01:25<00:05,  3.26it/s]"
     ]
    },
    {
     "name": "stdout",
     "output_type": "stream",
     "text": [
      "282th epoch\n",
      " val_loss: 679.6747648819633\n",
      " val_acc:[0.983021513275478, 0.9779229630594669]\n",
      " val_precision:[0.4749255361764327, 0.10352325046677954]\n",
      " val_recall:[0.687931654245957, 0.07421355176231136]\n",
      " val_f1: [0.5616946397791309, 0.08520060457727753]\n"
     ]
    },
    {
     "name": "stderr",
     "output_type": "stream",
     "text": [
      " 95%|█████████▍| 284/300 [01:25<00:04,  3.24it/s]"
     ]
    },
    {
     "name": "stdout",
     "output_type": "stream",
     "text": [
      "283th epoch\n",
      " val_loss: 677.8666401738707\n",
      " val_acc:[0.9830597872319429, 0.9779577047928522]\n",
      " val_precision:[0.47628423053285346, 0.10376102181718402]\n",
      " val_recall:[0.687931654245957, 0.07407768200273099]\n",
      " val_f1: [0.5626210779670217, 0.0852087912260478]\n"
     ]
    },
    {
     "name": "stderr",
     "output_type": "stream",
     "text": [
      " 95%|█████████▌| 285/300 [01:25<00:04,  3.23it/s]"
     ]
    },
    {
     "name": "stdout",
     "output_type": "stream",
     "text": [
      "284th epoch\n",
      " val_loss: 676.4492333453635\n",
      " val_acc:[0.9830789229144219, 0.9780156042264856]\n",
      " val_precision:[0.4766239018543907, 0.10382895685894336]\n",
      " val_recall:[0.687931654245957, 0.07407768200273099]\n",
      " val_f1: [0.5628414729372825, 0.08522887518704587]\n"
     ]
    },
    {
     "name": "stderr",
     "output_type": "stream",
     "text": [
      " 95%|█████████▌| 286/300 [01:26<00:04,  3.24it/s]"
     ]
    },
    {
     "name": "stdout",
     "output_type": "stream",
     "text": [
      "285th epoch\n",
      " val_loss: 674.6892733366595\n",
      " val_acc:[0.9831267647121262, 0.978081218574358]\n",
      " val_precision:[0.47832226882810175, 0.10391953664467388]\n",
      " val_recall:[0.687931654245957, 0.07407768200273099]\n",
      " val_f1: [0.5640446692560234, 0.08524806152820466]\n"
     ]
    },
    {
     "name": "stderr",
     "output_type": "stream",
     "text": [
      " 96%|█████████▌| 287/300 [01:26<00:04,  3.19it/s]"
     ]
    },
    {
     "name": "stdout",
     "output_type": "stream",
     "text": [
      "286th epoch\n",
      " val_loss: 673.1933155889099\n",
      " val_acc:[0.9831928688546885, 0.9781275417493737]\n",
      " val_precision:[0.4793104114739791, 0.10403276149831389]\n",
      " val_recall:[0.687931654245957, 0.07407768200273099]\n",
      " val_f1: [0.5647421813927521, 0.08528903822963252]\n"
     ]
    },
    {
     "name": "stderr",
     "output_type": "stream",
     "text": [
      " 96%|█████████▌| 288/300 [01:26<00:03,  3.20it/s]"
     ]
    },
    {
     "name": "stdout",
     "output_type": "stream",
     "text": [
      "287th epoch\n",
      " val_loss: 671.627333931301\n",
      " val_acc:[0.9832502784936322, 0.9781507046326345]\n",
      " val_precision:[0.48134845495224, 0.10376102262702974]\n",
      " val_recall:[0.687931654245957, 0.07390784504620924]\n",
      " val_f1: [0.5661716855824506, 0.08507923628917913]\n"
     ]
    },
    {
     "name": "stderr",
     "output_type": "stream",
     "text": [
      " 96%|█████████▋| 289/300 [01:27<00:03,  3.21it/s]"
     ]
    },
    {
     "name": "stdout",
     "output_type": "stream",
     "text": [
      "288th epoch\n",
      " val_loss: 670.2067128057065\n",
      " val_acc:[0.9834407749383347, 0.9781854411830072]\n",
      " val_precision:[0.48777136465777526, 0.10379498982397112]\n",
      " val_recall:[0.687931654245957, 0.07390784504620924]\n",
      " val_f1: [0.5705078021349449, 0.08509208253613601]\n"
     ]
    },
    {
     "name": "stderr",
     "output_type": "stream",
     "text": [
      " 97%|█████████▋| 290/300 [01:27<00:03,  3.23it/s]"
     ]
    },
    {
     "name": "stdout",
     "output_type": "stream",
     "text": [
      "289th epoch\n",
      " val_loss: 669.002617214037\n",
      " val_acc:[0.9836034334224204, 0.978246854699176]\n",
      " val_precision:[0.492526791665865, 0.10379498982397112]\n",
      " val_recall:[0.687931654245957, 0.07390784504620924]\n",
      " val_f1: [0.5737597736431289, 0.08509208253613601]\n"
     ]
    },
    {
     "name": "stderr",
     "output_type": "stream",
     "text": [
      " 97%|█████████▋| 291/300 [01:27<00:02,  3.23it/s]"
     ]
    },
    {
     "name": "stdout",
     "output_type": "stream",
     "text": [
      "290th epoch\n",
      " val_loss: 667.3066605277683\n",
      " val_acc:[0.9837852405465168, 0.9782738737438035]\n",
      " val_precision:[0.49728222126546107, 0.10365912038832904]\n",
      " val_recall:[0.687931654245957, 0.07373800808968752]\n",
      " val_f1: [0.5769660923354946, 0.08491345461930772]\n"
     ]
    },
    {
     "name": "stderr",
     "output_type": "stream",
     "text": [
      " 97%|█████████▋| 292/300 [01:28<00:02,  3.22it/s]"
     ]
    },
    {
     "name": "stdout",
     "output_type": "stream",
     "text": [
      "291th epoch\n",
      " val_loss: 665.7607607634169\n",
      " val_acc:[0.9840340147847713, 0.9783124690470486]\n",
      " val_precision:[0.5040756956390712, 0.10348928343180731]\n",
      " val_recall:[0.687931654245957, 0.07339833450058232]\n",
      " val_f1: [0.5815408233857232, 0.08462320316996684]\n"
     ]
    },
    {
     "name": "stderr",
     "output_type": "stream",
     "text": [
      " 98%|█████████▊| 293/300 [01:28<00:02,  3.23it/s]"
     ]
    },
    {
     "name": "stdout",
     "output_type": "stream",
     "text": [
      "292th epoch\n",
      " val_loss: 664.4148805037788\n",
      " val_acc:[0.9843784674354223, 0.9783433494360552]\n",
      " val_precision:[0.5129072018291639, 0.10371573249121077]\n",
      " val_recall:[0.687931654245957, 0.07373800808968752]\n",
      " val_f1: [0.5873508482763471, 0.08493375208180212]\n"
     ]
    },
    {
     "name": "stderr",
     "output_type": "stream",
     "text": [
      " 98%|█████████▊| 294/300 [01:28<00:01,  3.24it/s]"
     ]
    },
    {
     "name": "stdout",
     "output_type": "stream",
     "text": [
      "293th epoch\n",
      " val_loss: 663.1658816130264\n",
      " val_acc:[0.9846742204997851, 0.978378088577934]\n",
      " val_precision:[0.5203800149585889, 0.10371573249121077]\n",
      " val_recall:[0.687931654245957, 0.07373800808968752]\n",
      " val_f1: [0.5922409194361858, 0.08493375208180212]\n"
     ]
    },
    {
     "name": "stderr",
     "output_type": "stream",
     "text": [
      " 98%|█████████▊| 295/300 [01:29<00:01,  3.25it/s]"
     ]
    },
    {
     "name": "stdout",
     "output_type": "stream",
     "text": [
      "294th epoch\n",
      " val_loss: 661.9889818274456\n",
      " val_acc:[0.9851995991623921, 0.9784012488696886]\n",
      " val_precision:[0.5332876094009565, 0.10354589553468903]\n",
      " val_recall:[0.687931654245957, 0.07356817113316577]\n",
      " val_f1: [0.6005021515369141, 0.0847577393944407]\n"
     ]
    },
    {
     "name": "stderr",
     "output_type": "stream",
     "text": [
      " 99%|█████████▊| 296/300 [01:29<00:01,  3.25it/s]"
     ]
    },
    {
     "name": "stdout",
     "output_type": "stream",
     "text": [
      "295th epoch\n",
      " val_loss: 660.7536282746689\n",
      " val_acc:[0.9856875849806743, 0.9784051102140676]\n",
      " val_precision:[0.545855523451515, 0.10354589553468903]\n",
      " val_recall:[0.687931654245957, 0.07356817113316577]\n",
      " val_f1: [0.6083915706988614, 0.0847577393944407]\n"
     ]
    },
    {
     "name": "stderr",
     "output_type": "stream",
     "text": [
      " 99%|█████████▉| 297/300 [01:29<00:00,  3.26it/s]"
     ]
    },
    {
     "name": "stdout",
     "output_type": "stream",
     "text": [
      "296th epoch\n",
      " val_loss: 659.4943542480469\n",
      " val_acc:[0.9860972736192788, 0.9784321292586949]\n",
      " val_precision:[0.5560148436090222, 0.10360250796150904]\n",
      " val_recall:[0.687931654245957, 0.07356817113316577]\n",
      " val_f1: [0.6146682897418907, 0.08477887895115693]\n"
     ]
    },
    {
     "name": "stderr",
     "output_type": "stream",
     "text": [
      " 99%|█████████▉| 298/300 [01:29<00:00,  3.26it/s]"
     ]
    },
    {
     "name": "stdout",
     "output_type": "stream",
     "text": [
      "297th epoch\n",
      " val_loss: 658.0621430770211\n",
      " val_acc:[0.9865652504174606, 0.9784630070561949]\n",
      " val_precision:[0.5699105781057606, 0.10360250796150904]\n",
      " val_recall:[0.687931654245957, 0.07356817113316577]\n",
      " val_f1: [0.6231101494363164, 0.08477887895115693]\n"
     ]
    },
    {
     "name": "stderr",
     "output_type": "stream",
     "text": [
      "100%|█████████▉| 299/300 [01:30<00:00,  3.21it/s]"
     ]
    },
    {
     "name": "stdout",
     "output_type": "stream",
     "text": [
      "298th epoch\n",
      " val_loss: 656.7053594174591\n",
      " val_acc:[0.9870332298071489, 0.9784823085950769]\n",
      " val_precision:[0.5827872856803561, 0.10360250796150904]\n",
      " val_recall:[0.687931654245957, 0.07356817113316577]\n",
      " val_f1: [0.6307497937663284, 0.08477887895115693]\n"
     ]
    },
    {
     "name": "stderr",
     "output_type": "stream",
     "text": [
      "100%|██████████| 300/300 [01:30<00:00,  3.31it/s]"
     ]
    },
    {
     "name": "stdout",
     "output_type": "stream",
     "text": [
      "299th epoch\n",
      " val_loss: 655.744819972826\n",
      " val_acc:[0.9874829364859539, 0.9784977461980737]\n",
      " val_precision:[0.5956948814184769, 0.10414598570407735]\n",
      " val_recall:[0.687931654245957, 0.07311527366223543]\n",
      " val_f1: [0.6383088652181371, 0.0846576630661553]\n"
     ]
    },
    {
     "name": "stderr",
     "output_type": "stream",
     "text": [
      "\n"
     ]
    }
   ],
   "source": [
    "from torch.utils.tensorboard import SummaryWriter\n",
    "# torch.autograd.set_detect_anomaly(True)\n",
    "# scaler = torch.cuda.amp.GradScaler()\n",
    "\n",
    "writer = SummaryWriter('../../tf-logs')\n",
    "for epoch in tqdm.trange(EPOCH):\n",
    "\n",
    "    # train\n",
    "    model.train()\n",
    "    for step, data in enumerate(train_loader):\n",
    "\n",
    "        loss, acc, precision, recall, f1 = one_forward(data)\n",
    "        one_backward(optimizer, loss)\n",
    "        \n",
    "        # one_train_scaler(scaler, data, optimizer)\n",
    "        # LR_SCHEDULER.step()\n",
    "        \n",
    "\n",
    "    # val\n",
    "    model.eval()\n",
    "    val_loss, val_acc, val_precision, val_recall, val_F1 = 0, [0, 0], [0, 0], [0, 0], [0, 0]\n",
    "    with torch.no_grad():\n",
    "        for step, data in enumerate(test_loader):\n",
    "            loss, acc, precision, recall, f1 = one_forward(data)\n",
    "            l = len(test_loader)\n",
    "            val_loss += loss.item() / l\n",
    "            val_acc[0] += acc[0]/l\n",
    "            val_acc[1] += acc[1]/l\n",
    "            val_precision[0] += precision[0]/l\n",
    "            val_precision[1] += precision[1]/l\n",
    "            val_recall[0] += recall[0]/l\n",
    "            val_recall[1] += recall[1]/l\n",
    "            val_F1[0] += f1[0]/l \n",
    "            val_F1[1] += f1[1]/l \n",
    "            \n",
    "    print('{}th epoch\\n val_loss: {}\\n val_acc:{}\\n val_precision:{}\\n val_recall:{}\\n val_f1: {}'.format(epoch, val_loss, val_acc, val_precision, val_recall, val_F1))\n",
    "    writer.add_scalar('val_loss'+loss_name+str(Learning_Rate), val_loss, epoch)\n",
    "    writer.add_scalar('val_acc_d'+loss_name+str(Learning_Rate), val_acc[0], epoch)\n",
    "    writer.add_scalar('val_acc_b'+loss_name+str(Learning_Rate), val_acc[1], epoch)\n",
    "    # writer.add_scalar('val_precision'+loss_name+str(Learning_Rate), val_precision, epoch)\n",
    "    # writer.add_scalar('val_recall'+loss_name+str(Learning_Rate), val_recall, epoch)\n",
    "    writer.add_scalar('val_f1_d'+loss_name+str(Learning_Rate), val_F1[0], epoch)\n",
    "    writer.add_scalar('val_f1_b'+loss_name+str(Learning_Rate), val_F1[1], epoch)\n",
    "\n",
    "    # save model\n",
    "    # if epoch % 20 == 0:\n",
    "        # torch.save(model, '../savedmodel/model_epoch{}.pth'.format(epoch))\n",
    "\n",
    "writer.close()"
   ]
  },
  {
   "cell_type": "code",
   "execution_count": 13,
   "id": "fe3dc805-a62b-4d60-ad60-0b4a91c96d00",
   "metadata": {},
   "outputs": [
    {
     "name": "stdout",
     "output_type": "stream",
     "text": [
      "tensor([[0.0696, 0.0710, 0.0313, 0.0568, 0.0452, 0.1033, 0.0881, 0.0791, 0.0696,\n",
      "         0.0924, 0.1817, 0.0232, 0.0103, 0.0561, 0.0231, 0.0218, 0.0134, 0.1286,\n",
      "         0.1104, 0.0990, 0.0407, 0.0341, 0.0852, 0.1356, 0.0344, 0.0875, 0.0483,\n",
      "         0.0324, 0.1097, 0.0123, 0.0949, 0.0242, 0.0643, 0.0125, 0.0753, 0.0149,\n",
      "         0.0416, 0.0541, 0.0656, 0.1316, 0.1336, 0.0228, 0.4929, 0.0225, 0.0754,\n",
      "         0.0328, 0.0635, 0.0188, 0.0494, 0.2211, 0.0706, 0.0359, 0.0401, 0.0213,\n",
      "         0.0822, 0.0477, 0.0665, 0.0179, 0.0140, 0.0629, 0.0417, 0.0086, 0.0965,\n",
      "         0.0872, 0.1246, 0.0793, 0.0466, 0.0763, 0.8481, 0.2071, 0.1395]],\n",
      "       device='cuda:0', grad_fn=<SigmoidBackward0>) tensor([[0.0265, 0.0769, 0.0734, 0.0278, 0.0504, 0.1285, 0.2128, 0.0731, 0.0296,\n",
      "         0.0295, 0.0297, 0.1111, 0.0318, 0.3357, 0.0444, 0.2317, 0.1443, 0.0762,\n",
      "         0.1007, 0.0208, 0.0520, 0.0660, 0.0669, 0.0336, 0.0208, 0.0895, 0.0440,\n",
      "         0.0215, 0.0829, 0.1820, 0.0813, 0.2198, 0.0889, 0.3523, 0.0510, 0.2008,\n",
      "         0.0803, 0.1356, 0.1177, 0.2503, 0.0130, 0.0203, 0.2245, 0.0399, 0.0390,\n",
      "         0.2191, 0.0661, 0.0167, 0.2017, 0.0360, 0.0288, 0.0597, 0.0899, 0.0974,\n",
      "         0.0586, 0.2711, 0.0137, 0.1677, 0.0704, 0.1020, 0.0334, 0.0851, 0.0424,\n",
      "         0.0486, 0.0413, 0.0592, 0.0420, 0.0507, 0.0345, 0.2094, 0.0876, 0.1225,\n",
      "         0.0399, 0.0926, 0.0385, 0.1275, 0.0991, 0.1031, 0.0523, 0.0738, 0.0271,\n",
      "         0.0383, 0.1585, 0.0920, 0.0794, 0.0419, 0.0475, 0.0525, 0.0226, 0.0360,\n",
      "         0.1174, 0.3119, 0.0581, 0.0445, 0.0279, 0.0846, 0.0564, 0.0254, 0.1566,\n",
      "         0.0274, 0.0852, 0.0934, 0.0579, 0.0592, 0.1152, 0.0389, 0.0639, 0.0712,\n",
      "         0.0111, 0.1465, 0.0301, 0.0374, 0.0356, 0.1234, 0.1282, 0.0195, 0.0103,\n",
      "         0.0260, 0.6823, 0.0259, 0.0699, 0.0250, 0.0445, 0.1166, 0.0857, 0.0826,\n",
      "         0.2295, 0.0631, 0.3478, 0.0870, 0.0907, 0.0727, 0.1248, 0.1143, 0.1680,\n",
      "         0.1911, 0.0307, 0.1302, 0.1742, 0.0742, 0.0696, 0.0656, 0.0172, 0.1152,\n",
      "         0.0233, 0.3450, 0.0137, 0.0714, 0.0444, 0.0952, 0.0550, 0.0550, 0.0345,\n",
      "         0.1584, 0.0266, 0.0927, 0.0321, 0.0491, 0.0713, 0.0496, 0.0565, 0.0140,\n",
      "         0.0135, 0.0468, 0.0170, 0.0249, 0.1113, 0.0342, 0.0255, 0.0611, 0.1089,\n",
      "         0.0473, 0.0301, 0.0949, 0.0249, 0.0063]], device='cuda:0',\n",
      "       grad_fn=<SigmoidBackward0>)\n",
      "tensor(0.4929, device='cuda:0', grad_fn=<SelectBackward0>)\n",
      "tensor([[0., 0., 0., 0., 0., 0., 0., 0., 0., 0., 0., 0., 0., 0., 0., 0., 0., 0.,\n",
      "         0., 0., 0., 0., 0., 0., 0., 0., 0., 0., 0., 0., 0., 0., 0., 0., 0., 0.,\n",
      "         0., 0., 0., 0., 0., 0., 0., 0., 0., 0., 0., 0., 0., 0., 0., 0., 0., 0.,\n",
      "         0., 0., 0., 0., 0., 0., 0., 0., 0., 0., 0., 0., 0., 0., 1., 0., 0.]],\n",
      "       device='cuda:0') tensor([[0., 0., 0., 0., 0., 0., 0., 0., 0., 0., 0., 0., 0., 0., 0., 0., 0., 0.,\n",
      "         0., 0., 0., 0., 0., 0., 0., 0., 0., 0., 0., 0., 0., 0., 0., 0., 0., 0.,\n",
      "         0., 0., 0., 0., 0., 0., 0., 0., 0., 0., 0., 0., 0., 0., 0., 0., 0., 0.,\n",
      "         0., 0., 0., 0., 0., 0., 0., 0., 0., 0., 0., 0., 0., 0., 0., 0., 0., 0.,\n",
      "         0., 0., 0., 0., 0., 0., 0., 0., 0., 0., 0., 0., 0., 0., 0., 0., 0., 0.,\n",
      "         0., 0., 0., 0., 0., 0., 0., 0., 0., 0., 0., 0., 0., 0., 0., 0., 0., 0.,\n",
      "         0., 0., 0., 0., 0., 0., 0., 0., 0., 0., 1., 0., 0., 0., 0., 0., 0., 0.,\n",
      "         0., 0., 0., 0., 0., 0., 0., 0., 0., 0., 0., 0., 0., 0., 0., 0., 0., 0.,\n",
      "         0., 0., 0., 0., 0., 0., 0., 0., 0., 0., 0., 0., 0., 0., 0., 0., 0., 0.,\n",
      "         0., 0., 0., 0., 0., 0., 0., 0., 0., 0., 0., 0., 0., 0.]],\n",
      "       device='cuda:0')\n"
     ]
    }
   ],
   "source": [
    "(x_c, x_a), (y_d, y_b) = test_dataset[0]\n",
    "x_c = torch.reshape(x_c.long().to(device), (1, 300))\n",
    "x_a = torch.reshape(x_a.long().to(device), (1, 300))\n",
    "y_d_pred, y_b_pred = model(x_c, x_a)\n",
    "\n",
    "print(y_d_pred, y_b_pred)\n",
    "# y_d_pred, y_b_pred = nn.Softmax(dim=1)(y_d_pred), nn.Sigmoid()(y_b_pred)\n",
    "print(y_d_pred[0][-29])\n",
    "#TODO: 调整阈值\n",
    "#TODO: 多标签分类问题：换用F1分数、Hamming损失或Jaccard相似度\n",
    "print(torch.where(y_d_pred > 0.5, 1.0, 0.0), torch.where(y_b_pred > 0.5, 1.0, 0.0))\n"
   ]
  },
  {
   "cell_type": "code",
   "execution_count": 14,
   "id": "7da67242-c892-4e93-8fc6-831e6409438a",
   "metadata": {},
   "outputs": [
    {
     "name": "stdout",
     "output_type": "stream",
     "text": [
      "tensor([0., 0., 0., 0., 0., 0., 0., 0., 0., 0., 0., 0., 0., 0., 0., 0., 0., 0.,\n",
      "        0., 0., 0., 0., 0., 0., 0., 0., 0., 0., 0., 0., 0., 0., 0., 0., 0., 0.,\n",
      "        0., 0., 0., 0., 0., 0., 0., 0., 0., 0., 0., 0., 0., 0., 0., 0., 0., 0.,\n",
      "        0., 0., 0., 0., 0., 0., 0., 0., 0., 0., 0., 0., 0., 0., 1., 0., 0.]) tensor([0., 0., 0., 0., 0., 1., 0., 0., 0., 0., 0., 0., 0., 0., 0., 0., 0., 0.,\n",
      "        0., 0., 0., 0., 0., 0., 0., 0., 0., 0., 0., 0., 0., 0., 0., 0., 0., 0.,\n",
      "        0., 0., 0., 0., 0., 0., 0., 0., 0., 0., 0., 0., 0., 0., 0., 0., 0., 0.,\n",
      "        0., 0., 0., 0., 0., 0., 0., 0., 0., 0., 0., 0., 0., 0., 0., 0., 0., 0.,\n",
      "        0., 0., 0., 0., 0., 0., 0., 0., 0., 0., 0., 0., 0., 0., 0., 0., 0., 0.,\n",
      "        0., 0., 0., 0., 0., 0., 0., 0., 0., 0., 0., 0., 0., 1., 0., 0., 0., 0.,\n",
      "        0., 0., 0., 0., 0., 0., 0., 0., 0., 0., 0., 0., 0., 0., 0., 0., 0., 0.,\n",
      "        0., 0., 0., 0., 0., 0., 0., 0., 0., 0., 0., 0., 0., 0., 0., 0., 0., 0.,\n",
      "        0., 0., 0., 0., 0., 0., 0., 1., 0., 0., 0., 0., 0., 0., 0., 0., 0., 0.,\n",
      "        0., 0., 0., 0., 0., 0., 0., 0., 0., 0., 0., 0., 0., 0.])\n"
     ]
    }
   ],
   "source": [
    "print(y_d, y_b)"
   ]
  },
  {
   "cell_type": "code",
   "execution_count": 15,
   "id": "8380799b-50c9-40e0-b9fa-45ae77739f58",
   "metadata": {},
   "outputs": [
    {
     "ename": "ValueError",
     "evalue": "not enough values to unpack (expected 2, got 1)",
     "output_type": "error",
     "traceback": [
      "\u001b[0;31m---------------------------------------------------------------------------\u001b[0m",
      "\u001b[0;31mValueError\u001b[0m                                Traceback (most recent call last)",
      "Cell \u001b[0;32mIn[15], line 3\u001b[0m\n\u001b[1;32m      1\u001b[0m y_d \u001b[38;5;241m=\u001b[39m y_d\u001b[38;5;241m.\u001b[39mreshape(\u001b[38;5;241m1\u001b[39m, \u001b[38;5;241m-\u001b[39m\u001b[38;5;241m1\u001b[39m)\n\u001b[1;32m      2\u001b[0m y_d_pred \u001b[38;5;241m=\u001b[39m y_d_pred\u001b[38;5;241m.\u001b[39mreshape(\u001b[38;5;241m1\u001b[39m, \u001b[38;5;241m-\u001b[39m\u001b[38;5;241m1\u001b[39m)\n\u001b[0;32m----> 3\u001b[0m \u001b[38;5;28;01mfor\u001b[39;00m i, l \u001b[38;5;129;01min\u001b[39;00m \u001b[43mmetrics\u001b[49m\u001b[43m(\u001b[49m\u001b[43my_d\u001b[49m\u001b[38;5;241;43m.\u001b[39;49m\u001b[43mto\u001b[49m\u001b[43m(\u001b[49m\u001b[43mdevice\u001b[49m\u001b[43m)\u001b[49m\u001b[43m,\u001b[49m\u001b[43m \u001b[49m\u001b[43my_d_pred\u001b[49m\u001b[43m,\u001b[49m\u001b[43m \u001b[49m\u001b[43mfrom_logits\u001b[49m\u001b[43m \u001b[49m\u001b[38;5;241;43m=\u001b[39;49m\u001b[43m \u001b[49m\u001b[38;5;28;43;01mTrue\u001b[39;49;00m\u001b[43m,\u001b[49m\u001b[43m \u001b[49m\u001b[43msplit_pos\u001b[49m\u001b[43m \u001b[49m\u001b[38;5;241;43m=\u001b[39;49m\u001b[43m \u001b[49m\u001b[43mnum_out\u001b[49m\u001b[43m[\u001b[49m\u001b[38;5;241;43m0\u001b[39;49m\u001b[43m]\u001b[49m\u001b[43m)\u001b[49m\u001b[38;5;241m.\u001b[39mitems():\n\u001b[1;32m      4\u001b[0m     \u001b[38;5;28mprint\u001b[39m(i, l)\n",
      "Cell \u001b[0;32mIn[10], line 6\u001b[0m, in \u001b[0;36mmetrics\u001b[0;34m(y, y_pred, threshold, from_logits, split_pos)\u001b[0m\n\u001b[1;32m      3\u001b[0m     y_pred \u001b[38;5;241m=\u001b[39m nn\u001b[38;5;241m.\u001b[39mSigmoid()(y_pred)\n\u001b[1;32m      4\u001b[0m pred \u001b[38;5;241m=\u001b[39m torch\u001b[38;5;241m.\u001b[39mwhere(y_pred \u001b[38;5;241m>\u001b[39m threshold, \u001b[38;5;241m1\u001b[39m, \u001b[38;5;241m0\u001b[39m)\n\u001b[0;32m----> 6\u001b[0m y_d, y_b \u001b[38;5;241m=\u001b[39m torch\u001b[38;5;241m.\u001b[39msplit(y, split_pos, dim\u001b[38;5;241m=\u001b[39m\u001b[38;5;241m1\u001b[39m)\n\u001b[1;32m      7\u001b[0m pred_d, pred_b \u001b[38;5;241m=\u001b[39m torch\u001b[38;5;241m.\u001b[39msplit(pred, split_pos, dim\u001b[38;5;241m=\u001b[39m\u001b[38;5;241m1\u001b[39m)\n\u001b[1;32m      9\u001b[0m TPd, TPb \u001b[38;5;241m=\u001b[39m torch\u001b[38;5;241m.\u001b[39msum(y_d \u001b[38;5;241m*\u001b[39m pred_d, dim\u001b[38;5;241m=\u001b[39m\u001b[38;5;241m1\u001b[39m), torch\u001b[38;5;241m.\u001b[39msum(y_b \u001b[38;5;241m*\u001b[39m pred_b, dim\u001b[38;5;241m=\u001b[39m\u001b[38;5;241m1\u001b[39m)\n",
      "\u001b[0;31mValueError\u001b[0m: not enough values to unpack (expected 2, got 1)"
     ]
    }
   ],
   "source": [
    "y_d = y_d.reshape(1, -1)\n",
    "y_d_pred = y_d_pred.reshape(1, -1)\n",
    "for i, l in metrics(y_d.to(device), y_d_pred, from_logits = True, split_pos = num_out[0]).items():\n",
    "    print(i, l)"
   ]
  },
  {
   "cell_type": "code",
   "execution_count": null,
   "id": "ffe67da9-b243-4735-90c8-41fc5d6b19da",
   "metadata": {},
   "outputs": [],
   "source": [
    "y_b = y_b.reshape(1, -1)\n",
    "y_b_pred = y_b_pred.reshape(1, -1)\n",
    "metrics(y_b.to(device), y_b_pred, from_logits = True), metrics(y_b.to(device), y_b_pred, from_logits = False), metricsy_b.to(device), y_b_pred, from_logits = True, recall=True), metricsy_b.to(device), y_b_pred, from_logits = False, recall=True)"
   ]
  },
  {
   "cell_type": "code",
   "execution_count": null,
   "id": "09476b14-ee4a-4ccd-98f7-15b137752a20",
   "metadata": {},
   "outputs": [],
   "source": [
    "print(num_out)"
   ]
  },
  {
   "cell_type": "code",
   "execution_count": null,
   "id": "852c831f-a309-46d1-a6d2-04b2b5114fe4",
   "metadata": {},
   "outputs": [],
   "source": []
  },
  {
   "cell_type": "code",
   "execution_count": null,
   "id": "9e3ed0c7-074f-4517-98cc-2b2ad709f2d5",
   "metadata": {},
   "outputs": [],
   "source": []
  }
 ],
 "metadata": {
  "kernelspec": {
   "display_name": "Python 3 (ipykernel)",
   "language": "python",
   "name": "python3"
  },
  "language_info": {
   "codemirror_mode": {
    "name": "ipython",
    "version": 3
   },
   "file_extension": ".py",
   "mimetype": "text/x-python",
   "name": "python",
   "nbconvert_exporter": "python",
   "pygments_lexer": "ipython3",
   "version": "3.10.8"
  }
 },
 "nbformat": 4,
 "nbformat_minor": 5
}
