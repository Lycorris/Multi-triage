{
 "cells": [
  {
   "cell_type": "code",
   "execution_count": null,
   "id": "b9544780-798f-4bf2-babe-5c804685346d",
   "metadata": {},
   "outputs": [],
   "source": [
    "import pandas as pd\n",
    "import torch\n",
    "from torch.utils.data import Dataset, DataLoader\n",
    "from torch import nn\n",
    "from torch.nn import BCELoss\n",
    "from torch.optim import SGD, Adam\n",
    "from keras_preprocessing.text import Tokenizer \n",
    "from tensorflow.keras.preprocessing.sequence import pad_sequences\n",
    "from tqdm import tqdm\n",
    "import tqdm\n",
    "import time"
   ]
  },
  {
   "cell_type": "code",
   "execution_count": null,
   "id": "ef1b744d-8f1d-41fa-b7b1-dbccc36d4e12",
   "metadata": {},
   "outputs": [],
   "source": [
    "class TextCodeDataset(Dataset):\n",
    "    def __init__(self, data_path, pad_seq_len, use_AST=True, classify_btype=True):\n",
    "        self.data_path = data_path\n",
    "        self.pad_seq_len = pad_seq_len\n",
    "        self.use_AST, self.classify_btype = use_AST, classify_btype\n",
    "        self.data_pd = pd.read_csv(data_path,\n",
    "                                   error_bad_lines=False, index_col=False, dtype='unicode', encoding='latin-1',\n",
    "                                   low_memory=False).sample(frac=1)\n",
    "        self.y_dev, self.y_btype = list(self.data_pd['FixedByID']), list(self.data_pd['Name'])\n",
    "        self.y_dev, self.y_btype = [str(x) for x in self.y_dev], [str(x) for x in self.y_btype]\n",
    "        self.y_dev, self.y_btype = [x.split('|') for x in self.y_dev], [x.split('|') for x in self.y_btype]\n",
    "\n",
    "        self.x_context, self.x_AST = list(self.data_pd['Title_Description']), list(self.data_pd['AST'])\n",
    "        self.x_context, self.x_AST = [str(x) for x in self.x_context], [str(x) for x in self.x_AST]\n",
    "\n",
    "    def tokenize_input(self, tokenizer_C: Tokenizer, tokenizer_A: Tokenizer):\n",
    "        self.x_context = tokenizer_C.texts_to_sequences(self.x_context)\n",
    "        self.x_AST = tokenizer_A.texts_to_sequences(self.x_AST)\n",
    "        self.x_context = pad_sequences(self.x_context, maxlen=self.pad_seq_len, padding='post')\n",
    "        self.x_AST = pad_sequences(self.x_AST, maxlen=self.pad_seq_len, padding='post')\n",
    "        self.x_context = torch.from_numpy(self.x_context)\n",
    "        self.x_AST = torch.from_numpy(self.x_AST)\n",
    "\n",
    "    def map_output(self, map_d: dict, map_b: dict):\n",
    "        tensor_d, tensor_b = torch.zeros((len(self.data_pd), len(map_d))), torch.zeros((len(self.data_pd), len(map_b)))\n",
    "        for i, ds in enumerate(self.y_dev):\n",
    "            for d in ds:\n",
    "                tensor_d[i][map_d[d]] = 1\n",
    "        for i, bs in enumerate(self.y_btype):\n",
    "            for b in bs:\n",
    "                tensor_b[i][map_b[b]] = 1\n",
    "        self.y_dev, self.y_btype = tensor_d, tensor_b\n",
    "\n",
    "    def __getitem__(self, i):\n",
    "        input = self.x_context[i], self.x_AST[i] if self.use_AST else self.x_context[i]\n",
    "        output = self.y_dev[i], self.y_btype[i] if self.classify_btype else self.y_dev[i]\n",
    "        return input, output\n",
    "\n",
    "    def __len__(self):\n",
    "        return len(self.data_pd)"
   ]
  },
  {
   "cell_type": "code",
   "execution_count": null,
   "id": "9ce4e8de-b5ae-4c07-bd09-15a6ee7e4055",
   "metadata": {},
   "outputs": [],
   "source": [
    "def tokenize_dataset_input(train_dataset: TextCodeDataset, test_dataset: TextCodeDataset):\n",
    "    tokenizer_C = Tokenizer()\n",
    "    tokenizer_C.fit_on_texts(train_dataset.x_context + test_dataset.x_context)\n",
    "    tokenizer_A = Tokenizer()\n",
    "    tokenizer_A.fit_on_texts(train_dataset.x_AST + test_dataset.x_AST)\n",
    "    train_dataset.tokenize_input(tokenizer_C, tokenizer_A)\n",
    "    test_dataset.tokenize_input(tokenizer_C, tokenizer_A)\n",
    "    return [len(tokenizer_C.word_index)+100, len(tokenizer_A.word_index)+100]\n",
    "\n",
    "\n",
    "def map_dataset_output(train_dataset: TextCodeDataset, test_dataset: TextCodeDataset):\n",
    "    set_d, set_b = set(), set()\n",
    "    for i in range(len(train_dataset)):\n",
    "        for d in train_dataset.y_dev:\n",
    "            set_d.update(d)\n",
    "        for b in train_dataset.y_btype:\n",
    "            set_b.update(b)\n",
    "    for i in range(len(test_dataset)):\n",
    "        for d in test_dataset.y_dev:\n",
    "            set_d.update(d)\n",
    "        for b in test_dataset.y_btype:\n",
    "            set_b.update(b)\n",
    "    labels_d, labels_b = list(set_d), list(set_b)\n",
    "    labels_d.sort(), labels_b.sort()\n",
    "    map_d, map_b = {labels_d[i]: i for i in range(len(labels_d))}, {labels_b[i]: i for i in range(len(labels_b))}\n",
    "    train_dataset.map_output(map_d, map_b)\n",
    "    test_dataset.map_output(map_d, map_b)\n",
    "    return labels_d, labels_b"
   ]
  },
  {
   "cell_type": "code",
   "execution_count": null,
   "id": "cab102b8-4e6c-47aa-8ecf-d24bc7afba08",
   "metadata": {},
   "outputs": [],
   "source": [
    "# dataset\n",
    "# train_path = 'Data/powershell/C_uA_Train.csv'\n",
    "train_path = '../Data/aspnet/trainC40.csv'\n",
    "test_path = '../Data/aspnet/Nov10数据/IssueaspnetcoreWebScraptestdata5.csv'\n",
    "MAX_SEQ_LEN = 300\n",
    "EMB_DIM = 100\n",
    "Learning_Rate = 6e-3\n",
    "EPOCH = 300\n",
    "device = 'cuda' if torch.cuda.is_available() else 'cpu'\n",
    "Weight_MSE, Weight_BCE = 0, 1\n",
    "# 0, 1.0, 1e-3, 100 -> 0.008\n",
    "# 0.1, 0.9, 1e-3, 100 -> 0.04\n",
    "# 0.2, 0.8, 1e-3, 100 -> 0.06\n",
    "# 0.3, 0.7, 1e-3, 100 -> 0.12\n",
    "# 0.4, 0.6, 1e-3, 100 -> 0.15\n",
    "# 0.5, 0.5, 1e-3, 100 -> 0.19\n",
    "# 0.6, 0.4, 1e-3, 100 -> 0.2\n",
    "# 0.7, 0.3, 1e-3, 100 -> 0.2, stable\n",
    "# 0.8, 0.2, 1e-3, 100 -> 0.2, convergence   | 0.07 simple model\n",
    "# 0.9, 0.1, 1e-3, 100 -> 0.15, convergence\n",
    "# 1, 0, 1e-3, 100 -> ~0\n",
    "train_dataset = TextCodeDataset(train_path, pad_seq_len=MAX_SEQ_LEN)\n",
    "test_dataset = TextCodeDataset(test_path, pad_seq_len=MAX_SEQ_LEN)\n",
    "\n",
    "vocab_size = tokenize_dataset_input(train_dataset, test_dataset)\n",
    "idx2label = map_dataset_output(train_dataset, test_dataset)\n",
    "num_out = [len(x) for x in idx2label]\n",
    "\n",
    "# dataloader\n",
    "train_loader = DataLoader(train_dataset, batch_size=64)\n",
    "test_loader = DataLoader(test_dataset, batch_size=64)"
   ]
  },
  {
   "cell_type": "code",
   "execution_count": null,
   "id": "d38d4393-6258-471f-ae5b-b47bda48dab0",
   "metadata": {},
   "outputs": [],
   "source": [
    "print(len(train_loader))\n",
    "for data in train_loader:\n",
    "    (a, b), (c, d) = data\n",
    "    print(a.shape)\n",
    "    print(b.shape)\n",
    "    print(c.shape)\n",
    "    print(d.shape)\n",
    "    (a, b), (c, d) = train_dataset[0]\n",
    "    print(a.shape)\n",
    "    print(b.shape)\n",
    "    print(c.shape)\n",
    "    print(d.shape)\n",
    "    break"
   ]
  },
  {
   "cell_type": "code",
   "execution_count": null,
   "id": "b0a6bea1-398b-49f5-86a5-7eecbcd7dc5c",
   "metadata": {},
   "outputs": [],
   "source": [
    "def testnan(name, x):\n",
    "    if torch.isnan(x).any():\n",
    "        print(name, x)\n",
    "\n",
    "def repnan(x):\n",
    "    return torch.where(torch.isnan(x), torch.ones_like(x), x)"
   ]
  },
  {
   "cell_type": "code",
   "execution_count": null,
   "id": "67b65f9c-fe89-4115-af2a-a8bead078227",
   "metadata": {},
   "outputs": [],
   "source": [
    "#TODO :训练的太快了，是不是参数太少了拟合不了？\n",
    "# class MetaModel(nn.Module):\n",
    "#     def __init__(self, vocab_size: list, emb_dim: int, seq_len: int, num_out: list):\n",
    "#         \"\"\"\n",
    "#         Args:\n",
    "#             vocab_size: list, the size of C/A vocab\n",
    "#             emb_dim: : int, the dim of C&A emb layer\n",
    "#             seq_len:  MAX_SEQ_LEN\n",
    "#             num_out: list, the output size of D/B\n",
    "#         \"\"\"\n",
    "#         super(MetaModel, self).__init__()\n",
    "#         self.vocab_size = vocab_size\n",
    "#         self.emb_dim = emb_dim\n",
    "#         self.seq_len = seq_len\n",
    "#         self.num_out = num_out\n",
    "\n",
    "#         self.context = nn.Sequential(\n",
    "#             nn.Embedding(self.vocab_size[0], self.emb_dim),\n",
    "#             nn.Conv1d(self.seq_len, 64, kernel_size=2),\n",
    "#             nn.ReLU(),\n",
    "#             nn.Conv1d(64, 128, kernel_size=2),\n",
    "#             nn.ReLU(),\n",
    "#             nn.MaxPool1d(50, 1),\n",
    "#             nn.Flatten(),\n",
    "#         )\n",
    "#         self.AST = nn.Sequential(\n",
    "#             nn.Embedding(self.vocab_size[1], self.emb_dim),\n",
    "#             nn.Conv1d(self.seq_len, 50, kernel_size=2),\n",
    "#             nn.ReLU(),\n",
    "#             nn.Conv1d(50, 100, kernel_size=2),\n",
    "#             nn.ReLU(),\n",
    "#             nn.MaxPool1d(50, 1),\n",
    "#             nn.Flatten(),\n",
    "#         )\n",
    "#         self.fc = nn.Sequential(\n",
    "#             nn.BatchNorm1d(11172, affine=False),\n",
    "#             nn.Dropout(0.5),\n",
    "#             nn.Linear(11172, 5000),\n",
    "#             nn.ReLU(),\n",
    "#             nn.Dropout(0.5),\n",
    "#             nn.Linear(5000, 1000),\n",
    "#             nn.ReLU(),\n",
    "#             nn.Dropout(0.5),\n",
    "#             nn.Linear(1000, 500),\n",
    "#             nn.ReLU(),\n",
    "#         )\n",
    "#         self.fc_d = nn.Sequential(\n",
    "#             nn.Linear(500, self.num_out[0]),\n",
    "#             # nn.Softmax(dim=1),\n",
    "#             # nn.Sigmoid(),\n",
    "#         )\n",
    "\n",
    "#         self.fc_b = nn.Sequential(\n",
    "#             nn.Linear(500, self.num_out[1]),\n",
    "#             # nn.Softmax(dim=1),\n",
    "#             # nn.Sigmoid(),\n",
    "#         )\n",
    "\n",
    "#     def forward(self, x_C, x_A):\n",
    "#         # x, y\n",
    "#         x_C = self.context(x_C) \n",
    "#         x_A = self.AST(x_A)\n",
    "#         x = torch.concat((x_C, x_A), 1)\n",
    "#         x = self.fc(x)\n",
    "#         y_d = self.fc_d(x) \n",
    "#         y_b = self.fc_b(x) \n",
    "#         return y_d, y_b \n",
    "class MetaModel(nn.Module):\n",
    "    def __init__(self, vocab_size: list, emb_dim: int, seq_len: int, num_out: list):\n",
    "        \"\"\"\n",
    "        Args:\n",
    "            vocab_size: list, the size of C/A vocab\n",
    "            emb_dim: : int, the dim of C&A emb layer\n",
    "            seq_len:  MAX_SEQ_LEN\n",
    "            num_out: list, the output size of D/B\n",
    "        \"\"\"\n",
    "        super(MetaModel, self).__init__()\n",
    "        self.vocab_size = vocab_size\n",
    "        self.emb_dim = emb_dim\n",
    "        self.seq_len = seq_len\n",
    "        self.num_out = num_out\n",
    "\n",
    "        self.context = nn.Sequential(\n",
    "            nn.Embedding(self.vocab_size[0], self.emb_dim),\n",
    "            nn.Conv1d(self.seq_len, 64, kernel_size=2),\n",
    "            nn.ReLU(),\n",
    "            nn.MaxPool1d(99, 1),\n",
    "            nn.Flatten(),\n",
    "        )\n",
    "        self.AST = nn.Sequential(\n",
    "            nn.Embedding(self.vocab_size[1], self.emb_dim),\n",
    "            # nn.LSTM(self.emb_dim, 25, batch_first=True, bidirectional=True),\n",
    "            # nn.MaxPool1d(50, 1),\n",
    "            nn.Conv1d(self.seq_len, 50, kernel_size=2),\n",
    "            nn.ReLU(),\n",
    "            nn.MaxPool1d(99, 1),\n",
    "            nn.Flatten(),\n",
    "        )\n",
    "        self.fc = nn.Sequential(\n",
    "            nn.BatchNorm1d(114, affine=False), # one head\n",
    "            nn.Dropout(0.5),\n",
    "            nn.Linear(114, 50), # one head\n",
    "            nn.ReLU()\n",
    "        )\n",
    "        self.fc_d = nn.Sequential(\n",
    "            nn.Linear(50, self.num_out[0]),\n",
    "            # nn.Sigmoid(),\n",
    "        )\n",
    "\n",
    "        self.fc_b = nn.Sequential(\n",
    "            nn.Linear(50, self.num_out[1]),\n",
    "            # nn.Sigmoid(),\n",
    "        )\n",
    "\n",
    "    def forward(self, x_C, x_A):\n",
    "        # x, y\n",
    "        x_C = self.context(x_C) \n",
    "        x_A = self.AST(x_A) # one head\n",
    "        x = torch.concat((x_C, x_A), 1) # one head\n",
    "        x = self.fc(x) # one head\n",
    "        y_d = self.fc_d(x) # one tail \n",
    "        y_b = self.fc_b(x) # one tail \n",
    "        return y_d, y_b # one tail"
   ]
  },
  {
   "cell_type": "code",
   "execution_count": null,
   "id": "857339a6-b7e2-4ba1-84b7-66ba24e44375",
   "metadata": {},
   "outputs": [],
   "source": [
    "N_STEPS = len(train_loader) * EPOCH\n",
    "def get_lr_scheduler(optimizer):\n",
    "    return torch.optim.lr_scheduler.OneCycleLR(\n",
    "        optimizer=optimizer,\n",
    "        max_lr=Learning_Rate,\n",
    "        total_steps=N_STEPS,\n",
    "        pct_start=0.10,\n",
    "        anneal_strategy='cos',\n",
    "        div_factor=1e3,\n",
    "        final_div_factor=1e4,\n",
    "    )\n"
   ]
  },
  {
   "cell_type": "markdown",
   "id": "2d883549",
   "metadata": {},
   "source": [
    "# ASL LOSS"
   ]
  },
  {
   "cell_type": "code",
   "execution_count": null,
   "id": "6c56364f",
   "metadata": {},
   "outputs": [],
   "source": [
    "class AsymmetricLossOptimized(nn.Module):\n",
    "    ''' Notice - optimized version, minimizes memory allocation and gpu uploading,\n",
    "    favors inplace operations'''\n",
    "\n",
    "    def __init__(self, gamma_neg=4, gamma_pos=1, clip=0.05, eps=1e-8, disable_torch_grad_focal_loss=False):\n",
    "        super(AsymmetricLossOptimized, self).__init__()\n",
    "\n",
    "        self.gamma_neg = gamma_neg\n",
    "        self.gamma_pos = gamma_pos\n",
    "        self.clip = clip\n",
    "        self.disable_torch_grad_focal_loss = disable_torch_grad_focal_loss\n",
    "        self.eps = eps\n",
    "\n",
    "        # prevent memory allocation and gpu uploading every iteration, and encourages inplace operations\n",
    "        self.targets = self.anti_targets = self.xs_pos = self.xs_neg = self.asymmetric_w = self.loss = None\n",
    "\n",
    "    def forward(self, x, y):\n",
    "        \"\"\"\"\n",
    "        Parameters\n",
    "        ----------\n",
    "        x: input logits\n",
    "        y: targets (multi-label binarized vector)\n",
    "        \"\"\"\n",
    "\n",
    "        self.targets = y\n",
    "        self.anti_targets = 1 - y\n",
    "\n",
    "        # Calculating Probabilities\n",
    "        self.xs_pos = torch.sigmoid(x)\n",
    "        self.xs_neg = 1.0 - self.xs_pos\n",
    "\n",
    "        # Asymmetric Clipping\n",
    "        if self.clip is not None and self.clip > 0:\n",
    "            self.xs_neg.add_(self.clip).clamp_(max=1)\n",
    "\n",
    "        # Basic CE calculation\n",
    "        self.loss = self.targets * torch.log(self.xs_pos.clamp(min=self.eps))\n",
    "        self.loss.add_(self.anti_targets * torch.log(self.xs_neg.clamp(min=self.eps)))\n",
    "\n",
    "        # Asymmetric Focusing\n",
    "        if self.gamma_neg > 0 or self.gamma_pos > 0:\n",
    "            if self.disable_torch_grad_focal_loss:\n",
    "                torch.set_grad_enabled(False)\n",
    "            self.xs_pos = self.xs_pos * self.targets\n",
    "            self.xs_neg = self.xs_neg * self.anti_targets\n",
    "            self.asymmetric_w = torch.pow(1 - self.xs_pos - self.xs_neg,\n",
    "                                          self.gamma_pos * self.targets + self.gamma_neg * self.anti_targets)\n",
    "            if self.disable_torch_grad_focal_loss:\n",
    "                torch.set_grad_enabled(True)\n",
    "            self.loss *= self.asymmetric_w\n",
    "\n",
    "        return -self.loss.sum()"
   ]
  },
  {
   "cell_type": "code",
   "execution_count": null,
   "id": "d223154a-7742-4f56-a6f2-41efb97374ae",
   "metadata": {},
   "outputs": [],
   "source": [
    "# model\n",
    "model = MetaModel(vocab_size, EMB_DIM, MAX_SEQ_LEN, num_out).to(device)\n",
    "\n",
    "# loss_func\n",
    "# def loss_fn(y, y_pred):\n",
    "#     return -torch.sum(0.8*y*torch.log(y_pred) + 0.2*(1-y)*torch.log(1-y_pred))\n",
    "# loss_fn = torch.nn.BCEWithLogitsLoss().to(device)\n",
    "# loss_fn_mse = torch.nn.MSELoss().to(device)\n",
    "# loss_fn_ce = torch.nn.MultiLabelSoftMarginLoss().to(device)\n",
    "# loss_fn_ce = torch.nn.BCEWithLogitsLoss().to(device)\n",
    "# loss_name = 'BCELogits_Adam'\n",
    "# loss_name = 'BCELogits'\n",
    "loss_name = 'AsymmetricLossOptimized'\n",
    "loss_fn = AsymmetricLossOptimized().to(device)\n",
    "# Optimizer\n",
    "optimizer = torch.optim.Adam(\n",
    "    params=model.parameters(),\n",
    "    lr=Learning_Rate,\n",
    ")\n",
    "\n",
    "# Learning Rate Scheduler\n",
    "LR_SCHEDULER = get_lr_scheduler(optimizer)"
   ]
  },
  {
   "cell_type": "code",
   "execution_count": null,
   "id": "b7f2d108-7c52-4146-94d6-e25af7216b6c",
   "metadata": {},
   "outputs": [],
   "source": [
    "def metrics(y: torch.Tensor, y_pred: torch.Tensor, threshold: float = 0.5, from_logits = False, split_pos = num_out):\n",
    "    if from_logits == True:\n",
    "        y_pred = nn.Sigmoid()(y_pred)\n",
    "    pred = torch.where(y_pred > threshold, 1, 0)\n",
    "    \n",
    "    y_d, y_b = torch.split(y, split_pos, dim=1)\n",
    "    pred_d, pred_b = torch.split(pred, split_pos, dim=1)\n",
    "    \n",
    "    TPd, TPb = torch.sum(y_d * pred_d, dim=1), torch.sum(y_b * pred_b, dim=1)\n",
    "    TNd, TNb = torch.sum((1-y_d) * (1-pred_d), dim=1), torch.sum((1-y_b) * (1-pred_b), dim=1)\n",
    "    FPd, FPb = torch.sum((1-y_d) * pred_d , dim=1), torch.sum((1-y_b) * pred_b , dim=1)\n",
    "    FNd, FNb = torch.sum(y_d * (1-pred_d), dim=1), torch.sum(y_b * (1-pred_b), dim=1)\n",
    "\n",
    "    acc = torch.mean((TPd + TNd) / (TPd + TNd + FPd + FNd + 1e-6)).item(), torch.mean((TPb + TNb) / (TPb + TNb + FPb + FNb + 1e-6)).item()\n",
    "    recall = torch.mean(TPd / (TPd + FNd + 1e-6)).item(), torch.mean(TPb / (TPb + FNb + 1e-6)).item()\n",
    "    precision = torch.mean(TPd / (TPd + FPd + 1e-6)).item(), torch.mean(TPb / (TPb + FPb + 1e-6)).item()\n",
    "    F1 = 2 * recall[0] * precision[0] / (recall[0] + precision[0] + 1e-6), 2 * recall[1] * precision[1] / (recall[1] + precision[1] + 1e-6)\n",
    "    \n",
    "    return {\n",
    "        'acc': acc,\n",
    "        'precision': precision,\n",
    "        'recall': recall,\n",
    "        'F1': F1\n",
    "    }\n",
    "\n",
    "def one_forward(data):\n",
    "    (x_context, x_AST), (y_dev, y_btype) = data\n",
    "    y_dev_pred, y_btype_pred = model(x_context.long().to(device), x_AST.long().to(device)) \n",
    "    \n",
    "    y = torch.concat((y_dev, y_btype), 1).to(device) \n",
    "    y_pred = torch.concat((y_dev_pred, y_btype_pred), 1) \n",
    "\n",
    "    # loss = Weight_MSE * loss_fn_mse(y, nn.Sigmoid()(y_pred)) + Weight_BCE * loss_fn_ce(y, y_pred)\n",
    "    loss = loss_fn(y_pred, y)\n",
    "    metric = metrics(y, y_pred, from_logits=False)\n",
    "    \n",
    "    return loss, metric['acc'], metric['precision'], metric['recall'], metric['F1']\n",
    "\n",
    "\n",
    "def one_backward(optimizer, loss):\n",
    "    optimizer.zero_grad()\n",
    "    loss.backward()\n",
    "    # Gradient clipping\n",
    "    torch.nn.utils.clip_grad_norm_(model.parameters(), max_norm=1.0)\n",
    "    optimizer.step()\n",
    "\n",
    "def one_train_scaler(scaler, data, optimizer):\n",
    "    with torch.cuda.amp.autocast():\n",
    "        optimizer.zero_grad()\n",
    "        loss, acc, precision, recall, f1 = one_forward(data)\n",
    "        scaler.scale(loss).backward()\n",
    "        scaler.step(optimizer)\n",
    "        scaler.update()"
   ]
  },
  {
   "cell_type": "code",
   "execution_count": null,
   "id": "2ece2862-3ec4-47ca-b60a-b910bbfb06ce",
   "metadata": {},
   "outputs": [],
   "source": [
    "print(num_out)"
   ]
  },
  {
   "cell_type": "code",
   "execution_count": 30,
   "id": "6d68510f-1e9e-4757-bec6-a561e696f882",
   "metadata": {},
   "outputs": [
    {
     "name": "stderr",
     "output_type": "stream",
     "text": [
      "  2%|▏         | 6/300 [00:06<05:21,  1.09s/it]"
     ]
    },
    {
     "name": "stdout",
     "output_type": "stream",
     "text": [
      "5th epoch\n",
      " val_loss: 507.82591181216037\n",
      " val_acc:[0.9776154160499573, 0.9691654728806537]\n",
      " val_precision:[0.0009057967032751312, 0.014577137255717233]\n",
      " val_recall:[0.0020380415346311484, 0.020783918018898225]\n",
      " val_f1: [0.0012454153248318742, 0.015810463057772728]\n"
     ]
    },
    {
     "name": "stderr",
     "output_type": "stream",
     "text": [
      "  2%|▏         | 7/300 [00:07<05:18,  1.09s/it]"
     ]
    },
    {
     "name": "stdout",
     "output_type": "stream",
     "text": [
      "6th epoch\n",
      " val_loss: 502.58728027343744\n",
      " val_acc:[0.9797378519307012, 0.9714663495188174]\n",
      " val_precision:[0.0013586946803590524, 0.014912711871463966]\n",
      " val_recall:[0.0020380415346311484, 0.01676444478494965]\n",
      " val_f1: [0.0015850833196342671, 0.01375202081851601]\n"
     ]
    },
    {
     "name": "stderr",
     "output_type": "stream",
     "text": [
      "  3%|▎         | 8/300 [00:08<05:16,  1.08s/it]"
     ]
    },
    {
     "name": "stdout",
     "output_type": "stream",
     "text": [
      "7th epoch\n",
      " val_loss: 497.91273034137225\n",
      " val_acc:[0.981170478074447, 0.9731780601584392]\n",
      " val_precision:[0.0013586946803590524, 0.012915032156540648]\n",
      " val_recall:[0.0020380415346311484, 0.013711497511552727]\n",
      " val_f1: [0.0015850833196342671, 0.011607450422931726]\n"
     ]
    },
    {
     "name": "stderr",
     "output_type": "stream",
     "text": [
      "  3%|▎         | 9/300 [00:09<05:15,  1.08s/it]"
     ]
    },
    {
     "name": "stdout",
     "output_type": "stream",
     "text": [
      "8th epoch\n",
      " val_loss: 493.242827705715\n",
      " val_acc:[0.9821429693180582, 0.9746336055838543]\n",
      " val_precision:[0.0016983681074951005, 0.009213784279342253]\n",
      " val_recall:[0.0020380415346311484, 0.010235502830018168]\n",
      " val_f1: [0.0018115298194805013, 0.008449891002762666]\n"
     ]
    },
    {
     "name": "stderr",
     "output_type": "stream",
     "text": [
      "  3%|▎         | 10/300 [00:10<05:11,  1.07s/it]"
     ]
    },
    {
     "name": "stdout",
     "output_type": "stream",
     "text": [
      "9th epoch\n",
      " val_loss: 489.3537690535835\n",
      " val_acc:[0.9827631608299587, 0.9757354389066284]\n",
      " val_precision:[0.0016983681074951005, 0.00868675021616661]\n",
      " val_recall:[0.0020380415346311484, 0.008152170268737751]\n",
      " val_f1: [0.0018115298194805013, 0.007181436232981824]\n"
     ]
    },
    {
     "name": "stderr",
     "output_type": "stream",
     "text": [
      "  4%|▎         | 11/300 [00:11<05:12,  1.08s/it]"
     ]
    },
    {
     "name": "stdout",
     "output_type": "stream",
     "text": [
      "10th epoch\n",
      " val_loss: 485.0762468420941\n",
      " val_acc:[0.983450350554093, 0.9768421727678052]\n",
      " val_precision:[0.00033967375107433486, 0.006191361685404959]\n",
      " val_recall:[0.0006793471782103828, 0.005480070122639123]\n",
      " val_f1: [0.0004528789399293442, 0.005020562684072165]\n"
     ]
    },
    {
     "name": "stderr",
     "output_type": "stream",
     "text": [
      "  4%|▍         | 12/300 [00:13<05:12,  1.08s/it]"
     ]
    },
    {
     "name": "stdout",
     "output_type": "stream",
     "text": [
      "11th epoch\n",
      " val_loss: 481.7786069123641\n",
      " val_acc:[0.9838513498720917, 0.9777780252954233]\n",
      " val_precision:[0.00033967375107433486, 0.005429117970735482]\n",
      " val_recall:[0.0006793471782103828, 0.0050271717001400575]\n",
      " val_f1: [0.0004528789399293442, 0.0044497304587643545]\n"
     ]
    },
    {
     "name": "stderr",
     "output_type": "stream",
     "text": [
      "  4%|▍         | 13/300 [00:14<05:15,  1.10s/it]"
     ]
    },
    {
     "name": "stdout",
     "output_type": "stream",
     "text": [
      "12th epoch\n",
      " val_loss: 478.64098656695825\n",
      " val_acc:[0.9842915016671886, 0.9787767088931539]\n",
      " val_precision:[0.00033967375107433486, 0.004792633891591559]\n",
      " val_recall:[0.0006793471782103828, 0.003951537959358615]\n",
      " val_f1: [0.0004528789399293442, 0.0036517407329593535]\n"
     ]
    },
    {
     "name": "stderr",
     "output_type": "stream",
     "text": [
      "  5%|▍         | 14/300 [00:15<05:13,  1.09s/it]"
     ]
    },
    {
     "name": "stdout",
     "output_type": "stream",
     "text": [
      "13th epoch\n",
      " val_loss: 475.91414874532944\n",
      " val_acc:[0.9846063904140306, 0.9794472896534463]\n",
      " val_precision:[0.0, 0.004660496812151826]\n",
      " val_recall:[0.0, 0.003589219241605505]\n",
      " val_f1: [0.0, 0.00342242421511488]\n"
     ]
    },
    {
     "name": "stderr",
     "output_type": "stream",
     "text": [
      "  5%|▌         | 15/300 [00:16<05:12,  1.10s/it]"
     ]
    },
    {
     "name": "stdout",
     "output_type": "stream",
     "text": [
      "14th epoch\n",
      " val_loss: 473.3010147758152\n",
      " val_acc:[0.9848925704541415, 0.980009781277698]\n",
      " val_precision:[0.0, 0.0036797978530597433]\n",
      " val_recall:[0.0, 0.0024569733169577694]\n",
      " val_f1: [0.0, 0.0024235280756366587]\n"
     ]
    },
    {
     "name": "stderr",
     "output_type": "stream",
     "text": [
      "  5%|▌         | 16/300 [00:17<05:10,  1.09s/it]"
     ]
    },
    {
     "name": "stdout",
     "output_type": "stream",
     "text": [
      "15th epoch\n",
      " val_loss: 470.2193119214929\n",
      " val_acc:[0.9850361010302667, 0.9804800049118373]\n",
      " val_precision:[0.0, 0.0026268094940030055]\n",
      " val_recall:[0.0, 0.0018682054284474123]\n",
      " val_f1: [0.0, 0.001797272740834723]\n"
     ]
    },
    {
     "name": "stderr",
     "output_type": "stream",
     "text": [
      "  6%|▌         | 17/300 [00:18<05:10,  1.10s/it]"
     ]
    },
    {
     "name": "stdout",
     "output_type": "stream",
     "text": [
      "16th epoch\n",
      " val_loss: 467.4301253609035\n",
      " val_acc:[0.9852457357489545, 0.9810116005980449]\n",
      " val_precision:[0.0, 0.0020946542246510153]\n",
      " val_recall:[0.0, 0.001698368512417959]\n",
      " val_f1: [0.0, 0.0015980102294267066]\n"
     ]
    },
    {
     "name": "stderr",
     "output_type": "stream",
     "text": [
      "  6%|▌         | 18/300 [00:19<05:08,  1.10s/it]"
     ]
    },
    {
     "name": "stdout",
     "output_type": "stream",
     "text": [
      "17th epoch\n",
      " val_loss: 464.9620082689368\n",
      " val_acc:[0.9853414271188817, 0.9814362137213998]\n",
      " val_precision:[0.0, 0.0020946542246510153]\n",
      " val_recall:[0.0, 0.001698368512417959]\n",
      " val_f1: [0.0, 0.0015980102294267066]\n"
     ]
    },
    {
     "name": "stderr",
     "output_type": "stream",
     "text": [
      "  6%|▋         | 19/300 [00:20<05:06,  1.09s/it]"
     ]
    },
    {
     "name": "stdout",
     "output_type": "stream",
     "text": [
      "18th epoch\n",
      " val_loss: 462.2699916673743\n",
      " val_acc:[0.9854562489882758, 0.9818134307861326]\n",
      " val_precision:[0.0, 0.0016983681074951005]\n",
      " val_recall:[0.0, 0.0006793475831332414]\n",
      " val_f1: [0.0, 0.000951033935718526]\n"
     ]
    },
    {
     "name": "stderr",
     "output_type": "stream",
     "text": [
      "  7%|▋         | 20/300 [00:21<05:05,  1.09s/it]"
     ]
    },
    {
     "name": "stdout",
     "output_type": "stream",
     "text": [
      "19th epoch\n",
      " val_loss: 460.02833623471463\n",
      " val_acc:[0.9855136534442069, 0.9820818564166192]\n",
      " val_precision:[0.0, 0.0016983681074951005]\n",
      " val_recall:[0.0, 0.0006793475831332414]\n",
      " val_f1: [0.0, 0.000951033935718526]\n"
     ]
    },
    {
     "name": "stderr",
     "output_type": "stream",
     "text": [
      "  7%|▋         | 21/300 [00:22<05:04,  1.09s/it]"
     ]
    },
    {
     "name": "stdout",
     "output_type": "stream",
     "text": [
      "20th epoch\n",
      " val_loss: 457.48142142917794\n",
      " val_acc:[0.9855902065401488, 0.9822980165481565]\n",
      " val_precision:[0.0, 0.0020380415346311484]\n",
      " val_recall:[0.0, 0.0006793475831332414]\n",
      " val_f1: [0.0, 0.0009963291688040877]\n"
     ]
    },
    {
     "name": "stderr",
     "output_type": "stream",
     "text": [
      "  7%|▋         | 22/300 [00:24<05:04,  1.10s/it]"
     ]
    },
    {
     "name": "stdout",
     "output_type": "stream",
     "text": [
      "21th epoch\n",
      " val_loss: 454.94042438009507\n",
      " val_acc:[0.9856284779051073, 0.9825138242348379]\n",
      " val_precision:[0.0, 0.0013586943564207656]\n",
      " val_recall:[0.0, 0.0005095106671037881]\n",
      " val_f1: [0.0, 0.0007246040543667159]\n"
     ]
    },
    {
     "name": "stderr",
     "output_type": "stream",
     "text": [
      "  8%|▊         | 23/300 [00:25<05:02,  1.09s/it]"
     ]
    },
    {
     "name": "stdout",
     "output_type": "stream",
     "text": [
      "22th epoch\n",
      " val_loss: 452.557827493419\n",
      " val_acc:[0.9856571840203326, 0.9827682324077771]\n",
      " val_precision:[0.0, 0.0]\n",
      " val_recall:[0.0, 0.0]\n",
      " val_f1: [0.0, 0.0]\n"
     ]
    },
    {
     "name": "stderr",
     "output_type": "stream",
     "text": [
      "  8%|▊         | 24/300 [00:26<05:06,  1.11s/it]"
     ]
    },
    {
     "name": "stdout",
     "output_type": "stream",
     "text": [
      "23th epoch\n",
      " val_loss: 450.6432893172555\n",
      " val_acc:[0.985676322294318, 0.9828878900279168]\n",
      " val_precision:[0.0, 0.0]\n",
      " val_recall:[0.0, 0.0]\n",
      " val_f1: [0.0, 0.0]\n"
     ]
    },
    {
     "name": "stderr",
     "output_type": "stream",
     "text": [
      "  8%|▊         | 25/300 [00:27<05:05,  1.11s/it]"
     ]
    },
    {
     "name": "stdout",
     "output_type": "stream",
     "text": [
      "24th epoch\n",
      " val_loss: 448.3312994915505\n",
      " val_acc:[0.9856954631598097, 0.9830229982085847]\n",
      " val_precision:[0.0, 0.0]\n",
      " val_recall:[0.0, 0.0]\n",
      " val_f1: [0.0, 0.0]\n"
     ]
    },
    {
     "name": "stderr",
     "output_type": "stream",
     "text": [
      "  9%|▊         | 26/300 [00:28<05:04,  1.11s/it]"
     ]
    },
    {
     "name": "stdout",
     "output_type": "stream",
     "text": [
      "25th epoch\n",
      " val_loss: 446.31270566193956\n",
      " val_acc:[0.985714598842289, 0.9830959879833719]\n",
      " val_precision:[0.0, 0.00033967375107433486]\n",
      " val_recall:[0.0, 0.00022644920112646145]\n",
      " val_f1: [0.0, 0.00027171815719165884]\n"
     ]
    },
    {
     "name": "stderr",
     "output_type": "stream",
     "text": [
      "  9%|▉         | 27/300 [00:29<05:06,  1.12s/it]"
     ]
    },
    {
     "name": "stdout",
     "output_type": "stream",
     "text": [
      "26th epoch\n",
      " val_loss: 444.2642636506453\n",
      " val_acc:[0.985714598842289, 0.9830650946368341]\n",
      " val_precision:[0.0, 0.0016983681074951005]\n",
      " val_recall:[0.0, 0.0007359598682302496]\n",
      " val_f1: [0.0, 0.0009963222115583748]\n"
     ]
    },
    {
     "name": "stderr",
     "output_type": "stream",
     "text": [
      "  9%|▉         | 28/300 [00:30<05:04,  1.12s/it]"
     ]
    },
    {
     "name": "stdout",
     "output_type": "stream",
     "text": [
      "27th epoch\n",
      " val_loss: 442.5067443847656\n",
      " val_acc:[0.985743304957514, 0.9831461439961975]\n",
      " val_precision:[0.0, 0.0013586943564207656]\n",
      " val_recall:[0.0, 0.0005095106671037881]\n",
      " val_f1: [0.0, 0.0007246040543667159]\n"
     ]
    },
    {
     "name": "stderr",
     "output_type": "stream",
     "text": [
      " 10%|▉         | 29/300 [00:31<04:59,  1.11s/it]"
     ]
    },
    {
     "name": "stdout",
     "output_type": "stream",
     "text": [
      "28th epoch\n",
      " val_loss: 440.46914606509\n",
      " val_acc:[0.985743304957514, 0.9831963155580604]\n",
      " val_precision:[0.0, 0.0013586943564207656]\n",
      " val_recall:[0.0, 0.0005095106671037881]\n",
      " val_f1: [0.0, 0.0007246040543667159]\n"
     ]
    },
    {
     "name": "stderr",
     "output_type": "stream",
     "text": [
      " 10%|█         | 30/300 [00:33<05:01,  1.12s/it]"
     ]
    },
    {
     "name": "stdout",
     "output_type": "stream",
     "text": [
      "29th epoch\n",
      " val_loss: 438.8130931024967\n",
      " val_acc:[0.9857528753902599, 0.9831963233325793]\n",
      " val_precision:[0.0, 0.0013586943564207656]\n",
      " val_recall:[0.0, 0.0005095106671037881]\n",
      " val_f1: [0.0, 0.0007246040543667159]\n"
     ]
    },
    {
     "name": "stderr",
     "output_type": "stream",
     "text": [
      " 10%|█         | 31/300 [00:34<04:58,  1.11s/it]"
     ]
    },
    {
     "name": "stdout",
     "output_type": "stream",
     "text": [
      "30th epoch\n",
      " val_loss: 437.21585547405743\n",
      " val_acc:[0.9857528753902599, 0.9832194862158402]\n",
      " val_precision:[0.0, 0.0013586943564207656]\n",
      " val_recall:[0.0, 0.0005095106671037881]\n",
      " val_f1: [0.0, 0.0007246040543667159]\n"
     ]
    },
    {
     "name": "stderr",
     "output_type": "stream",
     "text": [
      " 11%|█         | 32/300 [00:35<04:56,  1.11s/it]"
     ]
    },
    {
     "name": "stdout",
     "output_type": "stream",
     "text": [
      "31th epoch\n",
      " val_loss: 435.2729259988536\n",
      " val_acc:[0.9857528753902599, 0.9833237036414769]\n",
      " val_precision:[0.0, 0.0]\n",
      " val_recall:[0.0, 0.0]\n",
      " val_f1: [0.0, 0.0]\n"
     ]
    },
    {
     "name": "stderr",
     "output_type": "stream",
     "text": [
      " 11%|█         | 33/300 [00:36<04:56,  1.11s/it]"
     ]
    },
    {
     "name": "stdout",
     "output_type": "stream",
     "text": [
      "32th epoch\n",
      " val_loss: 433.52290808636207\n",
      " val_acc:[0.9857720136642455, 0.9833700190419735]\n",
      " val_precision:[0.0, 0.0]\n",
      " val_recall:[0.0, 0.0]\n",
      " val_f1: [0.0, 0.0]\n"
     ]
    },
    {
     "name": "stderr",
     "output_type": "stream",
     "text": [
      " 11%|█▏        | 34/300 [00:37<04:58,  1.12s/it]"
     ]
    },
    {
     "name": "stdout",
     "output_type": "stream",
     "text": [
      "33th epoch\n",
      " val_loss: 431.6114150337552\n",
      " val_acc:[0.9857720136642455, 0.9833970329035884]\n",
      " val_precision:[0.0, 0.0]\n",
      " val_recall:[0.0, 0.0]\n",
      " val_f1: [0.0, 0.0]\n"
     ]
    },
    {
     "name": "stderr",
     "output_type": "stream",
     "text": [
      " 12%|█▏        | 35/300 [00:38<04:57,  1.12s/it]"
     ]
    },
    {
     "name": "stdout",
     "output_type": "stream",
     "text": [
      "34th epoch\n",
      " val_loss: 429.582620371943\n",
      " val_acc:[0.9857720136642455, 0.9834433586701105]\n",
      " val_precision:[0.0, 0.0]\n",
      " val_recall:[0.0, 0.0]\n",
      " val_f1: [0.0, 0.0]\n"
     ]
    },
    {
     "name": "stderr",
     "output_type": "stream",
     "text": [
      " 12%|█▏        | 36/300 [00:39<04:54,  1.11s/it]"
     ]
    },
    {
     "name": "stdout",
     "output_type": "stream",
     "text": [
      "35th epoch\n",
      " val_loss: 427.86807649031925\n",
      " val_acc:[0.985781581505485, 0.9834626602089924]\n",
      " val_precision:[0.0, 0.0]\n",
      " val_recall:[0.0, 0.0]\n",
      " val_f1: [0.0, 0.0]\n"
     ]
    },
    {
     "name": "stderr",
     "output_type": "stream",
     "text": [
      " 12%|█▏        | 37/300 [00:40<04:53,  1.11s/it]"
     ]
    },
    {
     "name": "stdout",
     "output_type": "stream",
     "text": [
      "36th epoch\n",
      " val_loss: 426.0780228324559\n",
      " val_acc:[0.985781581505485, 0.9834703854892565]\n",
      " val_precision:[0.0, 0.00022644920112646145]\n",
      " val_recall:[0.0, 0.00022644920112646145]\n",
      " val_f1: [0.0, 0.00022642746408278353]\n"
     ]
    },
    {
     "name": "stderr",
     "output_type": "stream",
     "text": [
      " 13%|█▎        | 38/300 [00:41<04:53,  1.12s/it]"
     ]
    },
    {
     "name": "stdout",
     "output_type": "stream",
     "text": [
      "37th epoch\n",
      " val_loss: 424.3721393087637\n",
      " val_acc:[0.985781581505485, 0.9834935380064925]\n",
      " val_precision:[0.0, 0.00022644920112646145]\n",
      " val_recall:[0.0, 0.00022644920112646145]\n",
      " val_f1: [0.0, 0.00022642746408278353]\n"
     ]
    },
    {
     "name": "stderr",
     "output_type": "stream",
     "text": [
      " 13%|█▎        | 39/300 [00:43<04:50,  1.11s/it]"
     ]
    },
    {
     "name": "stdout",
     "output_type": "stream",
     "text": [
      "38th epoch\n",
      " val_loss: 422.50954802139955\n",
      " val_acc:[0.985781581505485, 0.9835282771483712]\n",
      " val_precision:[0.0, 0.00033967375107433486]\n",
      " val_recall:[0.0, 0.00022644920112646145]\n",
      " val_f1: [0.0, 0.00027171815719165884]\n"
     ]
    },
    {
     "name": "stderr",
     "output_type": "stream",
     "text": [
      " 13%|█▎        | 40/300 [00:44<04:49,  1.11s/it]"
     ]
    },
    {
     "name": "stdout",
     "output_type": "stream",
     "text": [
      "39th epoch\n",
      " val_loss: 420.85844885784655\n",
      " val_acc:[0.985781581505485, 0.9835321359012439]\n",
      " val_precision:[0.0, 0.0]\n",
      " val_recall:[0.0, 0.0]\n",
      " val_f1: [0.0, 0.0]\n"
     ]
    },
    {
     "name": "stderr",
     "output_type": "stream",
     "text": [
      " 14%|█▎        | 41/300 [00:45<04:48,  1.11s/it]"
     ]
    },
    {
     "name": "stdout",
     "output_type": "stream",
     "text": [
      "40th epoch\n",
      " val_loss: 419.005519701087\n",
      " val_acc:[0.985781581505485, 0.9835398508154828]\n",
      " val_precision:[0.0, 0.0]\n",
      " val_recall:[0.0, 0.0]\n",
      " val_f1: [0.0, 0.0]\n"
     ]
    },
    {
     "name": "stderr",
     "output_type": "stream",
     "text": [
      " 14%|█▍        | 42/300 [00:46<04:49,  1.12s/it]"
     ]
    },
    {
     "name": "stdout",
     "output_type": "stream",
     "text": [
      "41th epoch\n",
      " val_loss: 417.3049011230469\n",
      " val_acc:[0.985781581505485, 0.9835437121598617]\n",
      " val_precision:[0.0, 0.0]\n",
      " val_recall:[0.0, 0.0]\n",
      " val_f1: [0.0, 0.0]\n"
     ]
    },
    {
     "name": "stderr",
     "output_type": "stream",
     "text": [
      " 14%|█▍        | 43/300 [00:47<04:46,  1.11s/it]"
     ]
    },
    {
     "name": "stdout",
     "output_type": "stream",
     "text": [
      "42th epoch\n",
      " val_loss: 415.71729842476225\n",
      " val_acc:[0.985781581505485, 0.9835630111072374]\n",
      " val_precision:[0.0, 0.0]\n",
      " val_recall:[0.0, 0.0]\n",
      " val_f1: [0.0, 0.0]\n"
     ]
    },
    {
     "name": "stderr",
     "output_type": "stream",
     "text": [
      " 15%|█▍        | 44/300 [00:48<04:44,  1.11s/it]"
     ]
    },
    {
     "name": "stdout",
     "output_type": "stream",
     "text": [
      "43th epoch\n",
      " val_loss: 413.89117630668306\n",
      " val_acc:[0.985781581505485, 0.9835514322571134]\n",
      " val_precision:[0.0, 0.0]\n",
      " val_recall:[0.0, 0.0]\n",
      " val_f1: [0.0, 0.0]\n"
     ]
    },
    {
     "name": "stderr",
     "output_type": "stream",
     "text": [
      " 15%|█▌        | 45/300 [00:49<04:43,  1.11s/it]"
     ]
    },
    {
     "name": "stdout",
     "output_type": "stream",
     "text": [
      "44th epoch\n",
      " val_loss: 412.31299557893175\n",
      " val_acc:[0.985781581505485, 0.9835591497628585]\n",
      " val_precision:[0.0, 0.0]\n",
      " val_recall:[0.0, 0.0]\n",
      " val_f1: [0.0, 0.0]\n"
     ]
    },
    {
     "name": "stderr",
     "output_type": "stream",
     "text": [
      " 15%|█▌        | 46/300 [00:50<04:45,  1.12s/it]"
     ]
    },
    {
     "name": "stdout",
     "output_type": "stream",
     "text": [
      "45th epoch\n",
      " val_loss: 410.69378794794494\n",
      " val_acc:[0.985781581505485, 0.9835707260214765]\n",
      " val_precision:[0.0, 0.0]\n",
      " val_recall:[0.0, 0.0]\n",
      " val_f1: [0.0, 0.0]\n"
     ]
    },
    {
     "name": "stderr",
     "output_type": "stream",
     "text": [
      " 16%|█▌        | 47/300 [00:52<04:50,  1.15s/it]"
     ]
    },
    {
     "name": "stdout",
     "output_type": "stream",
     "text": [
      "46th epoch\n",
      " val_loss: 408.87921606976056\n",
      " val_acc:[0.9857911493467245, 0.9835784461187284]\n",
      " val_precision:[0.0, 0.0]\n",
      " val_recall:[0.0, 0.0]\n",
      " val_f1: [0.0, 0.0]\n"
     ]
    },
    {
     "name": "stderr",
     "output_type": "stream",
     "text": [
      " 16%|█▌        | 48/300 [00:53<04:43,  1.12s/it]"
     ]
    },
    {
     "name": "stdout",
     "output_type": "stream",
     "text": [
      "47th epoch\n",
      " val_loss: 407.46374379033637\n",
      " val_acc:[0.9857911493467245, 0.9835823074631073]\n",
      " val_precision:[0.0, 0.0]\n",
      " val_recall:[0.0, 0.0]\n",
      " val_f1: [0.0, 0.0]\n"
     ]
    },
    {
     "name": "stderr",
     "output_type": "stream",
     "text": [
      " 16%|█▋        | 49/300 [00:54<04:41,  1.12s/it]"
     ]
    },
    {
     "name": "stdout",
     "output_type": "stream",
     "text": [
      "48th epoch\n",
      " val_loss: 405.7479911472487\n",
      " val_acc:[0.9857911493467245, 0.9835784461187284]\n",
      " val_precision:[0.0, 0.0]\n",
      " val_recall:[0.0, 0.0]\n",
      " val_f1: [0.0, 0.0]\n"
     ]
    },
    {
     "name": "stderr",
     "output_type": "stream",
     "text": [
      " 17%|█▋        | 50/300 [00:55<04:42,  1.13s/it]"
     ]
    },
    {
     "name": "stdout",
     "output_type": "stream",
     "text": [
      "49th epoch\n",
      " val_loss: 404.0815661886463\n",
      " val_acc:[0.9857911493467245, 0.9835823100546134]\n",
      " val_precision:[0.0, 0.0]\n",
      " val_recall:[0.0, 0.0]\n",
      " val_f1: [0.0, 0.0]\n"
     ]
    },
    {
     "name": "stderr",
     "output_type": "stream",
     "text": [
      " 17%|█▋        | 51/300 [00:56<04:46,  1.15s/it]"
     ]
    },
    {
     "name": "stdout",
     "output_type": "stream",
     "text": [
      "50th epoch\n",
      " val_loss: 402.35646853239643\n",
      " val_acc:[0.9857911493467245, 0.9835861713989923]\n",
      " val_precision:[0.0, 0.0]\n",
      " val_recall:[0.0, 0.0]\n",
      " val_f1: [0.0, 0.0]\n"
     ]
    },
    {
     "name": "stderr",
     "output_type": "stream",
     "text": [
      " 17%|█▋        | 52/300 [00:57<04:42,  1.14s/it]"
     ]
    },
    {
     "name": "stdout",
     "output_type": "stream",
     "text": [
      "51th epoch\n",
      " val_loss: 400.8182114310886\n",
      " val_acc:[0.9857911493467245, 0.9835784513017408]\n",
      " val_precision:[0.0, 0.0]\n",
      " val_recall:[0.0, 0.0]\n",
      " val_f1: [0.0, 0.0]\n"
     ]
    },
    {
     "name": "stderr",
     "output_type": "stream",
     "text": [
      " 18%|█▊        | 53/300 [00:58<04:37,  1.12s/it]"
     ]
    },
    {
     "name": "stdout",
     "output_type": "stream",
     "text": [
      "52th epoch\n",
      " val_loss: 399.20960932192605\n",
      " val_acc:[0.9857911493467245, 0.9835784513017408]\n",
      " val_precision:[0.0, 0.0]\n",
      " val_recall:[0.0, 0.0]\n",
      " val_f1: [0.0, 0.0]\n"
     ]
    },
    {
     "name": "stderr",
     "output_type": "stream",
     "text": [
      " 18%|█▊        | 54/300 [00:59<04:33,  1.11s/it]"
     ]
    },
    {
     "name": "stdout",
     "output_type": "stream",
     "text": [
      "53th epoch\n",
      " val_loss: 397.3696461553159\n",
      " val_acc:[0.9857911493467245, 0.9835823126461197]\n",
      " val_precision:[0.0, 0.0]\n",
      " val_recall:[0.0, 0.0]\n",
      " val_f1: [0.0, 0.0]\n"
     ]
    },
    {
     "name": "stderr",
     "output_type": "stream",
     "text": [
      " 18%|█▊        | 55/300 [01:00<04:28,  1.10s/it]"
     ]
    },
    {
     "name": "stdout",
     "output_type": "stream",
     "text": [
      "54th epoch\n",
      " val_loss: 395.8110079557999\n",
      " val_acc:[0.9857911493467245, 0.9835707312044891]\n",
      " val_precision:[0.0, 0.0]\n",
      " val_recall:[0.0, 0.0]\n",
      " val_f1: [0.0, 0.0]\n"
     ]
    },
    {
     "name": "stderr",
     "output_type": "stream",
     "text": [
      " 19%|█▊        | 56/300 [01:02<04:26,  1.09s/it]"
     ]
    },
    {
     "name": "stdout",
     "output_type": "stream",
     "text": [
      "55th epoch\n",
      " val_loss: 394.1915349545687\n",
      " val_acc:[0.9857911493467245, 0.9835861765820048]\n",
      " val_precision:[0.0, 0.0]\n",
      " val_recall:[0.0, 0.0]\n",
      " val_f1: [0.0, 0.0]\n"
     ]
    },
    {
     "name": "stderr",
     "output_type": "stream",
     "text": [
      " 19%|█▉        | 57/300 [01:03<04:22,  1.08s/it]"
     ]
    },
    {
     "name": "stdout",
     "output_type": "stream",
     "text": [
      "56th epoch\n",
      " val_loss: 392.77401600713307\n",
      " val_acc:[0.9857911493467245, 0.9835861765820048]\n",
      " val_precision:[0.0, 0.0]\n",
      " val_recall:[0.0, 0.0]\n",
      " val_f1: [0.0, 0.0]\n"
     ]
    },
    {
     "name": "stderr",
     "output_type": "stream",
     "text": [
      " 19%|█▉        | 58/300 [01:04<04:21,  1.08s/it]"
     ]
    },
    {
     "name": "stdout",
     "output_type": "stream",
     "text": [
      "57th epoch\n",
      " val_loss: 391.1842492145041\n",
      " val_acc:[0.9857911493467245, 0.9835861765820048]\n",
      " val_precision:[0.0, 0.0]\n",
      " val_recall:[0.0, 0.0]\n",
      " val_f1: [0.0, 0.0]\n"
     ]
    },
    {
     "name": "stderr",
     "output_type": "stream",
     "text": [
      " 20%|█▉        | 59/300 [01:05<04:20,  1.08s/it]"
     ]
    },
    {
     "name": "stdout",
     "output_type": "stream",
     "text": [
      "58th epoch\n",
      " val_loss: 389.58659827190894\n",
      " val_acc:[0.9857911493467245, 0.9835861765820048]\n",
      " val_precision:[0.0, 0.0]\n",
      " val_recall:[0.0, 0.0]\n",
      " val_f1: [0.0, 0.0]\n"
     ]
    },
    {
     "name": "stderr",
     "output_type": "stream",
     "text": [
      " 20%|██        | 60/300 [01:06<04:24,  1.10s/it]"
     ]
    },
    {
     "name": "stdout",
     "output_type": "stream",
     "text": [
      "59th epoch\n",
      " val_loss: 387.6095753545346\n",
      " val_acc:[0.9857911493467245, 0.9835630188817563]\n",
      " val_precision:[0.0, 0.0]\n",
      " val_recall:[0.0, 0.0]\n",
      " val_f1: [0.0, 0.0]\n"
     ]
    },
    {
     "name": "stderr",
     "output_type": "stream",
     "text": [
      " 20%|██        | 61/300 [01:07<04:21,  1.10s/it]"
     ]
    },
    {
     "name": "stdout",
     "output_type": "stream",
     "text": [
      "60th epoch\n",
      " val_loss: 386.0915222167969\n",
      " val_acc:[0.9857911493467245, 0.98356301629025]\n",
      " val_precision:[0.0, 0.0]\n",
      " val_recall:[0.0, 0.0]\n",
      " val_f1: [0.0, 0.0]\n"
     ]
    },
    {
     "name": "stderr",
     "output_type": "stream",
     "text": [
      " 21%|██        | 62/300 [01:08<04:23,  1.11s/it]"
     ]
    },
    {
     "name": "stdout",
     "output_type": "stream",
     "text": [
      "61th epoch\n",
      " val_loss: 384.38879659901494\n",
      " val_acc:[0.9857911493467245, 0.9835591549458711]\n",
      " val_precision:[0.0, 0.0]\n",
      " val_recall:[0.0, 0.0]\n",
      " val_f1: [0.0, 0.0]\n"
     ]
    },
    {
     "name": "stderr",
     "output_type": "stream",
     "text": [
      " 21%|██        | 63/300 [01:09<04:22,  1.11s/it]"
     ]
    },
    {
     "name": "stdout",
     "output_type": "stream",
     "text": [
      "62th epoch\n",
      " val_loss: 382.8962296195652\n",
      " val_acc:[0.9857911493467245, 0.9835630162902502]\n",
      " val_precision:[0.0, 0.0]\n",
      " val_recall:[0.0, 0.0]\n",
      " val_f1: [0.0, 0.0]\n"
     ]
    },
    {
     "name": "stderr",
     "output_type": "stream",
     "text": [
      " 21%|██▏       | 64/300 [01:10<04:20,  1.10s/it]"
     ]
    },
    {
     "name": "stdout",
     "output_type": "stream",
     "text": [
      "63th epoch\n",
      " val_loss: 381.14510179602576\n",
      " val_acc:[0.9857911493467245, 0.9835552961929985]\n",
      " val_precision:[0.0, 0.0]\n",
      " val_recall:[0.0, 0.0]\n",
      " val_f1: [0.0, 0.0]\n"
     ]
    },
    {
     "name": "stderr",
     "output_type": "stream",
     "text": [
      " 22%|██▏       | 65/300 [01:11<04:19,  1.10s/it]"
     ]
    },
    {
     "name": "stdout",
     "output_type": "stream",
     "text": [
      "64th epoch\n",
      " val_loss: 379.63264398989463\n",
      " val_acc:[0.9857911493467245, 0.9835475812787595]\n",
      " val_precision:[0.0, 0.0]\n",
      " val_recall:[0.0, 0.0]\n",
      " val_f1: [0.0, 0.0]\n"
     ]
    },
    {
     "name": "stderr",
     "output_type": "stream",
     "text": [
      " 22%|██▏       | 66/300 [01:13<04:17,  1.10s/it]"
     ]
    },
    {
     "name": "stdout",
     "output_type": "stream",
     "text": [
      "65th epoch\n",
      " val_loss: 377.8920944877293\n",
      " val_acc:[0.9857911493467245, 0.9835437199343805]\n",
      " val_precision:[0.0, 0.0]\n",
      " val_recall:[0.0, 0.0]\n",
      " val_f1: [0.0, 0.0]\n"
     ]
    },
    {
     "name": "stderr",
     "output_type": "stream",
     "text": [
      " 22%|██▏       | 67/300 [01:14<04:14,  1.09s/it]"
     ]
    },
    {
     "name": "stdout",
     "output_type": "stream",
     "text": [
      "66th epoch\n",
      " val_loss: 375.9814088240913\n",
      " val_acc:[0.9857911493467245, 0.9835244158039923]\n",
      " val_precision:[0.0, 0.0]\n",
      " val_recall:[0.0, 0.0]\n",
      " val_f1: [0.0, 0.0]\n"
     ]
    },
    {
     "name": "stderr",
     "output_type": "stream",
     "text": [
      " 23%|██▎       | 68/300 [01:15<04:14,  1.10s/it]"
     ]
    },
    {
     "name": "stdout",
     "output_type": "stream",
     "text": [
      "67th epoch\n",
      " val_loss: 374.06790360160494\n",
      " val_acc:[0.9857911493467245, 0.9835089782009955]\n",
      " val_precision:[0.0, 0.0]\n",
      " val_recall:[0.0, 0.0]\n",
      " val_f1: [0.0, 0.0]\n"
     ]
    },
    {
     "name": "stderr",
     "output_type": "stream",
     "text": [
      " 23%|██▎       | 69/300 [01:16<04:18,  1.12s/it]"
     ]
    },
    {
     "name": "stdout",
     "output_type": "stream",
     "text": [
      "68th epoch\n",
      " val_loss: 372.58971968941074\n",
      " val_acc:[0.9857911493467245, 0.9835128395453743]\n",
      " val_precision:[0.0, 0.0]\n",
      " val_recall:[0.0, 0.0]\n",
      " val_f1: [0.0, 0.0]\n"
     ]
    },
    {
     "name": "stderr",
     "output_type": "stream",
     "text": [
      " 23%|██▎       | 70/300 [01:17<04:17,  1.12s/it]"
     ]
    },
    {
     "name": "stdout",
     "output_type": "stream",
     "text": [
      "69th epoch\n",
      " val_loss: 371.37470610245407\n",
      " val_acc:[0.9857911493467245, 0.9835205570511196]\n",
      " val_precision:[0.0, 0.0]\n",
      " val_recall:[0.0, 0.0]\n",
      " val_f1: [0.0, 0.0]\n"
     ]
    },
    {
     "name": "stderr",
     "output_type": "stream",
     "text": [
      " 24%|██▎       | 71/300 [01:18<04:18,  1.13s/it]"
     ]
    },
    {
     "name": "stdout",
     "output_type": "stream",
     "text": [
      "70th epoch\n",
      " val_loss: 369.8535043467646\n",
      " val_acc:[0.9857911493467245, 0.9835282771483712]\n",
      " val_precision:[0.0, 0.0]\n",
      " val_recall:[0.0, 0.0]\n",
      " val_f1: [0.0, 0.0]\n"
     ]
    },
    {
     "name": "stderr",
     "output_type": "stream",
     "text": [
      " 24%|██▍       | 72/300 [01:19<04:13,  1.11s/it]"
     ]
    },
    {
     "name": "stdout",
     "output_type": "stream",
     "text": [
      "71th epoch\n",
      " val_loss: 368.2602884043818\n",
      " val_acc:[0.9857911493467245, 0.9835321384927501]\n",
      " val_precision:[0.0, 0.0]\n",
      " val_recall:[0.0, 0.0]\n",
      " val_f1: [0.0, 0.0]\n"
     ]
    },
    {
     "name": "stderr",
     "output_type": "stream",
     "text": [
      " 24%|██▍       | 73/300 [01:20<04:11,  1.11s/it]"
     ]
    },
    {
     "name": "stdout",
     "output_type": "stream",
     "text": [
      "72th epoch\n",
      " val_loss: 366.68048692786175\n",
      " val_acc:[0.9857911493467245, 0.9835321384927501]\n",
      " val_precision:[0.0, 0.0]\n",
      " val_recall:[0.0, 0.0]\n",
      " val_f1: [0.0, 0.0]\n"
     ]
    },
    {
     "name": "stderr",
     "output_type": "stream",
     "text": [
      " 25%|██▍       | 74/300 [01:21<04:07,  1.10s/it]"
     ]
    },
    {
     "name": "stdout",
     "output_type": "stream",
     "text": [
      "73th epoch\n",
      " val_loss: 365.0817041811736\n",
      " val_acc:[0.9857911493467245, 0.9835282771483712]\n",
      " val_precision:[0.0, 0.0]\n",
      " val_recall:[0.0, 0.0]\n",
      " val_f1: [0.0, 0.0]\n"
     ]
    },
    {
     "name": "stderr",
     "output_type": "stream",
     "text": [
      " 25%|██▌       | 75/300 [01:22<04:04,  1.09s/it]"
     ]
    },
    {
     "name": "stdout",
     "output_type": "stream",
     "text": [
      "74th epoch\n",
      " val_loss: 363.54583939262056\n",
      " val_acc:[0.9857911493467245, 0.9835321384927501]\n",
      " val_precision:[0.0, 0.0]\n",
      " val_recall:[0.0, 0.0]\n",
      " val_f1: [0.0, 0.0]\n"
     ]
    },
    {
     "name": "stderr",
     "output_type": "stream",
     "text": [
      " 25%|██▌       | 76/300 [01:24<04:04,  1.09s/it]"
     ]
    },
    {
     "name": "stdout",
     "output_type": "stream",
     "text": [
      "75th epoch\n",
      " val_loss: 362.03034939973253\n",
      " val_acc:[0.9857911493467245, 0.983535999837129]\n",
      " val_precision:[0.0, 0.0]\n",
      " val_recall:[0.0, 0.0]\n",
      " val_f1: [0.0, 0.0]\n"
     ]
    },
    {
     "name": "stderr",
     "output_type": "stream",
     "text": [
      " 26%|██▌       | 77/300 [01:25<04:11,  1.13s/it]"
     ]
    },
    {
     "name": "stdout",
     "output_type": "stream",
     "text": [
      "76th epoch\n",
      " val_loss: 360.5377920399541\n",
      " val_acc:[0.9857911493467245, 0.9835475812787596]\n",
      " val_precision:[0.0, 0.0]\n",
      " val_recall:[0.0, 0.0]\n",
      " val_f1: [0.0, 0.0]\n"
     ]
    },
    {
     "name": "stderr",
     "output_type": "stream",
     "text": [
      " 26%|██▌       | 78/300 [01:26<04:13,  1.14s/it]"
     ]
    },
    {
     "name": "stdout",
     "output_type": "stream",
     "text": [
      "77th epoch\n",
      " val_loss: 358.9977609385615\n",
      " val_acc:[0.9857911493467245, 0.9835475812787596]\n",
      " val_precision:[0.0, 0.0]\n",
      " val_recall:[0.0, 0.0]\n",
      " val_f1: [0.0, 0.0]\n"
     ]
    },
    {
     "name": "stderr",
     "output_type": "stream",
     "text": [
      " 26%|██▋       | 79/300 [01:27<04:12,  1.14s/it]"
     ]
    },
    {
     "name": "stdout",
     "output_type": "stream",
     "text": [
      "78th epoch\n",
      " val_loss: 357.43045010774034\n",
      " val_acc:[0.9857911493467245, 0.98356301629025]\n",
      " val_precision:[0.0, 0.0]\n",
      " val_recall:[0.0, 0.0]\n",
      " val_f1: [0.0, 0.0]\n"
     ]
    },
    {
     "name": "stderr",
     "output_type": "stream",
     "text": [
      " 27%|██▋       | 80/300 [01:28<04:17,  1.17s/it]"
     ]
    },
    {
     "name": "stdout",
     "output_type": "stream",
     "text": [
      "79th epoch\n",
      " val_loss: 355.9829410055409\n",
      " val_acc:[0.9857911493467245, 0.9835630136987438]\n",
      " val_precision:[0.0, 0.0]\n",
      " val_recall:[0.0, 0.0]\n",
      " val_f1: [0.0, 0.0]\n"
     ]
    },
    {
     "name": "stderr",
     "output_type": "stream",
     "text": [
      " 27%|██▋       | 81/300 [01:30<04:17,  1.18s/it]"
     ]
    },
    {
     "name": "stdout",
     "output_type": "stream",
     "text": [
      "80th epoch\n",
      " val_loss: 354.47332962699556\n",
      " val_acc:[0.9857911493467245, 0.9835668750431228]\n",
      " val_precision:[0.0, 0.0]\n",
      " val_recall:[0.0, 0.0]\n",
      " val_f1: [0.0, 0.0]\n"
     ]
    },
    {
     "name": "stderr",
     "output_type": "stream",
     "text": [
      " 27%|██▋       | 82/300 [01:31<04:13,  1.16s/it]"
     ]
    },
    {
     "name": "stdout",
     "output_type": "stream",
     "text": [
      "81th epoch\n",
      " val_loss: 353.04465385105306\n",
      " val_acc:[0.9857911493467245, 0.9835823126461196]\n",
      " val_precision:[0.0, 0.0]\n",
      " val_recall:[0.0, 0.0]\n",
      " val_f1: [0.0, 0.0]\n"
     ]
    },
    {
     "name": "stderr",
     "output_type": "stream",
     "text": [
      " 28%|██▊       | 83/300 [01:32<04:08,  1.14s/it]"
     ]
    },
    {
     "name": "stdout",
     "output_type": "stream",
     "text": [
      "82th epoch\n",
      " val_loss: 351.59857608961016\n",
      " val_acc:[0.9857911493467245, 0.9835861713989922]\n",
      " val_precision:[0.0, 0.0]\n",
      " val_recall:[0.0, 0.0]\n",
      " val_f1: [0.0, 0.0]\n"
     ]
    },
    {
     "name": "stderr",
     "output_type": "stream",
     "text": [
      " 28%|██▊       | 84/300 [01:33<04:05,  1.14s/it]"
     ]
    },
    {
     "name": "stdout",
     "output_type": "stream",
     "text": [
      "83th epoch\n",
      " val_loss: 350.2021875796111\n",
      " val_acc:[0.9857911493467245, 0.983582315237626]\n",
      " val_precision:[0.0, 0.0]\n",
      " val_recall:[0.0, 0.0]\n",
      " val_f1: [0.0, 0.0]\n"
     ]
    },
    {
     "name": "stderr",
     "output_type": "stream",
     "text": [
      " 28%|██▊       | 85/300 [01:34<04:05,  1.14s/it]"
     ]
    },
    {
     "name": "stdout",
     "output_type": "stream",
     "text": [
      "84th epoch\n",
      " val_loss: 348.92846812372613\n",
      " val_acc:[0.9857911493467245, 0.983590030151865]\n",
      " val_precision:[0.0, 0.0]\n",
      " val_recall:[0.0, 0.0]\n",
      " val_f1: [0.0, 0.0]\n"
     ]
    },
    {
     "name": "stderr",
     "output_type": "stream",
     "text": [
      " 29%|██▊       | 86/300 [01:35<04:03,  1.14s/it]"
     ]
    },
    {
     "name": "stdout",
     "output_type": "stream",
     "text": [
      "85th epoch\n",
      " val_loss: 347.19662774127465\n",
      " val_acc:[0.9857911493467245, 0.9835861739904985]\n",
      " val_precision:[0.0, 0.0]\n",
      " val_recall:[0.0, 0.0]\n",
      " val_f1: [0.0, 0.0]\n"
     ]
    },
    {
     "name": "stderr",
     "output_type": "stream",
     "text": [
      " 29%|██▉       | 87/300 [01:36<04:01,  1.13s/it]"
     ]
    },
    {
     "name": "stdout",
     "output_type": "stream",
     "text": [
      "86th epoch\n",
      " val_loss: 345.9868638411813\n",
      " val_acc:[0.9857911493467245, 0.9835861739904985]\n",
      " val_precision:[0.0, 0.0]\n",
      " val_recall:[0.0, 0.0]\n",
      " val_f1: [0.0, 0.0]\n"
     ]
    },
    {
     "name": "stderr",
     "output_type": "stream",
     "text": [
      " 29%|██▉       | 88/300 [01:38<04:07,  1.17s/it]"
     ]
    },
    {
     "name": "stdout",
     "output_type": "stream",
     "text": [
      "87th epoch\n",
      " val_loss: 344.51305090862763\n",
      " val_acc:[0.9857911493467245, 0.9835938889047375]\n",
      " val_precision:[0.0, 0.0]\n",
      " val_recall:[0.0, 0.0]\n",
      " val_f1: [0.0, 0.0]\n"
     ]
    },
    {
     "name": "stderr",
     "output_type": "stream",
     "text": [
      " 30%|██▉       | 89/300 [01:39<04:09,  1.18s/it]"
     ]
    },
    {
     "name": "stdout",
     "output_type": "stream",
     "text": [
      "88th epoch\n",
      " val_loss: 343.1020043414572\n",
      " val_acc:[0.9857911493467245, 0.9835900327433712]\n",
      " val_precision:[0.0, 0.0]\n",
      " val_recall:[0.0, 0.0]\n",
      " val_f1: [0.0, 0.0]\n"
     ]
    },
    {
     "name": "stderr",
     "output_type": "stream",
     "text": [
      " 30%|███       | 90/300 [01:40<04:01,  1.15s/it]"
     ]
    },
    {
     "name": "stdout",
     "output_type": "stream",
     "text": [
      "89th epoch\n",
      " val_loss: 341.6084448772928\n",
      " val_acc:[0.9857911493467245, 0.9835900327433712]\n",
      " val_precision:[0.0, 0.0]\n",
      " val_recall:[0.0, 0.0]\n",
      " val_f1: [0.0, 0.0]\n"
     ]
    },
    {
     "name": "stderr",
     "output_type": "stream",
     "text": [
      " 30%|███       | 91/300 [01:41<03:58,  1.14s/it]"
     ]
    },
    {
     "name": "stdout",
     "output_type": "stream",
     "text": [
      "90th epoch\n",
      " val_loss: 340.1887538744057\n",
      " val_acc:[0.9857911493467245, 0.9835938889047374]\n",
      " val_precision:[0.0, 0.0]\n",
      " val_recall:[0.0, 0.0]\n",
      " val_f1: [0.0, 0.0]\n"
     ]
    },
    {
     "name": "stderr",
     "output_type": "stream",
     "text": [
      " 31%|███       | 92/300 [01:42<03:55,  1.13s/it]"
     ]
    },
    {
     "name": "stdout",
     "output_type": "stream",
     "text": [
      "91th epoch\n",
      " val_loss: 338.7310568768046\n",
      " val_acc:[0.9857911493467245, 0.9835900275603584]\n",
      " val_precision:[0.0, 0.0]\n",
      " val_recall:[0.0, 0.0]\n",
      " val_f1: [0.0, 0.0]\n"
     ]
    },
    {
     "name": "stderr",
     "output_type": "stream",
     "text": [
      " 31%|███       | 93/300 [01:43<03:53,  1.13s/it]"
     ]
    },
    {
     "name": "stdout",
     "output_type": "stream",
     "text": [
      "92th epoch\n",
      " val_loss: 337.3234677522079\n",
      " val_acc:[0.9857911493467245, 0.9835900275603584]\n",
      " val_precision:[0.0, 0.0]\n",
      " val_recall:[0.0, 0.0]\n",
      " val_f1: [0.0, 0.0]\n"
     ]
    },
    {
     "name": "stderr",
     "output_type": "stream",
     "text": [
      " 31%|███▏      | 94/300 [01:44<03:54,  1.14s/it]"
     ]
    },
    {
     "name": "stdout",
     "output_type": "stream",
     "text": [
      "93th epoch\n",
      " val_loss: 335.86479220182997\n",
      " val_acc:[0.9857911493467245, 0.9835938863132311]\n",
      " val_precision:[0.0, 0.0006793471782103828]\n",
      " val_recall:[0.0, 0.00033967375107433486]\n",
      " val_f1: [0.0, 0.0004528789399293442]\n"
     ]
    },
    {
     "name": "stderr",
     "output_type": "stream",
     "text": [
      " 32%|███▏      | 95/300 [01:45<03:53,  1.14s/it]"
     ]
    },
    {
     "name": "stdout",
     "output_type": "stream",
     "text": [
      "94th epoch\n",
      " val_loss: 334.56561345639443\n",
      " val_acc:[0.9857911493467245, 0.983586168807486]\n",
      " val_precision:[0.0, 0.0006793471782103828]\n",
      " val_recall:[0.0, 0.00033967375107433486]\n",
      " val_f1: [0.0, 0.0004528789399293442]\n"
     ]
    },
    {
     "name": "stderr",
     "output_type": "stream",
     "text": [
      " 32%|███▏      | 96/300 [01:47<03:50,  1.13s/it]"
     ]
    },
    {
     "name": "stdout",
     "output_type": "stream",
     "text": [
      "95th epoch\n",
      " val_loss: 333.29203862729275\n",
      " val_acc:[0.9857911493467245, 0.9835745977318807]\n",
      " val_precision:[0.0, 0.0013586943564207656]\n",
      " val_recall:[0.0, 0.0010190209292847176]\n",
      " val_f1: [0.0, 0.0011322043797049228]\n"
     ]
    },
    {
     "name": "stderr",
     "output_type": "stream",
     "text": [
      " 32%|███▏      | 97/300 [01:48<03:47,  1.12s/it]"
     ]
    },
    {
     "name": "stdout",
     "output_type": "stream",
     "text": [
      "96th epoch\n",
      " val_loss: 331.8281551858653\n",
      " val_acc:[0.9857911493467245, 0.9835823178291323]\n",
      " val_precision:[0.0, 0.0013586943564207656]\n",
      " val_recall:[0.0, 0.0010190209292847176]\n",
      " val_f1: [0.0, 0.0011322043797049228]\n"
     ]
    },
    {
     "name": "stderr",
     "output_type": "stream",
     "text": [
      " 33%|███▎      | 98/300 [01:49<03:43,  1.11s/it]"
     ]
    },
    {
     "name": "stdout",
     "output_type": "stream",
     "text": [
      "97th epoch\n",
      " val_loss: 330.75443367336106\n",
      " val_acc:[0.9857911493467245, 0.9835784564847534]\n",
      " val_precision:[0.0, 0.0013586943564207656]\n",
      " val_recall:[0.0, 0.0010190209292847176]\n",
      " val_f1: [0.0, 0.0011322043797049228]\n"
     ]
    },
    {
     "name": "stderr",
     "output_type": "stream",
     "text": [
      " 33%|███▎      | 99/300 [01:50<03:40,  1.10s/it]"
     ]
    },
    {
     "name": "stdout",
     "output_type": "stream",
     "text": [
      "98th epoch\n",
      " val_loss: 329.39935203220534\n",
      " val_acc:[0.9857911493467245, 0.9835746029148933]\n",
      " val_precision:[0.0, 0.0013586943564207656]\n",
      " val_recall:[0.0, 0.0010190209292847176]\n",
      " val_f1: [0.0, 0.0011322043797049228]\n"
     ]
    },
    {
     "name": "stderr",
     "output_type": "stream",
     "text": [
      " 33%|███▎      | 100/300 [01:51<03:37,  1.09s/it]"
     ]
    },
    {
     "name": "stdout",
     "output_type": "stream",
     "text": [
      "99th epoch\n",
      " val_loss: 327.9422511225161\n",
      " val_acc:[0.9857911493467245, 0.9835707441620206]\n",
      " val_precision:[0.0, 0.0013586943564207656]\n",
      " val_recall:[0.0, 0.0010190209292847176]\n",
      " val_f1: [0.0, 0.0011322043797049228]\n"
     ]
    },
    {
     "name": "stderr",
     "output_type": "stream",
     "text": [
      " 34%|███▎      | 101/300 [01:52<03:37,  1.09s/it]"
     ]
    },
    {
     "name": "stdout",
     "output_type": "stream",
     "text": [
      "100th epoch\n",
      " val_loss: 326.5357977825662\n",
      " val_acc:[0.9857911493467245, 0.9835437303004058]\n",
      " val_precision:[0.0, 0.0030570624639158664]\n",
      " val_recall:[0.0, 0.0023777156096437702]\n",
      " val_f1: [0.0, 0.0024908411994929553]\n"
     ]
    },
    {
     "name": "stderr",
     "output_type": "stream",
     "text": [
      " 34%|███▍      | 102/300 [01:53<03:34,  1.08s/it]"
     ]
    },
    {
     "name": "stdout",
     "output_type": "stream",
     "text": [
      "101th epoch\n",
      " val_loss: 325.15337869395375\n",
      " val_acc:[0.9857911493467245, 0.9835398715475331]\n",
      " val_precision:[0.0, 0.0030570624639158664]\n",
      " val_recall:[0.0, 0.0023777156096437702]\n",
      " val_f1: [0.0, 0.0024908411994929553]\n"
     ]
    },
    {
     "name": "stderr",
     "output_type": "stream",
     "text": [
      " 34%|███▍      | 103/300 [01:54<03:33,  1.09s/it]"
     ]
    },
    {
     "name": "stdout",
     "output_type": "stream",
     "text": [
      "102th epoch\n",
      " val_loss: 323.9404306826384\n",
      " val_acc:[0.9857911493467245, 0.9835360127946605]\n",
      " val_precision:[0.0, 0.0030570624639158664]\n",
      " val_recall:[0.0, 0.0023777156096437702]\n",
      " val_f1: [0.0, 0.0024908411994929553]\n"
     ]
    },
    {
     "name": "stderr",
     "output_type": "stream",
     "text": [
      " 35%|███▍      | 104/300 [01:55<03:31,  1.08s/it]"
     ]
    },
    {
     "name": "stdout",
     "output_type": "stream",
     "text": [
      "103th epoch\n",
      " val_loss: 322.56720766813856\n",
      " val_acc:[0.9858102850292035, 0.9835282901059027]\n",
      " val_precision:[0.0013586943564207656, 0.0033967358910519142]\n",
      " val_recall:[0.0013586943564207656, 0.0023777156096437702]\n",
      " val_f1: [0.0013586508795511573, 0.0027172876993391895]\n"
     ]
    },
    {
     "name": "stderr",
     "output_type": "stream",
     "text": [
      " 35%|███▌      | 105/300 [01:56<03:30,  1.08s/it]"
     ]
    },
    {
     "name": "stdout",
     "output_type": "stream",
     "text": [
      "104th epoch\n",
      " val_loss: 321.1603804878566\n",
      " val_acc:[0.9858007145964577, 0.9835282926974089]\n",
      " val_precision:[0.0013586943564207656, 0.0033967358910519142]\n",
      " val_recall:[0.0013586943564207656, 0.0023777156096437702]\n",
      " val_f1: [0.0013586508795511573, 0.0027172876993391895]\n"
     ]
    },
    {
     "name": "stderr",
     "output_type": "stream",
     "text": [
      " 35%|███▌      | 106/300 [01:57<03:30,  1.09s/it]"
     ]
    },
    {
     "name": "stdout",
     "output_type": "stream",
     "text": [
      "105th epoch\n",
      " val_loss: 319.96434750764274\n",
      " val_acc:[0.9858294207116828, 0.9835205726001575]\n",
      " val_precision:[0.0027173887128415313, 0.0033967358910519142]\n",
      " val_recall:[0.0027173887128415313, 0.0023777156096437702]\n",
      " val_f1: [0.002717323497189309, 0.0027172876993391895]\n"
     ]
    },
    {
     "name": "stderr",
     "output_type": "stream",
     "text": [
      " 36%|███▌      | 107/300 [01:59<03:32,  1.10s/it]"
     ]
    },
    {
     "name": "stdout",
     "output_type": "stream",
     "text": [
      "106th epoch\n",
      " val_loss: 318.8670660931131\n",
      " val_acc:[0.9858102798461911, 0.9835398689560269]\n",
      " val_precision:[0.0027173887128415313, 0.0027173887128415313]\n",
      " val_recall:[0.0027173887128415313, 0.0020380418585694356]\n",
      " val_f1: [0.002717323497189309, 0.0022644087594098456]\n"
     ]
    },
    {
     "name": "stderr",
     "output_type": "stream",
     "text": [
      " 36%|███▌      | 108/300 [02:00<03:32,  1.11s/it]"
     ]
    },
    {
     "name": "stdout",
     "output_type": "stream",
     "text": [
      "107th epoch\n",
      " val_loss: 317.8473510742187\n",
      " val_acc:[0.9858198502789369, 0.9835205726001575]\n",
      " val_precision:[0.004076083069262297, 0.0033967358910519142]\n",
      " val_recall:[0.004076083069262297, 0.002038042182507722]\n",
      " val_f1: [0.004075996114827461, 0.0024908411994929553]\n"
     ]
    },
    {
     "name": "stderr",
     "output_type": "stream",
     "text": [
      " 36%|███▋      | 109/300 [02:01<03:32,  1.11s/it]"
     ]
    },
    {
     "name": "stdout",
     "output_type": "stream",
     "text": [
      "108th epoch\n",
      " val_loss: 316.37336299730384\n",
      " val_acc:[0.9858572560807931, 0.9834861859031345]\n",
      " val_precision:[0.006731712947721066, 0.004076083069262297]\n",
      " val_recall:[0.006731712947721066, 0.0027173893607181053]\n",
      " val_f1: [0.006731604254278984, 0.003170166639268534]\n"
     ]
    },
    {
     "name": "stderr",
     "output_type": "stream",
     "text": [
      " 37%|███▋      | 110/300 [02:02<03:29,  1.10s/it]"
     ]
    },
    {
     "name": "stdout",
     "output_type": "stream",
     "text": [
      "109th epoch\n",
      " val_loss: 315.0640812749448\n",
      " val_acc:[0.985857253489287, 0.983482327150262]\n",
      " val_precision:[0.007411060125931448, 0.006114124603893445]\n",
      " val_recall:[0.007411060125931448, 0.004415757468213205]\n",
      " val_f1: [0.007410929694054562, 0.005014066052380444]\n"
     ]
    },
    {
     "name": "stderr",
     "output_type": "stream",
     "text": [
      " 37%|███▋      | 111/300 [02:03<03:26,  1.09s/it]"
     ]
    },
    {
     "name": "stdout",
     "output_type": "stream",
     "text": [
      "110th epoch\n",
      " val_loss: 313.96129176927656\n",
      " val_acc:[0.9858859570130057, 0.9834861859031345]\n",
      " val_precision:[0.009449101660562596, 0.005434777425683062]\n",
      " val_recall:[0.009449101660562596, 0.003736410290002823]\n",
      " val_f1: [0.009448927751468293, 0.004334740612604865]\n"
     ]
    },
    {
     "name": "stderr",
     "output_type": "stream",
     "text": [
      " 37%|███▋      | 112/300 [02:04<03:24,  1.09s/it]"
     ]
    },
    {
     "name": "stdout",
     "output_type": "stream",
     "text": [
      "111th epoch\n",
      " val_loss: 312.5659119979195\n",
      " val_acc:[0.9858955248542453, 0.9834668817727461]\n",
      " val_precision:[0.01012844883877298, 0.006114124603893445]\n",
      " val_recall:[0.01012844883877298, 0.004415757468213205]\n",
      " val_f1: [0.010128253191243872, 0.005014066052380444]\n"
     ]
    },
    {
     "name": "stderr",
     "output_type": "stream",
     "text": [
      " 38%|███▊      | 113/300 [02:05<03:24,  1.10s/it]"
     ]
    },
    {
     "name": "stdout",
     "output_type": "stream",
     "text": [
      "112th epoch\n",
      " val_loss: 311.1819710109545\n",
      " val_acc:[0.9859720675841621, 0.983470743117125]\n",
      " val_precision:[0.01692192062087681, 0.006114124603893445]\n",
      " val_recall:[0.01692192062087681, 0.004415757468213205]\n",
      " val_f1: [0.01692157280326064, 0.005014066052380444]\n"
     ]
    },
    {
     "name": "stderr",
     "output_type": "stream",
     "text": [
      " 38%|███▊      | 114/300 [02:06<03:24,  1.10s/it]"
     ]
    },
    {
     "name": "stdout",
     "output_type": "stream",
     "text": [
      "113th epoch\n",
      " val_loss: 309.96729842476225\n",
      " val_acc:[0.986000771107881, 0.9834553003311157]\n",
      " val_precision:[0.02099800369013911, 0.005434777425683062]\n",
      " val_recall:[0.02099800369013911, 0.003736410290002823]\n",
      " val_f1: [0.020997655871131695, 0.004334740612604865]\n"
     ]
    },
    {
     "name": "stderr",
     "output_type": "stream",
     "text": [
      " 38%|███▊      | 115/300 [02:07<03:23,  1.10s/it]"
     ]
    },
    {
     "name": "stdout",
     "output_type": "stream",
     "text": [
      "114th epoch\n",
      " val_loss: 308.66137960682744\n",
      " val_acc:[0.986077313837798, 0.98346687918124]\n",
      " val_precision:[0.027112128294032558, 0.005434777425683062]\n",
      " val_recall:[0.027112128294032558, 0.003736410290002823]\n",
      " val_f1: [0.027111736996787473, 0.004334740612604865]\n"
     ]
    },
    {
     "name": "stderr",
     "output_type": "stream",
     "text": [
      " 39%|███▊      | 116/300 [02:08<03:20,  1.09s/it]"
     ]
    },
    {
     "name": "stdout",
     "output_type": "stream",
     "text": [
      "115th epoch\n",
      " val_loss: 307.32145624575406\n",
      " val_acc:[0.9860677459965582, 0.9834282786949822]\n",
      " val_precision:[0.02779147547224294, 0.005434777425683062]\n",
      " val_recall:[0.02779147547224294, 0.003736410290002823]\n",
      " val_f1: [0.027791084174939886, 0.004334740612604865]\n"
     ]
    },
    {
     "name": "stderr",
     "output_type": "stream",
     "text": [
      " 39%|███▉      | 117/300 [02:09<03:18,  1.08s/it]"
     ]
    },
    {
     "name": "stdout",
     "output_type": "stream",
     "text": [
      "116th epoch\n",
      " val_loss: 306.20821048902434\n",
      " val_acc:[0.9861060173615165, 0.983424417350603]\n",
      " val_precision:[0.03322625289792601, 0.006114124603893445]\n",
      " val_recall:[0.03322625289792601, 0.004415757468213205]\n",
      " val_f1: [0.033225818122651934, 0.005014066052380444]\n"
     ]
    },
    {
     "name": "stderr",
     "output_type": "stream",
     "text": [
      " 39%|███▉      | 118/300 [02:11<03:19,  1.09s/it]"
     ]
    },
    {
     "name": "stdout",
     "output_type": "stream",
     "text": [
      "117th epoch\n",
      " val_loss: 305.05609926970106\n",
      " val_acc:[0.9860868790875309, 0.9834089797476064]\n",
      " val_precision:[0.033226252897926, 0.00747281896031421]\n",
      " val_recall:[0.033226252897926, 0.005434778397497923]\n",
      " val_f1: [0.03322583986105195, 0.006146289754523281]\n"
     ]
    },
    {
     "name": "stderr",
     "output_type": "stream",
     "text": [
      " 40%|███▉      | 119/300 [02:12<03:16,  1.09s/it]"
     ]
    },
    {
     "name": "stdout",
     "output_type": "stream",
     "text": [
      "118th epoch\n",
      " val_loss: 304.0113051041313\n",
      " val_acc:[0.9861242900723994, 0.9833472163780874]\n",
      " val_precision:[0.03520253559817439, 0.008152166138524593]\n",
      " val_recall:[0.03520253559817439, 0.005774452148572258]\n",
      " val_f1: [0.03520210082309378, 0.0065991686944526255]\n"
     ]
    },
    {
     "name": "stderr",
     "output_type": "stream",
     "text": [
      " 40%|████      | 120/300 [02:13<03:17,  1.10s/it]"
     ]
    },
    {
     "name": "stdout",
     "output_type": "stream",
     "text": [
      "119th epoch\n",
      " val_loss: 302.8374030071757\n",
      " val_acc:[0.9861434231633726, 0.9833433550337085]\n",
      " val_precision:[0.04131666020206783, 0.008152166138524593]\n",
      " val_recall:[0.04131666020206783, 0.005774452148572258]\n",
      " val_f1: [0.04131620368712639, 0.0065991686944526255]\n"
     ]
    },
    {
     "name": "stderr",
     "output_type": "stream",
     "text": [
      " 40%|████      | 121/300 [02:14<03:25,  1.15s/it]"
     ]
    },
    {
     "name": "stdout",
     "output_type": "stream",
     "text": [
      "120th epoch\n",
      " val_loss: 301.79577636718756\n",
      " val_acc:[0.9861338527306265, 0.9833819555199663]\n",
      " val_precision:[0.0467514376277509, 0.00747281896031421]\n",
      " val_recall:[0.0467514376277509, 0.005434778397497923]\n",
      " val_f1: [0.04675098111170805, 0.006146289754523281]\n"
     ]
    },
    {
     "name": "stderr",
     "output_type": "stream",
     "text": [
      " 41%|████      | 122/300 [02:15<03:28,  1.17s/it]"
     ]
    },
    {
     "name": "stdout",
     "output_type": "stream",
     "text": [
      "121th epoch\n",
      " val_loss: 300.3395654429561\n",
      " val_acc:[0.9863060842389644, 0.9833510751309602]\n",
      " val_precision:[0.06305576990480008, 0.00747281896031421]\n",
      " val_recall:[0.06305576990480008, 0.005434778397497923]\n",
      " val_f1: [0.06305526991003425, 0.006146289754523281]\n"
     ]
    },
    {
     "name": "stderr",
     "output_type": "stream",
     "text": [
      " 41%|████      | 123/300 [02:16<03:29,  1.18s/it]"
     ]
    },
    {
     "name": "stdout",
     "output_type": "stream",
     "text": [
      "122th epoch\n",
      " val_loss: 299.20873326840604\n",
      " val_acc:[0.9863817614057788, 0.9833163359890813]\n",
      " val_precision:[0.06978748285252116, 0.008152166138524593]\n",
      " val_recall:[0.06978748285252116, 0.005774452148572258]\n",
      " val_f1: [0.06978698285752419, 0.006631538288084034]\n"
     ]
    },
    {
     "name": "stderr",
     "output_type": "stream",
     "text": [
      " 41%|████▏     | 124/300 [02:18<03:25,  1.17s/it]"
     ]
    },
    {
     "name": "stdout",
     "output_type": "stream",
     "text": [
      "123th epoch\n",
      " val_loss: 297.88750723133916\n",
      " val_acc:[0.9864391684532166, 0.9833008983860845]\n",
      " val_precision:[0.07929834334746652, 0.009510860494945358]\n",
      " val_recall:[0.07929834334746652, 0.006793473077856976]\n",
      " val_f1: [0.07929784335187026, 0.007763742667788957]\n"
     ]
    },
    {
     "name": "stderr",
     "output_type": "stream",
     "text": [
      " 42%|████▏     | 125/300 [02:19<03:22,  1.16s/it]"
     ]
    },
    {
     "name": "stdout",
     "output_type": "stream",
     "text": [
      "124th epoch\n",
      " val_loss: 296.7915523363196\n",
      " val_acc:[0.9864391580871914, 0.9833163333975752]\n",
      " val_precision:[0.08806809782981871, 0.008831513316734976]\n",
      " val_recall:[0.08806809782981871, 0.0064537993267826405]\n",
      " val_f1: [0.08806759783363527, 0.007310863727859613]\n"
     ]
    },
    {
     "name": "stderr",
     "output_type": "stream",
     "text": [
      " 42%|████▏     | 126/300 [02:20<03:23,  1.17s/it]"
     ]
    },
    {
     "name": "stdout",
     "output_type": "stream",
     "text": [
      "125th epoch\n",
      " val_loss: 295.81225386909813\n",
      " val_acc:[0.9864200198132058, 0.983339496280836]\n",
      " val_precision:[0.09418222243371217, 0.008831513316734976]\n",
      " val_recall:[0.09418222243371217, 0.0064537993267826405]\n",
      " val_f1: [0.09418172243724908, 0.007310863727859613]\n"
     ]
    },
    {
     "name": "stderr",
     "output_type": "stream",
     "text": [
      " 42%|████▏     | 127/300 [02:21<03:23,  1.18s/it]"
     ]
    },
    {
     "name": "stdout",
     "output_type": "stream",
     "text": [
      "126th epoch\n",
      " val_loss: 294.72758583400565\n",
      " val_acc:[0.9864774294521498, 0.9833356375279634]\n",
      " val_precision:[0.10029634703760561, 0.009510860494945358]\n",
      " val_recall:[0.10029634703760561, 0.0066802485279091025]\n",
      " val_f1: [0.10029584704068045, 0.007650521172832798]\n"
     ]
    },
    {
     "name": "stderr",
     "output_type": "stream",
     "text": [
      " 43%|████▎     | 128/300 [02:22<03:24,  1.19s/it]"
     ]
    },
    {
     "name": "stdout",
     "output_type": "stream",
     "text": [
      "127th epoch\n",
      " val_loss: 293.60885885487437\n",
      " val_acc:[0.986696621646052, 0.9833279148392056]\n",
      " val_precision:[0.12129435072774472, 0.008831513316734976]\n",
      " val_recall:[0.12129435072774472, 0.0064537993267826405]\n",
      " val_f1: [0.1212938507300496, 0.007310863727859613]\n"
     ]
    },
    {
     "name": "stderr",
     "output_type": "stream",
     "text": [
      " 43%|████▎     | 129/300 [02:23<03:21,  1.18s/it]"
     ]
    },
    {
     "name": "stdout",
     "output_type": "stream",
     "text": [
      "128th epoch\n",
      " val_loss: 292.5526056704313\n",
      " val_acc:[0.9867540338765022, 0.983339496280836]\n",
      " val_precision:[0.12808782250984854, 0.008831513316734976]\n",
      " val_recall:[0.12808782250984854, 0.0064537993267826405]\n",
      " val_f1: [0.12808732251204247, 0.007310863727859613]\n"
     ]
    },
    {
     "name": "stderr",
     "output_type": "stream",
     "text": [
      " 43%|████▎     | 130/300 [02:25<03:17,  1.16s/it]"
     ]
    },
    {
     "name": "stdout",
     "output_type": "stream",
     "text": [
      "129th epoch\n",
      " val_loss: 291.3562801195227\n",
      " val_acc:[0.9868392814760625, 0.9833086184833362]\n",
      " val_precision:[0.13549888263578, 0.008831513316734976]\n",
      " val_recall:[0.13549888263578, 0.0064537993267826405]\n",
      " val_f1: [0.13549838263790265, 0.007310863727859613]\n"
     ]
    },
    {
     "name": "stderr",
     "output_type": "stream",
     "text": [
      " 44%|████▎     | 131/300 [02:26<03:13,  1.14s/it]"
     ]
    },
    {
     "name": "stdout",
     "output_type": "stream",
     "text": [
      "130th epoch\n",
      " val_loss: 290.22540283203125\n",
      " val_acc:[0.9869062537732332, 0.9833317761835845]\n",
      " val_precision:[0.144330395952515, 0.008831513316734976]\n",
      " val_recall:[0.144330395952515, 0.0064537993267826405]\n",
      " val_f1: [0.14432989595447313, 0.007310863727859613]\n"
     ]
    },
    {
     "name": "stderr",
     "output_type": "stream",
     "text": [
      " 44%|████▍     | 132/300 [02:27<03:14,  1.16s/it]"
     ]
    },
    {
     "name": "stdout",
     "output_type": "stream",
     "text": [
      "131th epoch\n",
      " val_loss: 289.0574287746264\n",
      " val_acc:[0.9868879836538562, 0.9833240509033203]\n",
      " val_precision:[0.15316190926924997, 0.009510860494945358]\n",
      " val_recall:[0.15316190926924997, 0.0066802485279091025]\n",
      " val_f1: [0.15316140927103947, 0.0076505018503948835]\n"
     ]
    },
    {
     "name": "stderr",
     "output_type": "stream",
     "text": [
      " 44%|████▍     | 133/300 [02:28<03:13,  1.16s/it]"
     ]
    },
    {
     "name": "stdout",
     "output_type": "stream",
     "text": [
      "132th epoch\n",
      " val_loss: 287.99220474906593\n",
      " val_acc:[0.9868688401968584, 0.9833086133003235]\n",
      " val_precision:[0.1613140754077745, 0.009510860494945358]\n",
      " val_recall:[0.1613140754077745, 0.0066802485279091025]\n",
      " val_f1: [0.1613135754094846, 0.0076505018503948835]\n"
     ]
    },
    {
     "name": "stderr",
     "output_type": "stream",
     "text": [
      " 45%|████▍     | 134/300 [02:29<03:10,  1.15s/it]"
     ]
    },
    {
     "name": "stdout",
     "output_type": "stream",
     "text": [
      "133th epoch\n",
      " val_loss: 286.88485054347825\n",
      " val_acc:[0.9869932169499605, 0.9833356297534444]\n",
      " val_precision:[0.1789153438547383, 0.009510860494945358]\n",
      " val_recall:[0.1789153438547383, 0.006227350550825181]\n",
      " val_f1: [0.17891484385631426, 0.007310850158771571]\n"
     ]
    },
    {
     "name": "stderr",
     "output_type": "stream",
     "text": [
      " 45%|████▌     | 135/300 [02:30<03:11,  1.16s/it]"
     ]
    },
    {
     "name": "stdout",
     "output_type": "stream",
     "text": [
      "134th epoch\n",
      " val_loss: 285.5432961505392\n",
      " val_acc:[0.9870697648628897, 0.9833086081173108]\n",
      " val_precision:[0.189784899353981, 0.010190207673155741]\n",
      " val_recall:[0.189784899353981, 0.006567024301899516]\n",
      " val_f1: [0.18978439935544442, 0.007776688777076617]\n"
     ]
    },
    {
     "name": "stderr",
     "output_type": "stream",
     "text": [
      " 45%|████▌     | 136/300 [02:32<03:10,  1.16s/it]"
     ]
    },
    {
     "name": "stdout",
     "output_type": "stream",
     "text": [
      "135th epoch\n",
      " val_loss: 284.4903932654339\n",
      " val_acc:[0.9871845789577649, 0.9832893143529478]\n",
      " val_precision:[0.20065445485322372, 0.010869554851366123]\n",
      " val_recall:[0.20065445485322372, 0.006906698052973851]\n",
      " val_f1: [0.20065395485460744, 0.008229587039443877]\n"
     ]
    },
    {
     "name": "stderr",
     "output_type": "stream",
     "text": [
      " 46%|████▌     | 137/300 [02:33<03:07,  1.15s/it]"
     ]
    },
    {
     "name": "stdout",
     "output_type": "stream",
     "text": [
      "136th epoch\n",
      " val_loss: 283.448204703953\n",
      " val_acc:[0.9871750111165252, 0.9832777380943298]\n",
      " val_precision:[0.20337184356606522, 0.011548902029576506]\n",
      " val_recall:[0.20337184356606522, 0.007586045231184234]\n",
      " val_f1: [0.20337134356743788, 0.008908912479219456]\n"
     ]
    },
    {
     "name": "stderr",
     "output_type": "stream",
     "text": [
      " 46%|████▌     | 138/300 [02:34<03:07,  1.16s/it]"
     ]
    },
    {
     "name": "stdout",
     "output_type": "stream",
     "text": [
      "137th epoch\n",
      " val_loss: 282.69143809442943\n",
      " val_acc:[0.9871941442074981, 0.983262308265852]\n",
      " val_precision:[0.2088066209917483, 0.011548902029576506]\n",
      " val_recall:[0.2088066209917483, 0.007586045231184234]\n",
      " val_f1: [0.20880612099308524, 0.008908912479219456]\n"
     ]
    },
    {
     "name": "stderr",
     "output_type": "stream",
     "text": [
      " 46%|████▋     | 139/300 [02:35<03:05,  1.15s/it]"
     ]
    },
    {
     "name": "stdout",
     "output_type": "stream",
     "text": [
      "138th epoch\n",
      " val_loss: 281.7760766070822\n",
      " val_acc:[0.9872228503227234, 0.9832507345987402]\n",
      " val_precision:[0.2108446612306263, 0.011548902029576506]\n",
      " val_recall:[0.2108446612306263, 0.007586045231184234]\n",
      " val_f1: [0.21084416123195246, 0.008908912479219456]\n"
     ]
    },
    {
     "name": "stderr",
     "output_type": "stream",
     "text": [
      " 47%|████▋     | 140/300 [02:36<03:02,  1.14s/it]"
     ]
    },
    {
     "name": "stdout",
     "output_type": "stream",
     "text": [
      "139th epoch\n",
      " val_loss: 280.6121474556301\n",
      " val_acc:[0.9872515538464421, 0.9832545907601067]\n",
      " val_precision:[0.22035552172557168, 0.011548902029576506]\n",
      " val_recall:[0.22035552172557168, 0.007586045231184234]\n",
      " val_f1: [0.2203550217268361, 0.008908912479219456]\n"
     ]
    },
    {
     "name": "stderr",
     "output_type": "stream",
     "text": [
      " 47%|████▋     | 141/300 [02:37<03:01,  1.14s/it]"
     ]
    },
    {
     "name": "stdout",
     "output_type": "stream",
     "text": [
      "140th epoch\n",
      " val_loss: 279.4935422150985\n",
      " val_acc:[0.9872611216876817, 0.9832352918127307]\n",
      " val_precision:[0.2244316067384637, 0.011548902029576506]\n",
      " val_recall:[0.2244316067384637, 0.007586045231184234]\n",
      " val_f1: [0.2244311067397035, 0.008908912479219456]\n"
     ]
    },
    {
     "name": "stderr",
     "output_type": "stream",
     "text": [
      " 47%|████▋     | 142/300 [02:38<03:02,  1.16s/it]"
     ]
    },
    {
     "name": "stdout",
     "output_type": "stream",
     "text": [
      "141th epoch\n",
      " val_loss: 278.8903320975926\n",
      " val_acc:[0.9873559423114944, 0.9832275691239729]\n",
      " val_precision:[0.2365980958161147, 0.010869554851366123]\n",
      " val_recall:[0.2365980958161147, 0.00690669805297385]\n",
      " val_f1: [0.2365975958172523, 0.00818427708987468]\n"
     ]
    },
    {
     "name": "stderr",
     "output_type": "stream",
     "text": [
      " 48%|████▊     | 143/300 [02:40<03:01,  1.15s/it]"
     ]
    },
    {
     "name": "stdout",
     "output_type": "stream",
     "text": [
      "142th epoch\n",
      " val_loss: 277.6498107910156\n",
      " val_acc:[0.9874803216561028, 0.9832159876823425]\n",
      " val_precision:[0.25154373438461963, 0.010869554851366123]\n",
      " val_recall:[0.25154373438461963, 0.00690669805297385]\n",
      " val_f1: [0.2515432343856876, 0.00818427708987468]\n"
     ]
    },
    {
     "name": "stderr",
     "output_type": "stream",
     "text": [
      " 48%|████▊     | 144/300 [02:41<02:59,  1.15s/it]"
     ]
    },
    {
     "name": "stdout",
     "output_type": "stream",
     "text": [
      "143th epoch\n",
      " val_loss: 276.65336542544156\n",
      " val_acc:[0.9874229120171589, 0.9832121315209761]\n",
      " val_precision:[0.2522230815628301, 0.010869554851366123]\n",
      " val_recall:[0.2522230815628301, 0.00690669805297385]\n",
      " val_f1: [0.2522225815638807, 0.00818427708987468]\n"
     ]
    },
    {
     "name": "stderr",
     "output_type": "stream",
     "text": [
      " 48%|████▊     | 145/300 [02:42<02:59,  1.16s/it]"
     ]
    },
    {
     "name": "stdout",
     "output_type": "stream",
     "text": [
      "144th epoch\n",
      " val_loss: 275.91469839344853\n",
      " val_acc:[0.9874420476996382, 0.9832352762636931]\n",
      " val_precision:[0.25697851181030273, 0.011548902029576504]\n",
      " val_recall:[0.25697851181030273, 0.006906698376912138]\n",
      " val_f1: [0.256978011811333, 0.008378339936326381]\n"
     ]
    },
    {
     "name": "stderr",
     "output_type": "stream",
     "text": [
      " 49%|████▊     | 146/300 [02:43<02:57,  1.15s/it]"
     ]
    },
    {
     "name": "stdout",
     "output_type": "stream",
     "text": [
      "145th epoch\n",
      " val_loss: 275.2436802076257\n",
      " val_acc:[0.987584710121155, 0.9832507164581958]\n",
      " val_precision:[0.27797651679619495, 0.009510860494945358]\n",
      " val_recall:[0.27797651679619495, 0.005887677123689133]\n",
      " val_f1: [0.27797601679714495, 0.0070196837941004335]\n"
     ]
    },
    {
     "name": "stderr",
     "output_type": "stream",
     "text": [
      " 49%|████▉     | 147/300 [02:44<02:55,  1.14s/it]"
     ]
    },
    {
     "name": "stdout",
     "output_type": "stream",
     "text": [
      "146th epoch\n",
      " val_loss: 273.7333583002505\n",
      " val_acc:[0.9875942779623945, 0.9832430041354634]\n",
      " val_precision:[0.2806939055090365, 0.010869554851366122]\n",
      " val_recall:[0.2806939055090365, 0.006567024625837803]\n",
      " val_f1: [0.2806934055099788, 0.007925441673959121]\n"
     ]
    },
    {
     "name": "stderr",
     "output_type": "stream",
     "text": [
      " 49%|████▉     | 148/300 [02:45<02:54,  1.15s/it]"
     ]
    },
    {
     "name": "stdout",
     "output_type": "stream",
     "text": [
      "147th epoch\n",
      " val_loss: 272.66663526452106\n",
      " val_acc:[0.9875847101211548, 0.9832352788551992]\n",
      " val_precision:[0.2888460684081783, 0.011548902029576504]\n",
      " val_recall:[0.2888460684081783, 0.006906698376912138]\n",
      " val_f1: [0.28884556840908776, 0.008378339936326381]\n"
     ]
    },
    {
     "name": "stderr",
     "output_type": "stream",
     "text": [
      " 50%|████▉     | 149/300 [02:46<02:52,  1.15s/it]"
     ]
    },
    {
     "name": "stdout",
     "output_type": "stream",
     "text": [
      "148th epoch\n",
      " val_loss: 271.65447367792547\n",
      " val_acc:[0.9876229814861133, 0.983200544896333]\n",
      " val_precision:[0.28476998598679254, 0.012228249207786887]\n",
      " val_recall:[0.28476998598679254, 0.007246372127986473]\n",
      " val_f1: [0.2847694859877185, 0.008831218876255726]\n"
     ]
    },
    {
     "name": "stderr",
     "output_type": "stream",
     "text": [
      " 50%|█████     | 150/300 [02:48<02:51,  1.14s/it]"
     ]
    },
    {
     "name": "stdout",
     "output_type": "stream",
     "text": [
      "149th epoch\n",
      " val_loss: 270.6044450842817\n",
      " val_acc:[0.9876325545103655, 0.9831966835519541]\n",
      " val_precision:[0.29020476276459906, 0.012228249207786887]\n",
      " val_recall:[0.29020476276459906, 0.007246372127986473]\n",
      " val_f1: [0.29020426276549643, 0.008831218876255726]\n"
     ]
    },
    {
     "name": "stderr",
     "output_type": "stream",
     "text": [
      " 50%|█████     | 151/300 [02:49<02:50,  1.14s/it]"
     ]
    },
    {
     "name": "stdout",
     "output_type": "stream",
     "text": [
      "150th epoch\n",
      " val_loss: 269.46703338623047\n",
      " val_acc:[0.9876612606255906, 0.9832044114237246]\n",
      " val_precision:[0.2936014999514041, 0.012907596385997271]\n",
      " val_recall:[0.2936014999514041, 0.007925719306196856]\n",
      " val_f1: [0.2936009999522908, 0.009542913909662712]\n"
     ]
    },
    {
     "name": "stderr",
     "output_type": "stream",
     "text": [
      " 51%|█████     | 152/300 [02:50<02:50,  1.15s/it]"
     ]
    },
    {
     "name": "stdout",
     "output_type": "stream",
     "text": [
      "151th epoch\n",
      " val_loss: 268.7410125732422\n",
      " val_acc:[0.9876421171685923, 0.9832159824993301]\n",
      " val_precision:[0.2976775830206663, 0.01019020767315574]\n",
      " val_recall:[0.2976775830206663, 0.00588767744762742]\n",
      " val_f1: [0.29767708302153845, 0.007246116234183543]\n"
     ]
    },
    {
     "name": "stderr",
     "output_type": "stream",
     "text": [
      " 51%|█████     | 153/300 [02:51<02:48,  1.15s/it]"
     ]
    },
    {
     "name": "stdout",
     "output_type": "stream",
     "text": [
      "152th epoch\n",
      " val_loss: 268.06813712742024\n",
      " val_acc:[0.9876803937165635, 0.9832237000050752]\n",
      " val_precision:[0.3037917102160661, 0.01019020767315574]\n",
      " val_recall:[0.3037917102160661, 0.00588767744762742]\n",
      " val_f1: [0.30379121021691974, 0.007246116234183543]\n"
     ]
    },
    {
     "name": "stderr",
     "output_type": "stream",
     "text": [
      " 51%|█████▏    | 154/300 [02:52<02:46,  1.14s/it]"
     ]
    },
    {
     "name": "stdout",
     "output_type": "stream",
     "text": [
      "153th epoch\n",
      " val_loss: 267.12322765847915\n",
      " val_acc:[0.9876995319905488, 0.9832005423048267]\n",
      " val_precision:[0.3092264876417492, 0.01019020767315574]\n",
      " val_recall:[0.3092264876417492, 0.00588767744762742]\n",
      " val_f1: [0.3092259876425896, 0.007246116234183543]\n"
     ]
    },
    {
     "name": "stderr",
     "output_type": "stream",
     "text": [
      " 52%|█████▏    | 155/300 [02:53<02:45,  1.14s/it]"
     ]
    },
    {
     "name": "stdout",
     "output_type": "stream",
     "text": [
      "154th epoch\n",
      " val_loss: 266.2454372903575\n",
      " val_acc:[0.9877090998317886, 0.9832121211549509]\n",
      " val_precision:[0.3105851807024168, 0.01019020767315574]\n",
      " val_recall:[0.3105851807024168, 0.00588767744762742]\n",
      " val_f1: [0.31058468070325357, 0.007246116234183543]\n"
     ]
    },
    {
     "name": "stderr",
     "output_type": "stream",
     "text": [
      " 52%|█████▏    | 156/300 [02:54<02:46,  1.15s/it]"
     ]
    },
    {
     "name": "stdout",
     "output_type": "stream",
     "text": [
      "155th epoch\n",
      " val_loss: 265.2033077737559\n",
      " val_acc:[0.987747371196747, 0.9831812407659448]\n",
      " val_precision:[0.31534061289351917, 0.01019020767315574]\n",
      " val_recall:[0.31534061289351917, 0.00588767744762742]\n",
      " val_f1: [0.3153401128943409, 0.007246116234183543]\n"
     ]
    },
    {
     "name": "stderr",
     "output_type": "stream",
     "text": [
      " 52%|█████▏    | 157/300 [02:56<02:41,  1.13s/it]"
     ]
    },
    {
     "name": "stdout",
     "output_type": "stream",
     "text": [
      "156th epoch\n",
      " val_loss: 264.26433762260103\n",
      " val_acc:[0.9878239139266638, 0.9831580830656965]\n",
      " val_precision:[0.32077538902344915, 0.010869554851366122]\n",
      " val_recall:[0.32077538902344915, 0.006567024625837803]\n",
      " val_f1: [0.3207748890242547, 0.007925441673959121]\n"
     ]
    },
    {
     "name": "stderr",
     "output_type": "stream",
     "text": [
      " 53%|█████▎    | 158/300 [02:57<02:38,  1.12s/it]"
     ]
    },
    {
     "name": "stdout",
     "output_type": "stream",
     "text": [
      "157th epoch\n",
      " val_loss: 263.40484320599097\n",
      " val_acc:[0.9877856425617051, 0.9831773768300598]\n",
      " val_precision:[0.32892755386622063, 0.01019020767315574]\n",
      " val_recall:[0.32892755386622063, 0.006227350874763468]\n",
      " val_f1: [0.3289270538670076, 0.007472562734029777]\n"
     ]
    },
    {
     "name": "stderr",
     "output_type": "stream",
     "text": [
      " 53%|█████▎    | 159/300 [02:58<02:35,  1.10s/it]"
     ]
    },
    {
     "name": "stdout",
     "output_type": "stream",
     "text": [
      "158th epoch\n",
      " val_loss: 262.38215438179355\n",
      " val_acc:[0.9877856425617053, 0.9831696567328081]\n",
      " val_precision:[0.3302862495183945, 0.009510860494945358]\n",
      " val_recall:[0.3302862495183945, 0.005548003696553085]\n",
      " val_f1: [0.3302857495191788, 0.006793237294254199]\n"
     ]
    },
    {
     "name": "stderr",
     "output_type": "stream",
     "text": [
      " 53%|█████▎    | 160/300 [02:59<02:32,  1.09s/it]"
     ]
    },
    {
     "name": "stdout",
     "output_type": "stream",
     "text": [
      "159th epoch\n",
      " val_loss: 261.6261891904085\n",
      " val_acc:[0.9877952104029448, 0.9831812355829324]\n",
      " val_precision:[0.331644941283309, 0.01019020767315574]\n",
      " val_recall:[0.331644941283309, 0.006227350874763468]\n",
      " val_f1: [0.3316444412840901, 0.007472562734029777]\n"
     ]
    },
    {
     "name": "stderr",
     "output_type": "stream",
     "text": [
      " 54%|█████▎    | 161/300 [03:00<02:30,  1.08s/it]"
     ]
    },
    {
     "name": "stdout",
     "output_type": "stream",
     "text": [
      "160th epoch\n",
      " val_loss: 260.54546356201166\n",
      " val_acc:[0.9878047782441843, 0.9831619392270627]\n",
      " val_precision:[0.3343623280525208, 0.01019020767315574]\n",
      " val_recall:[0.3343623280525208, 0.005774452897679546]\n",
      " val_f1: [0.33436182805329406, 0.007132894739227385]\n"
     ]
    },
    {
     "name": "stderr",
     "output_type": "stream",
     "text": [
      " 54%|█████▍    | 162/300 [03:01<02:29,  1.08s/it]"
     ]
    },
    {
     "name": "stdout",
     "output_type": "stream",
     "text": [
      "161th epoch\n",
      " val_loss: 259.76583994989807\n",
      " val_acc:[0.9878239139266636, 0.9831503577854324]\n",
      " val_precision:[0.3350416758786077, 0.01019020767315574]\n",
      " val_recall:[0.3350416758786077, 0.005774452897679546]\n",
      " val_f1: [0.3350411758793799, 0.007132894739227385]\n"
     ]
    },
    {
     "name": "stderr",
     "output_type": "stream",
     "text": [
      " 54%|█████▍    | 163/300 [03:02<02:29,  1.09s/it]"
     ]
    },
    {
     "name": "stdout",
     "output_type": "stream",
     "text": [
      "162th epoch\n",
      " val_loss: 259.0342841770338\n",
      " val_acc:[0.9878239139266638, 0.9831657927969228]\n",
      " val_precision:[0.3370797193568686, 0.01019020767315574]\n",
      " val_recall:[0.3370797193568686, 0.005774452897679546]\n",
      " val_f1: [0.33707921935763613, 0.007132894739227385]\n"
     ]
    },
    {
     "name": "stderr",
     "output_type": "stream",
     "text": [
      " 55%|█████▍    | 164/300 [03:03<02:26,  1.08s/it]"
     ]
    },
    {
     "name": "stdout",
     "output_type": "stream",
     "text": [
      "163th epoch\n",
      " val_loss: 258.0889408277429\n",
      " val_acc:[0.9878239139266638, 0.983150355193926]\n",
      " val_precision:[0.3370797193568686, 0.009510860494945358]\n",
      " val_recall:[0.3370797193568686, 0.005434779146605211]\n",
      " val_f1: [0.33707921935763613, 0.006680015799298041]\n"
     ]
    },
    {
     "name": "stderr",
     "output_type": "stream",
     "text": [
      " 55%|█████▌    | 165/300 [03:04<02:25,  1.08s/it]"
     ]
    },
    {
     "name": "stdout",
     "output_type": "stream",
     "text": [
      "164th epoch\n",
      " val_loss: 256.8801345825195\n",
      " val_acc:[0.9878239139266636, 0.9831194825794387]\n",
      " val_precision:[0.33775906977446185, 0.01019020767315574]\n",
      " val_recall:[0.33775906977446185, 0.0061141263248155955]\n",
      " val_f1: [0.337758569775227, 0.007359341239073619]\n"
     ]
    },
    {
     "name": "stderr",
     "output_type": "stream",
     "text": [
      " 55%|█████▌    | 166/300 [03:05<02:25,  1.08s/it]"
     ]
    },
    {
     "name": "stdout",
     "output_type": "stream",
     "text": [
      "165th epoch\n",
      " val_loss: 256.10450877314025\n",
      " val_acc:[0.9878717583158743, 0.9831194799879324]\n",
      " val_precision:[0.34183514766071155, 0.01019020767315574]\n",
      " val_recall:[0.34183514766071155, 0.0061141263248155955]\n",
      " val_f1: [0.3418346476614683, 0.007359341239073619]\n"
     ]
    },
    {
     "name": "stderr",
     "output_type": "stream",
     "text": [
      " 56%|█████▌    | 167/300 [03:06<02:23,  1.08s/it]"
     ]
    },
    {
     "name": "stdout",
     "output_type": "stream",
     "text": [
      "166th epoch\n",
      " val_loss: 255.11500516145122\n",
      " val_acc:[0.9879100296808327, 0.9830847408460535]\n",
      " val_precision:[0.34455253378204675, 0.011548902029576504]\n",
      " val_recall:[0.34455253378204675, 0.006680249297262535]\n",
      " val_f1: [0.3445520337827973, 0.008158555483402535]\n"
     ]
    },
    {
     "name": "stderr",
     "output_type": "stream",
     "text": [
      " 56%|█████▌    | 168/300 [03:07<02:22,  1.08s/it]"
     ]
    },
    {
     "name": "stdout",
     "output_type": "stream",
     "text": [
      "167th epoch\n",
      " val_loss: 254.0589490144149\n",
      " val_acc:[0.9879578714785366, 0.9830770181572956]\n",
      " val_precision:[0.34930796856465546, 0.012228249207786887]\n",
      " val_recall:[0.34930796856465546, 0.006906698518635139]\n",
      " val_f1: [0.34930746856539674, 0.008504890787802106]\n"
     ]
    },
    {
     "name": "stderr",
     "output_type": "stream",
     "text": [
      " 56%|█████▋    | 169/300 [03:09<02:26,  1.11s/it]"
     ]
    },
    {
     "name": "stdout",
     "output_type": "stream",
     "text": [
      "168th epoch\n",
      " val_loss: 253.21609463899034\n",
      " val_acc:[0.9879770097525222, 0.9830808795016746]\n",
      " val_precision:[0.35066666162532306, 0.012228249207786887]\n",
      " val_recall:[0.35066666162532306, 0.006906698518635139]\n",
      " val_f1: [0.35066616162606085, 0.008504890787802106]\n"
     ]
    },
    {
     "name": "stderr",
     "output_type": "stream",
     "text": [
      " 57%|█████▋    | 170/300 [03:10<02:25,  1.12s/it]"
     ]
    },
    {
     "name": "stdout",
     "output_type": "stream",
     "text": [
      "169th epoch\n",
      " val_loss: 252.2006932134214\n",
      " val_acc:[0.9879674419112825, 0.9830770181572956]\n",
      " val_precision:[0.35066666162532306, 0.012228249207786887]\n",
      " val_recall:[0.35066666162532306, 0.006906698518635139]\n",
      " val_f1: [0.35066616162606085, 0.008504890787802106]\n"
     ]
    },
    {
     "name": "stderr",
     "output_type": "stream",
     "text": [
      " 57%|█████▋    | 171/300 [03:11<02:22,  1.11s/it]"
     ]
    },
    {
     "name": "stdout",
     "output_type": "stream",
     "text": [
      "170th epoch\n",
      " val_loss: 251.386358509893\n",
      " val_acc:[0.9879674393197762, 0.9830808717271557]\n",
      " val_precision:[0.3513460081556568, 0.012228249207786887]\n",
      " val_recall:[0.3513460081556568, 0.006906698518635139]\n",
      " val_f1: [0.35134550815639315, 0.008504890787802106]\n"
     ]
    },
    {
     "name": "stderr",
     "output_type": "stream",
     "text": [
      " 57%|█████▋    | 172/300 [03:12<02:21,  1.11s/it]"
     ]
    },
    {
     "name": "stdout",
     "output_type": "stream",
     "text": [
      "171th epoch\n",
      " val_loss: 250.65707496974778\n",
      " val_acc:[0.9879674393197764, 0.9830770103827768]\n",
      " val_precision:[0.35270470380783076, 0.011548902029576506]\n",
      " val_recall:[0.35270470380783076, 0.006567024767560804]\n",
      " val_f1: [0.35270420380856427, 0.008052011847872761]\n"
     ]
    },
    {
     "name": "stderr",
     "output_type": "stream",
     "text": [
      " 58%|█████▊    | 173/300 [03:13<02:19,  1.10s/it]"
     ]
    },
    {
     "name": "stdout",
     "output_type": "stream",
     "text": [
      "172th epoch\n",
      " val_loss: 249.92671634839928\n",
      " val_acc:[0.9879961428434951, 0.9831001732660378]\n",
      " val_precision:[0.35406339816425153, 0.011548902029576506]\n",
      " val_recall:[0.35406339816425153, 0.006567024767560804]\n",
      " val_f1: [0.3540628981649818, 0.008052011847872761]\n"
     ]
    },
    {
     "name": "stderr",
     "output_type": "stream",
     "text": [
      " 58%|█████▊    | 174/300 [03:14<02:17,  1.09s/it]"
     ]
    },
    {
     "name": "stdout",
     "output_type": "stream",
     "text": [
      "173th epoch\n",
      " val_loss: 248.98080975076425\n",
      " val_acc:[0.9880152785259744, 0.9830885970074199]\n",
      " val_precision:[0.3567807855813399, 0.010869554851366123]\n",
      " val_recall:[0.3567807855813399, 0.006227351016486469]\n",
      " val_f1: [0.35678028558206576, 0.007599113585505502]\n"
     ]
    },
    {
     "name": "stderr",
     "output_type": "stream",
     "text": [
      " 58%|█████▊    | 175/300 [03:15<02:15,  1.09s/it]"
     ]
    },
    {
     "name": "stdout",
     "output_type": "stream",
     "text": [
      "174th epoch\n",
      " val_loss: 248.16831505816918\n",
      " val_acc:[0.9880535524824392, 0.9830693006515503]\n",
      " val_precision:[0.35949817299842823, 0.010869554851366123]\n",
      " val_recall:[0.35949817299842823, 0.006227351016486469]\n",
      " val_f1: [0.35949767299914925, 0.007599113585505502]\n"
     ]
    },
    {
     "name": "stderr",
     "output_type": "stream",
     "text": [
      " 59%|█████▊    | 176/300 [03:16<02:16,  1.10s/it]"
     ]
    },
    {
     "name": "stdout",
     "output_type": "stream",
     "text": [
      "175th epoch\n",
      " val_loss: 246.93279498556382\n",
      " val_acc:[0.9880822585976643, 0.983053857865541]\n",
      " val_precision:[0.36153621388518287, 0.012228249207786887]\n",
      " val_recall:[0.36153621388518287, 0.006906698518635139]\n",
      " val_f1: [0.36153571388589967, 0.008504890787802106]\n"
     ]
    },
    {
     "name": "stderr",
     "output_type": "stream",
     "text": [
      " 59%|█████▉    | 177/300 [03:17<02:15,  1.10s/it]"
     ]
    },
    {
     "name": "stdout",
     "output_type": "stream",
     "text": [
      "176th epoch\n",
      " val_loss: 246.02375926142147\n",
      " val_acc:[0.9881013916886372, 0.983046142951302]\n",
      " val_precision:[0.3635742567155672, 0.01290759638599727]\n",
      " val_recall:[0.3635742567155672, 0.007076535434664593]\n",
      " val_f1: [0.3635737567162786, 0.008776615902239479]\n"
     ]
    },
    {
     "name": "stderr",
     "output_type": "stream",
     "text": [
      " 59%|█████▉    | 178/300 [03:19<02:15,  1.11s/it]"
     ]
    },
    {
     "name": "stdout",
     "output_type": "stream",
     "text": [
      "177th epoch\n",
      " val_loss: 245.21356897768766\n",
      " val_acc:[0.9881109595298767, 0.9830500017041748]\n",
      " val_precision:[0.36493294718472846, 0.011548902029576504]\n",
      " val_recall:[0.36493294718472846, 0.0063971879325159225]\n",
      " val_f1: [0.3649324471854381, 0.007870838699942874]\n"
     ]
    },
    {
     "name": "stderr",
     "output_type": "stream",
     "text": [
      " 60%|█████▉    | 179/300 [03:20<02:16,  1.13s/it]"
     ]
    },
    {
     "name": "stdout",
     "output_type": "stream",
     "text": [
      "178th epoch\n",
      " val_loss: 244.46435679560122\n",
      " val_acc:[0.988130095212356, 0.9830615805542988]\n",
      " val_precision:[0.3662916421890259, 0.011548902029576504]\n",
      " val_recall:[0.3662916421890259, 0.0063971879325159225]\n",
      " val_f1: [0.3662911421897318, 0.007870838699942874]\n"
     ]
    },
    {
     "name": "stderr",
     "output_type": "stream",
     "text": [
      " 60%|██████    | 180/300 [03:21<02:14,  1.12s/it]"
     ]
    },
    {
     "name": "stdout",
     "output_type": "stream",
     "text": [
      "179th epoch\n",
      " val_loss: 243.53387948741084\n",
      " val_acc:[0.988130095212356, 0.9830500042956809]\n",
      " val_precision:[0.3669709900151128, 0.011548902029576504]\n",
      " val_recall:[0.3669709900151128, 0.0063971879325159225]\n",
      " val_f1: [0.36697049001581794, 0.007870838699942874]\n"
     ]
    },
    {
     "name": "stderr",
     "output_type": "stream",
     "text": [
      " 60%|██████    | 181/300 [03:22<02:11,  1.11s/it]"
     ]
    },
    {
     "name": "stdout",
     "output_type": "stream",
     "text": [
      "180th epoch\n",
      " val_loss: 243.04127834154215\n",
      " val_acc:[0.9881300978038623, 0.9830577218014263]\n",
      " val_precision:[0.3676503378411997, 0.010869554851366122]\n",
      " val_recall:[0.3676503378411997, 0.006057514161195444]\n",
      " val_f1: [0.36764983784190386, 0.007411281900587145]\n"
     ]
    },
    {
     "name": "stderr",
     "output_type": "stream",
     "text": [
      " 61%|██████    | 182/300 [03:23<02:09,  1.09s/it]"
     ]
    },
    {
     "name": "stdout",
     "output_type": "stream",
     "text": [
      "181th epoch\n",
      " val_loss: 242.46053181523865\n",
      " val_acc:[0.9881396656451018, 0.9830615831458052]\n",
      " val_precision:[0.36832968566728674, 0.010869554851366122]\n",
      " val_recall:[0.36832968566728674, 0.006057514161195444]\n",
      " val_f1: [0.3683291856679887, 0.007411281900587145]\n"
     ]
    },
    {
     "name": "stderr",
     "output_type": "stream",
     "text": [
      " 61%|██████    | 183/300 [03:24<02:09,  1.10s/it]"
     ]
    },
    {
     "name": "stdout",
     "output_type": "stream",
     "text": [
      "182th epoch\n",
      " val_loss: 241.61197065270466\n",
      " val_acc:[0.9881396630535955, 0.983057721801426]\n",
      " val_precision:[0.37036772784979444, 0.010869554851366122]\n",
      " val_recall:[0.37036772784979444, 0.006057514161195444]\n",
      " val_f1: [0.3703672278504923, 0.007411281900587145]\n"
     ]
    },
    {
     "name": "stderr",
     "output_type": "stream",
     "text": [
      " 61%|██████▏   | 184/300 [03:25<02:07,  1.10s/it]"
     ]
    },
    {
     "name": "stdout",
     "output_type": "stream",
     "text": [
      "183th epoch\n",
      " val_loss: 240.76255632483443\n",
      " val_acc:[0.9881396630535955, 0.9830615857373115]\n",
      " val_precision:[0.3717264235019683, 0.010869554851366122]\n",
      " val_recall:[0.3717264235019683, 0.006057514161195444]\n",
      " val_f1: [0.3717259235026644, 0.007411281900587145]\n"
     ]
    },
    {
     "name": "stderr",
     "output_type": "stream",
     "text": [
      " 62%|██████▏   | 185/300 [03:26<02:06,  1.10s/it]"
     ]
    },
    {
     "name": "stdout",
     "output_type": "stream",
     "text": [
      "184th epoch\n",
      " val_loss: 239.9100053206734\n",
      " val_acc:[0.988158801327581, 0.983038428037063]\n",
      " val_precision:[0.3730851191541422, 0.010869554851366122]\n",
      " val_recall:[0.3730851191541422, 0.006057514161195444]\n",
      " val_f1: [0.37308461915483676, 0.007411281900587145]\n"
     ]
    },
    {
     "name": "stderr",
     "output_type": "stream",
     "text": [
      " 62%|██████▏   | 186/300 [03:27<02:04,  1.09s/it]"
     ]
    },
    {
     "name": "stdout",
     "output_type": "stream",
     "text": [
      "185th epoch\n",
      " val_loss: 239.1430882992952\n",
      " val_acc:[0.9881492334863413, 0.9830500068871872]\n",
      " val_precision:[0.3724057713280553, 0.010869554851366122]\n",
      " val_recall:[0.3724057713280553, 0.006057514161195444]\n",
      " val_f1: [0.3724052713287508, 0.007411281900587145]\n"
     ]
    },
    {
     "name": "stderr",
     "output_type": "stream",
     "text": [
      " 62%|██████▏   | 187/300 [03:28<02:02,  1.08s/it]"
     ]
    },
    {
     "name": "stdout",
     "output_type": "stream",
     "text": [
      "186th epoch\n",
      " val_loss: 238.19804183296534\n",
      " val_acc:[0.9881875048512998, 0.9830384254455566]\n",
      " val_precision:[0.37580250527547754, 0.010869554851366122]\n",
      " val_recall:[0.37580250527547754, 0.006057514161195444]\n",
      " val_f1: [0.3758020052761676, 0.007411281900587145]\n"
     ]
    },
    {
     "name": "stderr",
     "output_type": "stream",
     "text": [
      " 63%|██████▎   | 188/300 [03:29<02:01,  1.08s/it]"
     ]
    },
    {
     "name": "stdout",
     "output_type": "stream",
     "text": [
      "187th epoch\n",
      " val_loss: 237.48833034349522\n",
      " val_acc:[0.9882162083750186, 0.9830577321674514]\n",
      " val_precision:[0.37784054745798523, 0.010869554851366122]\n",
      " val_recall:[0.37784054745798523, 0.006057514161195444]\n",
      " val_f1: [0.37784004745867084, 0.007411281900587145]\n"
     ]
    },
    {
     "name": "stderr",
     "output_type": "stream",
     "text": [
      " 63%|██████▎   | 189/300 [03:31<02:00,  1.08s/it]"
     ]
    },
    {
     "name": "stdout",
     "output_type": "stream",
     "text": [
      "188th epoch\n",
      " val_loss: 236.69783948815385\n",
      " val_acc:[0.9882257762162583, 0.9830577321674514]\n",
      " val_precision:[0.378519893988319, 0.010869554851366122]\n",
      " val_recall:[0.378519893988319, 0.006057514161195444]\n",
      " val_f1: [0.3785193939890028, 0.007411281900587145]\n"
     ]
    },
    {
     "name": "stderr",
     "output_type": "stream",
     "text": [
      " 63%|██████▎   | 190/300 [03:32<01:59,  1.08s/it]"
     ]
    },
    {
     "name": "stdout",
     "output_type": "stream",
     "text": [
      "189th epoch\n",
      " val_loss: 235.8244101482889\n",
      " val_acc:[0.9882257762162583, 0.9829998275508052]\n",
      " val_precision:[0.3798785896404929, 0.010869554851366122]\n",
      " val_recall:[0.3798785896404929, 0.006057514161195444]\n",
      " val_f1: [0.3798780896411737, 0.007411281900587145]\n"
     ]
    },
    {
     "name": "stderr",
     "output_type": "stream",
     "text": [
      " 64%|██████▎   | 191/300 [03:33<01:57,  1.08s/it]"
     ]
    },
    {
     "name": "stdout",
     "output_type": "stream",
     "text": [
      "190th epoch\n",
      " val_loss: 234.92722221042797\n",
      " val_acc:[0.9882449118987375, 0.9829998197762861]\n",
      " val_precision:[0.3819166318230006, 0.010869554851366122]\n",
      " val_recall:[0.3819166318230006, 0.006057514161195444]\n",
      " val_f1: [0.38191613182367623, 0.007411281900587145]\n"
     ]
    },
    {
     "name": "stderr",
     "output_type": "stream",
     "text": [
      " 64%|██████▍   | 192/300 [03:34<01:58,  1.10s/it]"
     ]
    },
    {
     "name": "stdout",
     "output_type": "stream",
     "text": [
      "191th epoch\n",
      " val_loss: 234.2570522142493\n",
      " val_acc:[0.988254479739977, 0.9830191213151682]\n",
      " val_precision:[0.38259597964908765, 0.010869554851366122]\n",
      " val_recall:[0.38259597964908765, 0.006057514161195444]\n",
      " val_f1: [0.38259547964976137, 0.007411281900587145]\n"
     ]
    },
    {
     "name": "stderr",
     "output_type": "stream",
     "text": [
      " 64%|██████▍   | 193/300 [03:35<01:56,  1.09s/it]"
     ]
    },
    {
     "name": "stdout",
     "output_type": "stream",
     "text": [
      "192th epoch\n",
      " val_loss: 233.6060648379118\n",
      " val_acc:[0.9882640475812166, 0.9830650998198467]\n",
      " val_precision:[0.38327532488366833, 0.010869554851366122]\n",
      " val_recall:[0.38327532488366833, 0.006057514161195444]\n",
      " val_f1: [0.38327482488434134, 0.007411281900587145]\n"
     ]
    },
    {
     "name": "stderr",
     "output_type": "stream",
     "text": [
      " 65%|██████▍   | 194/300 [03:36<01:54,  1.08s/it]"
     ]
    },
    {
     "name": "stdout",
     "output_type": "stream",
     "text": [
      "193th epoch\n",
      " val_loss: 232.64031916079313\n",
      " val_acc:[0.988254479739977, 0.9830419369365857]\n",
      " val_precision:[0.38327532488366833, 0.010869554851366122]\n",
      " val_recall:[0.38327532488366833, 0.006057514161195444]\n",
      " val_f1: [0.38327482488434134, 0.007411281900587145]\n"
     ]
    },
    {
     "name": "stderr",
     "output_type": "stream",
     "text": [
      " 65%|██████▌   | 195/300 [03:37<01:53,  1.08s/it]"
     ]
    },
    {
     "name": "stdout",
     "output_type": "stream",
     "text": [
      "194th epoch\n",
      " val_loss: 231.97475731891134\n",
      " val_acc:[0.9882640475812166, 0.9830843987672224]\n",
      " val_precision:[0.38395467270975525, 0.010869554851366122]\n",
      " val_recall:[0.38395467270975525, 0.006057514161195444]\n",
      " val_f1: [0.38395417271042703, 0.007411281900587145]\n"
     ]
    },
    {
     "name": "stderr",
     "output_type": "stream",
     "text": [
      " 65%|██████▌   | 196/300 [03:38<01:52,  1.08s/it]"
     ]
    },
    {
     "name": "stdout",
     "output_type": "stream",
     "text": [
      "195th epoch\n",
      " val_loss: 231.31588977316153\n",
      " val_acc:[0.9882640475812166, 0.9830921188644741]\n",
      " val_precision:[0.38395467270975525, 0.01019020767315574]\n",
      " val_recall:[0.38395467270975525, 0.005378166982985062]\n",
      " val_f1: [0.38395417271042703, 0.006731956460811567]\n"
     ]
    },
    {
     "name": "stderr",
     "output_type": "stream",
     "text": [
      " 66%|██████▌   | 197/300 [03:39<01:51,  1.08s/it]"
     ]
    },
    {
     "name": "stdout",
     "output_type": "stream",
     "text": [
      "196th epoch\n",
      " val_loss: 230.42143116826605\n",
      " val_acc:[0.9882831832636958, 0.9830882601116016]\n",
      " val_precision:[0.385313367066176, 0.01019020767315574]\n",
      " val_recall:[0.385313367066176, 0.005378166982985062]\n",
      " val_f1: [0.3853128670668457, 0.006731956460811567]\n"
     ]
    },
    {
     "name": "stderr",
     "output_type": "stream",
     "text": [
      " 66%|██████▌   | 198/300 [03:40<01:49,  1.07s/it]"
     ]
    },
    {
     "name": "stdout",
     "output_type": "stream",
     "text": [
      "197th epoch\n",
      " val_loss: 229.6494890295941\n",
      " val_acc:[0.9883118893789209, 0.9830766812614773]\n",
      " val_precision:[0.3880307557790176, 0.01019020767315574]\n",
      " val_recall:[0.3880307557790176, 0.005378166982985062]\n",
      " val_f1: [0.3880302557796817, 0.006731956460811567]\n"
     ]
    },
    {
     "name": "stderr",
     "output_type": "stream",
     "text": [
      " 66%|██████▋   | 199/300 [03:41<01:48,  1.08s/it]"
     ]
    },
    {
     "name": "stdout",
     "output_type": "stream",
     "text": [
      "198th epoch\n",
      " val_loss: 229.03096771240234\n",
      " val_acc:[0.9883214572201604, 0.9831037003061047]\n",
      " val_precision:[0.3887101036051045, 0.009510860494945357]\n",
      " val_recall:[0.3887101036051045, 0.0051517177818586005]\n",
      " val_f1: [0.3887096036057684, 0.006392299015838381]\n"
     ]
    },
    {
     "name": "stderr",
     "output_type": "stream",
     "text": [
      " 67%|██████▋   | 200/300 [03:42<01:47,  1.08s/it]"
     ]
    },
    {
     "name": "stdout",
     "output_type": "stream",
     "text": [
      "199th epoch\n",
      " val_loss: 228.54026064665425\n",
      " val_acc:[0.9883214572201604, 0.9831268554148469]\n",
      " val_precision:[0.3887101036051045, 0.009510860494945357]\n",
      " val_recall:[0.3887101036051045, 0.0051517177818586005]\n",
      " val_f1: [0.3887096036057684, 0.006392299015838381]\n"
     ]
    },
    {
     "name": "stderr",
     "output_type": "stream",
     "text": [
      " 67%|██████▋   | 201/300 [03:43<01:46,  1.07s/it]"
     ]
    },
    {
     "name": "stdout",
     "output_type": "stream",
     "text": [
      "200th epoch\n",
      " val_loss: 227.7480369236158\n",
      " val_acc:[0.9883310250613999, 0.9831114152203436]\n",
      " val_precision:[0.39006879796152516, 0.008831513316734974]\n",
      " val_recall:[0.39006879796152516, 0.0048120440307842655]\n",
      " val_f1: [0.3900682979621867, 0.005939420075909037]\n"
     ]
    },
    {
     "name": "stderr",
     "output_type": "stream",
     "text": [
      " 67%|██████▋   | 202/300 [03:45<01:45,  1.07s/it]"
     ]
    },
    {
     "name": "stdout",
     "output_type": "stream",
     "text": [
      "201th epoch\n",
      " val_loss: 226.70412511410922\n",
      " val_acc:[0.9883405903111335, 0.9830959802088531]\n",
      " val_precision:[0.39210684143978614, 0.01019020767315574]\n",
      " val_recall:[0.39210684143978614, 0.005378166982985062]\n",
      " val_f1: [0.39210634144044404, 0.006731956460811567]\n"
     ]
    },
    {
     "name": "stderr",
     "output_type": "stream",
     "text": [
      " 68%|██████▊   | 203/300 [03:46<01:44,  1.08s/it]"
     ]
    },
    {
     "name": "stdout",
     "output_type": "stream",
     "text": [
      "202th epoch\n",
      " val_loss: 225.71109672214683\n",
      " val_acc:[0.9884267034737961, 0.9829998275508052]\n",
      " val_precision:[0.3989003158133963, 0.01019020767315574]\n",
      " val_recall:[0.3989003158133963, 0.005378166982985062]\n",
      " val_f1: [0.39889981581404066, 0.006731956460811567]\n"
     ]
    },
    {
     "name": "stderr",
     "output_type": "stream",
     "text": [
      " 68%|██████▊   | 204/300 [03:47<01:43,  1.07s/it]"
     ]
    },
    {
     "name": "stdout",
     "output_type": "stream",
     "text": [
      "203th epoch\n",
      " val_loss: 225.21891685154125\n",
      " val_acc:[0.9884075677913169, 0.983022635397704]\n",
      " val_precision:[0.3975416214569755, 0.01019020767315574]\n",
      " val_recall:[0.3975416214569755, 0.005378166982985062]\n",
      " val_f1: [0.3975411214576221, 0.006731956460811567]\n"
     ]
    },
    {
     "name": "stderr",
     "output_type": "stream",
     "text": [
      " 68%|██████▊   | 205/300 [03:48<01:41,  1.07s/it]"
     ]
    },
    {
     "name": "stdout",
     "output_type": "stream",
     "text": [
      "204th epoch\n",
      " val_loss: 224.50409997027856\n",
      " val_acc:[0.9884267034737961, 0.9830380781837132]\n",
      " val_precision:[0.399579661047977, 0.009510860494945357]\n",
      " val_recall:[0.399579661047977, 0.0050384932319107265]\n",
      " val_f1: [0.39957916104862035, 0.006279077520882223]\n"
     ]
    },
    {
     "name": "stderr",
     "output_type": "stream",
     "text": [
      " 69%|██████▊   | 206/300 [03:49<01:40,  1.07s/it]"
     ]
    },
    {
     "name": "stdout",
     "output_type": "stream",
     "text": [
      "205th epoch\n",
      " val_loss: 223.7513003141984\n",
      " val_acc:[0.9884362713150356, 0.9830805426058562]\n",
      " val_precision:[0.4002590088740639, 0.008831513316734974]\n",
      " val_recall:[0.4002590088740639, 0.0048120440307842655]\n",
      " val_f1: [0.40025850887470615, 0.005939420075909037]\n"
     ]
    },
    {
     "name": "stderr",
     "output_type": "stream",
     "text": [
      " 69%|██████▉   | 207/300 [03:50<01:39,  1.07s/it]"
     ]
    },
    {
     "name": "stdout",
     "output_type": "stream",
     "text": [
      "206th epoch\n",
      " val_loss: 223.1886991417926\n",
      " val_acc:[0.9884362713150356, 0.9830805477888689]\n",
      " val_precision:[0.4002590088740639, 0.008831513316734974]\n",
      " val_recall:[0.4002590088740639, 0.0048120440307842655]\n",
      " val_f1: [0.40025850887470615, 0.005939420075909037]\n"
     ]
    },
    {
     "name": "stderr",
     "output_type": "stream",
     "text": [
      " 69%|██████▉   | 208/300 [03:51<01:38,  1.07s/it]"
     ]
    },
    {
     "name": "stdout",
     "output_type": "stream",
     "text": [
      "207th epoch\n",
      " val_loss: 222.4958894149117\n",
      " val_acc:[0.9884458391562752, 0.9830728276916174]\n",
      " val_precision:[0.4009383541086446, 0.008831513316734974]\n",
      " val_recall:[0.4009383541086446, 0.0048120440307842655]\n",
      " val_f1: [0.40093785410928573, 0.005939420075909037]\n"
     ]
    },
    {
     "name": "stderr",
     "output_type": "stream",
     "text": [
      " 70%|██████▉   | 209/300 [03:52<01:38,  1.08s/it]"
     ]
    },
    {
     "name": "stdout",
     "output_type": "stream",
     "text": [
      "208th epoch\n",
      " val_loss: 221.83996880572775\n",
      " val_acc:[0.9884458391562752, 0.9830689663472383]\n",
      " val_precision:[0.4009383541086446, 0.009510860494945358]\n",
      " val_recall:[0.4009383541086446, 0.005151717802104743]\n",
      " val_f1: [0.40093785410928573, 0.006398976875264766]\n"
     ]
    },
    {
     "name": "stderr",
     "output_type": "stream",
     "text": [
      " 70%|███████   | 210/300 [03:53<01:37,  1.08s/it]"
     ]
    },
    {
     "name": "stdout",
     "output_type": "stream",
     "text": [
      "209th epoch\n",
      " val_loss: 221.1641215448794\n",
      " val_acc:[0.9884554069975149, 0.9830844065417416]\n",
      " val_precision:[0.4016177019347315, 0.009510860494945358]\n",
      " val_recall:[0.4016177019347315, 0.005151717802104743]\n",
      " val_f1: [0.40161720193537104, 0.006398976875264766]\n"
     ]
    },
    {
     "name": "stderr",
     "output_type": "stream",
     "text": [
      " 70%|███████   | 211/300 [03:54<01:35,  1.08s/it]"
     ]
    },
    {
     "name": "stdout",
     "output_type": "stream",
     "text": [
      "210th epoch\n",
      " val_loss: 220.57246332583222\n",
      " val_acc:[0.9884554069975149, 0.9830766812614775]\n",
      " val_precision:[0.4016177019347315, 0.009510860494945358]\n",
      " val_recall:[0.4016177019347315, 0.005151717802104743]\n",
      " val_f1: [0.40161720193537104, 0.006398976875264766]\n"
     ]
    },
    {
     "name": "stderr",
     "output_type": "stream",
     "text": [
      " 71%|███████   | 212/300 [03:55<01:35,  1.08s/it]"
     ]
    },
    {
     "name": "stdout",
     "output_type": "stream",
     "text": [
      "211th epoch\n",
      " val_loss: 219.81930541992185\n",
      " val_acc:[0.9884458391562754, 0.9830500172532126]\n",
      " val_precision:[0.4022970497608185, 0.010190207673155741]\n",
      " val_recall:[0.4022970497608185, 0.005491391553179078]\n",
      " val_f1: [0.4022965497614573, 0.0068842254088255185]\n"
     ]
    },
    {
     "name": "stderr",
     "output_type": "stream",
     "text": [
      " 71%|███████   | 213/300 [03:56<01:34,  1.08s/it]"
     ]
    },
    {
     "name": "stdout",
     "output_type": "stream",
     "text": [
      "212th epoch\n",
      " val_loss: 219.13128927479622\n",
      " val_acc:[0.988503248795219, 0.9830114167669546]\n",
      " val_precision:[0.4063731289428214, 0.010190207673155741]\n",
      " val_recall:[0.4063731289428214, 0.005491391553179078]\n",
      " val_f1: [0.4063726289434531, 0.0068842254088255185]\n"
     ]
    },
    {
     "name": "stderr",
     "output_type": "stream",
     "text": [
      " 71%|███████▏  | 214/300 [03:57<01:32,  1.08s/it]"
     ]
    },
    {
     "name": "stdout",
     "output_type": "stream",
     "text": [
      "213th epoch\n",
      " val_loss: 218.48786859926972\n",
      " val_acc:[0.9885223870692046, 0.9829886089200559]\n",
      " val_precision:[0.4077318232992422, 0.010190207673155741]\n",
      " val_recall:[0.4077318232992422, 0.005491391553179078]\n",
      " val_f1: [0.40773132329987216, 0.0068842254088255185]\n"
     ]
    },
    {
     "name": "stderr",
     "output_type": "stream",
     "text": [
      " 72%|███████▏  | 215/300 [03:59<01:31,  1.07s/it]"
     ]
    },
    {
     "name": "stdout",
     "output_type": "stream",
     "text": [
      "214th epoch\n",
      " val_loss: 217.92880016824478\n",
      " val_acc:[0.9885223870692046, 0.9830461559088337]\n",
      " val_precision:[0.4077318232992422, 0.010190207673155741]\n",
      " val_recall:[0.4077318232992422, 0.005491391553179078]\n",
      " val_f1: [0.40773132329987216, 0.0068842254088255185]\n"
     ]
    },
    {
     "name": "stderr",
     "output_type": "stream",
     "text": [
      " 72%|███████▏  | 216/300 [04:00<01:30,  1.07s/it]"
     ]
    },
    {
     "name": "stdout",
     "output_type": "stream",
     "text": [
      "215th epoch\n",
      " val_loss: 217.37601902173915\n",
      " val_acc:[0.9885415227516838, 0.9830728121425796]\n",
      " val_precision:[0.4090905189514161, 0.009510860494945358]\n",
      " val_recall:[0.4090905189514161, 0.005151717802104743]\n",
      " val_f1: [0.4090900189520445, 0.006398976875264766]\n"
     ]
    },
    {
     "name": "stderr",
     "output_type": "stream",
     "text": [
      " 72%|███████▏  | 217/300 [04:01<01:29,  1.07s/it]"
     ]
    },
    {
     "name": "stdout",
     "output_type": "stream",
     "text": [
      "216th epoch\n",
      " val_loss: 216.91689930791438\n",
      " val_acc:[0.9885606636171755, 0.9830766708954521]\n",
      " val_precision:[0.41044921201208373, 0.008152166138524593]\n",
      " val_recall:[0.41044921201208373, 0.0045855948296578035]\n",
      " val_f1: [0.41044871201270944, 0.005599762630935851]\n"
     ]
    },
    {
     "name": "stderr",
     "output_type": "stream",
     "text": [
      " 73%|███████▎  | 218/300 [04:02<01:28,  1.08s/it]"
     ]
    },
    {
     "name": "stdout",
     "output_type": "stream",
     "text": [
      "217th epoch\n",
      " val_loss: 216.081612960152\n",
      " val_acc:[0.9885606662086819, 0.9830114167669546]\n",
      " val_precision:[0.412487250307332, 0.010190207673155741]\n",
      " val_recall:[0.412487250307332, 0.005491391553179078]\n",
      " val_f1: [0.41248675030795406, 0.0068842254088255185]\n"
     ]
    },
    {
     "name": "stderr",
     "output_type": "stream",
     "text": [
      " 73%|███████▎  | 219/300 [04:03<01:27,  1.08s/it]"
     ]
    },
    {
     "name": "stdout",
     "output_type": "stream",
     "text": [
      "218th epoch\n",
      " val_loss: 215.5339693815812\n",
      " val_acc:[0.9885798018911611, 0.9829921152280723]\n",
      " val_precision:[0.41384594595950597, 0.010869554851366123]\n",
      " val_recall:[0.41384594595950597, 0.005831065304253413]\n",
      " val_f1: [0.4138454459601257, 0.007339172513191485]\n"
     ]
    },
    {
     "name": "stderr",
     "output_type": "stream",
     "text": [
      " 73%|███████▎  | 220/300 [04:04<01:25,  1.07s/it]"
     ]
    },
    {
     "name": "stdout",
     "output_type": "stream",
     "text": [
      "219th epoch\n",
      " val_loss: 215.00477401069972\n",
      " val_acc:[0.9885510983674421, 0.9830307105313176]\n",
      " val_precision:[0.41384594595950597, 0.010190207673155741]\n",
      " val_recall:[0.41384594595950597, 0.005491391553179078]\n",
      " val_f1: [0.4138454459601257, 0.006853923979630732]\n"
     ]
    },
    {
     "name": "stderr",
     "output_type": "stream",
     "text": [
      " 74%|███████▎  | 221/300 [04:05<01:24,  1.08s/it]"
     ]
    },
    {
     "name": "stdout",
     "output_type": "stream",
     "text": [
      "220th epoch\n",
      " val_loss: 214.5976151176121\n",
      " val_acc:[0.9885606662086819, 0.9830233402874158]\n",
      " val_precision:[0.41384594595950597, 0.010190207673155741]\n",
      " val_recall:[0.41384594595950597, 0.005491391553179078]\n",
      " val_f1: [0.4138454459601257, 0.006853923979630732]\n"
     ]
    },
    {
     "name": "stderr",
     "output_type": "stream",
     "text": [
      " 74%|███████▍  | 222/300 [04:06<01:23,  1.07s/it]"
     ]
    },
    {
     "name": "stdout",
     "output_type": "stream",
     "text": [
      "221th epoch\n",
      " val_loss: 214.05196115244988\n",
      " val_acc:[0.9885606713916943, 0.9830345615096714]\n",
      " val_precision:[0.4145252937855929, 0.008831513316734976]\n",
      " val_recall:[0.4145252937855929, 0.004812044030784265]\n",
      " val_f1: [0.41452479378621176, 0.005939420075909037]\n"
     ]
    },
    {
     "name": "stderr",
     "output_type": "stream",
     "text": [
      " 74%|███████▍  | 223/300 [04:07<01:22,  1.08s/it]"
     ]
    },
    {
     "name": "stdout",
     "output_type": "stream",
     "text": [
      "222th epoch\n",
      " val_loss: 213.57145093834916\n",
      " val_acc:[0.9885511035504548, 0.9830422790154167]\n",
      " val_precision:[0.4145252937855929, 0.008831513316734976]\n",
      " val_recall:[0.4145252937855929, 0.004812044030784265]\n",
      " val_f1: [0.41452479378621176, 0.005939420075909037]\n"
     ]
    },
    {
     "name": "stderr",
     "output_type": "stream",
     "text": [
      " 75%|███████▍  | 224/300 [04:08<01:21,  1.07s/it]"
     ]
    },
    {
     "name": "stdout",
     "output_type": "stream",
     "text": [
      "223th epoch\n",
      " val_loss: 213.05046081542972\n",
      " val_acc:[0.9885415357092151, 0.9830499965211619]\n",
      " val_precision:[0.4145252937855929, 0.008831513316734976]\n",
      " val_recall:[0.4145252937855929, 0.004812044030784265]\n",
      " val_f1: [0.41452479378621176, 0.005939420075909037]\n"
     ]
    },
    {
     "name": "stderr",
     "output_type": "stream",
     "text": [
      " 75%|███████▌  | 225/300 [04:09<01:20,  1.07s/it]"
     ]
    },
    {
     "name": "stdout",
     "output_type": "stream",
     "text": [
      "224th epoch\n",
      " val_loss: 212.56469295335853\n",
      " val_acc:[0.9885415305262026, 0.9830573667650636]\n",
      " val_precision:[0.4145252937855929, 0.008831513316734976]\n",
      " val_recall:[0.4145252937855929, 0.004812044030784265]\n",
      " val_f1: [0.41452479378621176, 0.005939420075909037]\n"
     ]
    },
    {
     "name": "stderr",
     "output_type": "stream",
     "text": [
      " 75%|███████▌  | 226/300 [04:10<01:19,  1.07s/it]"
     ]
    },
    {
     "name": "stdout",
     "output_type": "stream",
     "text": [
      "225th epoch\n",
      " val_loss: 211.95512854534644\n",
      " val_acc:[0.9885789311450461, 0.9830075450565503]\n",
      " val_precision:[0.4185396173725958, 0.008831513316734976]\n",
      " val_recall:[0.4185396173725958, 0.004812044030784265]\n",
      " val_f1: [0.41853911737320915, 0.005939420075909037]\n"
     ]
    },
    {
     "name": "stderr",
     "output_type": "stream",
     "text": [
      " 76%|███████▌  | 227/300 [04:11<01:18,  1.08s/it]"
     ]
    },
    {
     "name": "stdout",
     "output_type": "stream",
     "text": [
      "226th epoch\n",
      " val_loss: 211.4261315387228\n",
      " val_acc:[0.9885884989862856, 0.9830728173255922]\n",
      " val_precision:[0.41989831302476976, 0.008152166138524593]\n",
      " val_recall:[0.41989831302476976, 0.0045855948296578035]\n",
      " val_f1: [0.4198978130253809, 0.005599762630935851]\n"
     ]
    },
    {
     "name": "stderr",
     "output_type": "stream",
     "text": [
      " 76%|███████▌  | 228/300 [04:13<01:18,  1.09s/it]"
     ]
    },
    {
     "name": "stdout",
     "output_type": "stream",
     "text": [
      "227th epoch\n",
      " val_loss: 210.94185174029803\n",
      " val_acc:[0.9886076346687649, 0.9830843961757163]\n",
      " val_precision:[0.42193635261577117, 0.006793471782103827]\n",
      " val_recall:[0.42193635261577117, 0.004019471877457007]\n",
      " val_f1: [0.42193585261637956, 0.0048072099428542415]\n"
     ]
    },
    {
     "name": "stderr",
     "output_type": "stream",
     "text": [
      " 76%|███████▋  | 229/300 [04:14<01:16,  1.07s/it]"
     ]
    },
    {
     "name": "stdout",
     "output_type": "stream",
     "text": [
      "228th epoch\n",
      " val_loss: 210.4308272652004\n",
      " val_acc:[0.9885980668275254, 0.9830538682315662]\n",
      " val_precision:[0.42193635261577117, 0.008152166138524593]\n",
      " val_recall:[0.42193635261577117, 0.0045855948296578035]\n",
      " val_f1: [0.42193585261637956, 0.005599762630935851]\n"
     ]
    },
    {
     "name": "stderr",
     "output_type": "stream",
     "text": [
      " 77%|███████▋  | 230/300 [04:15<01:15,  1.08s/it]"
     ]
    },
    {
     "name": "stdout",
     "output_type": "stream",
     "text": [
      "229th epoch\n",
      " val_loss: 210.08214436406675\n",
      " val_acc:[0.9885789337365525, 0.9830500068871875]\n",
      " val_precision:[0.4226156991461049, 0.009510860494945358]\n",
      " val_recall:[0.4226156991461049, 0.0051517177818586]\n",
      " val_f1: [0.42261519914671186, 0.006394367180275003]\n"
     ]
    },
    {
     "name": "stderr",
     "output_type": "stream",
     "text": [
      " 77%|███████▋  | 231/300 [04:16<01:14,  1.08s/it]"
     ]
    },
    {
     "name": "stdout",
     "output_type": "stream",
     "text": [
      "230th epoch\n",
      " val_loss: 209.67211018437925\n",
      " val_acc:[0.9885980694190315, 0.9830654418986775]\n",
      " val_precision:[0.42329504697219195, 0.00747281896031421]\n",
      " val_recall:[0.42329504697219195, 0.0042459210785834684]\n",
      " val_f1: [0.42329454697279756, 0.005146883691006507]\n"
     ]
    },
    {
     "name": "stderr",
     "output_type": "stream",
     "text": [
      " 77%|███████▋  | 232/300 [04:17<01:13,  1.08s/it]"
     ]
    },
    {
     "name": "stdout",
     "output_type": "stream",
     "text": [
      "231th epoch\n",
      " val_loss: 209.29544498609462\n",
      " val_acc:[0.9885980694190315, 0.9830693006515503]\n",
      " val_precision:[0.42329504697219195, 0.008152166138524593]\n",
      " val_recall:[0.42329504697219195, 0.0044723702797099295]\n",
      " val_f1: [0.42329454697279756, 0.005486541135979693]\n"
     ]
    },
    {
     "name": "stderr",
     "output_type": "stream",
     "text": [
      " 78%|███████▊  | 233/300 [04:18<01:12,  1.09s/it]"
     ]
    },
    {
     "name": "stdout",
     "output_type": "stream",
     "text": [
      "232th epoch\n",
      " val_loss: 208.92944568136465\n",
      " val_acc:[0.9885789337365525, 0.9830422867899358]\n",
      " val_precision:[0.42329504697219195, 0.009510860494945358]\n",
      " val_recall:[0.42329504697219195, 0.0051517177818586]\n",
      " val_f1: [0.42329454697279756, 0.006394367180275003]\n"
     ]
    },
    {
     "name": "stderr",
     "output_type": "stream",
     "text": [
      " 78%|███████▊  | 234/300 [04:19<01:11,  1.08s/it]"
     ]
    },
    {
     "name": "stdout",
     "output_type": "stream",
     "text": [
      "233th epoch\n",
      " val_loss: 208.39433951999828\n",
      " val_acc:[0.9886267781257632, 0.9830461455428081]\n",
      " val_precision:[0.42737113133720733, 0.006793471782103827]\n",
      " val_recall:[0.42737113133720733, 0.004019471877457007]\n",
      " val_f1: [0.42737063133780795, 0.0048072099428542415]\n"
     ]
    },
    {
     "name": "stderr",
     "output_type": "stream",
     "text": [
      " 78%|███████▊  | 235/300 [04:20<01:10,  1.08s/it]"
     ]
    },
    {
     "name": "stdout",
     "output_type": "stream",
     "text": [
      "234th epoch\n",
      " val_loss: 207.90420233685035\n",
      " val_acc:[0.9886267807172693, 0.9831152687902039]\n",
      " val_precision:[0.42805047916329425, 0.006114124603893444]\n",
      " val_recall:[0.42805047916329425, 0.003340124699246624]\n",
      " val_f1: [0.42804997916389387, 0.004127884503078663]\n"
     ]
    },
    {
     "name": "stderr",
     "output_type": "stream",
     "text": [
      " 79%|███████▊  | 236/300 [04:21<01:08,  1.07s/it]"
     ]
    },
    {
     "name": "stdout",
     "output_type": "stream",
     "text": [
      "235th epoch\n",
      " val_loss: 207.51641779360568\n",
      " val_acc:[0.988636348558509, 0.9831117598906809]\n",
      " val_precision:[0.42805047916329425, 0.006114124603893444]\n",
      " val_recall:[0.42805047916329425, 0.003340124699246624]\n",
      " val_f1: [0.42804997916389387, 0.004127884503078663]\n"
     ]
    },
    {
     "name": "stderr",
     "output_type": "stream",
     "text": [
      " 79%|███████▉  | 237/300 [04:22<01:07,  1.07s/it]"
     ]
    },
    {
     "name": "stdout",
     "output_type": "stream",
     "text": [
      "236th epoch\n",
      " val_loss: 207.08302439814028\n",
      " val_acc:[0.9886267807172695, 0.9831268450488216]\n",
      " val_precision:[0.4287298269893812, 0.005434777425683062]\n",
      " val_recall:[0.4287298269893812, 0.0031136754778740196]\n",
      " val_f1: [0.42872932698998, 0.0037815491986790918]\n"
     ]
    },
    {
     "name": "stderr",
     "output_type": "stream",
     "text": [
      " 79%|███████▉  | 238/300 [04:23<01:07,  1.09s/it]"
     ]
    },
    {
     "name": "stdout",
     "output_type": "stream",
     "text": [
      "237th epoch\n",
      " val_loss: 206.61926999299425\n",
      " val_acc:[0.9886459163997485, 0.9831229888874552]\n",
      " val_precision:[0.43212656482406286, 0.006114124603893444]\n",
      " val_recall:[0.43212656482406286, 0.003340124699246624]\n",
      " val_f1: [0.43212606482465743, 0.004127884503078663]\n"
     ]
    },
    {
     "name": "stderr",
     "output_type": "stream",
     "text": [
      " 80%|███████▉  | 239/300 [04:25<01:10,  1.16s/it]"
     ]
    },
    {
     "name": "stdout",
     "output_type": "stream",
     "text": [
      "238th epoch\n",
      " val_loss: 206.2101287841797\n",
      " val_acc:[0.9887128912884258, 0.9831036873485732]\n",
      " val_precision:[0.4382406874843266, 0.006114124603893444]\n",
      " val_recall:[0.4382406874843266, 0.003340124699246624]\n",
      " val_f1: [0.4382401874849118, 0.004127884503078663]\n"
     ]
    },
    {
     "name": "stderr",
     "output_type": "stream",
     "text": [
      " 80%|████████  | 240/300 [04:26<01:11,  1.20s/it]"
     ]
    },
    {
     "name": "stdout",
     "output_type": "stream",
     "text": [
      "239th epoch\n",
      " val_loss: 205.88909248683765\n",
      " val_acc:[0.9887798687686091, 0.9830770181572956]\n",
      " val_precision:[0.4463928536228512, 0.006114124603893444]\n",
      " val_recall:[0.4463928536228512, 0.003340124699246624]\n",
      " val_f1: [0.44639235362342533, 0.004127884503078663]\n"
     ]
    },
    {
     "name": "stderr",
     "output_type": "stream",
     "text": [
      " 80%|████████  | 241/300 [04:27<01:14,  1.27s/it]"
     ]
    },
    {
     "name": "stdout",
     "output_type": "stream",
     "text": [
      "240th epoch\n",
      " val_loss: 205.6288710884426\n",
      " val_acc:[0.9888372758160464, 0.9830422816069231]\n",
      " val_precision:[0.4504689366921135, 0.006793471782103827]\n",
      " val_recall:[0.4504689366921135, 0.004019471877457007]\n",
      " val_f1: [0.45046843669268255, 0.0048072099428542415]\n"
     ]
    },
    {
     "name": "stderr",
     "output_type": "stream",
     "text": [
      " 81%|████████  | 242/300 [04:29<01:12,  1.25s/it]"
     ]
    },
    {
     "name": "stdout",
     "output_type": "stream",
     "text": [
      "241th epoch\n",
      " val_loss: 205.28311455768085\n",
      " val_acc:[0.9888372758160464, 0.9830770181572956]\n",
      " val_precision:[0.4504689366921135, 0.006114124603893444]\n",
      " val_recall:[0.4504689366921135, 0.003340124699246624]\n",
      " val_f1: [0.45046843669268255, 0.004127884503078663]\n"
     ]
    },
    {
     "name": "stderr",
     "output_type": "stream",
     "text": [
      " 81%|████████  | 243/300 [04:30<01:10,  1.23s/it]"
     ]
    },
    {
     "name": "stdout",
     "output_type": "stream",
     "text": [
      "242th epoch\n",
      " val_loss: 204.84059209408971\n",
      " val_acc:[0.9888659845227781, 0.9830885970074197]\n",
      " val_precision:[0.45250698017037444, 0.006114124603893444]\n",
      " val_recall:[0.45250698017037444, 0.003340124699246624]\n",
      " val_f1: [0.4525064801709412, 0.004127884503078663]\n"
     ]
    },
    {
     "name": "stderr",
     "output_type": "stream",
     "text": [
      " 81%|████████▏ | 244/300 [04:31<01:07,  1.21s/it]"
     ]
    },
    {
     "name": "stdout",
     "output_type": "stream",
     "text": [
      "243th epoch\n",
      " val_loss: 204.59342724344006\n",
      " val_acc:[0.9889416590980861, 0.9830885970074199]\n",
      " val_precision:[0.45787999940955126, 0.005434777425683062]\n",
      " val_recall:[0.45787999940955126, 0.0031136754778740196]\n",
      " val_f1: [0.45787949941011075, 0.0037815491986790918]\n"
     ]
    },
    {
     "name": "stderr",
     "output_type": "stream",
     "text": [
      " 82%|████████▏ | 245/300 [04:32<01:05,  1.20s/it]"
     ]
    },
    {
     "name": "stdout",
     "output_type": "stream",
     "text": [
      "244th epoch\n",
      " val_loss: 204.17577362060553\n",
      " val_acc:[0.9889320912568466, 0.9831268476403279]\n",
      " val_precision:[0.45720065287921746, 0.005434777425683062]\n",
      " val_recall:[0.45720065287921746, 0.0031136754778740196]\n",
      " val_f1: [0.457200152879778, 0.0037815491986790918]\n"
     ]
    },
    {
     "name": "stderr",
     "output_type": "stream",
     "text": [
      " 82%|████████▏ | 246/300 [04:33<01:03,  1.18s/it]"
     ]
    },
    {
     "name": "stdout",
     "output_type": "stream",
     "text": [
      "245th epoch\n",
      " val_loss: 203.76735455056894\n",
      " val_acc:[0.9889607947805652, 0.9831422774688057]\n",
      " val_precision:[0.45991804029630584, 0.004076083069262297]\n",
      " val_recall:[0.45991804029630584, 0.0022078790985371756]\n",
      " val_f1: [0.459917540296863, 0.002762566313930327]\n"
     ]
    },
    {
     "name": "stderr",
     "output_type": "stream",
     "text": [
      " 82%|████████▏ | 247/300 [04:34<01:01,  1.17s/it]"
     ]
    },
    {
     "name": "stdout",
     "output_type": "stream",
     "text": [
      "246th epoch\n",
      " val_loss: 203.46656467603597\n",
      " val_acc:[0.9889799304630446, 0.9831345625545668]\n",
      " val_precision:[0.4612767346527266, 0.004755430247472679]\n",
      " val_recall:[0.4612767346527266, 0.002434328299663637]\n",
      " val_f1: [0.461276234653282, 0.0031022237589035133]\n"
     ]
    },
    {
     "name": "stderr",
     "output_type": "stream",
     "text": [
      " 83%|████████▎ | 248/300 [04:35<01:00,  1.16s/it]"
     ]
    },
    {
     "name": "stdout",
     "output_type": "stream",
     "text": [
      "247th epoch\n",
      " val_loss: 203.21608634617016\n",
      " val_acc:[0.9889894983042841, 0.9831271897191589]\n",
      " val_precision:[0.46195608247881353, 0.004755430247472679]\n",
      " val_recall:[0.46195608247881353, 0.002434328299663637]\n",
      " val_f1: [0.46195558247936813, 0.0031022237589035133]\n"
     ]
    },
    {
     "name": "stderr",
     "output_type": "stream",
     "text": [
      " 83%|████████▎ | 249/300 [04:37<00:59,  1.17s/it]"
     ]
    },
    {
     "name": "stdout",
     "output_type": "stream",
     "text": [
      "248th epoch\n",
      " val_loss: 202.98689634903616\n",
      " val_acc:[0.9890469079432279, 0.9831117521161619]\n",
      " val_precision:[0.4680702090263367, 0.004755430247472679]\n",
      " val_recall:[0.4680702090263367, 0.002434328299663637]\n",
      " val_f1: [0.4680697090268843, 0.0031022237589035133]\n"
     ]
    },
    {
     "name": "stderr",
     "output_type": "stream",
     "text": [
      " 83%|████████▎ | 250/300 [04:38<00:58,  1.17s/it]"
     ]
    },
    {
     "name": "stdout",
     "output_type": "stream",
     "text": [
      "249th epoch\n",
      " val_loss: 202.70183596403697\n",
      " val_acc:[0.9890564757844675, 0.9831078933632893]\n",
      " val_precision:[0.4721462933913521, 0.006114124603893444]\n",
      " val_recall:[0.4721462933913521, 0.003340124699246624]\n",
      " val_f1: [0.4721457933918955, 0.004127884503078663]\n"
     ]
    },
    {
     "name": "stderr",
     "output_type": "stream",
     "text": [
      " 84%|████████▎ | 251/300 [04:39<00:56,  1.16s/it]"
     ]
    },
    {
     "name": "stdout",
     "output_type": "stream",
     "text": [
      "250th epoch\n",
      " val_loss: 202.41725390890372\n",
      " val_acc:[0.9890469079432279, 0.9831117495246555]\n",
      " val_precision:[0.4714669455652652, 0.004076083069262297]\n",
      " val_recall:[0.4714669455652652, 0.0022078790985371756]\n",
      " val_f1: [0.47146644556580936, 0.002762566313930327]\n"
     ]
    },
    {
     "name": "stderr",
     "output_type": "stream",
     "text": [
      " 84%|████████▍ | 252/300 [04:40<00:55,  1.16s/it]"
     ]
    },
    {
     "name": "stdout",
     "output_type": "stream",
     "text": [
      "251th epoch\n",
      " val_loss: 202.07217042342478\n",
      " val_acc:[0.9890373401019884, 0.9831615764161815]\n",
      " val_precision:[0.4707876003306845, 0.004076083069262297]\n",
      " val_recall:[0.4707876003306845, 0.0022078790985371756]\n",
      " val_f1: [0.47078710033122945, 0.002762566313930327]\n"
     ]
    },
    {
     "name": "stderr",
     "output_type": "stream",
     "text": [
      " 84%|████████▍ | 253/300 [04:41<00:54,  1.16s/it]"
     ]
    },
    {
     "name": "stdout",
     "output_type": "stream",
     "text": [
      "252th epoch\n",
      " val_loss: 201.7226900847062\n",
      " val_acc:[0.9890851793081865, 0.9831731578578119]\n",
      " val_precision:[0.4769017203994419, 0.004076083069262297]\n",
      " val_recall:[0.4769017203994419, 0.0022078790985371756]\n",
      " val_f1: [0.47690122039998023, 0.002762566313930327]\n"
     ]
    },
    {
     "name": "stderr",
     "output_type": "stream",
     "text": [
      " 85%|████████▍ | 254/300 [04:42<00:53,  1.16s/it]"
     ]
    },
    {
     "name": "stdout",
     "output_type": "stream",
     "text": [
      "253th epoch\n",
      " val_loss: 201.365487140158\n",
      " val_acc:[0.9891043149906656, 0.9831847392994425]\n",
      " val_precision:[0.4782604160516158, 0.004076083069262297]\n",
      " val_recall:[0.4782604160516158, 0.0022078790985371756]\n",
      " val_f1: [0.47825991605215273, 0.002762566313930327]\n"
     ]
    },
    {
     "name": "stderr",
     "output_type": "stream",
     "text": [
      " 85%|████████▌ | 255/300 [04:44<00:52,  1.17s/it]"
     ]
    },
    {
     "name": "stdout",
     "output_type": "stream",
     "text": [
      "254th epoch\n",
      " val_loss: 201.04142628545344\n",
      " val_acc:[0.9891130120857903, 0.983196320741073]\n",
      " val_precision:[0.47887800569119665, 0.0033967358910519142]\n",
      " val_recall:[0.47887800569119665, 0.0015285319203267927]\n",
      " val_f1: [0.4788775056917333, 0.0020832408741547487]\n"
     ]
    },
    {
     "name": "stderr",
     "output_type": "stream",
     "text": [
      " 85%|████████▌ | 256/300 [04:45<00:51,  1.17s/it]"
     ]
    },
    {
     "name": "stdout",
     "output_type": "stream",
     "text": [
      "255th epoch\n",
      " val_loss: 200.9224369214929\n",
      " val_acc:[0.9892469696376633, 0.9831808805465699]\n",
      " val_precision:[0.4890682140122289, 0.004076083069262297]\n",
      " val_recall:[0.4890682140122289, 0.0022078790985371756]\n",
      " val_f1: [0.4890677140127525, 0.002762566313930327]\n"
     ]
    },
    {
     "name": "stderr",
     "output_type": "stream",
     "text": [
      " 86%|████████▌ | 257/300 [04:46<00:49,  1.15s/it]"
     ]
    },
    {
     "name": "stdout",
     "output_type": "stream",
     "text": [
      "256th epoch\n",
      " val_loss: 200.6671719758407\n",
      " val_acc:[0.9892469696376635, 0.9832079047742098]\n",
      " val_precision:[0.48974756183831586, 0.0033967358910519142]\n",
      " val_recall:[0.48974756183831586, 0.0015285319203267927]\n",
      " val_f1: [0.48974706183883876, 0.0020832408741547487]\n"
     ]
    },
    {
     "name": "stderr",
     "output_type": "stream",
     "text": [
      " 86%|████████▌ | 258/300 [04:47<00:47,  1.14s/it]"
     ]
    },
    {
     "name": "stdout",
     "output_type": "stream",
     "text": [
      "257th epoch\n",
      " val_loss: 200.27738919465438\n",
      " val_acc:[0.9892469696376635, 0.9832464948944424]\n",
      " val_precision:[0.49042690966440283, 0.0033967358910519142]\n",
      " val_recall:[0.49042690966440283, 0.0015285319203267927]\n",
      " val_f1: [0.4904264096649247, 0.0020832408741547487]\n"
     ]
    },
    {
     "name": "stderr",
     "output_type": "stream",
     "text": [
      " 86%|████████▋ | 259/300 [04:48<00:46,  1.13s/it]"
     ]
    },
    {
     "name": "stdout",
     "output_type": "stream",
     "text": [
      "258th epoch\n",
      " val_loss: 200.0289558742357\n",
      " val_acc:[0.9892469696376635, 0.983273508756057]\n",
      " val_precision:[0.49042690966440283, 0.0033967358910519142]\n",
      " val_recall:[0.49042690966440283, 0.0015285319203267927]\n",
      " val_f1: [0.4904264096649247, 0.0020832408741547487]\n"
     ]
    },
    {
     "name": "stderr",
     "output_type": "stream",
     "text": [
      " 87%|████████▋ | 260/300 [04:49<00:46,  1.16s/it]"
     ]
    },
    {
     "name": "stdout",
     "output_type": "stream",
     "text": [
      "259th epoch\n",
      " val_loss: 199.97230529785153\n",
      " val_acc:[0.9893330802088199, 0.9832272011300793]\n",
      " val_precision:[0.4985790783944338, 0.0033967358910519142]\n",
      " val_recall:[0.4985790783944338, 0.0015285319203267927]\n",
      " val_f1: [0.4985785783949471, 0.0020832408741547487]\n"
     ]
    },
    {
     "name": "stderr",
     "output_type": "stream",
     "text": [
      " 87%|████████▋ | 261/300 [04:51<00:44,  1.15s/it]"
     ]
    },
    {
     "name": "stdout",
     "output_type": "stream",
     "text": [
      "260th epoch\n",
      " val_loss: 199.64377428137738\n",
      " val_acc:[0.9893904924392699, 0.9832349186358245]\n",
      " val_precision:[0.5026551627594492, 0.0033967358910519142]\n",
      " val_recall:[0.5026551627594492, 0.0015285319203267927]\n",
      " val_f1: [0.5026546627599583, 0.0020832408741547487]\n"
     ]
    },
    {
     "name": "stderr",
     "output_type": "stream",
     "text": [
      " 87%|████████▋ | 262/300 [04:52<00:43,  1.14s/it]"
     ]
    },
    {
     "name": "stdout",
     "output_type": "stream",
     "text": [
      "261th epoch\n",
      " val_loss: 199.36645607326344\n",
      " val_acc:[0.9893809245980304, 0.9832966690478117]\n",
      " val_precision:[0.5019758149333623, 0.0033967358910519142]\n",
      " val_recall:[0.5019758149333623, 0.0015285319203267927]\n",
      " val_f1: [0.501975314933872, 0.0020832408741547487]\n"
     ]
    },
    {
     "name": "stderr",
     "output_type": "stream",
     "text": [
      " 88%|████████▊ | 263/300 [04:53<00:41,  1.12s/it]"
     ]
    },
    {
     "name": "stdout",
     "output_type": "stream",
     "text": [
      "262th epoch\n",
      " val_loss: 199.268307229747\n",
      " val_acc:[0.9894000602805096, 0.9832696500031844]\n",
      " val_precision:[0.5053725527680439, 0.0033967358910519142]\n",
      " val_recall:[0.5053725527680439, 0.0015285319203267927]\n",
      " val_f1: [0.5053720527685491, 0.0020832408741547487]\n"
     ]
    },
    {
     "name": "stderr",
     "output_type": "stream",
     "text": [
      " 88%|████████▊ | 264/300 [04:54<00:41,  1.14s/it]"
     ]
    },
    {
     "name": "stdout",
     "output_type": "stream",
     "text": [
      "263th epoch\n",
      " val_loss: 199.29322151515794\n",
      " val_acc:[0.9894287715787472, 0.983188947905665]\n",
      " val_precision:[0.5114866767240608, 0.0033967358910519142]\n",
      " val_recall:[0.5114866767240608, 0.0015285319203267927]\n",
      " val_f1: [0.511486176724559, 0.0020832408741547487]\n"
     ]
    },
    {
     "name": "stderr",
     "output_type": "stream",
     "text": [
      " 88%|████████▊ | 265/300 [04:55<00:39,  1.12s/it]"
     ]
    },
    {
     "name": "stdout",
     "output_type": "stream",
     "text": [
      "264th epoch\n",
      " val_loss: 198.9047078671663\n",
      " val_acc:[0.9894287741702538, 0.9832426309585571]\n",
      " val_precision:[0.5101279810718868, 0.0033967358910519142]\n",
      " val_recall:[0.5101279810718868, 0.0015285319203267927]\n",
      " val_f1: [0.5101274810723867, 0.0020832408741547487]\n"
     ]
    },
    {
     "name": "stderr",
     "output_type": "stream",
     "text": [
      " 89%|████████▊ | 266/300 [04:56<00:37,  1.11s/it]"
     ]
    },
    {
     "name": "stdout",
     "output_type": "stream",
     "text": [
      "265th epoch\n",
      " val_loss: 198.5530780294667\n",
      " val_acc:[0.9894192037375077, 0.9832696474116781]\n",
      " val_precision:[0.5094486358373062, 0.0033967358910519142]\n",
      " val_recall:[0.5094486358373062, 0.0015285319203267927]\n",
      " val_f1: [0.5094481358378068, 0.0020832408741547487]\n"
     ]
    },
    {
     "name": "stderr",
     "output_type": "stream",
     "text": [
      " 89%|████████▉ | 267/300 [04:57<00:36,  1.10s/it]"
     ]
    },
    {
     "name": "stdout",
     "output_type": "stream",
     "text": [
      "266th epoch\n",
      " val_loss: 198.174304464589\n",
      " val_acc:[0.9894287715787472, 0.9833082478979357]\n",
      " val_precision:[0.5101279836633932, 0.0033967358910519142]\n",
      " val_recall:[0.5101279836633932, 0.0015285319203267927]\n",
      " val_f1: [0.5101274836638929, 0.0020832408741547487]\n"
     ]
    },
    {
     "name": "stderr",
     "output_type": "stream",
     "text": [
      " 89%|████████▉ | 268/300 [04:58<00:35,  1.10s/it]"
     ]
    },
    {
     "name": "stdout",
     "output_type": "stream",
     "text": [
      "267th epoch\n",
      " val_loss: 198.03723841128144\n",
      " val_acc:[0.9894670429437057, 0.9833005303921906]\n",
      " val_precision:[0.5148834106714829, 0.0033967358910519142]\n",
      " val_recall:[0.5148834106714829, 0.0015285319203267927]\n",
      " val_f1: [0.5148829106719784, 0.0020832408741547487]\n"
     ]
    },
    {
     "name": "stderr",
     "output_type": "stream",
     "text": [
      " 90%|████████▉ | 269/300 [04:59<00:33,  1.09s/it]"
     ]
    },
    {
     "name": "stdout",
     "output_type": "stream",
     "text": [
      "268th epoch\n",
      " val_loss: 197.79120072074556\n",
      " val_acc:[0.9894670403521993, 0.9833507071370664]\n",
      " val_precision:[0.5155627572018168, 0.0027173887128415313]\n",
      " val_recall:[0.5155627572018168, 0.0011888581692524579]\n",
      " val_f1: [0.5155622572023112, 0.0016303619342254044]\n"
     ]
    },
    {
     "name": "stderr",
     "output_type": "stream",
     "text": [
      " 90%|█████████ | 270/300 [05:00<00:32,  1.09s/it]"
     ]
    },
    {
     "name": "stdout",
     "output_type": "stream",
     "text": [
      "269th epoch\n",
      " val_loss: 197.71028269892156\n",
      " val_acc:[0.989571426225745, 0.983312111833821]\n",
      " val_precision:[0.5243325103884159, 0.0027173887128415313]\n",
      " val_recall:[0.5243325103884159, 0.0011888581692524579]\n",
      " val_f1: [0.5243320103889023, 0.0016303619342254044]\n"
     ]
    },
    {
     "name": "stderr",
     "output_type": "stream",
     "text": [
      " 90%|█████████ | 271/300 [05:02<00:31,  1.10s/it]"
     ]
    },
    {
     "name": "stdout",
     "output_type": "stream",
     "text": [
      "270th epoch\n",
      " val_loss: 197.58689714514688\n",
      " val_acc:[0.9896288358646889, 0.9833005303921906]\n",
      " val_precision:[0.5284085947534313, 0.0033967358910519142]\n",
      " val_recall:[0.5284085947534313, 0.0015285319203267927]\n",
      " val_f1: [0.5284080947539143, 0.0020832408741547487]\n"
     ]
    },
    {
     "name": "stderr",
     "output_type": "stream",
     "text": [
      " 91%|█████████ | 272/300 [05:03<00:30,  1.09s/it]"
     ]
    },
    {
     "name": "stdout",
     "output_type": "stream",
     "text": [
      "271th epoch\n",
      " val_loss: 197.31036244268\n",
      " val_acc:[0.9896192680234493, 0.983323688092439]\n",
      " val_precision:[0.5277292469273442, 0.0027173887128415313]\n",
      " val_recall:[0.5277292469273442, 0.0011888581692524579]\n",
      " val_f1: [0.5277287469278278, 0.0016303619342254044]\n"
     ]
    },
    {
     "name": "stderr",
     "output_type": "stream",
     "text": [
      " 91%|█████████ | 273/300 [05:04<00:29,  1.09s/it]"
     ]
    },
    {
     "name": "stdout",
     "output_type": "stream",
     "text": [
      "272th epoch\n",
      " val_loss: 197.38496100384253\n",
      " val_acc:[0.9896575393884076, 0.9833043891450631]\n",
      " val_precision:[0.531125986057779, 0.0027173887128415313]\n",
      " val_recall:[0.531125986057779, 0.0011888581692524579]\n",
      " val_f1: [0.5311254860582599, 0.0016303619342254044]\n"
     ]
    },
    {
     "name": "stderr",
     "output_type": "stream",
     "text": [
      " 91%|█████████▏| 274/300 [05:05<00:28,  1.08s/it]"
     ]
    },
    {
     "name": "stdout",
     "output_type": "stream",
     "text": [
      "273th epoch\n",
      " val_loss: 197.34401537024453\n",
      " val_acc:[0.9896671072296473, 0.9833005252091779]\n",
      " val_precision:[0.5324846791184467, 0.0033967358910519142]\n",
      " val_recall:[0.5324846791184467, 0.0015285319203267927]\n",
      " val_f1: [0.5324841791189262, 0.0020832408741547487]\n"
     ]
    },
    {
     "name": "stderr",
     "output_type": "stream",
     "text": [
      " 92%|█████████▏| 275/300 [05:06<00:27,  1.09s/it]"
     ]
    },
    {
     "name": "stdout",
     "output_type": "stream",
     "text": [
      "274th epoch\n",
      " val_loss: 196.86604342253312\n",
      " val_acc:[0.9896862429121266, 0.9833468483841936]\n",
      " val_precision:[0.5338433747706206, 0.0027173887128415313]\n",
      " val_recall:[0.5338433747706206, 0.0011888581692524579]\n",
      " val_f1: [0.5338428747710993, 0.0016303619342254044]\n"
     ]
    },
    {
     "name": "stderr",
     "output_type": "stream",
     "text": [
      " 92%|█████████▏| 276/300 [05:07<00:25,  1.08s/it]"
     ]
    },
    {
     "name": "stdout",
     "output_type": "stream",
     "text": [
      "275th epoch\n",
      " val_loss: 196.620757393215\n",
      " val_acc:[0.9896862429121266, 0.9833468509757]\n",
      " val_precision:[0.5338433747706206, 0.0020380415346311484]\n",
      " val_recall:[0.5338433747706206, 0.000849184418178123]\n",
      " val_f1: [0.5338428747710993, 0.00117748299429606]\n"
     ]
    },
    {
     "name": "stderr",
     "output_type": "stream",
     "text": [
      " 92%|█████████▏| 277/300 [05:08<00:24,  1.08s/it]"
     ]
    },
    {
     "name": "stdout",
     "output_type": "stream",
     "text": [
      "276th epoch\n",
      " val_loss: 196.3481574680494\n",
      " val_acc:[0.9896766750708871, 0.9833545736644578]\n",
      " val_precision:[0.5331640269445337, 0.0020380415346311484]\n",
      " val_recall:[0.5331640269445337, 0.000849184418178123]\n",
      " val_f1: [0.5331635269450129, 0.00117748299429606]\n"
     ]
    },
    {
     "name": "stderr",
     "output_type": "stream",
     "text": [
      " 93%|█████████▎| 278/300 [05:09<00:23,  1.09s/it]"
     ]
    },
    {
     "name": "stdout",
     "output_type": "stream",
     "text": [
      "277th epoch\n",
      " val_loss: 196.27441638448965\n",
      " val_acc:[0.9897245116855787, 0.9833507123200789]\n",
      " val_precision:[0.5372401113095491, 0.0020380415346311484]\n",
      " val_recall:[0.5372401113095491, 0.000849184418178123]\n",
      " val_f1: [0.5372396113100238, 0.00117748299429606]\n"
     ]
    },
    {
     "name": "stderr",
     "output_type": "stream",
     "text": [
      " 93%|█████████▎| 279/300 [05:10<00:23,  1.11s/it]"
     ]
    },
    {
     "name": "stdout",
     "output_type": "stream",
     "text": [
      "278th epoch\n",
      " val_loss: 195.94757146420685\n",
      " val_acc:[0.9897714827371681, 0.9833545736644578]\n",
      " val_precision:[0.5412544336007988, 0.0020380415346311484]\n",
      " val_recall:[0.5412544336007988, 0.000849184418178123]\n",
      " val_f1: [0.5412539336012703, 0.00117748299429606]\n"
     ]
    },
    {
     "name": "stderr",
     "output_type": "stream",
     "text": [
      " 93%|█████████▎| 280/300 [05:11<00:22,  1.12s/it]"
     ]
    },
    {
     "name": "stdout",
     "output_type": "stream",
     "text": [
      "279th epoch\n",
      " val_loss: 196.0447871996009\n",
      " val_acc:[0.9897906236026598, 0.9833391334699548]\n",
      " val_precision:[0.5446511675482212, 0.0020380415346311484]\n",
      " val_recall:[0.5446511675482212, 0.000849184418178123]\n",
      " val_f1: [0.5446506675486898, 0.00117748299429606]\n"
     ]
    },
    {
     "name": "stderr",
     "output_type": "stream",
     "text": [
      " 94%|█████████▎| 281/300 [05:12<00:20,  1.11s/it]"
     ]
    },
    {
     "name": "stdout",
     "output_type": "stream",
     "text": [
      "280th epoch\n",
      " val_loss: 195.90143319834834\n",
      " val_acc:[0.9898097644681515, 0.9833545736644578]\n",
      " val_precision:[0.546689211026482, 0.0020380415346311484]\n",
      " val_recall:[0.546689211026482, 0.000849184418178123]\n",
      " val_f1: [0.5466887110269479, 0.00117748299429606]\n"
     ]
    },
    {
     "name": "stderr",
     "output_type": "stream",
     "text": [
      " 94%|█████████▍| 282/300 [05:14<00:19,  1.10s/it]"
     ]
    },
    {
     "name": "stdout",
     "output_type": "stream",
     "text": [
      "281th epoch\n",
      " val_loss: 195.64702141803238\n",
      " val_acc:[0.989819332309391, 0.9833661473315696]\n",
      " val_precision:[0.5473685575568158, 0.0020380415346311484]\n",
      " val_recall:[0.5473685575568158, 0.000849184418178123]\n",
      " val_f1: [0.5473680575572806, 0.00117748299429606]\n"
     ]
    },
    {
     "name": "stderr",
     "output_type": "stream",
     "text": [
      " 94%|█████████▍| 283/300 [05:15<00:18,  1.09s/it]"
     ]
    },
    {
     "name": "stdout",
     "output_type": "stream",
     "text": [
      "282th epoch\n",
      " val_loss: 195.47019892153537\n",
      " val_acc:[0.9898480410161227, 0.9833661499230757]\n",
      " val_precision:[0.5494065984435704, 0.0020380415346311484]\n",
      " val_recall:[0.5494065984435704, 0.000849184418178123]\n",
      " val_f1: [0.5494060984440332, 0.00117748299429606]\n"
     ]
    },
    {
     "name": "stderr",
     "output_type": "stream",
     "text": [
      " 95%|█████████▍| 284/300 [05:16<00:17,  1.09s/it]"
     ]
    },
    {
     "name": "stdout",
     "output_type": "stream",
     "text": [
      "283th epoch\n",
      " val_loss: 195.16198829982596\n",
      " val_acc:[0.9898384731748832, 0.9833815953005913]\n",
      " val_precision:[0.5487272506174835, 0.0020380415346311484]\n",
      " val_recall:[0.5487272506174835, 0.000849184418178123]\n",
      " val_f1: [0.548726750617947, 0.00117748299429606]\n"
     ]
    },
    {
     "name": "stderr",
     "output_type": "stream",
     "text": [
      " 95%|█████████▌| 285/300 [05:17<00:16,  1.09s/it]"
     ]
    },
    {
     "name": "stdout",
     "output_type": "stream",
     "text": [
      "284th epoch\n",
      " val_loss: 195.12462881337044\n",
      " val_acc:[0.989848043607629, 0.9833777339562124]\n",
      " val_precision:[0.5500859462696573, 0.0020380415346311484]\n",
      " val_recall:[0.5500859462696573, 0.000849184418178123]\n",
      " val_f1: [0.5500854462701196, 0.00117748299429606]\n"
     ]
    },
    {
     "name": "stderr",
     "output_type": "stream",
     "text": [
      " 95%|█████████▌| 286/300 [05:18<00:15,  1.12s/it]"
     ]
    },
    {
     "name": "stdout",
     "output_type": "stream",
     "text": [
      "285th epoch\n",
      " val_loss: 195.1704420006794\n",
      " val_acc:[0.9899045799089515, 0.9833584272343179]\n",
      " val_precision:[0.5541002724481666, 0.0027173887128415313]\n",
      " val_recall:[0.5541002724481666, 0.001528531596388506]\n",
      " val_f1: [0.5540997724486257, 0.0018891780277030474]\n"
     ]
    },
    {
     "name": "stderr",
     "output_type": "stream",
     "text": [
      " 96%|█████████▌| 287/300 [05:19<00:14,  1.13s/it]"
     ]
    },
    {
     "name": "stdout",
     "output_type": "stream",
     "text": [
      "286th epoch\n",
      " val_loss: 194.8376474795134\n",
      " val_acc:[0.9898950120677118, 0.9833854514619578]\n",
      " val_precision:[0.5534209220305734, 0.0027173887128415313]\n",
      " val_recall:[0.5534209220305734, 0.001528531596388506]\n",
      " val_f1: [0.5534204220310331, 0.0018891780277030474]\n"
     ]
    },
    {
     "name": "stderr",
     "output_type": "stream",
     "text": [
      " 96%|█████████▌| 288/300 [05:20<00:13,  1.14s/it]"
     ]
    },
    {
     "name": "stdout",
     "output_type": "stream",
     "text": [
      "287th epoch\n",
      " val_loss: 195.14183807373044\n",
      " val_acc:[0.9900002609128534, 0.9833468509757001]\n",
      " val_precision:[0.5622524385866912, 0.0027173887128415313]\n",
      " val_recall:[0.5622524385866912, 0.001528531596388506]\n",
      " val_f1: [0.5622519385871436, 0.0018891780277030474]\n"
     ]
    },
    {
     "name": "stderr",
     "output_type": "stream",
     "text": [
      " 96%|█████████▋| 289/300 [05:22<00:12,  1.17s/it]"
     ]
    },
    {
     "name": "stdout",
     "output_type": "stream",
     "text": [
      "288th epoch\n",
      " val_loss: 194.77552430526075\n",
      " val_acc:[0.9900098287540932, 0.983366152514582]\n",
      " val_precision:[0.5629317838212718, 0.0020380415346311484]\n",
      " val_recall:[0.5629317838212718, 0.000849184418178123]\n",
      " val_f1: [0.5629312838217235, 0.00117748299429606]\n"
     ]
    },
    {
     "name": "stderr",
     "output_type": "stream",
     "text": [
      " 97%|█████████▋| 290/300 [05:23<00:11,  1.17s/it]"
     ]
    },
    {
     "name": "stdout",
     "output_type": "stream",
     "text": [
      "289th epoch\n",
      " val_loss: 194.4537237416143\n",
      " val_acc:[0.9900098287540932, 0.9833777313647063]\n",
      " val_precision:[0.5629317838212718, 0.0027173887128415313]\n",
      " val_recall:[0.5629317838212718, 0.001528531596388506]\n",
      " val_f1: [0.5629312838217235, 0.0018891780277030474]\n"
     ]
    },
    {
     "name": "stderr",
     "output_type": "stream",
     "text": [
      " 97%|█████████▋| 291/300 [05:24<00:10,  1.16s/it]"
     ]
    },
    {
     "name": "stdout",
     "output_type": "stream",
     "text": [
      "290th epoch\n",
      " val_loss: 194.40261907162875\n",
      " val_acc:[0.9900576705517975, 0.9833777313647063]\n",
      " val_precision:[0.5663285229517064, 0.0027173887128415313]\n",
      " val_recall:[0.5663285229517064, 0.001528531596388506]\n",
      " val_f1: [0.5663280229521556, 0.0018891780277030474]\n"
     ]
    },
    {
     "name": "stderr",
     "output_type": "stream",
     "text": [
      " 97%|█████████▋| 292/300 [05:25<00:09,  1.16s/it]"
     ]
    },
    {
     "name": "stdout",
     "output_type": "stream",
     "text": [
      "291th epoch\n",
      " val_loss: 194.31515403415847\n",
      " val_acc:[0.9900576705517975, 0.9833738700203274]\n",
      " val_precision:[0.5663285229517064, 0.0027173887128415313]\n",
      " val_recall:[0.5663285229517064, 0.001528531596388506]\n",
      " val_f1: [0.5663280229521556, 0.0018891780277030474]\n"
     ]
    },
    {
     "name": "stderr",
     "output_type": "stream",
     "text": [
      " 98%|█████████▊| 293/300 [05:26<00:08,  1.17s/it]"
     ]
    },
    {
     "name": "stdout",
     "output_type": "stream",
     "text": [
      "292th epoch\n",
      " val_loss: 193.9068314925484\n",
      " val_acc:[0.9900481001190516, 0.9833970380866008]\n",
      " val_precision:[0.5656491751256195, 0.0027173887128415313]\n",
      " val_recall:[0.5656491751256195, 0.001528531596388506]\n",
      " val_f1: [0.5656486751260693, 0.0018891780277030474]\n"
     ]
    },
    {
     "name": "stderr",
     "output_type": "stream",
     "text": [
      " 98%|█████████▊| 294/300 [05:27<00:06,  1.17s/it]"
     ]
    },
    {
     "name": "stdout",
     "output_type": "stream",
     "text": [
      "293th epoch\n",
      " val_loss: 194.23294996178666\n",
      " val_acc:[0.9900768062342766, 0.9833777313647063]\n",
      " val_precision:[0.5676872186038805, 0.0027173887128415313]\n",
      " val_recall:[0.5676872186038805, 0.001528531596388506]\n",
      " val_f1: [0.5676867186043284, 0.0018891780277030474]\n"
     ]
    },
    {
     "name": "stderr",
     "output_type": "stream",
     "text": [
      " 98%|█████████▊| 295/300 [05:28<00:05,  1.16s/it]"
     ]
    },
    {
     "name": "stdout",
     "output_type": "stream",
     "text": [
      "294th epoch\n",
      " val_loss: 194.32469608472738\n",
      " val_acc:[0.9901055097579955, 0.9833777313647063]\n",
      " val_precision:[0.569725258194882, 0.0027173887128415313]\n",
      " val_recall:[0.569725258194882, 0.001528531596388506]\n",
      " val_f1: [0.5697247581953275, 0.0018891780277030474]\n"
     ]
    },
    {
     "name": "stderr",
     "output_type": "stream",
     "text": [
      " 99%|█████████▊| 296/300 [05:30<00:04,  1.14s/it]"
     ]
    },
    {
     "name": "stdout",
     "output_type": "stream",
     "text": [
      "295th epoch\n",
      " val_loss: 194.43670057213828\n",
      " val_acc:[0.9901533515556998, 0.9833777339562126]\n",
      " val_precision:[0.5731219921423041, 0.0020380415346311484]\n",
      " val_recall:[0.5731219921423041, 0.000849184418178123]\n",
      " val_f1: [0.573121492142747, 0.00117748299429606]\n"
     ]
    },
    {
     "name": "stderr",
     "output_type": "stream",
     "text": [
      " 99%|█████████▉| 297/300 [05:31<00:03,  1.14s/it]"
     ]
    },
    {
     "name": "stdout",
     "output_type": "stream",
     "text": [
      "296th epoch\n",
      " val_loss: 194.08920918340266\n",
      " val_acc:[0.9901246454404747, 0.9833931767422219]\n",
      " val_precision:[0.5710839512555496, 0.0027173887128415313]\n",
      " val_recall:[0.5710839512555496, 0.001528531596388506]\n",
      " val_f1: [0.5710834512559944, 0.0018891780277030474]\n"
     ]
    },
    {
     "name": "stderr",
     "output_type": "stream",
     "text": [
      " 99%|█████████▉| 298/300 [05:32<00:02,  1.15s/it]"
     ]
    },
    {
     "name": "stdout",
     "output_type": "stream",
     "text": [
      "297th epoch\n",
      " val_loss: 193.93571239969003\n",
      " val_acc:[0.9901342132817144, 0.9833854566449705]\n",
      " val_precision:[0.5717632990816365, 0.0020380415346311484]\n",
      " val_recall:[0.5717632990816365, 0.000849184418178123]\n",
      " val_f1: [0.5717627990820808, 0.00117748299429606]\n"
     ]
    },
    {
     "name": "stderr",
     "output_type": "stream",
     "text": [
      "100%|█████████▉| 299/300 [05:33<00:01,  1.15s/it]"
     ]
    },
    {
     "name": "stdout",
     "output_type": "stream",
     "text": [
      "298th epoch\n",
      " val_loss: 193.6730668441109\n",
      " val_acc:[0.990115077599235, 0.9833931767422219]\n",
      " val_precision:[0.5704046034294626, 0.0020380415346311484]\n",
      " val_recall:[0.5704046034294626, 0.000849184418178123]\n",
      " val_f1: [0.5704041034299078, 0.00117748299429606]\n"
     ]
    },
    {
     "name": "stderr",
     "output_type": "stream",
     "text": [
      "100%|██████████| 300/300 [05:34<00:00,  1.12s/it]"
     ]
    },
    {
     "name": "stdout",
     "output_type": "stream",
     "text": [
      "299th epoch\n",
      " val_loss: 193.74813643745753\n",
      " val_acc:[0.9901724872381791, 0.9833854540534641]\n",
      " val_precision:[0.574480687794478, 0.0027173887128415313]\n",
      " val_recall:[0.574480687794478, 0.001528531596388506]\n",
      " val_f1: [0.5744801877949199, 0.0018891780277030474]\n"
     ]
    },
    {
     "name": "stderr",
     "output_type": "stream",
     "text": [
      "\n"
     ]
    }
   ],
   "source": [
    "from torch.utils.tensorboard import SummaryWriter\n",
    "# torch.autograd.set_detect_anomaly(True)\n",
    "# scaler = torch.cuda.amp.GradScaler()\n",
    "\n",
    "writer = SummaryWriter('./tf-logs')\n",
    "for epoch in tqdm.trange(EPOCH):\n",
    "\n",
    "    # train\n",
    "    model.train()\n",
    "    for step, data in enumerate(train_loader):\n",
    "\n",
    "        loss, acc, precision, recall, f1 = one_forward(data)\n",
    "        one_backward(optimizer, loss)\n",
    "        \n",
    "        # one_train_scaler(scaler, data, optimizer)\n",
    "        # LR_SCHEDULER.step()\n",
    "        \n",
    "\n",
    "    # val\n",
    "    model.eval()\n",
    "    val_loss, val_acc, val_precision, val_recall, val_F1 = 0, [0, 0], [0, 0], [0, 0], [0, 0]\n",
    "    with torch.no_grad():\n",
    "        for step, data in enumerate(test_loader):\n",
    "            loss, acc, precision, recall, f1 = one_forward(data)\n",
    "            l = len(test_loader)\n",
    "            val_loss += loss.item() / l\n",
    "            val_acc[0] += acc[0]/l\n",
    "            val_acc[1] += acc[1]/l\n",
    "            val_precision[0] += precision[0]/l\n",
    "            val_precision[1] += precision[1]/l\n",
    "            val_recall[0] += recall[0]/l\n",
    "            val_recall[1] += recall[1]/l\n",
    "            val_F1[0] += f1[0]/l \n",
    "            val_F1[1] += f1[1]/l \n",
    "            \n",
    "    print('{}th epoch\\n val_loss: {}\\n val_acc:{}\\n val_precision:{}\\n val_recall:{}\\n val_f1: {}'.format(epoch, val_loss, val_acc, val_precision, val_recall, val_F1))\n",
    "    writer.add_scalar('val_loss'+loss_name+str(Learning_Rate), val_loss, epoch)\n",
    "    writer.add_scalar('val_acc_d'+loss_name+str(Learning_Rate), val_acc[0], epoch)\n",
    "    writer.add_scalar('val_acc_b'+loss_name+str(Learning_Rate), val_acc[1], epoch)\n",
    "    # writer.add_scalar('val_precision'+loss_name+str(Learning_Rate), val_precision, epoch)\n",
    "    # writer.add_scalar('val_recall'+loss_name+str(Learning_Rate), val_recall, epoch)\n",
    "    writer.add_scalar('val_f1_d'+loss_name+str(Learning_Rate), val_F1[0], epoch)\n",
    "    writer.add_scalar('val_f1_b'+loss_name+str(Learning_Rate), val_F1[1], epoch)\n",
    "\n",
    "    # save model\n",
    "    # if epoch % 20 == 0:\n",
    "        # torch.save(model, '../savedmodel/model_epoch{}.pth'.format(epoch))\n",
    "\n",
    "writer.close()"
   ]
  },
  {
   "cell_type": "code",
   "execution_count": 31,
   "id": "fe3dc805-a62b-4d60-ad60-0b4a91c96d00",
   "metadata": {},
   "outputs": [
    {
     "name": "stdout",
     "output_type": "stream",
     "text": [
      "tensor([[-0.5192, -0.7102, -0.5605, -0.6330, -0.5789, -1.1756, -0.6486, -0.2284,\n",
      "         -1.1637, -1.2900, -0.9660, -1.2959, -0.8545, -1.3448, -0.9044, -1.1265,\n",
      "         -0.5622, -0.9416, -0.8007, -0.8651, -0.1522, -0.6373, -0.8191, -1.5373,\n",
      "         -1.1547, -0.6090, -1.6119, -1.0397, -1.1826, -0.2061, -0.4938, -0.9570,\n",
      "          0.0642, -0.5006, -0.6189, -0.8170, -1.5933, -0.4129, -0.8423, -0.4953,\n",
      "         -0.7961, -0.4890, -0.3032, -1.2003, -0.1174, -0.8870, -0.3913, -0.1565,\n",
      "         -0.5866, -0.0068, -0.5953, -0.6872, -0.7338, -1.3384, -0.3298, -0.5983,\n",
      "         -1.2355, -0.9516, -1.3758, -1.2975, -0.3335, -0.6822, -0.4234, -0.5415,\n",
      "         -1.2079, -0.4500, -0.7568, -1.1634,  0.3400, -0.5799, -0.9790]],\n",
      "       grad_fn=<AddmmBackward0>) tensor([[-6.3927e-01, -4.6033e-01, -1.3159e+00, -1.5771e+00, -1.1543e+00,\n",
      "         -4.1967e-01, -8.2346e-01, -3.5303e-01, -7.3370e-01, -4.9470e-01,\n",
      "         -8.8097e-01, -7.3276e-01, -6.6635e-01, -1.1465e+00, -1.1102e+00,\n",
      "         -4.5608e-01, -7.4963e-01, -5.1171e-01, -5.7967e-01, -1.1989e+00,\n",
      "         -9.4155e-01, -6.9636e-01, -1.1508e+00, -5.2273e-01, -9.6426e-01,\n",
      "         -1.1614e+00, -5.8326e-01, -7.5232e-01, -6.5853e-01, -7.1136e-02,\n",
      "         -9.6296e-01, -1.1042e+00, -8.0141e-01, -2.6678e-01, -7.4383e-01,\n",
      "         -3.0249e-01, -4.3162e-01, -6.6510e-01, -7.7979e-01, -2.4466e-01,\n",
      "          2.8895e-01, -2.5840e-01, -3.2713e-01, -1.0018e+00, -8.8583e-01,\n",
      "         -7.6328e-01, -5.7916e-02, -7.8956e-01, -8.2304e-01, -6.7502e-01,\n",
      "         -6.6015e-01, -1.4812e+00, -1.2363e+00, -1.2512e+00, -3.0831e-01,\n",
      "         -1.5010e-01, -6.6051e-01, -2.3791e-02, -8.7183e-01, -1.0559e+00,\n",
      "         -1.6605e+00, -1.2675e+00, -1.1567e+00, -1.3507e+00, -4.3245e-01,\n",
      "         -1.5083e+00, -8.9536e-01, -1.0895e+00, -1.3618e+00, -1.2088e+00,\n",
      "         -7.0008e-01, -3.2657e-01, -1.4528e+00, -1.0122e+00, -6.3954e-01,\n",
      "         -3.8365e-01, -3.6285e-01, -1.0439e+00, -5.6211e-02, -8.9414e-01,\n",
      "         -1.0815e+00, -1.1545e+00, -5.0198e-01, -7.8146e-01, -1.4201e+00,\n",
      "         -9.0910e-01, -7.2401e-01, -1.7378e+00, -6.7948e-01, -1.3446e+00,\n",
      "         -4.7467e-01, -5.6491e-01, -1.6893e+00, -6.5892e-01, -1.7332e+00,\n",
      "         -3.9565e-02, -6.8753e-01, -8.7206e-01, -1.3333e+00, -1.2400e+00,\n",
      "         -8.1714e-01, -6.6168e-01, -1.6495e+00, -9.0243e-01,  1.5394e-01,\n",
      "         -1.0112e-01, -2.9074e-01, -5.8339e-01, -1.4532e+00, -9.3975e-01,\n",
      "         -8.6248e-01, -1.4830e+00, -2.1173e-01, -1.0070e+00,  7.2763e-02,\n",
      "         -1.0165e+00, -1.5109e+00, -1.2140e+00,  1.7720e-01, -2.0111e+00,\n",
      "          1.0470e-04, -4.5906e-01, -1.4300e+00, -3.6071e-01, -7.1165e-01,\n",
      "         -5.9304e-01, -6.6701e-01, -7.6235e-01,  1.2948e-01, -1.2591e+00,\n",
      "         -3.4165e-01, -8.2510e-01, -2.2638e-01, -2.9461e-02, -2.1145e-01,\n",
      "         -5.3590e-01, -1.0254e+00, -8.8504e-01,  1.3041e-01, -6.4089e-01,\n",
      "         -6.6226e-01, -2.4631e-01, -6.1502e-01, -1.2427e+00, -7.9159e-01,\n",
      "         -1.9323e-01, -8.8553e-01, -1.0766e+00, -8.0965e-01, -6.2391e-01,\n",
      "         -2.6399e-01, -1.6624e+00, -8.9697e-01, -3.5349e-01, -9.6825e-01,\n",
      "         -5.7484e-01, -6.4857e-01, -5.2544e-01, -9.3739e-01, -3.7248e-01,\n",
      "         -1.8550e-01, -3.6316e-01, -4.3505e-01, -9.4447e-01, -3.3814e-01,\n",
      "         -8.0723e-01, -3.3242e-01, -9.7398e-01, -1.5812e+00, -9.1725e-01,\n",
      "         -1.3425e+00, -4.7794e-01, -1.1393e+00, -1.1468e+00, -2.2970e-01,\n",
      "         -1.1151e+00]], grad_fn=<AddmmBackward0>)\n",
      "tensor(-0.3032, grad_fn=<SelectBackward0>)\n",
      "tensor([[0., 0., 0., 0., 0., 0., 0., 0., 0., 0., 0., 0., 0., 0., 0., 0., 0., 0., 0., 0., 0., 0., 0., 0.,\n",
      "         0., 0., 0., 0., 0., 0., 0., 0., 0., 0., 0., 0., 0., 0., 0., 0., 0., 0., 0., 0., 0., 0., 0., 0.,\n",
      "         0., 0., 0., 0., 0., 0., 0., 0., 0., 0., 0., 0., 0., 0., 0., 0., 0., 0., 0., 0., 0., 0., 0.]]) tensor([[0., 0., 0., 0., 0., 0., 0., 0., 0., 0., 0., 0., 0., 0., 0., 0., 0., 0., 0., 0., 0., 0., 0., 0.,\n",
      "         0., 0., 0., 0., 0., 0., 0., 0., 0., 0., 0., 0., 0., 0., 0., 0., 0., 0., 0., 0., 0., 0., 0., 0.,\n",
      "         0., 0., 0., 0., 0., 0., 0., 0., 0., 0., 0., 0., 0., 0., 0., 0., 0., 0., 0., 0., 0., 0., 0., 0.,\n",
      "         0., 0., 0., 0., 0., 0., 0., 0., 0., 0., 0., 0., 0., 0., 0., 0., 0., 0., 0., 0., 0., 0., 0., 0.,\n",
      "         0., 0., 0., 0., 0., 0., 0., 0., 0., 0., 0., 0., 0., 0., 0., 0., 0., 0., 0., 0., 0., 0., 0., 0.,\n",
      "         0., 0., 0., 0., 0., 0., 0., 0., 0., 0., 0., 0., 0., 0., 0., 0., 0., 0., 0., 0., 0., 0., 0., 0.,\n",
      "         0., 0., 0., 0., 0., 0., 0., 0., 0., 0., 0., 0., 0., 0., 0., 0., 0., 0., 0., 0., 0., 0., 0., 0.,\n",
      "         0., 0., 0., 0., 0., 0., 0., 0.]])\n"
     ]
    }
   ],
   "source": [
    "(x_c, x_a), (y_d, y_b) = test_dataset[0]\n",
    "x_c = torch.reshape(x_c.long().to(device), (1, 300))\n",
    "x_a = torch.reshape(x_a.long().to(device), (1, 300))\n",
    "y_d_pred, y_b_pred = model(x_c, x_a)\n",
    "\n",
    "print(y_d_pred, y_b_pred)\n",
    "# y_d_pred, y_b_pred = nn.Softmax(dim=1)(y_d_pred), nn.Sigmoid()(y_b_pred)\n",
    "print(y_d_pred[0][-29])\n",
    "#TODO: 调整阈值\n",
    "#TODO: 多标签分类问题：换用F1分数、Hamming损失或Jaccard相似度\n",
    "print(torch.where(y_d_pred > 0.5, 1.0, 0.0), torch.where(y_b_pred > 0.5, 1.0, 0.0))\n"
   ]
  },
  {
   "cell_type": "code",
   "execution_count": 32,
   "id": "7da67242-c892-4e93-8fc6-831e6409438a",
   "metadata": {},
   "outputs": [
    {
     "name": "stdout",
     "output_type": "stream",
     "text": [
      "tensor([0., 0., 0., 0., 0., 0., 0., 0., 0., 0., 0., 0., 0., 0., 0., 0., 0., 0.,\n",
      "        0., 0., 0., 0., 0., 0., 0., 0., 0., 0., 0., 0., 0., 0., 0., 0., 0., 0.,\n",
      "        0., 0., 0., 0., 0., 0., 0., 1., 0., 0., 0., 0., 0., 0., 0., 0., 0., 0.,\n",
      "        0., 0., 0., 0., 0., 0., 0., 0., 0., 0., 0., 0., 0., 0., 0., 0., 0.]) tensor([0., 0., 0., 0., 0., 0., 0., 0., 0., 0., 0., 0., 0., 0., 0., 0., 0., 0.,\n",
      "        0., 0., 0., 0., 0., 0., 0., 0., 0., 0., 0., 0., 0., 0., 0., 0., 0., 0.,\n",
      "        0., 0., 0., 0., 0., 0., 0., 0., 0., 0., 0., 0., 0., 0., 0., 0., 0., 0.,\n",
      "        0., 0., 0., 0., 0., 0., 0., 0., 0., 0., 0., 0., 0., 0., 0., 0., 0., 0.,\n",
      "        0., 0., 0., 0., 0., 0., 0., 0., 0., 0., 0., 0., 0., 0., 0., 0., 0., 0.,\n",
      "        0., 0., 0., 0., 0., 0., 0., 0., 0., 0., 0., 0., 0., 0., 0., 0., 0., 0.,\n",
      "        0., 0., 0., 0., 0., 0., 0., 0., 0., 0., 0., 0., 0., 1., 0., 0., 0., 0.,\n",
      "        0., 0., 0., 0., 0., 0., 0., 0., 0., 0., 0., 0., 0., 0., 0., 0., 0., 0.,\n",
      "        0., 0., 0., 0., 0., 0., 0., 0., 0., 0., 0., 0., 0., 0., 0., 0., 0., 0.,\n",
      "        0., 0., 0., 0., 0., 0., 0., 0., 0., 0., 0., 0., 0., 0.])\n"
     ]
    }
   ],
   "source": [
    "print(y_d, y_b)"
   ]
  },
  {
   "cell_type": "code",
   "execution_count": 33,
   "id": "8380799b-50c9-40e0-b9fa-45ae77739f58",
   "metadata": {},
   "outputs": [],
   "source": [
    "# y_d = y_d.reshape(1, -1)\n",
    "# y_d_pred = y_d_pred.reshape(1, -1)\n",
    "# for i, l in metrics(y_d.to(device), y_d_pred, from_logits = True, split_pos = num_out[0]).items():\n",
    "#     print(i, l)"
   ]
  },
  {
   "cell_type": "code",
   "execution_count": 34,
   "id": "ffe67da9-b243-4735-90c8-41fc5d6b19da",
   "metadata": {},
   "outputs": [],
   "source": [
    "# y_b = y_b.reshape(1, -1)\n",
    "# y_b_pred = y_b_pred.reshape(1, -1)\n",
    "# metrics(y_b.to(device), y_b_pred, from_logits = True), metrics(y_b.to(device), y_b_pred, from_logits = False), metricsy_b.to(device), y_b_pred, from_logits = True, recall=True), metricsy_b.to(device), y_b_pred, from_logits = False, recall=True)"
   ]
  },
  {
   "cell_type": "code",
   "execution_count": 35,
   "id": "09476b14-ee4a-4ccd-98f7-15b137752a20",
   "metadata": {},
   "outputs": [
    {
     "name": "stdout",
     "output_type": "stream",
     "text": [
      "[71, 176]\n"
     ]
    }
   ],
   "source": [
    "print(num_out)"
   ]
  },
  {
   "cell_type": "code",
   "execution_count": null,
   "id": "852c831f-a309-46d1-a6d2-04b2b5114fe4",
   "metadata": {},
   "outputs": [],
   "source": []
  },
  {
   "cell_type": "code",
   "execution_count": null,
   "id": "9e3ed0c7-074f-4517-98cc-2b2ad709f2d5",
   "metadata": {},
   "outputs": [],
   "source": []
  }
 ],
 "metadata": {
  "kernelspec": {
   "display_name": "Python 3 (ipykernel)",
   "language": "python",
   "name": "python3"
  },
  "language_info": {
   "codemirror_mode": {
    "name": "ipython",
    "version": 3
   },
   "file_extension": ".py",
   "mimetype": "text/x-python",
   "name": "python",
   "nbconvert_exporter": "python",
   "pygments_lexer": "ipython3",
   "version": "3.10.5"
  }
 },
 "nbformat": 4,
 "nbformat_minor": 5
}
