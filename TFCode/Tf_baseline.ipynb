{
 "cells": [
  {
   "cell_type": "code",
   "execution_count": 1,
   "id": "a39ec2a8-3146-423a-90f9-2be73f1f93af",
   "metadata": {},
   "outputs": [
    {
     "name": "stderr",
     "output_type": "stream",
     "text": [
      "2024-04-03 01:27:07.140438: I tensorflow/core/util/port.cc:113] oneDNN custom operations are on. You may see slightly different numerical results due to floating-point round-off errors from different computation orders. To turn them off, set the environment variable `TF_ENABLE_ONEDNN_OPTS=0`.\n",
      "2024-04-03 01:27:07.199044: I tensorflow/core/platform/cpu_feature_guard.cc:210] This TensorFlow binary is optimized to use available CPU instructions in performance-critical operations.\n",
      "To enable the following instructions: AVX2 AVX512F AVX512_VNNI AVX512_BF16 AVX512_FP16 AVX_VNNI AMX_TILE AMX_INT8 AMX_BF16 FMA, in other operations, rebuild TensorFlow with the appropriate compiler flags.\n",
      "2024-04-03 01:27:08.109902: W tensorflow/compiler/tf2tensorrt/utils/py_utils.cc:38] TF-TRT Warning: Could not find TensorRT\n"
     ]
    }
   ],
   "source": [
    "import datetime\n",
    "import numpy as np\n",
    "import tensorflow as tf"
   ]
  },
  {
   "cell_type": "code",
   "execution_count": 2,
   "id": "6b9a61d9-24ab-4206-ba50-b8a36af6f150",
   "metadata": {},
   "outputs": [],
   "source": [
    "import numpy as np\n",
    "# (*func7*) one_hot_encode\n",
    "def one_hot_encode(tags, mapping):\n",
    "    # create empty vector\n",
    "    encoding = np.zeros(len(mapping), dtype='uint8')\n",
    "    # mark 1 for each tag in the vector\n",
    "    for tag in tags:\n",
    "        encoding[mapping[tag]] = 1\n",
    "    return encoding"
   ]
  },
  {
   "cell_type": "code",
   "execution_count": 3,
   "id": "190bfc35-1cc6-4cef-9a07-918ca6d2948f",
   "metadata": {},
   "outputs": [],
   "source": [
    "# (*func6*) create_tag_mapping -> 7\n",
    "# combineddata_dev = train_dev_y + test_dev_y, 'FixedByID'\n",
    "def create_tag_mapping(mapping_csv, tagname):\n",
    "    # tagname FixedByID\n",
    "    print('tagname', tagname)\n",
    "    # create a set of all known tags\n",
    "    labels = set()\n",
    "    IssueType_Tags = []\n",
    "    for i in range(len(mapping_csv)):\n",
    "        # convert spaced separated tags into an array of tags\n",
    "        tags = mapping_csv[i].split('|')\n",
    "        # add tags to the set of known labels\n",
    "        labels.update(tags)\n",
    "    # labels 存 tag(dev) \n",
    "    # convert set of labels to a list to list\n",
    "    labels = list(labels)\n",
    "    # order set alphabetically\n",
    "    labels.sort()\n",
    "    # label和数字的正反映射\n",
    "    # dict that maps labels to integers, and the reverse\n",
    "    labels_map = {labels[i]: i for i in range(len(labels))}\n",
    "    inv_labels_map = {i: labels[i] for i in range(len(labels))}\n",
    "    # mapping_csv转为onehot编码\n",
    "    for i in range(len(mapping_csv)):\n",
    "        # Create One Hot Encoding For Issue Type\n",
    "        IssueType_Tag = one_hot_encode(mapping_csv[i].split('|'), labels_map) # (*func7*) one_hot_encode\n",
    "        IssueType_Tags.append(IssueType_Tag)\n",
    "\n",
    "    result = IssueType_Tags\n",
    "    return labels_map, inv_labels_map, result"
   ]
  },
  {
   "cell_type": "code",
   "execution_count": 4,
   "id": "94e6adbb-919c-419a-9260-9b57d956c4ab",
   "metadata": {},
   "outputs": [],
   "source": [
    "# (*func8*) RemoveTestRecordIfNotExistInTrainData\n",
    "def RemoveTestRecordIfNotExistInTrainData(traindata, testdata):\n",
    "    traingroup = traindata.groupby([\"Name\", \"FixedByID\"], as_index=True)[\"FixedByID\"].size().reset_index(name=\"count\")\n",
    "    testgroup = testdata.groupby([\"Name\", \"FixedByID\"], as_index=True)[\"FixedByID\"].size().reset_index(name=\"count\")\n",
    "    for ind in testgroup.index:\n",
    "        try:\n",
    "            record = traindata[\n",
    "                traindata['FixedByID'].str.match(testgroup['FixedByID'][ind]) & traindata['Name'].str.match(\n",
    "                    testgroup['Name'][ind])]\n",
    "            if len(record) < 1:\n",
    "                print('remove from testdata...')\n",
    "                testdata = testdata.drop(testdata[\n",
    "                                             testdata['FixedByID'].str.match(testgroup['FixedByID'][ind]) & testdata[\n",
    "                                                 'Name'].str.match(testgroup['Name'][ind])].index)\n",
    "        except:\n",
    "            print(\"An exception occurred index :\", ind)\n",
    "    return testdata"
   ]
  },
  {
   "cell_type": "code",
   "execution_count": 5,
   "id": "bcdfee0f-11b1-4c08-b67a-3c5f66a6cbca",
   "metadata": {},
   "outputs": [],
   "source": [
    "# Setup Project Parameters\n",
    "DataAugmentation, DataAugThreshold = True, 30000\n",
    "DataFilePath, DataFileName, FileType = \"Data/\", \"IssueaspnetcoreWebScrap\", \".csv\"\n",
    "MAX_SEQUENCE_LENGTH, EMBEDDING_DIM = 300, 100\n",
    "LoadDataAugFromFile = False\n",
    "LearningRate = 0.001\n",
    "VALIDATION_SPLIT = 0.2"
   ]
  },
  {
   "cell_type": "code",
   "execution_count": 6,
   "id": "99a3e319-88fd-4b96-9ac0-f484f50d09b1",
   "metadata": {},
   "outputs": [],
   "source": [
    "# log file\n",
    "filename = 'Multimodel' + '_' + DataFileName + '_' + \"dataaug\" + '_' + str(LearningRate) + '_' + str(EMBEDDING_DIM) + '_' + str(MAX_SEQUENCE_LENGTH)\n",
    "filelog = open(filename + \".txt\", \"w\")\n",
    "filelog.write(\"StartTime:\" + str(datetime.datetime.now()))\n",
    "filelog.close()"
   ]
  },
  {
   "cell_type": "code",
   "execution_count": 7,
   "id": "f9006227-3d89-43a4-b0e8-60f6f7d8caf3",
   "metadata": {},
   "outputs": [
    {
     "name": "stdout",
     "output_type": "stream",
     "text": [
      "remove from testdata...\n",
      "remove from testdata...\n",
      "remove from testdata...\n",
      "remove from testdata...\n",
      "remove from testdata...\n",
      "remove from testdata...\n",
      "remove from testdata...\n",
      "remove from testdata...\n",
      "remove from testdata...\n",
      "remove from testdata...\n",
      "remove from testdata...\n",
      "remove from testdata...\n",
      "remove from testdata...\n",
      "remove from testdata...\n",
      "remove from testdata...\n",
      "remove from testdata...\n",
      "remove from testdata...\n",
      "remove from testdata...\n",
      "remove from testdata...\n",
      "remove from testdata...\n",
      "remove from testdata...\n",
      "remove from testdata...\n",
      "remove from testdata...\n",
      "remove from testdata...\n",
      "remove from testdata...\n",
      "remove from testdata...\n",
      "remove from testdata...\n",
      "remove from testdata...\n",
      "remove from testdata...\n",
      "remove from testdata...\n",
      "remove from testdata...\n",
      "remove from testdata...\n",
      "remove from testdata...\n",
      "remove from testdata...\n",
      "remove from testdata...\n",
      "remove from testdata...\n",
      "remove from testdata...\n",
      "remove from testdata...\n",
      "remove from testdata...\n",
      "remove from testdata...\n",
      "remove from testdata...\n",
      "remove from testdata...\n",
      "remove from testdata...\n",
      "remove from testdata...\n",
      "remove from testdata...\n",
      "remove from testdata...\n",
      "remove from testdata...\n",
      "remove from testdata...\n",
      "remove from testdata...\n",
      "remove from testdata...\n",
      "remove from testdata...\n",
      "remove from testdata...\n",
      "remove from testdata...\n",
      "remove from testdata...\n",
      "remove from testdata...\n",
      "remove from testdata...\n",
      "remove from testdata...\n",
      "remove from testdata...\n",
      "remove from testdata...\n",
      "remove from testdata...\n",
      "remove from testdata...\n",
      "remove from testdata...\n",
      "remove from testdata...\n",
      "remove from testdata...\n",
      "remove from testdata...\n"
     ]
    }
   ],
   "source": [
    "# get traindata & testdata\n",
    "import pandas as pd\n",
    "traindata = pd.read_csv(\"./IssueaspnetcoreWebScraptrainaugdata5.csv\",\n",
    "                                error_bad_lines=False, index_col=False, dtype='unicode', encoding='latin-1',\n",
    "                                low_memory=False).sample(frac=1)\n",
    "traindata = traindata.rename(columns={'ï»¿RepoID': 'RepoID'}, inplace=False)\n",
    "testdata = pd.read_csv(\"./IssueaspnetcoreWebScraptestdata5.csv\",\n",
    "                               error_bad_lines=False, index_col=False, dtype='unicode', encoding='latin-1',\n",
    "                               low_memory=False).sample(frac=1)\n",
    "testdata = testdata.rename(columns={'ï»¿RepoID': 'RepoID'}, inplace=False)\n",
    "testdata = RemoveTestRecordIfNotExistInTrainData(traindata, testdata)"
   ]
  },
  {
   "cell_type": "code",
   "execution_count": 8,
   "id": "038ad7a2-0f73-4e09-a611-cf53738477dd",
   "metadata": {},
   "outputs": [],
   "source": [
    "# /*****************Train Data***********************/\n",
    "train_dev_y = list(traindata['FixedByID'])  # Developer List\n",
    "train_btype_y = list(traindata['Name'])  # Bug Type List\n",
    "train_x_context = list(traindata['Title_Description'])\n",
    "traindata.AST = traindata.AST.astype(str)\n",
    "train_x_AST = list(traindata['AST'])\n",
    "\n",
    "x_train_context = train_x_context\n",
    "x_train_AST = train_x_AST\n",
    "\n",
    "# /****************Test Data************************/\n",
    "x_test_context = list(testdata['Title_Description'])\n",
    "x_test_AST = list(testdata['Title_Description'])\n",
    "test_dev_y = list(testdata['FixedByID'])  # Developer List\n",
    "test_btype_y = list(testdata['Name'])  # Bug Type List"
   ]
  },
  {
   "cell_type": "code",
   "execution_count": 9,
   "id": "673683ae-d02e-4ab5-892f-678868a0819e",
   "metadata": {},
   "outputs": [
    {
     "name": "stdout",
     "output_type": "stream",
     "text": [
      "tagname FixedByID\n",
      "Developer Training:  31929 Testing : 1363 Combined DEV + TEST 33292\n",
      "tagname Name\n",
      "Bug Type Training:  31929 Testing : 1363 Combined DEV + TEST 33292\n"
     ]
    }
   ],
   "source": [
    "# /*******************Label Encoder***********************/\n",
    "### Developer Encoder \n",
    "combineddata_dev = train_dev_y + test_dev_y\n",
    "# (*func6*) create_tag_mapping 把train_dev_y 和 test_dev_y 由str进行onehot encoder\n",
    "dev_labels_map, dev_inv_labels_map, combineddata_dev_enc = create_tag_mapping(combineddata_dev, 'FixedByID')\n",
    "dev_y_train = combineddata_dev_enc[:len(train_dev_y)]\n",
    "dev_y_test = combineddata_dev_enc[len(train_dev_y):]\n",
    "# 31929 1430 33359\n",
    "print(\"Developer\", \"Training: \", len(train_dev_y), \"Testing :\", len(test_dev_y), \"Combined DEV + TEST\",\n",
    "        len(combineddata_dev_enc))\n",
    "\n",
    "### BugType Encoder\n",
    "combineddata_bugtype = train_btype_y + test_btype_y\n",
    "# 同理编码bugtype\n",
    "btype_labels_map, btype_inv_labels_map, combineddata_bugtype_enc = create_tag_mapping(combineddata_bugtype, 'Name')\n",
    "btype_y_train = combineddata_bugtype_enc[:len(train_btype_y)]\n",
    "btype_y_test = combineddata_bugtype_enc[len(train_btype_y):]\n",
    "print(\"Bug Type\", \"Training: \", len(btype_y_train), \"Testing :\", len(btype_y_test), \"Combined DEV + TEST\",\n",
    "        len(combineddata_bugtype_enc))"
   ]
  },
  {
   "cell_type": "code",
   "execution_count": 10,
   "id": "ff95a7da-f950-4740-8e01-1c880382c231",
   "metadata": {},
   "outputs": [
    {
     "name": "stdout",
     "output_type": "stream",
     "text": [
      "Looking in indexes: http://mirrors.aliyun.com/pypi/simple\n",
      "Requirement already satisfied: keras_preprocessing in /root/miniconda3/lib/python3.10/site-packages (1.1.2)\n",
      "Requirement already satisfied: six>=1.9.0 in /root/miniconda3/lib/python3.10/site-packages (from keras_preprocessing) (1.16.0)\n",
      "Requirement already satisfied: numpy>=1.9.1 in /root/miniconda3/lib/python3.10/site-packages (from keras_preprocessing) (1.26.3)\n",
      "\u001b[33mWARNING: Running pip as the 'root' user can result in broken permissions and conflicting behaviour with the system package manager. It is recommended to use a virtual environment instead: https://pip.pypa.io/warnings/venv\u001b[0m\u001b[33m\n",
      "\u001b[0mNote: you may need to restart the kernel to use updated packages.\n"
     ]
    }
   ],
   "source": [
    "pip install keras_preprocessing"
   ]
  },
  {
   "cell_type": "code",
   "execution_count": 11,
   "id": "a05ffe12-5df7-490c-9ac2-287319d568b4",
   "metadata": {},
   "outputs": [],
   "source": [
    "from keras_preprocessing.text import Tokenizer\n",
    "# /*******************Tokenizer****************************/\n",
    "\n",
    "## context 小写后 转为 toeknizer \n",
    "x_train_context = [str(row).lower() for row in x_train_context]\n",
    "x_test_context = [str(row).lower() for row in x_test_context]\n",
    "combineddata_context = x_train_context + x_test_context\n",
    "## 不限词汇表大小，以单词为单位，未知词标为Unknown，过滤掉'!\"#$%&()*+,-./:;<=>?@[\\\\]^_`{|}~\\t\\n\\d+'\n",
    "tk_context = Tokenizer(num_words=None, char_level=None, oov_token='Unknown',\n",
    "                        filters='!\"#$%&()*+,-./:;<=>?@[\\\\]^_`{|}~\\t\\n')\n",
    "tk_context.fit_on_texts(combineddata_context)\n",
    "\n",
    "## AST 小写后 转为 toeknizer \n",
    "x_train_AST = [str(row).lower() for row in x_train_AST]\n",
    "x_test_AST = [str(row).lower() for row in x_test_AST]\n",
    "combineddata_AST = x_train_AST + x_test_AST\n",
    "tk_AST = Tokenizer(num_words=None, char_level=None, oov_token='Unknown')\n",
    "tk_AST.fit_on_texts(combineddata_AST)"
   ]
  },
  {
   "cell_type": "code",
   "execution_count": 12,
   "id": "ca06e6a7-b4da-4c50-be89-5c0a48d38fe6",
   "metadata": {},
   "outputs": [],
   "source": [
    "# Convert string to index \n",
    "x_train_context_sequences = tk_context.texts_to_sequences(x_train_context)\n",
    "x_train_AST_sequences = tk_AST.texts_to_sequences(x_train_AST)\n",
    "x_test_context_sequences = tk_context.texts_to_sequences(x_test_context)\n",
    "x_test_AST_sequences = tk_AST.texts_to_sequences(x_test_AST)"
   ]
  },
  {
   "cell_type": "code",
   "execution_count": 13,
   "id": "38ee9087-f99c-4c5b-a27a-49a6f2389de8",
   "metadata": {},
   "outputs": [],
   "source": [
    "from tensorflow.keras.preprocessing.sequence import pad_sequences\n",
    "# Padding\n",
    "x_train_context = pad_sequences(x_train_context_sequences, maxlen=MAX_SEQUENCE_LENGTH, padding='post')\n",
    "x_train_AST = pad_sequences(x_train_AST_sequences, maxlen=MAX_SEQUENCE_LENGTH, padding='post')\n",
    "x_test_context = pad_sequences(x_test_context_sequences, maxlen=MAX_SEQUENCE_LENGTH, padding='post')\n",
    "x_test_AST = pad_sequences(x_test_AST_sequences, maxlen=MAX_SEQUENCE_LENGTH, padding='post')\n",
    "\n",
    "# Convert to numpy array\n",
    "x_train_context = np.array(x_train_context)\n",
    "x_train_AST = np.array(x_train_AST)\n",
    "x_test_context = np.array(x_test_context)\n",
    "x_test_AST = np.array(x_test_AST)"
   ]
  },
  {
   "cell_type": "code",
   "execution_count": 14,
   "id": "5fc41ae1-fde2-421c-9c26-974977726c93",
   "metadata": {},
   "outputs": [],
   "source": [
    "noofbugtype = len(btype_labels_map)\n",
    "noofdev = len(dev_labels_map)\n",
    "btype_y_train = np.array(btype_y_train)\n",
    "dev_y_train = np.array(dev_y_train)\n",
    "btype_y_test = np.array(btype_y_test)\n",
    "dev_y_test = np.array(dev_y_test)"
   ]
  },
  {
   "cell_type": "code",
   "execution_count": 15,
   "id": "4ed80709-683a-4294-bfbf-0acf5144f9b5",
   "metadata": {},
   "outputs": [
    {
     "name": "stdout",
     "output_type": "stream",
     "text": [
      "Start Time = 2024-04-03 01:27:35.638915\n",
      "Predict Developer\n"
     ]
    }
   ],
   "source": [
    "# Visualize Model\n",
    "logdir = \"logs/\"\n",
    "tensorboard_callback = tf.keras.callbacks.TensorBoard(log_dir=logdir)\n",
    "# A model.fit() training loop will check at end of every epoch whether the loss is no longer decreasing, considering the min_delta and patiencez\n",
    "earlystop = tf.keras.callbacks.EarlyStopping(monitor='loss', patience=3)\n",
    "\n",
    "starttime = datetime.datetime.now()\n",
    "print(\"Start Time =\", starttime)\n",
    "print('Predict Developer')"
   ]
  },
  {
   "cell_type": "code",
   "execution_count": 16,
   "id": "c85ba3da-ac6f-44b3-96f3-14a34536a530",
   "metadata": {},
   "outputs": [],
   "source": [
    "from keras.layers import Input\n",
    "# inputs\n",
    "input_context = Input(shape=(MAX_SEQUENCE_LENGTH,), dtype=tf.float32,\n",
    "                        name=\"Bug_TitleandDescription\")  # Bug Title and Description\n",
    "input_AST = Input(shape=(MAX_SEQUENCE_LENGTH,), dtype=tf.float32, name=\"Bug_CodeSnippetAST\")  # Bug Code Snippet AST"
   ]
  },
  {
   "cell_type": "code",
   "execution_count": 17,
   "id": "bccb112b-4e16-46f2-8977-ccb3b1f7c566",
   "metadata": {},
   "outputs": [
    {
     "name": "stderr",
     "output_type": "stream",
     "text": [
      "2024-04-03 01:27:35.867005: I tensorflow/core/common_runtime/gpu/gpu_device.cc:1928] Created device /job:localhost/replica:0/task:0/device:GPU:0 with 22290 MB memory:  -> device: 0, name: NVIDIA GeForce RTX 4090, pci bus id: 0000:d8:00.0, compute capability: 8.9\n"
     ]
    }
   ],
   "source": [
    "from keras.layers import Embedding, Conv1D, GlobalMaxPool1D, Flatten\n",
    "# Context Enconder\n",
    "# emb_Context = Embedding(input_dim=len(tk_context.word_index) + 2, input_length=MAX_SEQUENCE_LENGTH,\n",
    "emb_Context = Embedding(input_dim=len(tk_context.word_index) + 2,\n",
    "                        output_dim=EMBEDDING_DIM, name=\"Context_Embedding\")(input_context)\n",
    "conv_Context = Conv1D(filters=64, kernel_size=2, padding='same', activation='relu',\n",
    "                        name=\"Context_Convolutional_Layer\")(emb_Context)\n",
    "maxpool_Context = GlobalMaxPool1D(name=\"Context_Maxpool_Layer\")(conv_Context)\n",
    "flatcon = Flatten(name=\"Context_Flatten_Layer\")(maxpool_Context)"
   ]
  },
  {
   "cell_type": "code",
   "execution_count": 18,
   "id": "16fa39d3-9dd8-4f96-b7eb-90d3f823c49b",
   "metadata": {},
   "outputs": [],
   "source": [
    "from keras.layers import Embedding, Bidirectional, LSTM, GlobalMaxPool1D, Flatten\n",
    "# AST Enconder\n",
    "# emb_AST = Embedding(input_dim=len(tk_AST.word_index) + 2, input_length=MAX_SEQUENCE_LENGTH,\n",
    "emb_AST = Embedding(input_dim=len(tk_AST.word_index) + 2,\n",
    "                    output_dim=EMBEDDING_DIM, name=\"AST_Embedding\")(input_AST)\n",
    "bilstm_AST = Bidirectional(LSTM(25, return_sequences=True, name=\"AST_LSTM_Layer\"))(emb_AST)\n",
    "maxpool_AST = GlobalMaxPool1D(name=\"AST_Maxpool_Layer\")(bilstm_AST)\n",
    "flatAST = Flatten(name=\"AST_Flatten_Layer\")(maxpool_AST)"
   ]
  },
  {
   "cell_type": "code",
   "execution_count": 19,
   "id": "ce8a5003-73a3-420c-9c53-a703827169b4",
   "metadata": {},
   "outputs": [],
   "source": [
    "from keras.layers import concatenate, BatchNormalization, Dropout, Dense\n",
    "from keras.models import Model\n",
    "cat = concatenate([flatcon, flatAST], name=\"Concatenate_Flatten_Layer\")\n",
    "\n",
    "bn = BatchNormalization()(cat)\n",
    "drop = Dropout(0.5)(bn)\n",
    "dense = Dense(50, activation='relu')(drop)\n",
    "DevOutput = Dense(noofdev, activation='sigmoid', name=\"Developer\")(dense)\n",
    "BugTypeOutput = Dense(noofbugtype, activation='sigmoid', name=\"Bug_Type\")(dense)\n",
    "Bil_LSTM_MultiTask_model = Model(inputs=[input_context, input_AST], outputs=[DevOutput, BugTypeOutput])"
   ]
  },
  {
   "cell_type": "code",
   "execution_count": 22,
   "id": "d3d2417a-fe6b-472f-8388-f191259c9194",
   "metadata": {},
   "outputs": [],
   "source": [
    "import tensorflow as tf\n",
    "import tensorflow.keras.backend as K\n",
    "from tensorflow.keras import backend\n",
    "def hammingloss(y_true, y_pred, threshold = 0.5, mode = 'multilabel'):\n",
    "    \"\"\"Computes hamming loss.\n",
    "    Hamming loss is the fraction of wrong labels to the total number\n",
    "    of labels.\n",
    "    In multi-class classification, hamming loss is calculated as the\n",
    "    hamming distance between `actual` and `predictions`.\n",
    "    In multi-label classification, hamming loss penalizes only the\n",
    "    individual labels.\n",
    "    Args:\n",
    "        y_true: actual target value\n",
    "        y_pred: predicted target value\n",
    "        threshold: Elements of `y_pred` greater than threshold are\n",
    "            converted to be 1, and the rest 0. If threshold is\n",
    "            None, the argmax is converted to 1, and the rest 0.\n",
    "        mode: multi-class or multi-label\n",
    "    Returns:\n",
    "        hamming loss: float\n",
    "    Usage:\n",
    "    ```python\n",
    "    # multi-class hamming loss\n",
    "    hl = HammingLoss(mode='multiclass', threshold=0.6)\n",
    "    actuals = tf.constant([[1, 0, 0, 0],[0, 0, 1, 0],\n",
    "                       [0, 0, 0, 1],[0, 1, 0, 0]],\n",
    "                      dtype=tf.float32)\n",
    "    predictions = tf.constant([[0.8, 0.1, 0.1, 0],\n",
    "                               [0.2, 0, 0.8, 0],\n",
    "                               [0.05, 0.05, 0.1, 0.8],\n",
    "                               [1, 0, 0, 0]],\n",
    "                          dtype=tf.float32)\n",
    "    hl.update_state(actuals, predictions)\n",
    "    print('Hamming loss: ', hl.result().numpy()) # 0.25\n",
    "    # multi-label hamming loss\n",
    "    hl = HammingLoss(mode='multilabel', threshold=0.8)\n",
    "    actuals = tf.constant([[1, 0, 1, 0],[0, 1, 0, 1],\n",
    "                       [0, 0, 0,1]], dtype=tf.int32)\n",
    "    predictions = tf.constant([[0.82, 0.5, 0.90, 0],\n",
    "                               [0, 1, 0.4, 0.98],\n",
    "                               [0.89, 0.79, 0, 0.3]],\n",
    "                               dtype=tf.float32)\n",
    "    hl.update_state(actuals, predictions)\n",
    "    print('Hamming loss: ', hl.result().numpy()) # 0.16666667\n",
    "    ```\n",
    "    \"\"\"\n",
    "    if mode not in [\"multiclass\", \"multilabel\"]:\n",
    "        raise TypeError(\"mode must be either multiclass or multilabel]\")\n",
    "\n",
    "    if threshold is None:\n",
    "        threshold = tf.reduce_max(y_pred, axis=-1, keepdims=True)\n",
    "        # make sure [0, 0, 0] doesn't become [1, 1, 1]\n",
    "        # Use abs(x) > eps, instead of x != 0 to check for zero\n",
    "        y_pred = tf.logical_and(y_pred >= threshold, tf.abs(y_pred) > 1e-12)\n",
    "    else:\n",
    "        y_pred = y_pred > threshold\n",
    "\n",
    "    y_true = tf.cast(y_true, tf.int32)\n",
    "    y_pred = tf.cast(y_pred, tf.int32)\n",
    "\n",
    "    if mode == \"multiclass\":\n",
    "        nonzero = tf.cast(tf.math.count_nonzero(y_true * y_pred, axis=-1), tf.float32)\n",
    "        return 1.0 - nonzero\n",
    "\n",
    "    else:\n",
    "        nonzero = tf.cast(tf.math.count_nonzero(y_true - y_pred, axis=-1), tf.float32)\n",
    "        return nonzero / y_true.get_shape()[-1]\n",
    "\n",
    "def c_precision(y_true, y_pred):\n",
    "    '''Calculates the precision, a metric for multi-label classification of\n",
    "    how many selected items are relevant.\n",
    "    '''\n",
    "    y_pred = tf.cast(y_pred, tf.float32)\n",
    "    y_true = tf.cast(y_true, tf.float32)\n",
    "    true_positives = tf.cast(K.sum(K.round(K.clip(y_true * y_pred, 0, 1))), tf.float32)\n",
    "    predicted_positives = tf.cast(K.sum(K.round(K.clip(y_pred, 0, 1))), tf.float32)\n",
    "    precision = tf.cast(true_positives / (predicted_positives + K.epsilon()), tf.float32)\n",
    "    return precision\n",
    "\n",
    "def c_recall(y_true, y_pred):\n",
    "    y_pred = tf.cast(y_pred, tf.float32)\n",
    "    y_true = tf.cast(y_true, tf.float32)\n",
    "    '''Calculates the recall, a metric for multi-label classification of\n",
    "    how many relevant items are selected.\n",
    "    '''\n",
    "    true_positives = tf.cast(K.sum(K.round(K.clip(y_true * y_pred, 0, 1))), tf.float32)\n",
    "    possible_positives = tf.cast(K.sum(K.round(K.clip(y_true, 0, 1))), tf.float32)\n",
    "    recall = tf.cast(true_positives / (possible_positives + K.epsilon()), tf.float32)\n",
    "    return recall\n",
    "    \n",
    "def c_fbeta(y_true, y_pred, beta=1):\n",
    "    y_pred = backend.clip(y_pred, 0, 1)\n",
    "    # calculate elements\n",
    "    tp = backend.sum(backend.round(y_pred) * y_true)\n",
    "    fp = backend.sum(backend.round(y_pred) * (1 - y_true))\n",
    "    fn = backend.sum((1 - backend.round(y_pred)) * y_true)\n",
    "    # tp = backend.sum(backend.round(backend.clip(y_true * y_pred, 0, 1)), axis=1)\n",
    "    # fp = backend.sum(backend.round(backend.clip(y_pred - y_true, 0, 1)), axis=1)\n",
    "    # fn = backend.sum(backend.round(backend.clip(y_true - y_pred, 0, 1)), axis=1)\n",
    "    # calculate precision\n",
    "    p = tp / (tp + fp + backend.epsilon())\n",
    "    # calculate recall\n",
    "    r = tp / (tp + fn + backend.epsilon())\n",
    "    # calculate fbeta, averaged across each class\n",
    "    bb = beta ** 2\n",
    "    fbeta_score = backend.mean((1 + bb) * (p * r) / (bb * p + r + backend.epsilon()))\n",
    "    return fbeta_score\n",
    "\n",
    "def c_auroc(y_true, y_pred):\n",
    "    y_pred = tf.cast(y_pred, tf.float32)\n",
    "    y_true = tf.cast(y_true, tf.float32)\n",
    "    auc = tf.cast(tf.metrics.auc(y_true, y_pred)[1], tf.float32)\n",
    "    K.get_session().run(tf.local_variables_initializer())\n",
    "    return auc"
   ]
  },
  {
   "cell_type": "code",
   "execution_count": 23,
   "id": "c8ccefb3-df73-4051-83a8-4bf4b8f1bf5f",
   "metadata": {},
   "outputs": [
    {
     "name": "stdout",
     "output_type": "stream",
     "text": [
      "Epoch 1/50\n"
     ]
    },
    {
     "name": "stderr",
     "output_type": "stream",
     "text": [
      "2024-04-03 01:29:03.512741: I external/local_xla/xla/stream_executor/cuda/cuda_dnn.cc:465] Loaded cuDNN version 8900\n"
     ]
    },
    {
     "name": "stdout",
     "output_type": "stream",
     "text": [
      "898/898 - 24s - 27ms/step - Bug_Type_accuracy: 0.0697 - Bug_Type_c_fbeta: 0.0085 - Developer_accuracy: 0.4128 - Developer_c_fbeta: 0.2722 - loss: 0.1595 - val_Bug_Type_accuracy: 0.1084 - val_Bug_Type_c_fbeta: 0.0304 - val_Developer_accuracy: 0.5017 - val_Developer_c_fbeta: 0.4528 - val_loss: 0.0901\n",
      "Epoch 2/50\n",
      "898/898 - 18s - 20ms/step - Bug_Type_accuracy: 0.1599 - Bug_Type_c_fbeta: 0.1014 - Developer_accuracy: 0.5536 - Developer_c_fbeta: 0.4913 - loss: 0.0879 - val_Bug_Type_accuracy: 0.2164 - val_Bug_Type_c_fbeta: 0.1935 - val_Developer_accuracy: 0.7410 - val_Developer_c_fbeta: 0.6917 - val_loss: 0.0699\n",
      "Epoch 3/50\n",
      "898/898 - 17s - 19ms/step - Bug_Type_accuracy: 0.2078 - Bug_Type_c_fbeta: 0.1924 - Developer_accuracy: 0.6678 - Developer_c_fbeta: 0.6309 - loss: 0.0727 - val_Bug_Type_accuracy: 0.2678 - val_Bug_Type_c_fbeta: 0.3027 - val_Developer_accuracy: 0.8193 - val_Developer_c_fbeta: 0.8143 - val_loss: 0.0622\n",
      "Epoch 4/50\n",
      "898/898 - 17s - 19ms/step - Bug_Type_accuracy: 0.2337 - Bug_Type_c_fbeta: 0.2561 - Developer_accuracy: 0.7332 - Developer_c_fbeta: 0.7052 - loss: 0.0641 - val_Bug_Type_accuracy: 0.3007 - val_Bug_Type_c_fbeta: 0.3891 - val_Developer_accuracy: 0.8472 - val_Developer_c_fbeta: 0.8504 - val_loss: 0.0494\n",
      "Epoch 5/50\n",
      "898/898 - 17s - 18ms/step - Bug_Type_accuracy: 0.2504 - Bug_Type_c_fbeta: 0.3162 - Developer_accuracy: 0.7734 - Developer_c_fbeta: 0.7532 - loss: 0.0581 - val_Bug_Type_accuracy: 0.3414 - val_Bug_Type_c_fbeta: 0.4666 - val_Developer_accuracy: 0.8672 - val_Developer_c_fbeta: 0.8766 - val_loss: 0.0458\n",
      "Epoch 6/50\n",
      "898/898 - 17s - 19ms/step - Bug_Type_accuracy: 0.2651 - Bug_Type_c_fbeta: 0.3663 - Developer_accuracy: 0.7998 - Developer_c_fbeta: 0.7789 - loss: 0.0541 - val_Bug_Type_accuracy: 0.3436 - val_Bug_Type_c_fbeta: 0.5416 - val_Developer_accuracy: 0.8782 - val_Developer_c_fbeta: 0.8893 - val_loss: 0.0428\n",
      "Epoch 7/50\n",
      "898/898 - 17s - 19ms/step - Bug_Type_accuracy: 0.2806 - Bug_Type_c_fbeta: 0.4036 - Developer_accuracy: 0.8174 - Developer_c_fbeta: 0.7991 - loss: 0.0509 - val_Bug_Type_accuracy: 0.3530 - val_Bug_Type_c_fbeta: 0.5813 - val_Developer_accuracy: 0.8835 - val_Developer_c_fbeta: 0.8982 - val_loss: 0.0396\n",
      "Epoch 8/50\n",
      "898/898 - 17s - 19ms/step - Bug_Type_accuracy: 0.2882 - Bug_Type_c_fbeta: 0.4364 - Developer_accuracy: 0.8329 - Developer_c_fbeta: 0.8175 - loss: 0.0482 - val_Bug_Type_accuracy: 0.3445 - val_Bug_Type_c_fbeta: 0.5997 - val_Developer_accuracy: 0.8945 - val_Developer_c_fbeta: 0.9011 - val_loss: 0.0368\n",
      "Epoch 9/50\n",
      "898/898 - 17s - 19ms/step - Bug_Type_accuracy: 0.2913 - Bug_Type_c_fbeta: 0.4690 - Developer_accuracy: 0.8417 - Developer_c_fbeta: 0.8263 - loss: 0.0460 - val_Bug_Type_accuracy: 0.3548 - val_Bug_Type_c_fbeta: 0.6308 - val_Developer_accuracy: 0.8957 - val_Developer_c_fbeta: 0.9089 - val_loss: 0.0349\n",
      "Epoch 10/50\n",
      "898/898 - 17s - 19ms/step - Bug_Type_accuracy: 0.3053 - Bug_Type_c_fbeta: 0.4946 - Developer_accuracy: 0.8507 - Developer_c_fbeta: 0.8350 - loss: 0.0443 - val_Bug_Type_accuracy: 0.3683 - val_Bug_Type_c_fbeta: 0.6596 - val_Developer_accuracy: 0.8988 - val_Developer_c_fbeta: 0.9125 - val_loss: 0.0335\n",
      "Epoch 11/50\n",
      "898/898 - 17s - 19ms/step - Bug_Type_accuracy: 0.3069 - Bug_Type_c_fbeta: 0.5147 - Developer_accuracy: 0.8570 - Developer_c_fbeta: 0.8424 - loss: 0.0426 - val_Bug_Type_accuracy: 0.3921 - val_Bug_Type_c_fbeta: 0.6724 - val_Developer_accuracy: 0.8963 - val_Developer_c_fbeta: 0.9124 - val_loss: 0.0317\n",
      "Epoch 12/50\n",
      "898/898 - 17s - 18ms/step - Bug_Type_accuracy: 0.3159 - Bug_Type_c_fbeta: 0.5303 - Developer_accuracy: 0.8648 - Developer_c_fbeta: 0.8513 - loss: 0.0414 - val_Bug_Type_accuracy: 0.3905 - val_Bug_Type_c_fbeta: 0.6963 - val_Developer_accuracy: 0.9035 - val_Developer_c_fbeta: 0.9098 - val_loss: 0.0315\n",
      "Epoch 13/50\n",
      "898/898 - 17s - 19ms/step - Bug_Type_accuracy: 0.3235 - Bug_Type_c_fbeta: 0.5510 - Developer_accuracy: 0.8696 - Developer_c_fbeta: 0.8553 - loss: 0.0400 - val_Bug_Type_accuracy: 0.3862 - val_Bug_Type_c_fbeta: 0.7135 - val_Developer_accuracy: 0.9035 - val_Developer_c_fbeta: 0.9166 - val_loss: 0.0301\n",
      "Epoch 14/50\n",
      "898/898 - 17s - 19ms/step - Bug_Type_accuracy: 0.3274 - Bug_Type_c_fbeta: 0.5640 - Developer_accuracy: 0.8730 - Developer_c_fbeta: 0.8611 - loss: 0.0388 - val_Bug_Type_accuracy: 0.3902 - val_Bug_Type_c_fbeta: 0.7265 - val_Developer_accuracy: 0.9045 - val_Developer_c_fbeta: 0.9226 - val_loss: 0.0298\n",
      "Epoch 15/50\n",
      "898/898 - 17s - 19ms/step - Bug_Type_accuracy: 0.3291 - Bug_Type_c_fbeta: 0.5735 - Developer_accuracy: 0.8787 - Developer_c_fbeta: 0.8639 - loss: 0.0381 - val_Bug_Type_accuracy: 0.4040 - val_Bug_Type_c_fbeta: 0.7326 - val_Developer_accuracy: 0.9032 - val_Developer_c_fbeta: 0.9150 - val_loss: 0.0289\n",
      "Epoch 16/50\n",
      "898/898 - 17s - 19ms/step - Bug_Type_accuracy: 0.3316 - Bug_Type_c_fbeta: 0.5861 - Developer_accuracy: 0.8795 - Developer_c_fbeta: 0.8658 - loss: 0.0372 - val_Bug_Type_accuracy: 0.3783 - val_Bug_Type_c_fbeta: 0.7500 - val_Developer_accuracy: 0.9023 - val_Developer_c_fbeta: 0.9191 - val_loss: 0.0281\n",
      "Epoch 17/50\n",
      "898/898 - 17s - 19ms/step - Bug_Type_accuracy: 0.3420 - Bug_Type_c_fbeta: 0.6040 - Developer_accuracy: 0.8860 - Developer_c_fbeta: 0.8726 - loss: 0.0360 - val_Bug_Type_accuracy: 0.3758 - val_Bug_Type_c_fbeta: 0.7582 - val_Developer_accuracy: 0.9054 - val_Developer_c_fbeta: 0.9211 - val_loss: 0.0272\n",
      "Epoch 18/50\n",
      "898/898 - 17s - 19ms/step - Bug_Type_accuracy: 0.3403 - Bug_Type_c_fbeta: 0.6133 - Developer_accuracy: 0.8900 - Developer_c_fbeta: 0.8768 - loss: 0.0351 - val_Bug_Type_accuracy: 0.3946 - val_Bug_Type_c_fbeta: 0.7585 - val_Developer_accuracy: 0.9085 - val_Developer_c_fbeta: 0.9192 - val_loss: 0.0273\n",
      "Epoch 19/50\n",
      "898/898 - 17s - 19ms/step - Bug_Type_accuracy: 0.3401 - Bug_Type_c_fbeta: 0.6197 - Developer_accuracy: 0.8901 - Developer_c_fbeta: 0.8784 - loss: 0.0345 - val_Bug_Type_accuracy: 0.3721 - val_Bug_Type_c_fbeta: 0.7762 - val_Developer_accuracy: 0.9064 - val_Developer_c_fbeta: 0.9233 - val_loss: 0.0260\n",
      "Epoch 20/50\n",
      "898/898 - 17s - 19ms/step - Bug_Type_accuracy: 0.3469 - Bug_Type_c_fbeta: 0.6276 - Developer_accuracy: 0.8916 - Developer_c_fbeta: 0.8795 - loss: 0.0339 - val_Bug_Type_accuracy: 0.3652 - val_Bug_Type_c_fbeta: 0.7759 - val_Developer_accuracy: 0.9076 - val_Developer_c_fbeta: 0.9204 - val_loss: 0.0257\n",
      "Epoch 21/50\n",
      "898/898 - 17s - 19ms/step - Bug_Type_accuracy: 0.3472 - Bug_Type_c_fbeta: 0.6379 - Developer_accuracy: 0.8942 - Developer_c_fbeta: 0.8820 - loss: 0.0333 - val_Bug_Type_accuracy: 0.4053 - val_Bug_Type_c_fbeta: 0.7867 - val_Developer_accuracy: 0.9067 - val_Developer_c_fbeta: 0.9209 - val_loss: 0.0255\n",
      "Epoch 22/50\n",
      "898/898 - 17s - 19ms/step - Bug_Type_accuracy: 0.3542 - Bug_Type_c_fbeta: 0.6472 - Developer_accuracy: 0.8985 - Developer_c_fbeta: 0.8859 - loss: 0.0325 - val_Bug_Type_accuracy: 0.3702 - val_Bug_Type_c_fbeta: 0.7907 - val_Developer_accuracy: 0.9111 - val_Developer_c_fbeta: 0.9267 - val_loss: 0.0245\n",
      "Epoch 23/50\n",
      "898/898 - 17s - 19ms/step - Bug_Type_accuracy: 0.3468 - Bug_Type_c_fbeta: 0.6535 - Developer_accuracy: 0.8989 - Developer_c_fbeta: 0.8861 - loss: 0.0320 - val_Bug_Type_accuracy: 0.3868 - val_Bug_Type_c_fbeta: 0.7974 - val_Developer_accuracy: 0.9120 - val_Developer_c_fbeta: 0.9244 - val_loss: 0.0246\n",
      "Epoch 24/50\n",
      "898/898 - 17s - 19ms/step - Bug_Type_accuracy: 0.3581 - Bug_Type_c_fbeta: 0.6594 - Developer_accuracy: 0.9014 - Developer_c_fbeta: 0.8892 - loss: 0.0315 - val_Bug_Type_accuracy: 0.3890 - val_Bug_Type_c_fbeta: 0.8006 - val_Developer_accuracy: 0.9117 - val_Developer_c_fbeta: 0.9254 - val_loss: 0.0240\n",
      "Epoch 25/50\n",
      "898/898 - 18s - 20ms/step - Bug_Type_accuracy: 0.3581 - Bug_Type_c_fbeta: 0.6646 - Developer_accuracy: 0.9003 - Developer_c_fbeta: 0.8927 - loss: 0.0312 - val_Bug_Type_accuracy: 0.3818 - val_Bug_Type_c_fbeta: 0.8094 - val_Developer_accuracy: 0.9101 - val_Developer_c_fbeta: 0.9257 - val_loss: 0.0237\n",
      "Epoch 26/50\n",
      "898/898 - 17s - 19ms/step - Bug_Type_accuracy: 0.3593 - Bug_Type_c_fbeta: 0.6737 - Developer_accuracy: 0.9054 - Developer_c_fbeta: 0.8954 - loss: 0.0304 - val_Bug_Type_accuracy: 0.3771 - val_Bug_Type_c_fbeta: 0.8109 - val_Developer_accuracy: 0.9129 - val_Developer_c_fbeta: 0.9259 - val_loss: 0.0233\n",
      "Epoch 27/50\n",
      "898/898 - 17s - 19ms/step - Bug_Type_accuracy: 0.3640 - Bug_Type_c_fbeta: 0.6772 - Developer_accuracy: 0.9050 - Developer_c_fbeta: 0.8934 - loss: 0.0303 - val_Bug_Type_accuracy: 0.3999 - val_Bug_Type_c_fbeta: 0.8130 - val_Developer_accuracy: 0.9154 - val_Developer_c_fbeta: 0.9272 - val_loss: 0.0231\n",
      "Epoch 28/50\n",
      "898/898 - 18s - 20ms/step - Bug_Type_accuracy: 0.3638 - Bug_Type_c_fbeta: 0.6855 - Developer_accuracy: 0.9068 - Developer_c_fbeta: 0.8970 - loss: 0.0296 - val_Bug_Type_accuracy: 0.3921 - val_Bug_Type_c_fbeta: 0.8219 - val_Developer_accuracy: 0.9136 - val_Developer_c_fbeta: 0.9258 - val_loss: 0.0228\n",
      "Epoch 29/50\n",
      "898/898 - 17s - 19ms/step - Bug_Type_accuracy: 0.3658 - Bug_Type_c_fbeta: 0.6877 - Developer_accuracy: 0.9077 - Developer_c_fbeta: 0.8959 - loss: 0.0294 - val_Bug_Type_accuracy: 0.3830 - val_Bug_Type_c_fbeta: 0.8222 - val_Developer_accuracy: 0.9148 - val_Developer_c_fbeta: 0.9239 - val_loss: 0.0227\n",
      "Epoch 30/50\n",
      "898/898 - 17s - 19ms/step - Bug_Type_accuracy: 0.3776 - Bug_Type_c_fbeta: 0.6929 - Developer_accuracy: 0.9085 - Developer_c_fbeta: 0.8990 - loss: 0.0289 - val_Bug_Type_accuracy: 0.3777 - val_Bug_Type_c_fbeta: 0.8266 - val_Developer_accuracy: 0.9158 - val_Developer_c_fbeta: 0.9269 - val_loss: 0.0222\n",
      "Epoch 31/50\n",
      "898/898 - 17s - 19ms/step - Bug_Type_accuracy: 0.3746 - Bug_Type_c_fbeta: 0.6979 - Developer_accuracy: 0.9113 - Developer_c_fbeta: 0.8999 - loss: 0.0285 - val_Bug_Type_accuracy: 0.3661 - val_Bug_Type_c_fbeta: 0.8264 - val_Developer_accuracy: 0.9117 - val_Developer_c_fbeta: 0.9279 - val_loss: 0.0222\n",
      "Epoch 32/50\n",
      "898/898 - 17s - 19ms/step - Bug_Type_accuracy: 0.3746 - Bug_Type_c_fbeta: 0.7017 - Developer_accuracy: 0.9086 - Developer_c_fbeta: 0.8981 - loss: 0.0285 - val_Bug_Type_accuracy: 0.4059 - val_Bug_Type_c_fbeta: 0.8315 - val_Developer_accuracy: 0.9139 - val_Developer_c_fbeta: 0.9279 - val_loss: 0.0223\n",
      "Epoch 33/50\n",
      "898/898 - 17s - 19ms/step - Bug_Type_accuracy: 0.3736 - Bug_Type_c_fbeta: 0.7043 - Developer_accuracy: 0.9139 - Developer_c_fbeta: 0.9012 - loss: 0.0280 - val_Bug_Type_accuracy: 0.3899 - val_Bug_Type_c_fbeta: 0.8334 - val_Developer_accuracy: 0.9142 - val_Developer_c_fbeta: 0.9275 - val_loss: 0.0218\n",
      "Epoch 34/50\n",
      "898/898 - 17s - 19ms/step - Bug_Type_accuracy: 0.3736 - Bug_Type_c_fbeta: 0.7083 - Developer_accuracy: 0.9150 - Developer_c_fbeta: 0.9020 - loss: 0.0277 - val_Bug_Type_accuracy: 0.3934 - val_Bug_Type_c_fbeta: 0.8350 - val_Developer_accuracy: 0.9148 - val_Developer_c_fbeta: 0.9303 - val_loss: 0.0216\n",
      "Epoch 35/50\n",
      "898/898 - 17s - 19ms/step - Bug_Type_accuracy: 0.3761 - Bug_Type_c_fbeta: 0.7136 - Developer_accuracy: 0.9147 - Developer_c_fbeta: 0.9049 - loss: 0.0273 - val_Bug_Type_accuracy: 0.4028 - val_Bug_Type_c_fbeta: 0.8414 - val_Developer_accuracy: 0.9142 - val_Developer_c_fbeta: 0.9278 - val_loss: 0.0213\n",
      "Epoch 36/50\n",
      "898/898 - 17s - 19ms/step - Bug_Type_accuracy: 0.3747 - Bug_Type_c_fbeta: 0.7156 - Developer_accuracy: 0.9141 - Developer_c_fbeta: 0.9041 - loss: 0.0272 - val_Bug_Type_accuracy: 0.3630 - val_Bug_Type_c_fbeta: 0.8428 - val_Developer_accuracy: 0.9154 - val_Developer_c_fbeta: 0.9298 - val_loss: 0.0210\n",
      "Epoch 37/50\n",
      "898/898 - 17s - 19ms/step - Bug_Type_accuracy: 0.3792 - Bug_Type_c_fbeta: 0.7195 - Developer_accuracy: 0.9184 - Developer_c_fbeta: 0.9062 - loss: 0.0268 - val_Bug_Type_accuracy: 0.3567 - val_Bug_Type_c_fbeta: 0.8416 - val_Developer_accuracy: 0.9154 - val_Developer_c_fbeta: 0.9307 - val_loss: 0.0209\n",
      "Epoch 38/50\n",
      "898/898 - 17s - 19ms/step - Bug_Type_accuracy: 0.3871 - Bug_Type_c_fbeta: 0.7259 - Developer_accuracy: 0.9161 - Developer_c_fbeta: 0.9061 - loss: 0.0264 - val_Bug_Type_accuracy: 0.3855 - val_Bug_Type_c_fbeta: 0.8416 - val_Developer_accuracy: 0.9158 - val_Developer_c_fbeta: 0.9299 - val_loss: 0.0208\n",
      "Epoch 39/50\n",
      "898/898 - 17s - 19ms/step - Bug_Type_accuracy: 0.3833 - Bug_Type_c_fbeta: 0.7270 - Developer_accuracy: 0.9182 - Developer_c_fbeta: 0.9081 - loss: 0.0263 - val_Bug_Type_accuracy: 0.4021 - val_Bug_Type_c_fbeta: 0.8514 - val_Developer_accuracy: 0.9201 - val_Developer_c_fbeta: 0.9307 - val_loss: 0.0206\n",
      "Epoch 40/50\n",
      "898/898 - 17s - 19ms/step - Bug_Type_accuracy: 0.3838 - Bug_Type_c_fbeta: 0.7296 - Developer_accuracy: 0.9183 - Developer_c_fbeta: 0.9064 - loss: 0.0262 - val_Bug_Type_accuracy: 0.3943 - val_Bug_Type_c_fbeta: 0.8459 - val_Developer_accuracy: 0.9164 - val_Developer_c_fbeta: 0.9294 - val_loss: 0.0206\n",
      "Epoch 41/50\n",
      "898/898 - 17s - 19ms/step - Bug_Type_accuracy: 0.3912 - Bug_Type_c_fbeta: 0.7336 - Developer_accuracy: 0.9189 - Developer_c_fbeta: 0.9104 - loss: 0.0258 - val_Bug_Type_accuracy: 0.4046 - val_Bug_Type_c_fbeta: 0.8514 - val_Developer_accuracy: 0.9173 - val_Developer_c_fbeta: 0.9317 - val_loss: 0.0203\n",
      "Epoch 42/50\n",
      "898/898 - 18s - 20ms/step - Bug_Type_accuracy: 0.3885 - Bug_Type_c_fbeta: 0.7335 - Developer_accuracy: 0.9196 - Developer_c_fbeta: 0.9088 - loss: 0.0258 - val_Bug_Type_accuracy: 0.3868 - val_Bug_Type_c_fbeta: 0.8528 - val_Developer_accuracy: 0.9226 - val_Developer_c_fbeta: 0.9284 - val_loss: 0.0202\n",
      "Epoch 43/50\n",
      "898/898 - 17s - 19ms/step - Bug_Type_accuracy: 0.3923 - Bug_Type_c_fbeta: 0.7385 - Developer_accuracy: 0.9194 - Developer_c_fbeta: 0.9094 - loss: 0.0253 - val_Bug_Type_accuracy: 0.3843 - val_Bug_Type_c_fbeta: 0.8529 - val_Developer_accuracy: 0.9148 - val_Developer_c_fbeta: 0.9322 - val_loss: 0.0202\n",
      "Epoch 44/50\n",
      "898/898 - 17s - 19ms/step - Bug_Type_accuracy: 0.3878 - Bug_Type_c_fbeta: 0.7415 - Developer_accuracy: 0.9224 - Developer_c_fbeta: 0.9127 - loss: 0.0250 - val_Bug_Type_accuracy: 0.3796 - val_Bug_Type_c_fbeta: 0.8555 - val_Developer_accuracy: 0.9183 - val_Developer_c_fbeta: 0.9298 - val_loss: 0.0202\n",
      "Epoch 45/50\n",
      "898/898 - 17s - 19ms/step - Bug_Type_accuracy: 0.3959 - Bug_Type_c_fbeta: 0.7430 - Developer_accuracy: 0.9225 - Developer_c_fbeta: 0.9122 - loss: 0.0250 - val_Bug_Type_accuracy: 0.3971 - val_Bug_Type_c_fbeta: 0.8605 - val_Developer_accuracy: 0.9132 - val_Developer_c_fbeta: 0.9301 - val_loss: 0.0198\n",
      "Epoch 46/50\n",
      "898/898 - 18s - 20ms/step - Bug_Type_accuracy: 0.3938 - Bug_Type_c_fbeta: 0.7434 - Developer_accuracy: 0.9206 - Developer_c_fbeta: 0.9115 - loss: 0.0249 - val_Bug_Type_accuracy: 0.3940 - val_Bug_Type_c_fbeta: 0.8613 - val_Developer_accuracy: 0.9192 - val_Developer_c_fbeta: 0.9298 - val_loss: 0.0200\n",
      "Epoch 47/50\n",
      "898/898 - 17s - 19ms/step - Bug_Type_accuracy: 0.3874 - Bug_Type_c_fbeta: 0.7463 - Developer_accuracy: 0.9232 - Developer_c_fbeta: 0.9125 - loss: 0.0247 - val_Bug_Type_accuracy: 0.3827 - val_Bug_Type_c_fbeta: 0.8592 - val_Developer_accuracy: 0.9101 - val_Developer_c_fbeta: 0.9308 - val_loss: 0.0199\n",
      "Epoch 48/50\n",
      "898/898 - 17s - 19ms/step - Bug_Type_accuracy: 0.3902 - Bug_Type_c_fbeta: 0.7471 - Developer_accuracy: 0.9217 - Developer_c_fbeta: 0.9118 - loss: 0.0245 - val_Bug_Type_accuracy: 0.3661 - val_Bug_Type_c_fbeta: 0.8593 - val_Developer_accuracy: 0.9211 - val_Developer_c_fbeta: 0.9296 - val_loss: 0.0197\n",
      "Epoch 49/50\n",
      "898/898 - 17s - 19ms/step - Bug_Type_accuracy: 0.3888 - Bug_Type_c_fbeta: 0.7497 - Developer_accuracy: 0.9229 - Developer_c_fbeta: 0.9127 - loss: 0.0244 - val_Bug_Type_accuracy: 0.3868 - val_Bug_Type_c_fbeta: 0.8588 - val_Developer_accuracy: 0.9208 - val_Developer_c_fbeta: 0.9305 - val_loss: 0.0199\n",
      "Epoch 50/50\n",
      "898/898 - 18s - 20ms/step - Bug_Type_accuracy: 0.3931 - Bug_Type_c_fbeta: 0.7522 - Developer_accuracy: 0.9235 - Developer_c_fbeta: 0.9156 - loss: 0.0241 - val_Bug_Type_accuracy: 0.3783 - val_Bug_Type_c_fbeta: 0.8643 - val_Developer_accuracy: 0.9173 - val_Developer_c_fbeta: 0.9309 - val_loss: 0.0197\n"
     ]
    }
   ],
   "source": [
    "from tensorflow.keras.optimizers import Adam\n",
    "import tensorflow as tf\n",
    "Bil_LSTM_MultiTask_model.compile(loss='binary_crossentropy', optimizer=Adam(LearningRate),\n",
    "                                metrics=[\n",
    "                                    ['accuracy', c_fbeta], \n",
    "                                    ['accuracy', c_fbeta]\n",
    "                                ])\n",
    "\n",
    "history = Bil_LSTM_MultiTask_model.fit([x_train_context, x_train_AST],\n",
    "                                        [backend.cast(dev_y_train, 'float32'), backend.cast(btype_y_train, 'float32')],\n",
    "                                        callbacks=[tensorboard_callback, earlystop],\n",
    "                                        epochs=50, verbose=2, validation_split=0.1)"
   ]
  },
  {
   "cell_type": "code",
   "execution_count": 27,
   "id": "362c5ba0-5b83-4e91-84ce-0c8a5db486ce",
   "metadata": {},
   "outputs": [
    {
     "name": "stdout",
     "output_type": "stream",
     "text": [
      "\u001b[1m43/43\u001b[0m \u001b[32m━━━━━━━━━━━━━━━━━━━━\u001b[0m\u001b[37m\u001b[0m \u001b[1m0s\u001b[0m 9ms/step - Bug_Type_accuracy: 0.1776 - Bug_Type_c_fbeta: 0.2048 - Developer_accuracy: 0.6799 - Developer_c_fbeta: 0.6627 - loss: 0.1423\n"
     ]
    },
    {
     "data": {
      "text/plain": [
       "[0.14306551218032837,\n",
       " 0.15920762717723846,\n",
       " 0.1890958696603775,\n",
       " 0.6735143065452576,\n",
       " 0.6577615141868591]"
      ]
     },
     "execution_count": 27,
     "metadata": {},
     "output_type": "execute_result"
    }
   ],
   "source": [
    "from keras.callbacks import CSVLogger\n",
    "csv_logger = CSVLogger(filename + '.csv', append=True, separator=';')\n",
    "Bil_LSTM_MultiTask_model.evaluate([x_test_context, x_test_AST], \n",
    "                                  [backend.cast(dev_y_test, 'float32'), backend.cast(btype_y_test, 'float32')], callbacks=[csv_logger])\n"
   ]
  },
  {
   "cell_type": "code",
   "execution_count": 28,
   "id": "180920ab-be2e-48f6-9ead-6317a26ae723",
   "metadata": {},
   "outputs": [
    {
     "name": "stdout",
     "output_type": "stream",
     "text": [
      "\u001b[1m43/43\u001b[0m \u001b[32m━━━━━━━━━━━━━━━━━━━━\u001b[0m\u001b[37m\u001b[0m \u001b[1m1s\u001b[0m 12ms/step\n"
     ]
    }
   ],
   "source": [
    "y_pred_list = Bil_LSTM_MultiTask_model.predict([x_test_context, x_test_AST])"
   ]
  },
  {
   "cell_type": "code",
   "execution_count": 36,
   "id": "253f9216-a21b-40b8-81c2-4ad6e160aec5",
   "metadata": {},
   "outputs": [
    {
     "data": {
      "text/plain": [
       "(array([0., 0., 0., 0., 0., 0., 0., 1., 0., 0., 0., 0., 0., 0., 0., 0., 0.,\n",
       "        0., 0., 0., 0., 0., 0., 0., 0., 0., 0., 0., 0., 0., 0., 0., 0., 0.,\n",
       "        0., 0., 0., 0., 1., 0., 0., 0., 0., 0., 0., 0., 0., 0., 0., 0., 0.,\n",
       "        0., 0., 0., 0., 0., 0., 0., 0., 0., 0., 0., 0., 0., 0., 0., 0., 0.,\n",
       "        0., 0., 0., 0., 0., 0., 0.], dtype=float32),\n",
       " array([0., 0., 0., 0., 0., 0., 0., 0., 0., 0., 0., 0., 0., 0., 0., 0., 0.,\n",
       "        0., 0., 0., 0., 0., 0., 0., 0., 0., 0., 0., 0., 0., 0., 0., 0., 0.,\n",
       "        0., 0., 0., 0., 0., 0., 0., 0., 0., 0., 0., 0., 0., 0., 0., 0., 0.,\n",
       "        0., 0., 0., 0., 0., 0., 0., 0., 0., 0., 0., 0., 0., 0., 0., 0., 0.,\n",
       "        0., 0., 0., 0., 0., 0., 0., 0., 0., 0., 0., 0., 0., 0., 0., 0., 0.,\n",
       "        0., 0., 0., 0., 0., 0., 0., 0., 0., 0., 0., 0., 0., 0., 0., 0., 0.,\n",
       "        0., 0., 0., 0., 0., 0., 0., 0., 0., 0., 0., 0., 0., 0., 0., 0., 0.,\n",
       "        0., 0., 0., 0., 0., 0., 0., 0., 0., 0., 0., 0., 0., 0., 0., 0., 0.,\n",
       "        0., 0., 1., 0., 0., 0., 0., 0., 0., 0., 0., 0., 0., 0., 0., 0., 0.,\n",
       "        0., 0., 0., 0., 0., 0., 0., 0., 0., 0., 0., 0., 0., 0., 0., 0., 0.,\n",
       "        0., 0., 0., 0., 0., 0., 0., 0., 0., 0., 0., 0., 0., 0., 0., 0., 0.,\n",
       "        0., 0., 0., 0., 0., 0., 0.], dtype=float32))"
      ]
     },
     "execution_count": 36,
     "metadata": {},
     "output_type": "execute_result"
    }
   ],
   "source": [
    "np.round(y_pred_list[0][0]), np.round(y_pred_list[1][0])"
   ]
  },
  {
   "cell_type": "code",
   "execution_count": 37,
   "id": "4ab2a5bf-a975-4695-97c7-6e7c918d5710",
   "metadata": {},
   "outputs": [
    {
     "data": {
      "text/plain": [
       "(array([0, 0, 0, 0, 0, 0, 0, 0, 0, 0, 0, 0, 0, 0, 0, 0, 0, 0, 0, 0, 0, 0,\n",
       "        0, 0, 0, 0, 0, 0, 0, 0, 0, 0, 0, 0, 0, 0, 0, 0, 0, 0, 0, 0, 0, 0,\n",
       "        0, 0, 0, 0, 0, 0, 0, 0, 0, 0, 0, 0, 0, 0, 0, 0, 0, 0, 0, 0, 0, 0,\n",
       "        0, 0, 0, 0, 0, 0, 1, 0, 0], dtype=uint8),\n",
       " array([0, 0, 0, 0, 0, 0, 0, 0, 0, 0, 0, 0, 0, 0, 0, 0, 0, 0, 0, 0, 0, 1,\n",
       "        0, 0, 0, 0, 0, 0, 0, 0, 0, 0, 0, 0, 0, 0, 0, 0, 0, 0, 0, 0, 0, 0,\n",
       "        0, 0, 0, 0, 0, 0, 0, 0, 0, 0, 0, 0, 0, 0, 0, 0, 0, 0, 0, 0, 0, 0,\n",
       "        0, 0, 0, 0, 1, 0, 0, 0, 0, 0, 0, 0, 0, 0, 0, 0, 0, 0, 0, 0, 0, 0,\n",
       "        0, 0, 1, 0, 0, 0, 0, 0, 0, 0, 0, 0, 0, 0, 0, 0, 0, 0, 0, 0, 0, 0,\n",
       "        0, 0, 0, 0, 0, 0, 0, 0, 0, 0, 0, 0, 0, 0, 0, 0, 0, 0, 0, 0, 0, 0,\n",
       "        0, 0, 0, 0, 0, 0, 0, 0, 0, 0, 0, 0, 0, 0, 0, 0, 0, 0, 0, 0, 0, 0,\n",
       "        0, 0, 0, 0, 0, 0, 0, 0, 0, 0, 0, 0, 0, 0, 0, 0, 0, 0, 0, 0, 0, 1,\n",
       "        0, 0, 0, 0, 0, 0, 0, 0, 0, 0, 0, 0, 0, 0, 0, 0, 0, 0], dtype=uint8))"
      ]
     },
     "execution_count": 37,
     "metadata": {},
     "output_type": "execute_result"
    }
   ],
   "source": [
    "(dev_y_test[0]), (btype_y_test[0])"
   ]
  },
  {
   "cell_type": "code",
   "execution_count": 40,
   "id": "7691a42a-c2b4-45c1-9223-edccc4699547",
   "metadata": {},
   "outputs": [
    {
     "data": {
      "text/plain": [
       "<tf.Tensor: shape=(), dtype=float32, numpy=0.05310153>"
      ]
     },
     "execution_count": 40,
     "metadata": {},
     "output_type": "execute_result"
    }
   ],
   "source": [
    "c_fbeta(y_pred_list[0][0], tf.cast(dev_y_test[0], float))"
   ]
  },
  {
   "cell_type": "code",
   "execution_count": 41,
   "id": "089f129f-6034-4048-8e15-5c2b90ad901f",
   "metadata": {},
   "outputs": [
    {
     "data": {
      "text/plain": [
       "<tf.Tensor: shape=(), dtype=float32, numpy=0.0004939954>"
      ]
     },
     "execution_count": 41,
     "metadata": {},
     "output_type": "execute_result"
    }
   ],
   "source": [
    "c_fbeta(y_pred_list[1][0], tf.cast(btype_y_test[0], float))"
   ]
  },
  {
   "cell_type": "code",
   "execution_count": null,
   "id": "8c90dbf4-57ef-4c7f-a780-36428f8c9ebd",
   "metadata": {},
   "outputs": [],
   "source": []
  }
 ],
 "metadata": {
  "kernelspec": {
   "display_name": "Python 3 (ipykernel)",
   "language": "python",
   "name": "python3"
  },
  "language_info": {
   "codemirror_mode": {
    "name": "ipython",
    "version": 3
   },
   "file_extension": ".py",
   "mimetype": "text/x-python",
   "name": "python",
   "nbconvert_exporter": "python",
   "pygments_lexer": "ipython3",
   "version": "3.10.8"
  }
 },
 "nbformat": 4,
 "nbformat_minor": 5
}
