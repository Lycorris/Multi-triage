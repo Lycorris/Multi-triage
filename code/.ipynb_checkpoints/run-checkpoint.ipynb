{
 "cells": [
  {
   "cell_type": "code",
   "execution_count": null,
   "id": "9eba803d-5ef9-4010-a761-56b34b4f5657",
   "metadata": {},
   "outputs": [],
   "source": [
    "import datetime\n",
    "import numpy as np"
   ]
  },
  {
   "cell_type": "code",
   "execution_count": null,
   "id": "495da5d6-ec3f-49cd-9c6f-362f1ca71d52",
   "metadata": {},
   "outputs": [],
   "source": [
    "# Setup Project Parameters\n",
    "DataAugmentation, DataAugThreshold = True, 30000\n",
    "DataFilePath, DataFileName, FileType = \"autodl-tmp/Multitriage/Data/powershell\", \"Issueazure-powershellWebScrap\", \".csv\"\n",
    "MAX_SEQUENCE_LENGTH, EMBEDDING_DIM = 300, 100\n",
    "LoadDataAugFromFile = False\n",
    "LearningRate = 0.001\n",
    "VALIDATION_SPLIT = 0.2"
   ]
  },
  {
   "cell_type": "code",
   "execution_count": null,
   "id": "d3cfe6a4-42b4-49f6-bfe5-c86cf569cc92",
   "metadata": {},
   "outputs": [],
   "source": [
    "# log file\n",
    "filename = 'Multimodel' + '_' + DataFileName + ('_dataaug' if DataAugmentation else '') + '_' + str(LearningRate) + '_' + str(MAX_SEQUENCE_LENGTH) + '_' + str(EMBEDDING_DIM) \n",
    "filelog = open(filename + \".txt\", \"w\")\n",
    "filelog.write(\"StartTime:\" + str(datetime.datetime.now()))\n",
    "filelog.close()"
   ]
  }
 ],
 "metadata": {
  "kernelspec": {
   "display_name": "Python 3 (ipykernel)",
   "language": "python",
   "name": "python3"
  },
  "language_info": {
   "codemirror_mode": {
    "name": "ipython",
    "version": 3
   },
   "file_extension": ".py",
   "mimetype": "text/x-python",
   "name": "python",
   "nbconvert_exporter": "python",
   "pygments_lexer": "ipython3",
   "version": "3.10.8"
  }
 },
 "nbformat": 4,
 "nbformat_minor": 5
}
